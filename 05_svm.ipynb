{
 "cells": [
  {
   "cell_type": "code",
   "execution_count": 2,
   "id": "boxed-irish",
   "metadata": {},
   "outputs": [
    {
     "name": "stdout",
     "output_type": "stream",
     "text": [
      "Populating the interactive namespace from numpy and matplotlib\n"
     ]
    }
   ],
   "source": [
    "%pylab inline"
   ]
  },
  {
   "cell_type": "markdown",
   "id": "postal-bracket",
   "metadata": {},
   "source": [
    "## Maquinas de vectores de soporte (*support vector machines*)"
   ]
  },
  {
   "cell_type": "markdown",
   "id": "important-germany",
   "metadata": {},
   "source": [
    "Método poderoso que se puede utilizar en clasificación (lineal y no-lineal), regresión, detección de anomalías, etc.\n",
    "\n",
    "En la figura vemos datos del conjunto \"Iris\" que son **linealmente separables**.\n",
    "\n",
    "A la izquierda hay límites de decisión de distintos modelos. Las líneas rojas separan bien los puntos, pero es muy probable que el error de generalización sea alto. La línea verde ni siquiera separa las clases.\n",
    "\n",
    "A la derecha tenemos el límite de decisión de un modelo SVM. La línea separa las clases y es lo más lejos posible de los puntos.\n",
    "\n",
    "Se puede decir que un clasificador de SVM coloca la \"calle\" más ancha posible entre las dos clases. Se llama clasificación de margen grande (*large margin classification*)."
   ]
  },
  {
   "cell_type": "markdown",
   "id": "continuing-estimate",
   "metadata": {},
   "source": [
    "![](figures_svm/fig5-1.png)"
   ]
  },
  {
   "cell_type": "markdown",
   "id": "contrary-attraction",
   "metadata": {},
   "source": [
    "El límite de decisión está determinado (soportado) solamente por las instancias en la borde de la calle. Estas instancias son los **vectores de soporte** (*support vectors*)."
   ]
  },
  {
   "cell_type": "markdown",
   "id": "owned-possession",
   "metadata": {},
   "source": [
    "| ![](figures_svm/fig5-2.png) |\n",
    "|-----------------------------|\n",
    "| Modelos de SVM son muy sensibles al escalamiento de los *features* |"
   ]
  },
  {
   "cell_type": "markdown",
   "id": "demanding-marijuana",
   "metadata": {},
   "source": [
    "### Clasificación de margen blando (*soft margin classification*)\n",
    "\n",
    "Si no permitimos la presencia de ninguna instancia en la \"calle\", y estipulamos que todas las instancias tienen que estar en su lado correcto, tenemos **clasificación de margen duro**.\n",
    "\n",
    "Este funciona solamente si los datos son linealmente separables. Además es muy sensible a datos anómalos (*outliers*).\n",
    "\n",
    "![](figures_svm/fig5-3.png)"
   ]
  },
  {
   "cell_type": "markdown",
   "id": "unlikely-bracelet",
   "metadata": {},
   "source": [
    "Es preferible usar un modelo más flexible.\n",
    "\n",
    "Queremos encontrar un balance entre una \"calle\" ancha, y un límite en el número de instancias en la \"calle\" (violaciones del margen, *margin violations*).\n",
    "\n",
    "Este se llama **clasificación de margen blando**.\n",
    "\n",
    "En los modelos de SVM en Scikit-Learn se puede controlar el número de violaciones del margen con el hiperparámetro `C`.\n",
    "\n",
    "![](figures_svm/fig5-4.png)"
   ]
  },
  {
   "cell_type": "code",
   "execution_count": 2,
   "id": "legal-respect",
   "metadata": {},
   "outputs": [],
   "source": [
    "from sklearn import datasets\n",
    "from sklearn.pipeline import Pipeline\n",
    "from sklearn.preprocessing import StandardScaler\n",
    "from sklearn.svm import LinearSVC #SVC = support vector classifier"
   ]
  },
  {
   "cell_type": "code",
   "execution_count": 3,
   "id": "blocked-killing",
   "metadata": {},
   "outputs": [],
   "source": [
    "iris = datasets.load_iris()"
   ]
  },
  {
   "cell_type": "code",
   "execution_count": 5,
   "id": "molecular-heritage",
   "metadata": {},
   "outputs": [],
   "source": [
    "X = iris[\"data\"][:, (2, 3)] #longitud pétalos, ancho pétalos\n",
    "y = (iris[\"target\"] == 2).astype(np.float64)"
   ]
  },
  {
   "cell_type": "code",
   "execution_count": 6,
   "id": "posted-onion",
   "metadata": {},
   "outputs": [
    {
     "data": {
      "text/plain": [
       "Pipeline(steps=[('scaler', StandardScaler()),\n",
       "                ('linear_svc', LinearSVC(C=1, loss='hinge'))])"
      ]
     },
     "execution_count": 6,
     "metadata": {},
     "output_type": "execute_result"
    }
   ],
   "source": [
    "svm_clf = Pipeline([\n",
    "    (\"scaler\", StandardScaler()),\n",
    "    (\"linear_svc\", LinearSVC(C=1, loss=\"hinge\")),\n",
    "])\n",
    "\n",
    "svm_clf.fit(X,y)"
   ]
  },
  {
   "cell_type": "code",
   "execution_count": 7,
   "id": "democratic-theme",
   "metadata": {},
   "outputs": [
    {
     "data": {
      "text/plain": [
       "array([1.])"
      ]
     },
     "execution_count": 7,
     "metadata": {},
     "output_type": "execute_result"
    }
   ],
   "source": [
    "svm_clf.predict([[5.5, 1.7]])"
   ]
  },
  {
   "cell_type": "markdown",
   "id": "improved-gothic",
   "metadata": {},
   "source": [
    "El clasificador de SVM **no** da información de las probabilidades de las clases (como el clasificador de regresión logística)."
   ]
  },
  {
   "cell_type": "markdown",
   "id": "analyzed-charles",
   "metadata": {},
   "source": [
    "Hay otras opciones en Scikit-Learn para obtener el mismo modelo:\n",
    "\n",
    "* `SVC(kernel=\"linear\", C=1)` pero es mucho más lento.\n",
    "* `SGDClassifier(loss=\"hinge\", alpha=1/(m*C))` a veces es útil para datos masivos.\n",
    "\n",
    "La clase `LinearSVC` regulariza el término del *bias*, así que hay que centrar los datos (restar el promedio). Este es automático con el uso de `StandardScaler`.\n",
    "\n",
    "[Notar: el modelo `SGDClassifier` que usabamos en el notebook `03_clasificación` tiene `loss='hinge'` por defecto, así que estabamos usando un SVM en un espacio de 784 dimensiones...]"
   ]
  },
  {
   "cell_type": "markdown",
   "id": "ceramic-awareness",
   "metadata": {},
   "source": [
    "### Clasificación SVM no-lineal\n",
    "\n",
    "Se puede trabajar con datos no-lineales agregando más *features*, por ejemplo *features* polinomiales (como lo que vimos antes).\n",
    "\n",
    "| ![](figures_svm/fig5-5.png) |\n",
    "|-----------------------------|\n",
    "| Izquierda: datos no linealmente separables. Derecha: agregamos $x_2 = x_1^2$ para separar los datos. |"
   ]
  },
  {
   "cell_type": "markdown",
   "id": "labeled-dover",
   "metadata": {},
   "source": [
    "Ahora veremos un ejemplo con un conjunto de datos sintético que se llama **moons** (los datos tienen la forma de dos lunas crescientes)."
   ]
  },
  {
   "cell_type": "code",
   "execution_count": 15,
   "id": "immune-fellowship",
   "metadata": {},
   "outputs": [
    {
     "data": {
      "image/png": "[encoded data removed]",
      "text/plain": [
       "<Figure size 432x288 with 1 Axes>"
      ]
     },
     "metadata": {
      "needs_background": "light"
     },
     "output_type": "display_data"
    }
   ],
   "source": [
    "from sklearn.datasets import make_moons\n",
    "X, y = make_moons(n_samples=100, noise=0.15, random_state=42)\n",
    "\n",
    "def plot_dataset(X, y, axes):\n",
    "    plot(X[:, 0][y==0], X[:, 1][y==0], \"bs\")\n",
    "    plot(X[:, 0][y==1], X[:, 1][y==1], \"g^\")\n",
    "    axis(axes)\n",
    "    grid(True, which='both')\n",
    "    xlabel(\"$x_1$\")\n",
    "    ylabel(\"$x_2$\")\n",
    "    \n",
    "plot_dataset(X, y, [-1.5, 2.5, -1, 1.5])"
   ]
  },
  {
   "cell_type": "code",
   "execution_count": 16,
   "id": "varied-backing",
   "metadata": {},
   "outputs": [
    {
     "name": "stderr",
     "output_type": "stream",
     "text": [
      "/home/graeme/anaconda3/lib/python3.7/site-packages/sklearn/svm/_base.py:977: ConvergenceWarning: Liblinear failed to converge, increase the number of iterations.\n",
      "  \"the number of iterations.\", ConvergenceWarning)\n"
     ]
    },
    {
     "data": {
      "text/plain": [
       "Pipeline(steps=[('poly_features', PolynomialFeatures(degree=3)),\n",
       "                ('scaler', StandardScaler()),\n",
       "                ('svm_clf', LinearSVC(C=10, loss='hinge'))])"
      ]
     },
     "execution_count": 16,
     "metadata": {},
     "output_type": "execute_result"
    }
   ],
   "source": [
    "from sklearn.pipeline import Pipeline\n",
    "from sklearn.preprocessing import PolynomialFeatures\n",
    "from sklearn.preprocessing import StandardScaler\n",
    "from sklearn.svm import LinearSVC\n",
    "\n",
    "polynomial_svm_clf = Pipeline([\n",
    "    (\"poly_features\", PolynomialFeatures(degree=3)),\n",
    "    (\"scaler\", StandardScaler()),\n",
    "    (\"svm_clf\", LinearSVC(C=10, loss=\"hinge\"))\n",
    "])\n",
    "\n",
    "polynomial_svm_clf.fit(X, y)"
   ]
  },
  {
   "cell_type": "code",
   "execution_count": 17,
   "id": "central-factory",
   "metadata": {},
   "outputs": [
    {
     "data": {
      "image/png": "[encoded data removed]",
      "text/plain": [
       "<Figure size 432x288 with 1 Axes>"
      ]
     },
     "metadata": {
      "needs_background": "light"
     },
     "output_type": "display_data"
    }
   ],
   "source": [
    "def plot_predictions(clf, axes):\n",
    "    x0s = linspace(axes[0], axes[1], 100)\n",
    "    x1s = linspace(axes[2], axes[3], 100)\n",
    "    x0, x1 = meshgrid(x0s, x1s)\n",
    "    X = c_[x0.ravel(), x1.ravel()]\n",
    "    y_pred = clf.predict(X).reshape(x0.shape)\n",
    "    y_decision = clf.decision_function(X).reshape(x0.shape)\n",
    "    contourf(x0, x1, y_pred, cmap=cm.brg, alpha=0.2)\n",
    "    contourf(x0, x1, y_decision, cmap=cm.brg, alpha=0.1)\n",
    "    \n",
    "plot_predictions(polynomial_svm_clf, [-1.5, 2.5, -1, 1.5])\n",
    "plot_dataset(X, y, [-1.5, 2.5, -1, 1.5])"
   ]
  },
  {
   "cell_type": "markdown",
   "id": "italic-correlation",
   "metadata": {},
   "source": [
    "#### Núcleo polinomial (*polynomial kernel*)\n",
    "\n",
    "Usar un polinomio de grado bajo, como lo que hicimos arriba, no funciona bien para datos complejos. Usar un polinomio de grado alto crea un número grande de *features* y el modelo es lento.\n",
    "\n",
    "Hay un truco que se llama el **truco del núcleo** (*kernel trick*) que da el mismo resultado que antes, sin la necesidad de agregar más *features* a los datos."
   ]
  },
  {
   "cell_type": "code",
   "execution_count": 18,
   "id": "animal-protocol",
   "metadata": {},
   "outputs": [
    {
     "data": {
      "text/plain": [
       "Pipeline(steps=[('scaler', StandardScaler()),\n",
       "                ('svm_clf', SVC(C=5, coef0=1, kernel='poly'))])"
      ]
     },
     "execution_count": 18,
     "metadata": {},
     "output_type": "execute_result"
    }
   ],
   "source": [
    "from sklearn.svm import SVC\n",
    "poly_kernel_svm_clf = Pipeline([\n",
    "    (\"scaler\", StandardScaler()),\n",
    "    (\"svm_clf\", SVC(kernel=\"poly\", degree=3, coef0=1, C=5))\n",
    "])\n",
    "\n",
    "poly_kernel_svm_clf.fit(X, y)"
   ]
  },
  {
   "cell_type": "code",
   "execution_count": 19,
   "id": "continental-article",
   "metadata": {},
   "outputs": [
    {
     "data": {
      "text/plain": [
       "Pipeline(steps=[('scaler', StandardScaler()),\n",
       "                ('svm_clf', SVC(C=5, coef0=100, degree=10, kernel='poly'))])"
      ]
     },
     "execution_count": 19,
     "metadata": {},
     "output_type": "execute_result"
    }
   ],
   "source": [
    "poly10_kernel_svm_clf = Pipeline([\n",
    "    (\"scaler\", StandardScaler()),\n",
    "    (\"svm_clf\", SVC(kernel=\"poly\", degree=10, coef0=100, C=5))\n",
    "])\n",
    "\n",
    "poly10_kernel_svm_clf.fit(X, y)"
   ]
  },
  {
   "cell_type": "code",
   "execution_count": 20,
   "id": "overhead-europe",
   "metadata": {},
   "outputs": [
    {
     "data": {
      "text/plain": [
       "Text(0, 0.5, '')"
      ]
     },
     "execution_count": 20,
     "metadata": {},
     "output_type": "execute_result"
    },
    {
     "data": {
      "image/png": "[encoded data removed]",
      "text/plain": [
       "<Figure size 756x288 with 2 Axes>"
      ]
     },
     "metadata": {
      "needs_background": "light"
     },
     "output_type": "display_data"
    }
   ],
   "source": [
    "fig, axes = subplots(ncols=2, figsize=(10.5, 4), sharey=True)\n",
    "\n",
    "sca(axes[0])\n",
    "plot_predictions(poly_kernel_svm_clf, [-1.5, 2.45, -1, 1.5])\n",
    "plot_dataset(X, y, [-1.5, 2.45, -1, 1.5])\n",
    "title(\"$d=3, r=1, C=5$\")\n",
    "\n",
    "sca(axes[1])\n",
    "plot_predictions(poly100_kernel_svm_clf, [-1.5, 2.45, -1, 1.5])\n",
    "plot_dataset(X, y, [-1.5, 2.45, -1, 1.5])\n",
    "title(\"$d=10, r=100, C=5$\")\n",
    "ylabel(\"\")"
   ]
  },
  {
   "cell_type": "markdown",
   "id": "stock-design",
   "metadata": {},
   "source": [
    "* Izquierda: clasificador de SVM con *kernel* de polinomio de grado 3.\n",
    "* Derecha: con *kernel* de polinomio de grado 10.\n",
    "\n",
    "El hiperparámetro `coef0` controla la importancia de los polinomios de grado alto versus los polinomios de grado bajo. Es un parámetro del *kernel* (más información abajo)."
   ]
  },
  {
   "cell_type": "markdown",
   "id": "marine-norway",
   "metadata": {},
   "source": [
    "#### Agregando *features* de similitud (*similarity features*)\n",
    "\n",
    "Otra técnica para datos no-lineales es el uso de más *features* calculados con una **función de similitud**.\n",
    "\n",
    "Esta función mide la similitud entre una instancia y algún punto de referencia."
   ]
  },
  {
   "cell_type": "markdown",
   "id": "stylish-correlation",
   "metadata": {},
   "source": [
    "Como ejemplo, volvemos a los datos unidimensionales. Agregamos un par de puntos de referencia en $x_1 = -2$ y $x_1 = 1$.\n",
    "\n",
    "Definimos la función de similitud como $$\\phi_{\\gamma}(\\boldsymbol{x},\\mathscr{l}) = \\exp \\left( -\\gamma || \\boldsymbol{x} - \\mathscr{l} ||^2 \\right)$$\n",
    "\n",
    "Esta función se llama la **función de base radial gaussiana** (*Gaussian RBF*)."
   ]
  },
  {
   "cell_type": "markdown",
   "id": "medium-denial",
   "metadata": {},
   "source": [
    "| ![](figures_svm/fig5-8.png) |\n",
    "|-----------------------------|\n",
    "| Gaussian RBF con $\\gamma=0.3$ |"
   ]
  },
  {
   "cell_type": "markdown",
   "id": "sacred-identity",
   "metadata": {},
   "source": [
    "Como ejemplo, elegimos $\\gamma = 0.3$. consideramos la instancia $x_1 = -1$. Tiene una distancia de $1$ del primer punto de referencia, y $2$ del segundo punto.\n",
    "\n",
    "Entonces los nuevos *features* son $x_2 = \\exp(-0.3 \\times 1^2) \\approx 0.74$ y $x_3 = \\exp(-0.3 \\times 2^2) \\approx 0.30$."
   ]
  },
  {
   "cell_type": "markdown",
   "id": "close-distinction",
   "metadata": {},
   "source": [
    "En la figura arriba, a la derecha, vemos los nuevos *features* (sin el original). Los datos ahora son linealmente separables.\n",
    "\n",
    "El uso de *similarity features* es algo que se puede aplicar a cualquier algoritmo de *machine learning* (como es el caso con *features* polinomiales).\n",
    "\n",
    "Se puede implementar la función RBF gaussiana en un SVM usando el truco del *kernel* de nuevo (para no generar muchos *features* nuevos)."
   ]
  },
  {
   "cell_type": "code",
   "execution_count": 22,
   "id": "rolled-midwest",
   "metadata": {},
   "outputs": [
    {
     "data": {
      "image/png": "[encoded data removed]",
      "text/plain": [
       "<Figure size 756x504 with 4 Axes>"
      ]
     },
     "metadata": {
      "needs_background": "light"
     },
     "output_type": "display_data"
    }
   ],
   "source": [
    "from sklearn.svm import SVC\n",
    "\n",
    "gamma1, gamma2 = 0.1, 5\n",
    "C1, C2 = 0.001, 1000\n",
    "hyperparams = (gamma1, C1), (gamma1, C2), (gamma2, C1), (gamma2, C2)\n",
    "\n",
    "svm_clfs = []\n",
    "for gamma, C in hyperparams:\n",
    "    rbf_kernel_svm_clf = Pipeline([\n",
    "            (\"scaler\", StandardScaler()),\n",
    "            (\"svm_clf\", SVC(kernel=\"rbf\", gamma=gamma, C=C))\n",
    "        ])\n",
    "    rbf_kernel_svm_clf.fit(X, y)\n",
    "    svm_clfs.append(rbf_kernel_svm_clf)\n",
    "\n",
    "fig, axes = plt.subplots(nrows=2, ncols=2, figsize=(10.5, 7), sharex=True, sharey=True)\n",
    "\n",
    "for i, svm_clf in enumerate(svm_clfs):\n",
    "    plt.sca(axes[i // 2, i % 2])\n",
    "    plot_predictions(svm_clf, [-1.5, 2.45, -1, 1.5])\n",
    "    plot_dataset(X, y, [-1.5, 2.45, -1, 1.5])\n",
    "    gamma, C = hyperparams[i]\n",
    "    plt.title(r\"$\\gamma = {}, C = {}$\".format(gamma, C), fontsize=16)\n",
    "    if i in (0, 1):\n",
    "        plt.xlabel(\"\")\n",
    "    if i in (1, 3):\n",
    "        plt.ylabel(\"\")"
   ]
  },
  {
   "cell_type": "markdown",
   "id": "level-confidentiality",
   "metadata": {},
   "source": [
    "* Un $\\gamma$ mayor reduce el ancho de la curva gaussiana, reduciendo la influencia de cada instancia $\\rightarrow$ el límite de decisión será más irregular y adaptado a las posiciones de las instancias (riesgo de *overfitting*!)\n",
    "* Un $\\gamma$ menor tiene el efecto opuesto.\n",
    "\n",
    "$\\gamma$ actua como un parámetro de regularización (similar al parámetro `C`)."
   ]
  },
  {
   "cell_type": "markdown",
   "id": "polyphonic-poultry",
   "metadata": {},
   "source": [
    "Hay otros *kernels* (menos usados), por ejemplo *string kernels* usados en clasificación de textos o secuencias de ADN."
   ]
  },
  {
   "cell_type": "markdown",
   "id": "exempt-mouse",
   "metadata": {},
   "source": [
    "#### Complejidad computacional\n",
    "\n",
    "La clase `LinearSVC` está basada en la librería `liblinear` que implementa un algoritmo optimizado para SVMs lineales ([paper](https://www.csie.ntu.edu.tw/~cjlin/papers/cddual.pdf)).\n",
    "\n",
    "Este algoritmo no permite el truco del *kernel* pero escala linealmente con el número de instancias de entrenamiento y *features*: $\\mathcal{O}(m \\times n)$.\n",
    "\n",
    "Se puede aumentar la precisión con el hiperparámetro $\\epsilon$ (llamado `tol` en Scikit-Learn)."
   ]
  },
  {
   "cell_type": "markdown",
   "id": "wrapped-public",
   "metadata": {},
   "source": [
    "La clase `SVC` está basada en la librería `libsvm` que implementa un algoritmo que funciona con el truco del *kernel* ([wikipedia](https://en.wikipedia.org/wiki/Sequential_minimal_optimization)).\n",
    "\n",
    "El tiempo de entrenamiento escala entre $\\mathcal{O}(m^2 \\times n)$ y $\\mathcal{O}(m^3 \\times n)$.\n",
    "\n",
    "Por lo tanto, es muy lento con muchas instancias de entrenamiento."
   ]
  },
  {
   "cell_type": "markdown",
   "id": "respected-thompson",
   "metadata": {},
   "source": [
    "![](figures_svm/table5-1.png)"
   ]
  },
  {
   "cell_type": "markdown",
   "id": "owned-sociology",
   "metadata": {},
   "source": [
    "### Regresión SVM\n",
    "\n",
    "Se puede invertir la meta del algoritmo: ajustar la \"calle\" para tener la mayoría de las instancias en la \"calle\" y limitar violaciones de margen (instancias fuera de la \"calle\").\n",
    "\n",
    "El ancho de la calle está controlado por $\\epsilon$.\n",
    "\n",
    "![](figures_svm/fig5-10.png)"
   ]
  },
  {
   "cell_type": "markdown",
   "id": "domestic-silicon",
   "metadata": {},
   "source": [
    "Agregando más instancias dentro del margen no afecta las predicciones del modelo."
   ]
  },
  {
   "cell_type": "code",
   "execution_count": 24,
   "id": "finished-lawyer",
   "metadata": {},
   "outputs": [
    {
     "data": {
      "text/plain": [
       "LinearSVR(epsilon=1.5, random_state=42)"
      ]
     },
     "execution_count": 24,
     "metadata": {},
     "output_type": "execute_result"
    }
   ],
   "source": [
    "np.random.seed(42)\n",
    "m = 50\n",
    "X = 2 * np.random.rand(m, 1)\n",
    "y = (4 + 3 * X + np.random.randn(m, 1)).ravel()\n",
    "\n",
    "\n",
    "from sklearn.svm import LinearSVR\n",
    "\n",
    "svm_reg = LinearSVR(epsilon=1.5, random_state=42)\n",
    "svm_reg.fit(X, y)"
   ]
  },
  {
   "cell_type": "code",
   "execution_count": 25,
   "id": "gorgeous-relief",
   "metadata": {},
   "outputs": [
    {
     "data": {
      "text/plain": [
       "(0.0, 2.0, 3.0, 11.0)"
      ]
     },
     "execution_count": 25,
     "metadata": {},
     "output_type": "execute_result"
    },
    {
     "data": {
      "image/png": "[encoded data removed]",
      "text/plain": [
       "<Figure size 432x288 with 1 Axes>"
      ]
     },
     "metadata": {
      "needs_background": "light"
     },
     "output_type": "display_data"
    }
   ],
   "source": [
    "axes = [0,2,3,11]\n",
    "x1s = np.linspace(axes[0], axes[1], 100).reshape(100, 1)\n",
    "y_pred = svm_reg.predict(x1s)\n",
    "plot(x1s, y_pred, \"k-\", linewidth=2, label=r\"$\\hat{y}$\")\n",
    "plot(x1s, y_pred + svm_reg.epsilon, \"k--\")\n",
    "plot(x1s, y_pred - svm_reg.epsilon, \"k--\")\n",
    "plot(X, y, \"bo\")\n",
    "xlabel(r\"$x_1$\", fontsize=18)\n",
    "legend(loc=\"upper left\", fontsize=18)\n",
    "axis(axes)"
   ]
  },
  {
   "cell_type": "markdown",
   "id": "regulation-sentence",
   "metadata": {},
   "source": [
    "Para regresión no-lineal se puede usar un *kernel* de nuevo."
   ]
  },
  {
   "cell_type": "code",
   "execution_count": 26,
   "id": "selective-juice",
   "metadata": {},
   "outputs": [],
   "source": [
    "np.random.seed(42)\n",
    "m = 100\n",
    "X = 2 * np.random.rand(m, 1) - 1\n",
    "y = (0.2 + 0.1 * X + 0.5 * X**2 + np.random.randn(m, 1)/10).ravel()"
   ]
  },
  {
   "cell_type": "code",
   "execution_count": 27,
   "id": "settled-repair",
   "metadata": {},
   "outputs": [
    {
     "data": {
      "text/plain": [
       "SVR(C=100, degree=2, kernel='poly')"
      ]
     },
     "execution_count": 27,
     "metadata": {},
     "output_type": "execute_result"
    }
   ],
   "source": [
    "from sklearn.svm import SVR\n",
    "\n",
    "svm_poly_reg = SVR(kernel=\"poly\", degree=2, C=100, epsilon=0.1, gamma=\"scale\")\n",
    "svm_poly_reg.fit(X, y)"
   ]
  },
  {
   "cell_type": "code",
   "execution_count": 29,
   "id": "settled-daniel",
   "metadata": {},
   "outputs": [
    {
     "data": {
      "text/plain": [
       "(-1.0, 1.0, 0.0, 1.0)"
      ]
     },
     "execution_count": 29,
     "metadata": {},
     "output_type": "execute_result"
    },
    {
     "data": {
      "image/png": "[encoded data removed]",
      "text/plain": [
       "<Figure size 432x288 with 1 Axes>"
      ]
     },
     "metadata": {
      "needs_background": "light"
     },
     "output_type": "display_data"
    }
   ],
   "source": [
    "axes = [-1,1,0,1]\n",
    "x1s = np.linspace(axes[0], axes[1], 100).reshape(100, 1)\n",
    "y_pred = svm_poly_reg.predict(x1s)\n",
    "plot(x1s, y_pred, \"k-\", linewidth=2, label=r\"$\\hat{y}$\")\n",
    "plot(x1s, y_pred + svm_poly_reg.epsilon, \"k--\")\n",
    "plot(x1s, y_pred - svm_poly_reg.epsilon, \"k--\")\n",
    "plot(X, y, \"bo\")\n",
    "xlabel(r\"$x_1$\", fontsize=18)\n",
    "legend(loc=\"upper left\", fontsize=18)\n",
    "axis(axes)"
   ]
  },
  {
   "cell_type": "markdown",
   "id": "regular-moisture",
   "metadata": {},
   "source": [
    "| ![](figures_svm/fig5-11.png) |\n",
    "|------------------------------|\n",
    "| Ejemplo del libro. Hay más regularización en el gráfico a la derecha. |"
   ]
  },
  {
   "cell_type": "markdown",
   "id": "planned-bangladesh",
   "metadata": {},
   "source": [
    "## Los detalles del método\n",
    "\n",
    "* El término del *bias* es $b$.\n",
    "* El vector de pesos de los *features* es $\\boldsymbol{w}$ (antes usabamos $\\boldsymbol{\\theta}$).\n",
    "* Ahora **no** hay un *feature* $x_0 = 1$ que corresponde al *bias*."
   ]
  },
  {
   "cell_type": "markdown",
   "id": "liked-genome",
   "metadata": {},
   "source": [
    "### Función de decisión y predicciones\n",
    "\n",
    "La función de decisión del modelo es\n",
    "\n",
    "$$h = \\boldsymbol{w}^T \\boldsymbol{x} + b$$\n",
    "\n",
    "El clasificador de SVM lineal predice la clase de una instancia en la siguiente manera:\n",
    "\n",
    "$$\\hat{y} = \\begin{cases} 0 & \\boldsymbol{w}^T \\boldsymbol{x} + b < 0 \\\\ 1 & \\boldsymbol{w}^T \\boldsymbol{x} + b \\geq 0 \\end{cases}$$"
   ]
  },
  {
   "cell_type": "markdown",
   "id": "existing-knife",
   "metadata": {},
   "source": [
    "Volvemos al ejemplo de los datos de \"Iris\"\n",
    "\n",
    "![](figures_svm/fig5-4-half.png)\n",
    "\n",
    "![](figures_svm/fig5-12.png)"
   ]
  },
  {
   "cell_type": "markdown",
   "id": "defensive-lingerie",
   "metadata": {},
   "source": [
    "En este caso la función de decisión corresponde a un plano bidimensional (hay 2 *features*).\n",
    "\n",
    "El límite de decisión es la intersección entre el plano de datos y el plano definido por $h$.\n",
    "\n",
    "El margen está definido por las líneas donde $h = \\pm 1$.\n",
    "\n",
    "Entrenamiento de un modelo SVM lineal: encontrar los valores de $\\boldsymbol{w}$ y $b$ tal que el margen sea lo más ancho posible, sin violaciones (margen duro) o con pocas violaciones (margen blando).\n",
    "\n",
    "##### Más features\n",
    "\n",
    "Con $n$ *features*, la función de decisión define un hiperplano de $n$ dimensiones, y el límite de decisión es un hiperplano de $(n-1)$ dimensiones."
   ]
  },
  {
   "cell_type": "markdown",
   "id": "turned-angel",
   "metadata": {},
   "source": [
    "### Objetivo del entrenamiento\n",
    "\n",
    "La pendiente del plano definido por la función de decisión está dada por $||\\boldsymbol{w}||$.\n",
    "\n",
    "Si dividimos la pendiente por $2$, el margen será más ancho.\n",
    "\n",
    "| ![](figures_svm/fig5-13.png) |\n",
    "|------------------------------|\n",
    "| Ejemplo con solamente $1$ *feature* |"
   ]
  },
  {
   "cell_type": "markdown",
   "id": "extra-patrick",
   "metadata": {},
   "source": [
    "Queremos minimizar $||\\boldsymbol{w}||$ para obtener un margen amplio.\n",
    "\n",
    "Pero si aplicamos un margen duro, queremos evitar cualquier violación del margen. Entonces necesitamos\n",
    "\n",
    "$$h(\\boldsymbol{x}_i) \\begin{cases} > 1 & y^{(i)} = 1 \\\\ < -1 & y^{(i)} = 0 \\end{cases}$$\n",
    "\n",
    "Primero, definimos:\n",
    "\n",
    "$$t^{(i)} = \\begin{cases} +1 & y^{(i)} = 1 \\\\ -1 & y^{(i)} = 0 \\end{cases}$$\n",
    "\n",
    "Ahora podemos expresar nuestra restricción como\n",
    "\n",
    "$$t^{(i)}(\\boldsymbol{w}^T \\boldsymbol{x}^{(i)} + b) \\geq 1$$\n",
    "\n",
    "para todas las instancias."
   ]
  },
  {
   "cell_type": "markdown",
   "id": "african-series",
   "metadata": {},
   "source": [
    "##### Entrenamiento con margen duro\n",
    "\n",
    "Por lo tanto, el entrenamiento del clasificador SVM lineal (margen duro) corresponde al siguiente problema de **optimización restringida**:\n",
    "\n",
    "$$\\underset{\\boldsymbol{w},b}{\\text{minimizar}} \\;\\; \\frac{1}{2}\\boldsymbol{w}^T\\boldsymbol{w} \\;\\; \\text{sujeto a} \\;\\; t^{(i)}(\\boldsymbol{w}^T \\boldsymbol{x}^{(i)} + b) \\geq 1 \\;\\; \\text{para} \\; i=1,\\ldots,m$$"
   ]
  },
  {
   "cell_type": "markdown",
   "id": "catholic-anaheim",
   "metadata": {},
   "source": [
    "Usamos $\\frac{1}{2}\\boldsymbol{w}^T\\boldsymbol{w} = \\frac{1}{2}||\\boldsymbol{w}||^2$ en vez de $||\\boldsymbol{w}||$ porque es diferenciable en $\\boldsymbol{w} = 0$."
   ]
  },
  {
   "cell_type": "markdown",
   "id": "congressional-marsh",
   "metadata": {},
   "source": [
    "##### Entrenamiento con margen blando\n",
    "\n",
    "En el caso de un margen blando, introducimos una variable \"floja\" (*slack variable*) para cada instancia.\n",
    "\n",
    "$\\zeta^{(i)}$ es una medida de la violación del margen permitida para la instancia $i$.\n",
    "\n",
    "Ahora tenemos dos objetivos en conflicto: reducir $\\zeta^{(i)}$ para reducir violaciones del margen, y reducir $\\frac{1}{2}\\boldsymbol{w}^T\\boldsymbol{w}$ para aumentar el margen.\n",
    "\n",
    "Con el hiperparámetro $C$ se puede definir la importancia relativa de estos dos objetivos."
   ]
  },
  {
   "cell_type": "markdown",
   "id": "absolute-circumstances",
   "metadata": {},
   "source": [
    "$$\\underset{\\boldsymbol{w},b,\\zeta}{\\text{minimizar}} \\;\\; \\frac{1}{2}\\boldsymbol{w}^T\\boldsymbol{w} + C\\sum_{i=1}^m \\zeta^{(i)} \\;\\; \\text{sujeto a} \\;\\; t^{(i)}(\\boldsymbol{w}^T \\boldsymbol{x}^{(i)} + b) \\geq 1 - \\zeta^{(i)} \\; y \\; \\zeta^{(i)} \\geq 0 \\; \\text{para} \\; i=1,\\ldots,m$$"
   ]
  },
  {
   "cell_type": "markdown",
   "id": "awful-handle",
   "metadata": {},
   "source": [
    "#### Optimización cuadrática (*quadratic programming*)\n",
    "\n",
    "Los problemas de optimización del margen duro y blando son problemas **convexos cuadráticos con restricciones lineales**.\n",
    "\n",
    "Tales problemas se llaman problemas de optimización cuadrática (*quadratic programming*, QP).\n",
    "\n",
    "Hay muchos métodos disponibles para resolver problemas así. La formulación general del problema es:\n",
    "\n",
    "$$\\underset{\\boldsymbol{p}}{\\text{minimizar}} \\;\\; \\frac{1}{2}\\boldsymbol{p}^T \\boldsymbol{H} \\boldsymbol{p} + \\boldsymbol{f}^T\\boldsymbol{p} \\;\\; \\text{sujeto a} \\;\\; \\boldsymbol{A}\\boldsymbol{p} \\leq \\boldsymbol{b}$$\n",
    "\n",
    "donde:\n",
    "\n",
    "* $\\boldsymbol{p}$ es un vector de dimensión $n_p$.\n",
    "* $\\boldsymbol{H}$ es una matriz de dimensión $n_p \\times n_p$.\n",
    "* $\\boldsymbol{f}$ es un vector de dimensión $n_p$.\n",
    "* $\\boldsymbol{A}$ es una matriz de dimensión $n_c \\times n_p$ ($n_c = $ número de restricciones)\n",
    "* $\\boldsymbol{b}$ es un vector de dimensión $n_c$."
   ]
  },
  {
   "cell_type": "markdown",
   "id": "level-incentive",
   "metadata": {},
   "source": [
    "La expresión $\\boldsymbol{A}\\boldsymbol{p} \\leq \\boldsymbol{b}$ define $n_c$ restricciones.\n",
    "\n",
    "Se puede traducir esta formulación del problema a lo que vimos para el clasificador SVM lineal con margen duro:\n",
    "\n",
    "* $n_p = n + 1$, donde $n$ es el número de *features* ($+1$ para el *bias*).\n",
    "* $n_c = m$, donde $m$ es el número de instancias de entrenamiento.\n",
    "* $\\boldsymbol{H}$ es la matriz de identidad con $0$ en el elemento $(0,0)$ (para eliminar el término del *bias*).\n",
    "* $\\boldsymbol{f} = \\boldsymbol{0}$\n",
    "* $\\boldsymbol{b} = \\boldsymbol{-1}$\n",
    "* $\\boldsymbol{a}^{(i)} = -t^{(i)} \\dot{\\boldsymbol{x}}^{(i)}$ donde $\\dot{\\boldsymbol{x}}^{(i)}$ es igual a $\\boldsymbol{x}^{(i)}$ aparte del elemento $\\dot{\\boldsymbol{x}}_0 = 1$ (*bias*) y $\\boldsymbol{a}^{(i)}$ es la $i$-esima fila de la matriz $\\boldsymbol{A}$."
   ]
  },
  {
   "cell_type": "markdown",
   "id": "acute-hybrid",
   "metadata": {},
   "source": [
    "Así que se puede entrenar un clasificador de SVM (margen duro) con algún algoritmo para resolver el problema QP.\n",
    "\n",
    "El vector resultante $\\boldsymbol{p}$ contendrá el término del *bias* $b = p_0$ y los pesos de los *features* $w_i = p_i$ para $i = 1,\\ldots,n$.\n",
    "\n",
    "Se puede usar un *solver* de QP para el problema de margen blando."
   ]
  },
  {
   "cell_type": "markdown",
   "id": "careful-requirement",
   "metadata": {},
   "source": [
    "### El problema dual\n",
    "\n",
    "Dado un problema de optimización restringida (**problema primario**) se puede expresar un problema diferente pero relacionado que se llama el **problema dual**.\n",
    "\n",
    "La solución al problema dual típicamente da un límite inferior a la solución del problema primario. \n",
    "\n",
    "En algunos casos especiales (función de objetivo es convexa, las restricciones son continuamente diferenciable y convexas) las soluciones de los problemas primario y dual coinciden.\n",
    "\n",
    "SVM satisface estas condiciones, así que podemos trabajar con el problema dual:\n",
    "\n",
    "$$\\underset{\\alpha}{\\text{minimizar}} \\;\\; \\frac{1}{2}\\sum_{i=1}^m \\sum_{j=1}^m \\alpha^{(i)} \\alpha^{(j)} t^{(i)} t^{(j)} \\boldsymbol{x}^{(i)T} \\boldsymbol{x}^{(j)} - \\sum_{i=1}^m \\alpha^{(i)} \\;\\; \\text{sujeto a} \\;\\; \\alpha^{(i)} \\geq 0 \\;\\; \\text{para} \\;\\; i = 1,\\ldots,m$$"
   ]
  },
  {
   "cell_type": "markdown",
   "id": "deluxe-indication",
   "metadata": {},
   "source": [
    "Una vez que hemos encontrado el vector $\\hat{\\alpha}$ que minimiza esta ecuación (con un *solver* de QP) podemos calcular $\\hat{\\boldsymbol{w}}$ y $\\hat{b}$ que minimizan el problema primal:\n",
    "\n",
    "$$\\hat{\\boldsymbol{w}} = \\sum_{i=1}^m \\hat{\\alpha}^{(i)} t^{(i)} \\boldsymbol{x}^{(i)}$$\n",
    "\n",
    "$$\\hat{b} = \\frac{1}{n_s} \\sum_{i=1}^m \\left( t^{(i)} - \\hat{\\boldsymbol{w}}^T \\boldsymbol{x}^{(i)} \\right)$$\n",
    "\n",
    "Es más rápido resolver el problema dual cuando hay menos instancias de entrenamiento que *features*, es decir $m < n$.\n",
    "\n",
    "Más importante, el problema dual permite el truco del *kernel* (*kernel trick*)."
   ]
  },
  {
   "cell_type": "markdown",
   "id": "legislative-testimony",
   "metadata": {},
   "source": [
    "### SVM con *kernels*\n",
    "\n",
    "Ejemplo: aplicar un polinomio de grado 2 a datos de entrenamiento bidimensionales para entrenar un clasificador SVM lineal en los datos transformados:\n",
    "\n",
    "$$\\phi(\\boldsymbol{x}) = \\phi \\left( \\begin{pmatrix} x_1 \\\\ x_2 \\end{pmatrix} \\right) = \\begin{pmatrix} x_1^2 \\\\ \\sqrt{2}x_1x_2 \\\\ x_2^2 \\end{pmatrix}$$"
   ]
  },
  {
   "cell_type": "markdown",
   "id": "protected-hampton",
   "metadata": {},
   "source": [
    "¿Que pasa con el producto punto de los vectores transformados?\n",
    "\n",
    "$$\\begin{split} \\phi(\\boldsymbol{a})^T\\phi(\\boldsymbol{b}) &= \\begin{pmatrix} a_1^2 \\\\ \\sqrt{2}a_1a_2 \\\\ a_2^2 \\end{pmatrix} \\begin{pmatrix} b_1^2 \\\\ \\sqrt{2}b_1b_2 \\\\ b_2^2 \\end{pmatrix}  = a_1^2b_1^2 + 2a_1b_1a_2b_2 + a_2^2b_2^2 \\\\ &= (a_1b_1 + a_2b_2)^2 = \\left( \\begin{pmatrix} a_1 \\\\ a_2 \\end{pmatrix}^T \\begin{pmatrix} b_1 \\\\ b_2 \\end{pmatrix} \\right)^2 = \\left( \\boldsymbol{a}^T \\boldsymbol{b} \\right)^2 \\end{split}$$"
   ]
  },
  {
   "cell_type": "markdown",
   "id": "harmful-count",
   "metadata": {},
   "source": [
    "Aplicando la transformación $\\phi$ a todas las instancias, tendremos, en el problema dual, el producto punto $\\phi(\\boldsymbol{x}^{(i)})^T\\phi(\\boldsymbol{x}^{(j)})$.\n",
    "\n",
    "Pero ahora sabemos que (en el caso del polinomio de grado 2) podemos reemplazar ese producto punto por $\\left( x^{(i)T}x^{(j)} \\right)^2$.\n",
    "\n",
    "Así que, no hace falta aplicar la transformación $\\phi$.\n",
    "\n",
    "Esta es la esencia del truco del *kernel*: es mucho más eficiente computacionalmente."
   ]
  },
  {
   "cell_type": "markdown",
   "id": "informed-contents",
   "metadata": {},
   "source": [
    "La función $K(\\boldsymbol{a},\\boldsymbol{b}) = (\\boldsymbol{a}^T \\boldsymbol{b})^2$ se llama un *kernel* polinomial de grado 2.\n",
    "\n",
    "Un *kernel* (en este contexto) es una función capaz de calcular el producto punto $\\phi(\\boldsymbol{a})^T \\phi(\\boldsymbol{b})$ usando solamente los vectores originales $\\boldsymbol{a}$ y $\\boldsymbol{b}$, sin saber nada de $\\phi$."
   ]
  },
  {
   "cell_type": "markdown",
   "id": "amateur-singer",
   "metadata": {},
   "source": [
    "*Kernels* comunes:\n",
    "\n",
    "* Lineal: $K(\\boldsymbol{a},\\boldsymbol{b}) = \\boldsymbol{a}^T \\boldsymbol{b}$\n",
    "* Polinomial: $K(\\boldsymbol{a},\\boldsymbol{b}) = \\left( \\gamma \\boldsymbol{a}^T \\boldsymbol{b} + r \\right)^d$\n",
    "* RBF gaussiana: $K(\\boldsymbol{a},\\boldsymbol{b}) =\\exp \\left( -\\gamma || \\boldsymbol{a} - \\boldsymbol{b} ||^2 \\right)$\n",
    "* Sigmoide: $K(\\boldsymbol{a},\\boldsymbol{b}) = \\tanh \\left( \\gamma \\boldsymbol{a}^T \\boldsymbol{b} + r \\right)$"
   ]
  },
  {
   "cell_type": "markdown",
   "id": "accepting-respondent",
   "metadata": {},
   "source": [
    "### Teorema de Mercer\n",
    "\n",
    "Si una función $K(\\boldsymbol{a},\\boldsymbol{b})$ respeta algunas condiciones llamadas **condiciones de Mercer** (continua, simetrica en sus argumentos, etc.) entonces existe una función $\\phi$ que mapea los vectores $\\boldsymbol{a}$ y $\\boldsymbol{b}$ a otro espacio tal que $K(\\boldsymbol{a},\\boldsymbol{b}) = \\phi(\\boldsymbol{a})^T \\phi(\\boldsymbol{b})$.\n",
    "\n",
    "En el caso del *kernel* RBF gaussiana, $\\phi$ corresponde a un mapeo a un espacio de dimensión infinita..."
   ]
  },
  {
   "cell_type": "markdown",
   "id": "integrated-accident",
   "metadata": {},
   "source": [
    "##### Predicciones usando kernels\n",
    "\n",
    "Usando un *kernel* quizás no podemos obtener $\\hat{\\boldsymbol{w}}$. Entonces, ¿cómo podemos realizar predicciones con el modelo?\n",
    "\n",
    "$$\\begin{split} h_{\\hat{\\boldsymbol{w}},\\hat{b}} \\left( \\phi \\left( \\boldsymbol{x}^{(n)} \\right) \\right) &= \\hat{\\boldsymbol{w}}^T \\phi(\\boldsymbol{x}^{(n)}) + \\hat{b} = \\left( \\sum_{i=1}^m \\hat{\\alpha}^{(i)} t^{(i)} \\phi(\\boldsymbol{x}^{(i)} \\right) \\phi(\\boldsymbol{x}^{(n)}) + \\hat{b} \\\\ &= \\sum_{i=1}^m \\hat{\\alpha}^{(i)}t^{(i)} \\left( \\phi(\\boldsymbol{x}^{(i)})^T \\phi(\\boldsymbol{x}^{(n)}) \\right) + \\hat{b} \\\\ &= \\underset{\\hat{\\alpha}^{(i)} > 0}{\\sum_{i=1}^m} \\hat{\\alpha}^{(i)}t^{(i)}K(\\boldsymbol{x}^{(i)},\\boldsymbol{x}^{(n)}) + \\hat{b} \\end{split}$$\n",
    "\n",
    "Notar que $\\alpha^{(i)} \\neq 0$ solamente para los vectores de soporte, así que las predicciones requiere el producto punto entre el vector de la nueva instancia $\\boldsymbol{x}^{(n)}$ y los vectores de soporte.\n",
    "\n",
    "El término del *bias* se puede conseguir por el mismo truco:\n",
    "\n",
    "$$\\begin{split} \\hat{b} &= \\frac{1}{n_s} \\sum_{i=1}^m (t^{(i)} - \\hat{\\boldsymbol{w}}^T \\phi(\\boldsymbol{x}^{(i)})) = \\frac{1}{n_s} \\sum_{i=1}^m \\left( t^{(i)} - \\left( \\sum_{j=1}^m \\hat{\\alpha}^{(j)}t^{(j)}\\phi(\\boldsymbol{x}^{(j)}) \\right)^T \\phi(\\boldsymbol{x}^{(i)}) \\right) \\\\ &= \\frac{1}{n_s} \\sum_{i=1}^m \\left( t^{(i)} - \\sum_{j=1}^m \\hat{\\alpha}^{(j)}t^{(j)}K(\\boldsymbol{x}^{(i)},\\boldsymbol{x}^{(j)}) \\right) \\end{split}$$\n",
    "\n",
    "donde todas las sumas incluyen solamente valores del índice $i$ donde $\\hat{\\alpha}^{(i)} > 0$ (es decir, los vectores de soporte)."
   ]
  },
  {
   "cell_type": "markdown",
   "id": "structured-effectiveness",
   "metadata": {},
   "source": [
    "#### Online SVMs\n",
    "\n",
    "Ahora veremos brevemente como se puede entrenar un clasificador de SVM en forma *online* (incremental).\n",
    "\n",
    "Para SVM lineal, una opción es descenso por gradiente (con `SGDClassifier` por ejemplo) para minimizar la función de costo abajo (derivado del problema primario):\n",
    "\n",
    "$$J(\\boldsymbol{w},b) = \\frac{1}{2}\\boldsymbol{w}^T\\boldsymbol{w} + C\\sum_{i=1}^m \\max \\left( 0, 1-t^{(i)}(\\boldsymbol{w}^T \\boldsymbol{x}^{(i)} + b) \\right)$$\n",
    "\n",
    "* La primera suma empuje el modelo hacia un vector $\\boldsymbol{w}$ pequeño (margen más amplio).\n",
    "* La segunda suma calcula el total de todas las violaciones del margen. El valor para cada instancia es proporcional a la distancia entre la instancia y el lado correcto de la \"calle\"."
   ]
  },
  {
   "cell_type": "markdown",
   "id": "structured-bicycle",
   "metadata": {},
   "source": [
    "##### Hinge Loss\n",
    "\n",
    "La función $\\max(0,1-t)$ se llama la función de *hinge loss*. No es diferenciable en $t=1$, pero se puede usar una **subderivada** en $t=1$ (cualquier valor entre $-1$ y $0$).\n",
    "\n",
    "![](figures_svm/hinge_loss.png)"
   ]
  },
  {
   "cell_type": "markdown",
   "id": "fancy-utilization",
   "metadata": {},
   "source": [
    "##### Online SVM con kernel\n",
    "\n",
    "También es posible entrenar un modelo de SVM con kernel en forma incremental:\n",
    "\n",
    "[Incremental and Decremental SVM Learning](https://proceedings.neurips.cc/paper/2000/file/155fa09596c7e18e50b58eb7e0c6ccb4-Paper.pdf)\n",
    "\n",
    "[Fast Kernel Classifiers with Online and Active Learning](https://www.jmlr.org/papers/volume6/bordes05a/bordes05a.pdf)\n",
    "\n",
    "Estos métodos están implementados en C++ y Matlab. Si hay muchos datos, podría ser mejor considerar una red neuronal."
   ]
  }
 ],
 "metadata": {
  "@webio": {
   "lastCommId": null,
   "lastKernelId": null
  },
  "kernelspec": {
   "display_name": "Python 3",
   "language": "python",
   "name": "python3"
  },
  "language_info": {
   "codemirror_mode": {
    "name": "ipython",
    "version": 3
   },
   "file_extension": ".py",
   "mimetype": "text/x-python",
   "name": "python",
   "nbconvert_exporter": "python",
   "pygments_lexer": "ipython3",
   "version": "3.7.3"
  }
 },
 "nbformat": 4,
 "nbformat_minor": 5
}
