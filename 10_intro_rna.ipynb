{
 "cells": [
  {
   "cell_type": "markdown",
   "id": "adolescent-theorem",
   "metadata": {},
   "source": [
    "# Introducción a redes neuronales artificiales con Keras"
   ]
  },
  {
   "cell_type": "markdown",
   "id": "vertical-freedom",
   "metadata": {},
   "source": [
    "Las redes neuronales artificiales (RNAs) aparecieron en la investigación en Inteligencia Artificial en el año 1943 en un artículo escrito por un neurofisiólogo y un matemático (McCulloch & Pitts 1943).\n",
    "\n",
    "Había mucho interés al principio, con predicciones que iban a desarrollar \"máquinas inteligentes\". Pero la realidad no fue así (las redes neuronales en esa época todavía eran bastante básicas). La comunidad se perdió interés en ~1960s.\n",
    "\n",
    "~1980s inventaron nuevas arquitecturas y métodos de entrenamiento, pero el progreso fue lento y en los 90 otros métodos fueron inventados (e.g. *support vector machines*). Se fue el interés de nuevo...\n",
    "\n",
    "Hoy en día, hay mucho más interés en RNAs. Por qué?"
   ]
  },
  {
   "cell_type": "markdown",
   "id": "pretty-celebrity",
   "metadata": {},
   "source": [
    "* Hay muchos datos para entrenar las redes neuronales, y frecuentemente superan los otros métodos en problemas grandes y complejos.\n",
    "* Hay mucho más poder computacional (GPUs).\n",
    "* Los algoritmos de entrenamiento han sido mejorados.\n",
    "* Algunas limitaciones de las RNAs no son tan graves (por ejemplo, es poco común encontrar un mínimo local en el entrenamiento, y si pasa, muchas veces están cercas al mínimo global).\n",
    "* Hoy en día es una tecnología **exponencial**: hay mucho interés, así que atraen investigadores y fondos, los resultados mejoran y genera más interés..."
   ]
  },
  {
   "cell_type": "markdown",
   "id": "bearing-charlotte",
   "metadata": {},
   "source": [
    "##### Neuronas biológicas\n",
    "\n",
    "![](figures_intro_rna/fig10-1.png)\n",
    "\n",
    "Cada neurona es bastante simple, pero están organizadas en una red de billones de neuronas, cada una con conexiones a miles de otras.\n",
    "\n",
    "![](figures_intro_rna/fig10-2.png)"
   ]
  },
  {
   "cell_type": "markdown",
   "id": "purple-customs",
   "metadata": {},
   "source": [
    "### Cálculos lógicos con neuronas\n",
    "\n",
    "El modelo de una neurona **artificial**, desarrollado por McCulloch y Pitts, es mucho más básico: tiene entradas binarias y una salida binaria. La neurona se activa cuando hay más que un cierto número de sus entradas activas.\n",
    "\n",
    "![](figures_intro_rna/fig10-3.png)\n",
    "\n",
    "* La primera red a la izquierda es la función de identidad: si neurona $A$ se activa, neurona $C$ se activa también.\n",
    "* La segunda red corresponde al operador lógico AND: neurona $C$ se activa solamente cuando ambas neuronas $A$ y $B$ se activan.\n",
    "* La tercera red corresponde al operador lógico OR: neurona $C$ se activa si $A$ o $B$ se activan.\n",
    "* Finalmente, si se puede tener conexiones que inhiben la actividad de una neurona, la cuarta red corresponde a $A$ AND NOT $B$: neurona $C$ se activa solamente si $A$ se activa y $B$ se apaga.\n",
    "\n",
    "En principio, podemos combinar redes así para calcular cualquier expresión lógica."
   ]
  },
  {
   "cell_type": "markdown",
   "id": "first-float",
   "metadata": {},
   "source": [
    "### El Perceptrón\n",
    "\n",
    "Inventado en 1957 por Frank Rosenblatt, basado en un modelo para una neurona que se llama **unidad lógica de umbral** (*threshold logic unit*, TLU).\n",
    "\n",
    "Las entradas y salida ahora son números y cada conexión de entrada está asociada con un peso.\n",
    "\n",
    "La TLU calcula la suma ponderada de sus entradas:\n",
    "\n",
    "$$z = w_1x_1 + w_2x_2 + \\cdots + w_nx_n = \\boldsymbol{x}^T \\boldsymbol{w}$$\n",
    "\n",
    "Después se aplica una función escalón para determinar la salida de la neurona:\n",
    "\n",
    "$$h_w(\\boldsymbol{x}) = \\Theta(z)$$\n",
    "\n",
    "![](figures_intro_rna/fig10-4.png)\n",
    "\n",
    "Típicamente se usa la función escalón de Heaviside. A veces se usa la función de signo:\n",
    "\n",
    "$\\Theta(z) = \\begin{cases} 0 & z < 0 \\\\ 1 & z \\geq 0 \\end{cases}$\n",
    "\n",
    "$\\text{sgn}(z) = \\begin{cases} -1 & z < 0 \\\\ 0 & z = 0 \\\\ +1 & z > 0 \\end{cases}$"
   ]
  },
  {
   "cell_type": "markdown",
   "id": "empty-innocent",
   "metadata": {},
   "source": [
    "Un **perceptrón** está compuesto de una capa de TLUs, con cada TLU conectada a todas las entradas.\n",
    "\n",
    "Cuando todas las neuronas en una capa están conectadas a todas las neuronas en la capa anterior, se llama una **capa totalmente conectada** o una **capa densa**.\n",
    "\n",
    "Para enfatizar que todas las entradas van a todas las TLU, es común dibujar una capa de neuronas de entrada, que solamente pasan sus entradas a la próxima capa (*passthrough neurons*). Todas las neuronas de entrada forman la **capa de entrada**.\n",
    "\n",
    "Típicamente un *bias feature* está agregado ($x_0 = 1$) usando una neurona de *bias* que siempre tiene salida igual a $1$.\n",
    "\n",
    "![](figures_intro_rna/fig10-5.png)"
   ]
  },
  {
   "cell_type": "markdown",
   "id": "wicked-rough",
   "metadata": {},
   "source": [
    "El perceptrón arriba puede clasificar instancias en $3$ clases binarias diferentes simultaneamente, así que es un clasificador de *multioutput*."
   ]
  },
  {
   "cell_type": "markdown",
   "id": "fallen-citizenship",
   "metadata": {},
   "source": [
    "Se puede determinar las salidas de una capa densa (totalmente conectada) usando:\n",
    "\n",
    "$$h_{\\boldsymbol{W},\\boldsymbol{b}}(\\boldsymbol{X}) = \\phi(\\boldsymbol{X}\\boldsymbol{W}+\\boldsymbol{b})$$\n",
    "\n",
    "* $\\boldsymbol{X}$ es una matriz de *features* de entrada, una fila por instancia, una columna por *feature*.\n",
    "* $\\boldsymbol{W}$ es una matriz de pesos, que contiene todos los pesos de las conexiones aparte de las conexiones con la neurona de *bias*. Tiene una fila por neurona de entrada, y una columna por neurona TLU.\n",
    "* El vector de *bias* $\\boldsymbol{b}$ contiene todos los pesos de las conexiones entre la neurona de *bias* y las neuronas TLU. Hay un término de *bias* por neurona TLU.\n",
    "* La función $\\phi$ se llama la **función de activación**. En el caso de una TLU, es una función escalón."
   ]
  },
  {
   "cell_type": "markdown",
   "id": "finished-timber",
   "metadata": {},
   "source": [
    "##### Entrenamiento de un perceptrón\n",
    "\n",
    "Rosenblatt propuso la **regla de Hebb** para entrenar un perceptrón. Motivada por el comportamiento de neuronas biológicas, la regla de Hebb aumenta el peso de una conexión entre dos neuronas cuando ambas neuronas tienen la misma salida.\n",
    "\n",
    "De hecho, un perceptrón ocupa una variante de esta regla que toma en cuenta el error de la red: hay refuerza de conexiones que ayudan en reducir el error.\n",
    "\n",
    "La red recibe las instancias de entrenamiento una a la vez y realiza una predicción (hay una salida). Para cada neurona de salida que produce una predicción incorrecta, hay refuerza de los pesos de conexiones de entradas que habrían contribuido a una predicción correcta.\n",
    "\n",
    "$$w_{i,j}^{(t+1)} = w_{i,j}^{(t)} + \\eta \\left( y_j - \\hat{y}_j^{(t)} \\right) x_i$$\n",
    "\n",
    "* $w_{i,j}$ es el peso de la conexión entre la $i$-esima neurona de entrada y la $j$-esima neurona de salida.\n",
    "* $x_i$ es el $i$-esima valor de entrada de la instancia de entrenamiento actual.\n",
    "* $\\hat{y}_j$ es la salida de la $j$-esima neurona de salida, para la instancia de entrenamiento actual.\n",
    "* $y_j$ es la salida objetivo de la $j$-esima neurona de salida, para la instancia de entrenamiento actual.\n",
    "* $\\eta$ es la taza de aprendizaje."
   ]
  },
  {
   "cell_type": "markdown",
   "id": "personal-brief",
   "metadata": {},
   "source": [
    "El límite de decisión de cada neurona de salida es lineal, así que un perceptrón no puede aprender un patrón complejo.\n",
    "\n",
    "Si las instancias están linealmente separables, Rosenblatt demostró que el algoritmo converge a una solución (**teorema de convergencia del Perceptrón**)."
   ]
  },
  {
   "cell_type": "markdown",
   "id": "urban-midnight",
   "metadata": {},
   "source": [
    "Scikit-Learn tiene la clase `Perceptron` que implementa una red con una sola TLU."
   ]
  },
  {
   "cell_type": "code",
   "execution_count": 2,
   "id": "religious-casting",
   "metadata": {},
   "outputs": [
    {
     "name": "stdout",
     "output_type": "stream",
     "text": [
      "Populating the interactive namespace from numpy and matplotlib\n"
     ]
    }
   ],
   "source": [
    "%pylab inline\n",
    "from sklearn.datasets import load_iris\n",
    "from sklearn.linear_model import Perceptron"
   ]
  },
  {
   "cell_type": "code",
   "execution_count": 3,
   "id": "pediatric-lawrence",
   "metadata": {},
   "outputs": [],
   "source": [
    "iris = load_iris()\n",
    "X = iris.data[:, (2, 3)] #longitud y ancho de los pétalos\n",
    "y = (iris.target == 0).astype(np.int) #Iris setosa?"
   ]
  },
  {
   "cell_type": "code",
   "execution_count": 4,
   "id": "pressed-robinson",
   "metadata": {},
   "outputs": [
    {
     "data": {
      "text/plain": [
       "Perceptron()"
      ]
     },
     "execution_count": 4,
     "metadata": {},
     "output_type": "execute_result"
    }
   ],
   "source": [
    "per_clf = Perceptron()\n",
    "per_clf.fit(X, y)"
   ]
  },
  {
   "cell_type": "code",
   "execution_count": 5,
   "id": "operational-clearance",
   "metadata": {},
   "outputs": [],
   "source": [
    "y_pred = per_clf.predict([[2, 0.5]])"
   ]
  },
  {
   "cell_type": "code",
   "execution_count": 6,
   "id": "joined-forty",
   "metadata": {},
   "outputs": [
    {
     "data": {
      "text/plain": [
       "array([0])"
      ]
     },
     "execution_count": 6,
     "metadata": {},
     "output_type": "execute_result"
    }
   ],
   "source": [
    "y_pred"
   ]
  },
  {
   "cell_type": "markdown",
   "id": "divided-madagascar",
   "metadata": {},
   "source": [
    "La clase `Perceptron` es equivalente a usar `SGDClassifier` con los siguientes hiperparámetros: `loss=\"perceptron\", learning_rate=\"constant\", eta0=1, penalty=None`.\n",
    "\n",
    "Los perceptrones son limitados. Son incapaz de resolver algunos problemas triviales (clasificación de OR exclusivo, XOR)\n",
    "\n",
    "![](figures_intro_rna/fig10-6.png)\n",
    "\n",
    "Se puede superar estas limitaciones usando varias capas de perceptrones para formar un perceptrón de multicapa (*multilayer perceptron*, MLP).\n",
    "\n",
    "El siguiente MLP puede resolver el problema de XOR:\n",
    "\n",
    "![](figures_intro_rna/fig10-6b.png)\n",
    "\n",
    "Todos los pesos de las conexiones son igual a $1$, aparte de las conexiones indicadas en rojo. Con entradas $(0,0)$ o $(1,1)$ la red da $0$, pero con entradas $(0,1)$ o $(1,0)$ la salida es $1$."
   ]
  },
  {
   "cell_type": "markdown",
   "id": "ultimate-queue",
   "metadata": {},
   "source": [
    "### Perceptrón Multicapa y *backpropagation*\n",
    "\n",
    "Un MLP está compuesto de una capa de entrada (*passthrough*), una o más capas de TLUs (llamadas **capas ocultas**), y una capa final de TLUs llamada la capa de salida.\n",
    "\n",
    "![](figures_intro_rna/fig10-7.png)\n",
    "\n",
    "Cada capa aparte de la capa de salida incluye una neurona de *bias* y está conectada completamente a la próxima capa.\n",
    "\n",
    "Una red neuronal con varias capas ocultas se llama una **red neuronal profunda** (*deep neural network*)."
   ]
  },
  {
   "cell_type": "markdown",
   "id": "alpine-significance",
   "metadata": {},
   "source": [
    "El algoritmo usado para el entrenamiento de una red neuronal profunda se llama ***backpropagation*** (Rumelhart et al. 1985)"
   ]
  },
  {
   "cell_type": "markdown",
   "id": "alert-cycle",
   "metadata": {},
   "source": [
    "### Propagación hacia atrás (*backpropagation*)\n",
    "\n",
    "Ahora definimos el algoritmo de *backpropagation* para una red *feedforward*.\n",
    "\n",
    "Tenemos los siguientes ingredientes:\n",
    "\n",
    "* Datos: $\\boldsymbol{X} = \\left\\{ (\\boldsymbol{x}_1,\\boldsymbol{y}_1),\\ldots,(\\boldsymbol{x}_N,\\boldsymbol{y}_N) \\right\\}$\n",
    "\n",
    "\n",
    "* Red neuronal *feedforward*: parámetros $\\theta$, que son los pesos $w_{ij}^k$ (peso entre el nodo $j$ en la capa $l_k$ u el nodo $i$ en la capa $l_{k-1}$) y $b_i^k$ (el *bias* del nodo $i$ en la capa $l_k$). No hay conexiones entre neuronas en la misma capa y todas las capas son totalmente conectadas.\n",
    "\n",
    "\n",
    "* Función de error (costo, perdida) $E(\\boldsymbol{X},\\theta)$ que define el error entre la salida deseada $\\boldsymbol{y}_i$ y la salida calculada por la red $\\hat{\\boldsymbol{y}}_i$ en la entrada $\\boldsymbol{x}_i$ para un conjunto de datos $\\boldsymbol{X}$ y un valor específico de los parámetros $\\theta$."
   ]
  },
  {
   "cell_type": "markdown",
   "id": "appropriate-wayne",
   "metadata": {},
   "source": [
    "El entrenamiento con descenso por gradiente corresponde a la actualización de los parámetros de la red en la siguiente manera:\n",
    "\n",
    "$$\\theta^{t+1} = \\theta^t - \\alpha \\frac{\\partial E(\\boldsymbol{X},\\theta^t)}{\\partial \\theta}$$\n",
    "\n",
    "Aquí vemos inmediatamente la razón por usar una función de activación diferenciable... Eso fue uno de las inovaciones del algoritmo de *backpropagation*."
   ]
  },
  {
   "cell_type": "markdown",
   "id": "specific-bronze",
   "metadata": {},
   "source": [
    "Para simplificar la presentación del algoritmo, vamos a considerar una red con una sola salida $y$. Es decir, NO es un vector."
   ]
  },
  {
   "cell_type": "markdown",
   "id": "animal-schedule",
   "metadata": {},
   "source": [
    "Una opción fácil para la función de costo es el error cuadrado promedio:\n",
    "\n",
    "$$E(\\boldsymbol{X},\\theta) = \\frac{1}{2M}\\sum_{m=1}^M (\\hat{y}_m - y_m)^2$$\n",
    "\n",
    "Hay otras funciones usadas, dependiendo de la red y la tarea (clasificación multiclase, etc.)."
   ]
  },
  {
   "cell_type": "markdown",
   "id": "acquired-taste",
   "metadata": {},
   "source": [
    "Podemos incluir el *bias* como otro peso en la siguiente forma:\n",
    "\n",
    "$$w_{0i}^k = b_i^k$$\n",
    "\n",
    "y incluimos una salida de la neurona \"$0$\" (igual a $1$) en la capa $k-1$:\n",
    "\n",
    "$$s_0^{k-1} = 1$$\n",
    "\n",
    "Así que la \"activación\" de la neurona $i$ en la capa $k$ está dada por\n",
    "\n",
    "$$a_i^k = b_i^k + \\sum_{j=1}^{r_{k-1}}w_{ji}^ks_j^{k-1} = \\sum_{j=0}^{r_{k-1}}w_{ji}^ks_s^{k-1}$$"
   ]
  },
  {
   "cell_type": "markdown",
   "id": "funded-belgium",
   "metadata": {},
   "source": [
    "La derivada de la función de costo con respecto a los pesos (incluyendo el *bias*) se puede escribir como\n",
    "\n",
    "$$\\frac{\\partial E(\\boldsymbol{X},\\theta)}{\\partial w_{ij}^k} = \\frac{1}{M} \\sum_{m=1}^M \\frac{\\partial}{\\partial w_{ij}^k} \\left( \\frac{1}{2}(\\hat{y}_m - y_m)^2 \\right) = \\frac{1}{M} \\sum_{m=1}^M \\frac{\\partial E_m}{\\partial w_{ij}^k}$$"
   ]
  },
  {
   "cell_type": "markdown",
   "id": "minute-sport",
   "metadata": {},
   "source": [
    "Entonces, podemos calcular la derivada de la función de costo sumando las derivadas de $E_m$, la función de costo para cada par de entrada-salida. Entonces ahora escribimos simplemente $E$ (en vez de $E_m$) y consideramos solamente un par de entrada-salida:\n",
    "\n",
    "$$E = \\frac{1}{2}(\\hat{y}-y)^2$$"
   ]
  },
  {
   "cell_type": "markdown",
   "id": "traditional-headquarters",
   "metadata": {},
   "source": [
    "Comenzamos con la aplicación de la regla de cadena:\n",
    "\n",
    "$$\\frac{\\partial E}{\\partial w_{ij}^k} = \\frac{\\partial E}{\\partial a^k_j} \\frac{\\partial a^k_j}{\\partial w_{ij}^k}$$\n",
    "\n",
    "El primer factor típicamente se denomina el error, y se denota:\n",
    "\n",
    "$$\\delta_j^k \\equiv \\frac{\\partial E}{\\partial a^k_j}$$\n",
    "\n",
    "Podemos calcular el otro factor usando la definición de la \"activación\" dada arriba:\n",
    "\n",
    "$$\\frac{\\partial a^k_j}{\\partial w_{ij}^k} = \\frac{\\partial}{\\partial w_{ij}^k} \\left( \\sum_{l=0}^{r_{k-1}}w_{lj}^ks_l^{k-1} \\right) = s_i^{k-1}$$\n",
    "\n",
    "Entonces, queda\n",
    "\n",
    "$$\\frac{\\partial E}{\\partial w_{ij}^k} = \\delta_j^ks_i^{k-1}$$\n",
    "\n",
    "Para evaluar $\\delta_j^k$ necesitamos elegir una función $E$ y una función de activación $g$. El proceso de *backpropagation* corresponde a la propagación hacia atrás del error."
   ]
  },
  {
   "cell_type": "markdown",
   "id": "requested-union",
   "metadata": {},
   "source": [
    "#### La capa de salida\n",
    "\n",
    "En este ejemplo tenemos una sola neurona en la última capa, así que hay que calcular $\\delta_1^f$ donde $f$ es la capa final.\n",
    "\n",
    "$$E = \\frac{1}{2}(\\hat{y} - y)^2 = \\frac{1}{2}(g_o(a_1^f)-y)^2$$\n",
    "\n",
    "donde $g_o(x)$ es la función de activación de la capa de salida. Entonces tenemos\n",
    "\n",
    "$$\\delta_1^f = (g_o(a_1^f)-y)g'_o(a_1^f) = (\\hat{y}-y)g'_o(a_1^f)$$\n",
    "\n",
    "y la derivada de la función de error en la última capa de la red queda\n",
    "\n",
    "$$\\frac{\\partial E}{\\partial w_{i1}^f} = \\delta_1^f s_i^{f-1} = (\\hat{y}-y)g'_o(a_1^f)s_i^{f-1}$$"
   ]
  },
  {
   "cell_type": "markdown",
   "id": "magnetic-advertiser",
   "metadata": {},
   "source": [
    "#### Las capas ocultas\n",
    "\n",
    "Aplicamos la regla de cadena de nuevo para calcular\n",
    "\n",
    "$$\\delta_j^k = \\frac{\\partial E}{\\partial a_j^k} = \\sum_{l=1}^{r^{k+1}} \\frac{\\partial E}{\\partial a_{l}^{k+1}} \\frac{\\partial a_{l}^{k+1}}{\\partial a_{j}^k}$$\n",
    "\n",
    "donde $l = 1,\\ldots,r^{k+1}$, el número de neuronas en la **próxima** capa. Podemos escribir la ecuación arriba como\n",
    "\n",
    "$$\\delta_j^k = \\sum_{l=1}^{r^{k+1}} \\delta_l^{k+1} \\frac{\\partial a_{l}^{k+1}}{\\partial a_{j}^k}$$\n",
    "\n",
    "La definición de $a_{l}^{k+1}$ es\n",
    "\n",
    "$$a_l^{k+1} = \\sum_{j=1}^{r^{k}} w_{jl}^{k+1} g(a_{j}^k)$$\n",
    "\n",
    "donde $g(x)$ es la función de activación para las capas ocultas. Entonces, tenemos\n",
    "\n",
    "$$\\frac{\\partial a_{l}^{k+1}}{\\partial a_{j}^k} = w_{jl}^{k+1} g'(a_{j}^k)$$\n",
    "\n",
    "y el error en las capas ocultas queda\n",
    "\n",
    "$$\\delta_j^k = \\sum_{l=1}^{r^{k+1}}\\delta_l^{k+1}w_{jl}^{k+1} g'(a_{j}^k) = g'(a_{j}^k)\\sum_{l=1}^{r^{k+1}}\\delta_l^{k+1}w_{jl}^{k+1}$$\n",
    "\n",
    "Aquí vemos de donde viene el nombre *backpropagation*. El error en la capa $k$ depende de los errores en la capa $k+1$. Es decir, los errores se propagan hacia atrás..."
   ]
  },
  {
   "cell_type": "markdown",
   "id": "color-platform",
   "metadata": {},
   "source": [
    "#### El algoritmo completo\n",
    "\n",
    "Ahora tenemos todos los ingredientes necesarios para implementar el algoritmo de *backpropagation* en una red *feedforward* con una sola neurona en la capa de salida.\n",
    "\n",
    "1. Elegir **aleatoriamente** los pesos $w_{ij}^k$ y la taza de aprendizaje $\\alpha$.\n",
    "\n",
    "\n",
    "2. Calcular la pase hacia adelante (*forward pass*) para cada par de entrada-salida $(\\boldsymbol{x}_m,y_m)$ y guardar los resultados $\\hat{y}_m$, $a_j^k$ y $s_j^k$ para cada neurona $j$ en capa $k$, procediendo de la capa $0$ (entrada) hasta la capa $f$ (salida).\n",
    "\n",
    "\n",
    "3. Calcular la pase hacia atrás (*backward pass*) para cada par de entrada-salida $(\\boldsymbol{x}_m,y_m)$ y guardar los resultados $\\partial E_m/\\partial w_{ij}^k$ para cada peso $w_{ij}^k$ conectando neurona $i$ en capa $k-1$ con neurona $j$ en capa $k$, procediendo de la capa $f$ (salida) hasta la capa $1$ (entrada).\n",
    "\n",
    "    1. Evaluar el error para la capa final $\\delta_1^f$.\n",
    "    2. Propagar hacia atrás los errores para las capas ocultas $\\delta_j^k$, comenzando en $k=f-1$.\n",
    "    3. Evaluar las derivadas parciales del error $E_m$ con respecto a $w_{ij}^k$\n",
    "\n",
    "\n",
    "4. Promediar los gradientes $\\partial E_m/\\partial w_{ij}^k$ para obtener la derivada $\\partial E(\\boldsymbol{X},\\theta)/\\partial w_{ij}^k$ para todo el conjunto de datos.\n",
    "\n",
    "\n",
    "5. Actualizar los pesos usando el negativo de los gradientes."
   ]
  },
  {
   "cell_type": "markdown",
   "id": "loving-scenario",
   "metadata": {},
   "source": [
    "## [Keras](https://keras.io/)\n",
    "\n",
    "![](figures_intro_rna/fig10-10.png)"
   ]
  },
  {
   "cell_type": "markdown",
   "id": "supreme-ukraine",
   "metadata": {},
   "source": [
    "## Implementando un MLP con Keras"
   ]
  },
  {
   "cell_type": "markdown",
   "id": "broke-article",
   "metadata": {},
   "source": [
    "Vamos a implementar un modelo para clasificar imagenes, con la función *softmax* como función de activación en la capa de salida.\n",
    "\n",
    "Usaremos *Fashion MNIST*, imagenes de $28 \\times 28$ pixeles, con $10$ clases. Cada imagen representa ropa o zapatos, así que las imagenes son más diversas que en el caso de MNIST."
   ]
  },
  {
   "cell_type": "code",
   "execution_count": 2,
   "id": "proof-lithuania",
   "metadata": {},
   "outputs": [],
   "source": [
    "import tensorflow as tf\n",
    "from tensorflow import keras"
   ]
  },
  {
   "cell_type": "code",
   "execution_count": 2,
   "id": "subsequent-seventh",
   "metadata": {},
   "outputs": [
    {
     "data": {
      "text/plain": [
       "'2.3.0'"
      ]
     },
     "execution_count": 2,
     "metadata": {},
     "output_type": "execute_result"
    }
   ],
   "source": [
    "tf.__version__"
   ]
  },
  {
   "cell_type": "code",
   "execution_count": 3,
   "id": "million-failure",
   "metadata": {},
   "outputs": [
    {
     "data": {
      "text/plain": [
       "'2.4.0'"
      ]
     },
     "execution_count": 3,
     "metadata": {},
     "output_type": "execute_result"
    }
   ],
   "source": [
    "keras.__version__"
   ]
  },
  {
   "cell_type": "code",
   "execution_count": 4,
   "id": "broke-march",
   "metadata": {},
   "outputs": [],
   "source": [
    "fashion_mnist = keras.datasets.fashion_mnist"
   ]
  },
  {
   "cell_type": "code",
   "execution_count": 5,
   "id": "massive-keyboard",
   "metadata": {},
   "outputs": [],
   "source": [
    "(X_train_full, y_train_full), (X_test, y_test) = fashion_mnist.load_data()"
   ]
  },
  {
   "cell_type": "code",
   "execution_count": 6,
   "id": "featured-quarter",
   "metadata": {},
   "outputs": [
    {
     "data": {
      "text/plain": [
       "(60000, 28, 28)"
      ]
     },
     "execution_count": 6,
     "metadata": {},
     "output_type": "execute_result"
    }
   ],
   "source": [
    "X_train_full.shape"
   ]
  },
  {
   "cell_type": "code",
   "execution_count": 7,
   "id": "powerful-activation",
   "metadata": {},
   "outputs": [
    {
     "data": {
      "text/plain": [
       "dtype('uint8')"
      ]
     },
     "execution_count": 7,
     "metadata": {},
     "output_type": "execute_result"
    }
   ],
   "source": [
    "X_train_full.dtype"
   ]
  },
  {
   "cell_type": "markdown",
   "id": "rolled-import",
   "metadata": {},
   "source": [
    "Vamos a escalar los *features* para ayudar el método de descenso por gradiente:"
   ]
  },
  {
   "cell_type": "code",
   "execution_count": 8,
   "id": "loaded-fabric",
   "metadata": {},
   "outputs": [],
   "source": [
    "X_valid, X_train = X_train_full[:5000] / 255.0, X_train_full[5000:] / 255.0\n",
    "y_valid, y_train = y_train_full[:5000], y_train_full[5000:]"
   ]
  },
  {
   "cell_type": "markdown",
   "id": "lesbian-range",
   "metadata": {},
   "source": [
    "Creamos una lista de nombres de las clases para estos datos:"
   ]
  },
  {
   "cell_type": "code",
   "execution_count": 9,
   "id": "banned-wright",
   "metadata": {},
   "outputs": [],
   "source": [
    "class_names = [\"T-shirt/top\", \"Trouser\", \"Pullover\", \"Dress\", \"Coat\",\n",
    "               \"Sandal\", \"Shirt\", \"Sneaker\", \"Bag\", \"Ankle boot\"]"
   ]
  },
  {
   "cell_type": "code",
   "execution_count": 10,
   "id": "rough-diagram",
   "metadata": {},
   "outputs": [
    {
     "data": {
      "text/plain": [
       "'Coat'"
      ]
     },
     "execution_count": 10,
     "metadata": {},
     "output_type": "execute_result"
    }
   ],
   "source": [
    "class_names[y_train[0]]"
   ]
  },
  {
   "cell_type": "markdown",
   "id": "signal-knock",
   "metadata": {},
   "source": [
    "![](figures_intro_rna/fig10-11.png)"
   ]
  },
  {
   "cell_type": "markdown",
   "id": "norman-headset",
   "metadata": {},
   "source": [
    "Ahora, implementamos el modelo usando el API \"secuencial\" de Keras."
   ]
  },
  {
   "cell_type": "code",
   "execution_count": 11,
   "id": "assured-strength",
   "metadata": {},
   "outputs": [],
   "source": [
    "model = keras.models.Sequential()\n",
    "model.add(keras.layers.Flatten(input_shape=[28, 28]))\n",
    "model.add(keras.layers.Dense(300, activation=\"relu\"))\n",
    "model.add(keras.layers.Dense(100, activation=\"relu\"))\n",
    "model.add(keras.layers.Dense(10, activation=\"softmax\"))"
   ]
  },
  {
   "cell_type": "markdown",
   "id": "demanding-directive",
   "metadata": {},
   "source": [
    "* `Sequential` significa construir el modelo capa por capa, conectadas secuencialmente. Se llama el API secuencial.\n",
    "\n",
    "* La primera capa es `Flatten` que convierte cada imagene de entrada en un array unidimensional: aplica `X.reshape(-1, 1)`. Hay que especificar la forma de las instancias con `input_shape`. Un alternativo es usar una capa antes de `keras.layers.InputLayer`.\n",
    "\n",
    "* La segunda capa (oculta) es `Dense` con $300$ neuronas. Ocupa la función de activación \"ReLU\". Cada capa densa maneja su propia matriz de pesos, con todas las conexiones entre las neuronas y sus entradas. También maneja un vector de *bias* (uno por neurona).\n",
    "\n",
    "* La tercera capa (oculta) es `Dense` con $100$ neuronas, también con funciones de activación \"ReLU\".\n",
    "\n",
    "* La última capa es `Dense` con $10$ neuronas (una por clase), con la función de activación *softmax*.\n",
    "\n",
    "![](figures_intro_rna/relu.png)\n",
    "\n",
    "La lista completa de funciones de activación está [aquí](https://keras.io/activations/)."
   ]
  },
  {
   "cell_type": "markdown",
   "id": "coral-occupation",
   "metadata": {},
   "source": [
    "Otro método de armar el modelo:"
   ]
  },
  {
   "cell_type": "code",
   "execution_count": 12,
   "id": "allied-tuesday",
   "metadata": {},
   "outputs": [],
   "source": [
    "model = keras.models.Sequential([\n",
    "    keras.layers.Flatten(input_shape=[28, 28]),\n",
    "    keras.layers.Dense(300, activation=\"relu\"),\n",
    "    keras.layers.Dense(100, activation=\"relu\"),\n",
    "    keras.layers.Dense(10, activation=\"softmax\")\n",
    "])"
   ]
  },
  {
   "cell_type": "code",
   "execution_count": 13,
   "id": "fluid-level",
   "metadata": {},
   "outputs": [
    {
     "name": "stdout",
     "output_type": "stream",
     "text": [
      "Model: \"sequential_1\"\n",
      "_________________________________________________________________\n",
      "Layer (type)                 Output Shape              Param #   \n",
      "=================================================================\n",
      "flatten_1 (Flatten)          (None, 784)               0         \n",
      "_________________________________________________________________\n",
      "dense_3 (Dense)              (None, 300)               235500    \n",
      "_________________________________________________________________\n",
      "dense_4 (Dense)              (None, 100)               30100     \n",
      "_________________________________________________________________\n",
      "dense_5 (Dense)              (None, 10)                1010      \n",
      "=================================================================\n",
      "Total params: 266,610\n",
      "Trainable params: 266,610\n",
      "Non-trainable params: 0\n",
      "_________________________________________________________________\n"
     ]
    }
   ],
   "source": [
    "model.summary()"
   ]
  },
  {
   "cell_type": "markdown",
   "id": "phantom-channel",
   "metadata": {},
   "source": [
    "El modelo tiene **muchos** parámetros, así que hay mucho riesgo de *overfitting*, especialmente si tenemos muy pocos datos..."
   ]
  },
  {
   "cell_type": "code",
   "execution_count": 14,
   "id": "violent-prediction",
   "metadata": {},
   "outputs": [],
   "source": [
    "from keras.utils import plot_model"
   ]
  },
  {
   "cell_type": "code",
   "execution_count": 15,
   "id": "native-stability",
   "metadata": {},
   "outputs": [
    {
     "data": {
      "image/png": "[encoded data removed]",
      "text/plain": [
       "<IPython.core.display.Image object>"
      ]
     },
     "execution_count": 15,
     "metadata": {},
     "output_type": "execute_result"
    }
   ],
   "source": [
    "plot_model(model)"
   ]
  },
  {
   "cell_type": "code",
   "execution_count": 17,
   "id": "verified-symbol",
   "metadata": {},
   "outputs": [
    {
     "data": {
      "text/plain": [
       "[<tensorflow.python.keras.layers.core.Flatten at 0x7f265c066940>,\n",
       " <tensorflow.python.keras.layers.core.Dense at 0x7f265c068780>,\n",
       " <tensorflow.python.keras.layers.core.Dense at 0x7f26089cafd0>,\n",
       " <tensorflow.python.keras.layers.core.Dense at 0x7f25c07dfa90>]"
      ]
     },
     "execution_count": 17,
     "metadata": {},
     "output_type": "execute_result"
    }
   ],
   "source": [
    "model.layers"
   ]
  },
  {
   "cell_type": "code",
   "execution_count": 18,
   "id": "solar-challenge",
   "metadata": {},
   "outputs": [],
   "source": [
    "hidden1 = model.layers[1]"
   ]
  },
  {
   "cell_type": "code",
   "execution_count": 19,
   "id": "conditional-appeal",
   "metadata": {},
   "outputs": [
    {
     "data": {
      "text/plain": [
       "'dense_3'"
      ]
     },
     "execution_count": 19,
     "metadata": {},
     "output_type": "execute_result"
    }
   ],
   "source": [
    "hidden1.name"
   ]
  },
  {
   "cell_type": "code",
   "execution_count": 20,
   "id": "removable-cargo",
   "metadata": {},
   "outputs": [
    {
     "data": {
      "text/plain": [
       "True"
      ]
     },
     "execution_count": 20,
     "metadata": {},
     "output_type": "execute_result"
    }
   ],
   "source": [
    "model.get_layer('dense_3') is hidden1"
   ]
  },
  {
   "cell_type": "code",
   "execution_count": 21,
   "id": "based-stanford",
   "metadata": {},
   "outputs": [],
   "source": [
    "weights, biases = hidden1.get_weights()"
   ]
  },
  {
   "cell_type": "code",
   "execution_count": 22,
   "id": "electrical-retro",
   "metadata": {},
   "outputs": [
    {
     "data": {
      "text/plain": [
       "array([[-0.05857375,  0.01345541,  0.02950101, ...,  0.03264638,\n",
       "         0.03299656, -0.01004117],\n",
       "       [-0.06238474, -0.01696922, -0.00365889, ..., -0.00986675,\n",
       "        -0.02094959, -0.0299071 ],\n",
       "       [-0.03669054, -0.00370631, -0.0731606 , ..., -0.07421935,\n",
       "        -0.05710587, -0.05018653],\n",
       "       ...,\n",
       "       [-0.06372381,  0.04984473, -0.00389662, ...,  0.03585874,\n",
       "         0.063226  , -0.02182372],\n",
       "       [-0.0501985 , -0.06869788,  0.01067672, ..., -0.02409806,\n",
       "         0.04619578, -0.07279514],\n",
       "       [-0.02049983,  0.02913231,  0.05829445, ..., -0.01215513,\n",
       "        -0.04034815, -0.03252812]], dtype=float32)"
      ]
     },
     "execution_count": 22,
     "metadata": {},
     "output_type": "execute_result"
    }
   ],
   "source": [
    "weights"
   ]
  },
  {
   "cell_type": "code",
   "execution_count": 23,
   "id": "collective-thriller",
   "metadata": {},
   "outputs": [
    {
     "data": {
      "text/plain": [
       "(784, 300)"
      ]
     },
     "execution_count": 23,
     "metadata": {},
     "output_type": "execute_result"
    }
   ],
   "source": [
    "weights.shape"
   ]
  },
  {
   "cell_type": "code",
   "execution_count": 24,
   "id": "liquid-spokesman",
   "metadata": {},
   "outputs": [
    {
     "data": {
      "text/plain": [
       "array([0., 0., 0., 0., 0., 0., 0., 0., 0., 0., 0., 0., 0., 0., 0., 0., 0.,\n",
       "       0., 0., 0., 0., 0., 0., 0., 0., 0., 0., 0., 0., 0., 0., 0., 0., 0.,\n",
       "       0., 0., 0., 0., 0., 0., 0., 0., 0., 0., 0., 0., 0., 0., 0., 0., 0.,\n",
       "       0., 0., 0., 0., 0., 0., 0., 0., 0., 0., 0., 0., 0., 0., 0., 0., 0.,\n",
       "       0., 0., 0., 0., 0., 0., 0., 0., 0., 0., 0., 0., 0., 0., 0., 0., 0.,\n",
       "       0., 0., 0., 0., 0., 0., 0., 0., 0., 0., 0., 0., 0., 0., 0., 0., 0.,\n",
       "       0., 0., 0., 0., 0., 0., 0., 0., 0., 0., 0., 0., 0., 0., 0., 0., 0.,\n",
       "       0., 0., 0., 0., 0., 0., 0., 0., 0., 0., 0., 0., 0., 0., 0., 0., 0.,\n",
       "       0., 0., 0., 0., 0., 0., 0., 0., 0., 0., 0., 0., 0., 0., 0., 0., 0.,\n",
       "       0., 0., 0., 0., 0., 0., 0., 0., 0., 0., 0., 0., 0., 0., 0., 0., 0.,\n",
       "       0., 0., 0., 0., 0., 0., 0., 0., 0., 0., 0., 0., 0., 0., 0., 0., 0.,\n",
       "       0., 0., 0., 0., 0., 0., 0., 0., 0., 0., 0., 0., 0., 0., 0., 0., 0.,\n",
       "       0., 0., 0., 0., 0., 0., 0., 0., 0., 0., 0., 0., 0., 0., 0., 0., 0.,\n",
       "       0., 0., 0., 0., 0., 0., 0., 0., 0., 0., 0., 0., 0., 0., 0., 0., 0.,\n",
       "       0., 0., 0., 0., 0., 0., 0., 0., 0., 0., 0., 0., 0., 0., 0., 0., 0.,\n",
       "       0., 0., 0., 0., 0., 0., 0., 0., 0., 0., 0., 0., 0., 0., 0., 0., 0.,\n",
       "       0., 0., 0., 0., 0., 0., 0., 0., 0., 0., 0., 0., 0., 0., 0., 0., 0.,\n",
       "       0., 0., 0., 0., 0., 0., 0., 0., 0., 0., 0.], dtype=float32)"
      ]
     },
     "execution_count": 24,
     "metadata": {},
     "output_type": "execute_result"
    }
   ],
   "source": [
    "biases"
   ]
  },
  {
   "cell_type": "code",
   "execution_count": 25,
   "id": "looking-spectacular",
   "metadata": {},
   "outputs": [
    {
     "data": {
      "text/plain": [
       "(300,)"
      ]
     },
     "execution_count": 25,
     "metadata": {},
     "output_type": "execute_result"
    }
   ],
   "source": [
    "biases.shape"
   ]
  },
  {
   "cell_type": "markdown",
   "id": "moderate-chinese",
   "metadata": {},
   "source": [
    "Se puede inicializar los pesos y *bias* con `kernel_initializer` o `bias_initializer` en el momento de crear la capa (por defecto los pesos son aleatorios y los *bias* son ceros)."
   ]
  },
  {
   "cell_type": "markdown",
   "id": "satisfied-velvet",
   "metadata": {},
   "source": [
    "#### Compilar el modelo\n",
    "\n",
    "Después de definir el modelo, hay que usar `compile()` para especificar la función de costo y el optimizador. También se puede especificar una lista de métricas para calcular durante el entrenamiento y la evaluación."
   ]
  },
  {
   "cell_type": "code",
   "execution_count": 26,
   "id": "incorporated-brave",
   "metadata": {},
   "outputs": [],
   "source": [
    "model.compile(loss=\"sparse_categorical_crossentropy\",\n",
    "              optimizer=\"sgd\",\n",
    "              metrics=[\"accuracy\"])"
   ]
  },
  {
   "cell_type": "markdown",
   "id": "oriented-afternoon",
   "metadata": {},
   "source": [
    "Usamos `sparse_categorical_crossentropy` ya que tenemos etiquetas \"esparcidas\" (los *targets* son números enteros entre $0$ y $9$) y las clases son exclusivas.\n",
    "\n",
    "Si tuvieramos probabilidades por clase (con *one-hot vector* por ejemplo) usaríamos `categorical_crossentropy`.\n",
    "\n",
    "Para clasificación binaria, usaríamos como función de activación en la última capa `sigmoid` (en vez de `softmax`) con `binary_crossentropy`."
   ]
  },
  {
   "cell_type": "code",
   "execution_count": 27,
   "id": "hawaiian-seminar",
   "metadata": {},
   "outputs": [
    {
     "name": "stdout",
     "output_type": "stream",
     "text": [
      "Epoch 1/30\n",
      "1719/1719 [==============================] - 6s 4ms/step - loss: 0.7338 - accuracy: 0.7598 - val_loss: 0.5134 - val_accuracy: 0.8256\n",
      "Epoch 2/30\n",
      "1719/1719 [==============================] - 6s 3ms/step - loss: 0.4910 - accuracy: 0.8285 - val_loss: 0.4545 - val_accuracy: 0.8432\n",
      "Epoch 3/30\n",
      "1719/1719 [==============================] - 5s 3ms/step - loss: 0.4441 - accuracy: 0.8442 - val_loss: 0.4205 - val_accuracy: 0.8574\n",
      "Epoch 4/30\n",
      "1719/1719 [==============================] - 5s 3ms/step - loss: 0.4159 - accuracy: 0.8541 - val_loss: 0.3935 - val_accuracy: 0.8648\n",
      "Epoch 5/30\n",
      "1719/1719 [==============================] - 6s 3ms/step - loss: 0.3961 - accuracy: 0.8603 - val_loss: 0.3781 - val_accuracy: 0.8710\n",
      "Epoch 6/30\n",
      "1719/1719 [==============================] - 6s 3ms/step - loss: 0.3800 - accuracy: 0.8653 - val_loss: 0.3715 - val_accuracy: 0.8716\n",
      "Epoch 7/30\n",
      "1719/1719 [==============================] - 6s 3ms/step - loss: 0.3660 - accuracy: 0.8709 - val_loss: 0.4256 - val_accuracy: 0.8444\n",
      "Epoch 8/30\n",
      "1719/1719 [==============================] - 6s 3ms/step - loss: 0.3542 - accuracy: 0.8742 - val_loss: 0.3482 - val_accuracy: 0.8800\n",
      "Epoch 9/30\n",
      "1719/1719 [==============================] - 6s 3ms/step - loss: 0.3440 - accuracy: 0.8776 - val_loss: 0.3484 - val_accuracy: 0.8760\n",
      "Epoch 10/30\n",
      "1719/1719 [==============================] - 5s 3ms/step - loss: 0.3341 - accuracy: 0.8799 - val_loss: 0.3544 - val_accuracy: 0.8720\n",
      "Epoch 11/30\n",
      "1719/1719 [==============================] - 6s 3ms/step - loss: 0.3250 - accuracy: 0.8835 - val_loss: 0.3368 - val_accuracy: 0.8824\n",
      "Epoch 12/30\n",
      "1719/1719 [==============================] - 6s 3ms/step - loss: 0.3168 - accuracy: 0.8853 - val_loss: 0.3336 - val_accuracy: 0.8826\n",
      "Epoch 13/30\n",
      "1719/1719 [==============================] - 6s 3ms/step - loss: 0.3099 - accuracy: 0.8878 - val_loss: 0.3360 - val_accuracy: 0.8778\n",
      "Epoch 14/30\n",
      "1719/1719 [==============================] - 6s 3ms/step - loss: 0.3024 - accuracy: 0.8907 - val_loss: 0.3274 - val_accuracy: 0.8808\n",
      "Epoch 15/30\n",
      "1719/1719 [==============================] - 5s 3ms/step - loss: 0.2960 - accuracy: 0.8935 - val_loss: 0.3803 - val_accuracy: 0.8634\n",
      "Epoch 16/30\n",
      "1719/1719 [==============================] - 5s 3ms/step - loss: 0.2905 - accuracy: 0.8952 - val_loss: 0.3158 - val_accuracy: 0.8864\n",
      "Epoch 17/30\n",
      "1719/1719 [==============================] - 6s 3ms/step - loss: 0.2836 - accuracy: 0.8975 - val_loss: 0.3186 - val_accuracy: 0.8858\n",
      "Epoch 18/30\n",
      "1719/1719 [==============================] - 5s 3ms/step - loss: 0.2786 - accuracy: 0.8988 - val_loss: 0.3134 - val_accuracy: 0.8854\n",
      "Epoch 19/30\n",
      "1719/1719 [==============================] - 5s 3ms/step - loss: 0.2742 - accuracy: 0.9011 - val_loss: 0.3110 - val_accuracy: 0.8908\n",
      "Epoch 20/30\n",
      "1719/1719 [==============================] - 6s 3ms/step - loss: 0.2680 - accuracy: 0.9025 - val_loss: 0.3083 - val_accuracy: 0.8898\n",
      "Epoch 21/30\n",
      "1719/1719 [==============================] - 6s 3ms/step - loss: 0.2630 - accuracy: 0.9039 - val_loss: 0.3042 - val_accuracy: 0.8900\n",
      "Epoch 22/30\n",
      "1719/1719 [==============================] - 5s 3ms/step - loss: 0.2590 - accuracy: 0.9059 - val_loss: 0.3017 - val_accuracy: 0.8920\n",
      "Epoch 23/30\n",
      "1719/1719 [==============================] - 6s 3ms/step - loss: 0.2536 - accuracy: 0.9079 - val_loss: 0.2986 - val_accuracy: 0.8918\n",
      "Epoch 24/30\n",
      "1719/1719 [==============================] - 6s 3ms/step - loss: 0.2495 - accuracy: 0.9088 - val_loss: 0.3231 - val_accuracy: 0.8848\n",
      "Epoch 25/30\n",
      "1719/1719 [==============================] - 5s 3ms/step - loss: 0.2458 - accuracy: 0.9111 - val_loss: 0.3025 - val_accuracy: 0.8922\n",
      "Epoch 26/30\n",
      "1719/1719 [==============================] - 5s 3ms/step - loss: 0.2418 - accuracy: 0.9123 - val_loss: 0.2990 - val_accuracy: 0.8928\n",
      "Epoch 27/30\n",
      "1719/1719 [==============================] - 6s 3ms/step - loss: 0.2381 - accuracy: 0.9137 - val_loss: 0.3144 - val_accuracy: 0.8876\n",
      "Epoch 28/30\n",
      "1719/1719 [==============================] - 6s 3ms/step - loss: 0.2342 - accuracy: 0.9147 - val_loss: 0.2965 - val_accuracy: 0.8936\n",
      "Epoch 29/30\n",
      "1719/1719 [==============================] - 6s 3ms/step - loss: 0.2309 - accuracy: 0.9164 - val_loss: 0.3312 - val_accuracy: 0.8780\n",
      "Epoch 30/30\n",
      "1719/1719 [==============================] - 6s 3ms/step - loss: 0.2269 - accuracy: 0.9168 - val_loss: 0.3021 - val_accuracy: 0.8912\n"
     ]
    }
   ],
   "source": [
    "history = model.fit(X_train, y_train, epochs=30,\n",
    "                    validation_data=(X_valid, y_valid))"
   ]
  },
  {
   "cell_type": "code",
   "execution_count": 28,
   "id": "disciplinary-central",
   "metadata": {},
   "outputs": [],
   "source": [
    "import pandas as pd\n",
    "import matplotlib.pyplot as plt"
   ]
  },
  {
   "cell_type": "code",
   "execution_count": 29,
   "id": "sustained-minute",
   "metadata": {},
   "outputs": [
    {
     "data": {
      "image/png": "[encoded data removed]",
      "text/plain": [
       "<Figure size 576x360 with 1 Axes>"
      ]
     },
     "metadata": {
      "needs_background": "light"
     },
     "output_type": "display_data"
    }
   ],
   "source": [
    "pd.DataFrame(history.history).plot(figsize=(8, 5))\n",
    "plt.grid(True)\n",
    "plt.gca().set_ylim(0, 1)\n",
    "plt.show()"
   ]
  },
  {
   "cell_type": "markdown",
   "id": "fixed-angel",
   "metadata": {},
   "source": [
    "Podemos evaluar el modelo en el conjunto de prueba:"
   ]
  },
  {
   "cell_type": "code",
   "execution_count": 30,
   "id": "brazilian-angle",
   "metadata": {},
   "outputs": [
    {
     "name": "stdout",
     "output_type": "stream",
     "text": [
      "313/313 [==============================] - 1s 2ms/step - loss: 81.3090 - accuracy: 0.8149\n"
     ]
    },
    {
     "data": {
      "text/plain": [
       "[81.30901336669922, 0.8148999810218811]"
      ]
     },
     "execution_count": 30,
     "metadata": {},
     "output_type": "execute_result"
    }
   ],
   "source": [
    "model.evaluate(X_test, y_test)"
   ]
  },
  {
   "cell_type": "markdown",
   "id": "hazardous-happiness",
   "metadata": {},
   "source": [
    "También podemos realizar predicciones:"
   ]
  },
  {
   "cell_type": "code",
   "execution_count": 31,
   "id": "authorized-peninsula",
   "metadata": {},
   "outputs": [],
   "source": [
    "X_new = X_test[:3] #usamos las primeras 3 imagenes \n",
    "                   #del conjunto de prueba como imagenes \"nuevas\"\n",
    "y_proba = model.predict(X_new)"
   ]
  },
  {
   "cell_type": "code",
   "execution_count": 34,
   "id": "applicable-moisture",
   "metadata": {},
   "outputs": [
    {
     "data": {
      "text/plain": [
       "array([[0., 0., 0., 0., 0., 0., 0., 0., 0., 1.],\n",
       "       [0., 0., 1., 0., 0., 0., 0., 0., 0., 0.],\n",
       "       [0., 1., 0., 0., 0., 0., 0., 0., 0., 0.]], dtype=float32)"
      ]
     },
     "execution_count": 34,
     "metadata": {},
     "output_type": "execute_result"
    }
   ],
   "source": [
    "y_proba.round(2)"
   ]
  },
  {
   "cell_type": "code",
   "execution_count": 35,
   "id": "stuck-upgrade",
   "metadata": {},
   "outputs": [
    {
     "name": "stdout",
     "output_type": "stream",
     "text": [
      "WARNING:tensorflow:From <ipython-input-35-81ace37e545f>:1: Sequential.predict_classes (from tensorflow.python.keras.engine.sequential) is deprecated and will be removed after 2021-01-01.\n",
      "Instructions for updating:\n",
      "Please use instead:* `np.argmax(model.predict(x), axis=-1)`,   if your model does multi-class classification   (e.g. if it uses a `softmax` last-layer activation).* `(model.predict(x) > 0.5).astype(\"int32\")`,   if your model does binary classification   (e.g. if it uses a `sigmoid` last-layer activation).\n"
     ]
    },
    {
     "data": {
      "text/plain": [
       "array([9, 2, 1])"
      ]
     },
     "execution_count": 35,
     "metadata": {},
     "output_type": "execute_result"
    }
   ],
   "source": [
    "y_pred = model.predict_classes(X_new)\n",
    "y_pred"
   ]
  },
  {
   "cell_type": "code",
   "execution_count": 3,
   "id": "widespread-vegetarian",
   "metadata": {},
   "outputs": [],
   "source": [
    "import numpy as np\n",
    "from matplotlib.pyplot import imshow"
   ]
  },
  {
   "cell_type": "code",
   "execution_count": 38,
   "id": "moderate-matthew",
   "metadata": {},
   "outputs": [
    {
     "data": {
      "text/plain": [
       "array([9, 2, 1])"
      ]
     },
     "execution_count": 38,
     "metadata": {},
     "output_type": "execute_result"
    }
   ],
   "source": [
    "np.argmax(model.predict(X_new), axis=-1)"
   ]
  },
  {
   "cell_type": "code",
   "execution_count": 39,
   "id": "fresh-lunch",
   "metadata": {},
   "outputs": [
    {
     "data": {
      "text/plain": [
       "array(['Ankle boot', 'Pullover', 'Trouser'], dtype='<U11')"
      ]
     },
     "execution_count": 39,
     "metadata": {},
     "output_type": "execute_result"
    }
   ],
   "source": [
    "np.array(class_names)[y_pred]"
   ]
  },
  {
   "cell_type": "code",
   "execution_count": 40,
   "id": "approximate-captain",
   "metadata": {},
   "outputs": [
    {
     "data": {
      "text/plain": [
       "array([9, 2, 1], dtype=uint8)"
      ]
     },
     "execution_count": 40,
     "metadata": {},
     "output_type": "execute_result"
    }
   ],
   "source": [
    "y_new = y_test[:3]\n",
    "y_new"
   ]
  },
  {
   "cell_type": "code",
   "execution_count": 48,
   "id": "light-consideration",
   "metadata": {},
   "outputs": [
    {
     "data": {
      "text/plain": [
       "<matplotlib.image.AxesImage at 0x7f251d6229e8>"
      ]
     },
     "execution_count": 48,
     "metadata": {},
     "output_type": "execute_result"
    },
    {
     "data": {
      "image/png": "[encoded data removed]",
      "text/plain": [
       "<Figure size 432x288 with 1 Axes>"
      ]
     },
     "metadata": {
      "needs_background": "light"
     },
     "output_type": "display_data"
    }
   ],
   "source": [
    "imshow(X_test[0,:])"
   ]
  },
  {
   "cell_type": "code",
   "execution_count": 49,
   "id": "alive-plate",
   "metadata": {},
   "outputs": [
    {
     "data": {
      "text/plain": [
       "<matplotlib.image.AxesImage at 0x7f25c01c9940>"
      ]
     },
     "execution_count": 49,
     "metadata": {},
     "output_type": "execute_result"
    },
    {
     "data": {
      "image/png": "[encoded data removed]",
      "text/plain": [
       "<Figure size 432x288 with 1 Axes>"
      ]
     },
     "metadata": {
      "needs_background": "light"
     },
     "output_type": "display_data"
    }
   ],
   "source": [
    "imshow(X_test[1,:])"
   ]
  },
  {
   "cell_type": "code",
   "execution_count": 50,
   "id": "complicated-musical",
   "metadata": {},
   "outputs": [
    {
     "data": {
      "text/plain": [
       "<matplotlib.image.AxesImage at 0x7f24f77b6fd0>"
      ]
     },
     "execution_count": 50,
     "metadata": {},
     "output_type": "execute_result"
    },
    {
     "data": {
      "image/png": "[encoded data removed]",
      "text/plain": [
       "<Figure size 432x288 with 1 Axes>"
      ]
     },
     "metadata": {
      "needs_background": "light"
     },
     "output_type": "display_data"
    }
   ],
   "source": [
    "imshow(X_test[2,:])"
   ]
  },
  {
   "cell_type": "markdown",
   "id": "baking-saskatchewan",
   "metadata": {},
   "source": [
    "## Regresión con el API secuencial"
   ]
  },
  {
   "cell_type": "code",
   "execution_count": 4,
   "id": "absolute-assembly",
   "metadata": {},
   "outputs": [],
   "source": [
    "from sklearn.datasets import fetch_california_housing\n",
    "from sklearn.model_selection import train_test_split\n",
    "from sklearn.preprocessing import StandardScaler"
   ]
  },
  {
   "cell_type": "code",
   "execution_count": 6,
   "id": "dated-matthew",
   "metadata": {},
   "outputs": [],
   "source": [
    "housing = fetch_california_housing()"
   ]
  },
  {
   "cell_type": "code",
   "execution_count": 104,
   "id": "stupid-queens",
   "metadata": {},
   "outputs": [],
   "source": [
    "X_train_full, X_test, y_train_full, y_test = train_test_split(\n",
    "    housing.data, housing.target)"
   ]
  },
  {
   "cell_type": "code",
   "execution_count": 105,
   "id": "electrical-picking",
   "metadata": {},
   "outputs": [],
   "source": [
    "X_train, X_valid, y_train, y_valid = train_test_split(X_train_full,\n",
    "                                                     y_train_full)"
   ]
  },
  {
   "cell_type": "code",
   "execution_count": 106,
   "id": "endless-brush",
   "metadata": {},
   "outputs": [],
   "source": [
    "scaler = StandardScaler()\n",
    "X_train = scaler.fit_transform(X_train)\n",
    "X_valid = scaler.transform(X_valid)\n",
    "X_test = scaler.transform(X_test)"
   ]
  },
  {
   "cell_type": "markdown",
   "id": "broken-return",
   "metadata": {},
   "source": [
    "Para regresión necesitamos solamente una neurona en la capa de salida (queremos predecir un sólo valor) sin función de activación, y la función de costo es el error cuadrado promedio."
   ]
  },
  {
   "cell_type": "code",
   "execution_count": 107,
   "id": "different-indie",
   "metadata": {},
   "outputs": [],
   "source": [
    "model = keras.models.Sequential([\n",
    "    keras.layers.Dense(30, activation=\"relu\", input_shape=X_train.shape[1:]),\n",
    "    keras.layers.Dense(1)\n",
    "])"
   ]
  },
  {
   "cell_type": "code",
   "execution_count": 108,
   "id": "suspended-liability",
   "metadata": {},
   "outputs": [],
   "source": [
    "model.compile(loss=\"mean_squared_error\", optimizer=\"sgd\")"
   ]
  },
  {
   "cell_type": "code",
   "execution_count": 109,
   "id": "developed-fellow",
   "metadata": {},
   "outputs": [
    {
     "name": "stdout",
     "output_type": "stream",
     "text": [
      "Epoch 1/20\n",
      "363/363 [==============================] - 1s 2ms/step - loss: 1.0776 - val_loss: 10.2714\n",
      "Epoch 2/20\n",
      "363/363 [==============================] - 1s 2ms/step - loss: 0.8995 - val_loss: 0.4316\n",
      "Epoch 3/20\n",
      "363/363 [==============================] - 1s 2ms/step - loss: 0.3954 - val_loss: 0.4190\n",
      "Epoch 4/20\n",
      " 22/363 [>.............................] - ETA: 0s - loss: 0.3971"
     ]
    },
    {
     "ename": "KeyboardInterrupt",
     "evalue": "",
     "output_type": "error",
     "traceback": [
      "\u001b[0;31m---------------------------------------------------------------------------\u001b[0m",
      "\u001b[0;31mKeyboardInterrupt\u001b[0m                         Traceback (most recent call last)",
      "\u001b[0;32m<ipython-input-109-484eb4c531ed>\u001b[0m in \u001b[0;36m<module>\u001b[0;34m\u001b[0m\n\u001b[1;32m      1\u001b[0m history = model.fit(X_train, y_train, epochs=20,\n\u001b[0;32m----> 2\u001b[0;31m                     validation_data=(X_valid, y_valid))\n\u001b[0m",
      "\u001b[0;32m~/anaconda3/lib/python3.7/site-packages/tensorflow/python/keras/engine/training.py\u001b[0m in \u001b[0;36m_method_wrapper\u001b[0;34m(self, *args, **kwargs)\u001b[0m\n\u001b[1;32m    106\u001b[0m   \u001b[0;32mdef\u001b[0m \u001b[0m_method_wrapper\u001b[0m\u001b[0;34m(\u001b[0m\u001b[0mself\u001b[0m\u001b[0;34m,\u001b[0m \u001b[0;34m*\u001b[0m\u001b[0margs\u001b[0m\u001b[0;34m,\u001b[0m \u001b[0;34m**\u001b[0m\u001b[0mkwargs\u001b[0m\u001b[0;34m)\u001b[0m\u001b[0;34m:\u001b[0m\u001b[0;34m\u001b[0m\u001b[0;34m\u001b[0m\u001b[0m\n\u001b[1;32m    107\u001b[0m     \u001b[0;32mif\u001b[0m \u001b[0;32mnot\u001b[0m \u001b[0mself\u001b[0m\u001b[0;34m.\u001b[0m\u001b[0m_in_multi_worker_mode\u001b[0m\u001b[0;34m(\u001b[0m\u001b[0;34m)\u001b[0m\u001b[0;34m:\u001b[0m  \u001b[0;31m# pylint: disable=protected-access\u001b[0m\u001b[0;34m\u001b[0m\u001b[0;34m\u001b[0m\u001b[0m\n\u001b[0;32m--> 108\u001b[0;31m       \u001b[0;32mreturn\u001b[0m \u001b[0mmethod\u001b[0m\u001b[0;34m(\u001b[0m\u001b[0mself\u001b[0m\u001b[0;34m,\u001b[0m \u001b[0;34m*\u001b[0m\u001b[0margs\u001b[0m\u001b[0;34m,\u001b[0m \u001b[0;34m**\u001b[0m\u001b[0mkwargs\u001b[0m\u001b[0;34m)\u001b[0m\u001b[0;34m\u001b[0m\u001b[0;34m\u001b[0m\u001b[0m\n\u001b[0m\u001b[1;32m    109\u001b[0m \u001b[0;34m\u001b[0m\u001b[0m\n\u001b[1;32m    110\u001b[0m     \u001b[0;31m# Running inside `run_distribute_coordinator` already.\u001b[0m\u001b[0;34m\u001b[0m\u001b[0;34m\u001b[0m\u001b[0;34m\u001b[0m\u001b[0m\n",
      "\u001b[0;32m~/anaconda3/lib/python3.7/site-packages/tensorflow/python/keras/engine/training.py\u001b[0m in \u001b[0;36mfit\u001b[0;34m(self, x, y, batch_size, epochs, verbose, callbacks, validation_split, validation_data, shuffle, class_weight, sample_weight, initial_epoch, steps_per_epoch, validation_steps, validation_batch_size, validation_freq, max_queue_size, workers, use_multiprocessing)\u001b[0m\n\u001b[1;32m   1100\u001b[0m                 \u001b[0mcontext\u001b[0m\u001b[0;34m.\u001b[0m\u001b[0masync_wait\u001b[0m\u001b[0;34m(\u001b[0m\u001b[0;34m)\u001b[0m\u001b[0;34m\u001b[0m\u001b[0;34m\u001b[0m\u001b[0m\n\u001b[1;32m   1101\u001b[0m               \u001b[0mlogs\u001b[0m \u001b[0;34m=\u001b[0m \u001b[0mtmp_logs\u001b[0m  \u001b[0;31m# No error, now safe to assign to logs.\u001b[0m\u001b[0;34m\u001b[0m\u001b[0;34m\u001b[0m\u001b[0m\n\u001b[0;32m-> 1102\u001b[0;31m               \u001b[0mend_step\u001b[0m \u001b[0;34m=\u001b[0m \u001b[0mstep\u001b[0m \u001b[0;34m+\u001b[0m \u001b[0mdata_handler\u001b[0m\u001b[0;34m.\u001b[0m\u001b[0mstep_increment\u001b[0m\u001b[0;34m\u001b[0m\u001b[0;34m\u001b[0m\u001b[0m\n\u001b[0m\u001b[1;32m   1103\u001b[0m               \u001b[0mcallbacks\u001b[0m\u001b[0;34m.\u001b[0m\u001b[0mon_train_batch_end\u001b[0m\u001b[0;34m(\u001b[0m\u001b[0mend_step\u001b[0m\u001b[0;34m,\u001b[0m \u001b[0mlogs\u001b[0m\u001b[0;34m)\u001b[0m\u001b[0;34m\u001b[0m\u001b[0;34m\u001b[0m\u001b[0m\n\u001b[1;32m   1104\u001b[0m         \u001b[0mepoch_logs\u001b[0m \u001b[0;34m=\u001b[0m \u001b[0mcopy\u001b[0m\u001b[0;34m.\u001b[0m\u001b[0mcopy\u001b[0m\u001b[0;34m(\u001b[0m\u001b[0mlogs\u001b[0m\u001b[0;34m)\u001b[0m\u001b[0;34m\u001b[0m\u001b[0;34m\u001b[0m\u001b[0m\n",
      "\u001b[0;32m~/anaconda3/lib/python3.7/site-packages/tensorflow/python/keras/engine/data_adapter.py\u001b[0m in \u001b[0;36mstep_increment\u001b[0;34m(self)\u001b[0m\n\u001b[1;32m   1210\u001b[0m         \u001b[0mself\u001b[0m\u001b[0;34m.\u001b[0m\u001b[0m_steps_per_execution\u001b[0m\u001b[0;34m.\u001b[0m\u001b[0massign\u001b[0m\u001b[0;34m(\u001b[0m\u001b[0mself\u001b[0m\u001b[0;34m.\u001b[0m\u001b[0m_steps_per_execution_value\u001b[0m\u001b[0;34m)\u001b[0m\u001b[0;34m\u001b[0m\u001b[0;34m\u001b[0m\u001b[0m\n\u001b[1;32m   1211\u001b[0m \u001b[0;34m\u001b[0m\u001b[0m\n\u001b[0;32m-> 1212\u001b[0;31m   \u001b[0;34m@\u001b[0m\u001b[0mproperty\u001b[0m\u001b[0;34m\u001b[0m\u001b[0;34m\u001b[0m\u001b[0m\n\u001b[0m\u001b[1;32m   1213\u001b[0m   \u001b[0;32mdef\u001b[0m \u001b[0mstep_increment\u001b[0m\u001b[0;34m(\u001b[0m\u001b[0mself\u001b[0m\u001b[0;34m)\u001b[0m\u001b[0;34m:\u001b[0m\u001b[0;34m\u001b[0m\u001b[0;34m\u001b[0m\u001b[0m\n\u001b[1;32m   1214\u001b[0m     \u001b[0;34m\"\"\"The number to increment the step for `on_batch_end` methods.\"\"\"\u001b[0m\u001b[0;34m\u001b[0m\u001b[0;34m\u001b[0m\u001b[0m\n",
      "\u001b[0;31mKeyboardInterrupt\u001b[0m: "
     ]
    }
   ],
   "source": [
    "history = model.fit(X_train, y_train, epochs=20,\n",
    "                    validation_data=(X_valid, y_valid))"
   ]
  },
  {
   "cell_type": "code",
   "execution_count": 59,
   "id": "russian-roberts",
   "metadata": {},
   "outputs": [
    {
     "name": "stdout",
     "output_type": "stream",
     "text": [
      "162/162 [==============================] - 0s 1ms/step - loss: 0.4103\n"
     ]
    }
   ],
   "source": [
    "mse_test = model.evaluate(X_test, y_test)"
   ]
  },
  {
   "cell_type": "code",
   "execution_count": 60,
   "id": "fifty-automation",
   "metadata": {},
   "outputs": [],
   "source": [
    "X_new = X_test[:3]"
   ]
  },
  {
   "cell_type": "code",
   "execution_count": 61,
   "id": "super-salmon",
   "metadata": {},
   "outputs": [],
   "source": [
    "y_pred = model.predict(X_new)"
   ]
  },
  {
   "cell_type": "code",
   "execution_count": 62,
   "id": "international-conservative",
   "metadata": {},
   "outputs": [
    {
     "data": {
      "text/plain": [
       "array([[2.7080083 ],\n",
       "       [3.6439445 ],\n",
       "       [0.47018892]], dtype=float32)"
      ]
     },
     "execution_count": 62,
     "metadata": {},
     "output_type": "execute_result"
    }
   ],
   "source": [
    "y_pred"
   ]
  },
  {
   "cell_type": "code",
   "execution_count": 63,
   "id": "communist-cache",
   "metadata": {},
   "outputs": [],
   "source": [
    "y_new = y_test[:3]"
   ]
  },
  {
   "cell_type": "code",
   "execution_count": 64,
   "id": "multiple-degree",
   "metadata": {},
   "outputs": [
    {
     "data": {
      "text/plain": [
       "array([3.312, 3.477, 1.625])"
      ]
     },
     "execution_count": 64,
     "metadata": {},
     "output_type": "execute_result"
    }
   ],
   "source": [
    "y_new"
   ]
  },
  {
   "cell_type": "markdown",
   "id": "sealed-johnston",
   "metadata": {},
   "source": [
    "## Modelos complejos con el API funcional\n",
    "\n",
    "Un ejemplo de un modelo **no secuencial** es una red neuronal \"ancho y profundo\" (*wide & deep*).\n",
    "\n",
    "Modelos así conectan una parte de las entradas directamente con las salidas. Así la red puede aprender patrones profundas y reglas simples.\n",
    "\n",
    "![](figures_intro_rna/fig10-14.png)"
   ]
  },
  {
   "cell_type": "code",
   "execution_count": 70,
   "id": "orange-accessory",
   "metadata": {},
   "outputs": [],
   "source": [
    "input_ = keras.layers.Input(shape=X_train.shape[1:])\n",
    "hidden1 = keras.layers.Dense(30, activation=\"relu\")(input_)\n",
    "hidden2 = keras.layers.Dense(30, activation=\"relu\")(hidden1)\n",
    "concat = keras.layers.Concatenate()([input_, hidden2])\n",
    "output = keras.layers.Dense(1)(concat)\n",
    "model = keras.Model(inputs=[input_], outputs=[output])"
   ]
  },
  {
   "cell_type": "markdown",
   "id": "direct-interview",
   "metadata": {},
   "source": [
    "* `Input`: especifica el tipo y forma de entrada. Se puede tener varios entradas.\n",
    "\n",
    "* Después creamos una capa densa con $30$ neuronas y función de activación \"ReLU\". Pasamos la capa de salida como argumento a una función para conectar ambas capas.\n",
    "\n",
    "* Creamos otra capa densa, y pasamos la primera como argumento a la \"función\" para conectar las capas.\n",
    "\n",
    "* `Concatenate` es para combinar las salidas de las capas de entrada y la segunda capa oculta.\n",
    "\n",
    "* La capa de salida es una sola neurona, y pasamos como argumento la capa de concatenación.\n",
    "\n",
    "* Finalmente creamos el modelo indicando las capas de entrada y salida.\n",
    "\n",
    "Después tenemos que usar `compile()`, entrenar, evaluar, etc."
   ]
  },
  {
   "cell_type": "markdown",
   "id": "smoking-flooring",
   "metadata": {},
   "source": [
    "¿Qué hacemos si queremos usar una parte de los datos en la rama \"profunda\" de la red y otra parte en la rama \"superficial\"?\n",
    "\n",
    "![](figures_intro_rna/fig10-15.png)"
   ]
  },
  {
   "cell_type": "markdown",
   "id": "collectible-perspective",
   "metadata": {},
   "source": [
    "Podemos usar los *features* $0$ a $4$ en la entrada A, y los *features* $2$ a $7$ en la entrada B:"
   ]
  },
  {
   "cell_type": "code",
   "execution_count": 71,
   "id": "ultimate-cleaners",
   "metadata": {},
   "outputs": [],
   "source": [
    "input_A = keras.layers.Input(shape=[5], name=\"wide_input\")\n",
    "input_B = keras.layers.Input(shape=[6], name=\"deep_input\")\n",
    "hidden1 = keras.layers.Dense(30, activation=\"relu\")(input_B)\n",
    "hidden2 = keras.layers.Dense(30, activation=\"relu\")(hidden1)\n",
    "concat = keras.layers.Concatenate()([input_A, hidden2])\n",
    "output = keras.layers.Dense(1, name=\"output\")(concat)\n",
    "model = keras.Model(inputs=[input_A, input_B], outputs=[output])"
   ]
  },
  {
   "cell_type": "markdown",
   "id": "casual-hampton",
   "metadata": {},
   "source": [
    "Cuando usamos `fit()` hay que pasar un par de matrices como entradas `(X_train_A, X_train_B)`. También para validación y predicción."
   ]
  },
  {
   "cell_type": "code",
   "execution_count": 72,
   "id": "imposed-technique",
   "metadata": {},
   "outputs": [],
   "source": [
    "model.compile(loss=\"mse\", optimizer=keras.optimizers.SGD(lr=1e-3))"
   ]
  },
  {
   "cell_type": "code",
   "execution_count": 73,
   "id": "elementary-bernard",
   "metadata": {},
   "outputs": [],
   "source": [
    "X_train_A, X_train_B = X_train[:, :5], X_train[:, 2:]\n",
    "X_valid_A, X_valid_B = X_valid[:, :5], X_valid[:, 2:]\n",
    "X_test_A, X_test_B = X_test[:, :5], X_test[:, 2:]\n",
    "X_new_A, X_new_B = X_test_A[:3], X_test_B[:3]"
   ]
  },
  {
   "cell_type": "code",
   "execution_count": 74,
   "id": "egyptian-wisdom",
   "metadata": {},
   "outputs": [
    {
     "name": "stdout",
     "output_type": "stream",
     "text": [
      "Epoch 1/20\n",
      "363/363 [==============================] - 1s 3ms/step - loss: 2.1934 - val_loss: 1.1015\n",
      "Epoch 2/20\n",
      "363/363 [==============================] - 1s 2ms/step - loss: 0.7900 - val_loss: 0.7402\n",
      "Epoch 3/20\n",
      "363/363 [==============================] - 1s 2ms/step - loss: 0.6610 - val_loss: 0.6796\n",
      "Epoch 4/20\n",
      "363/363 [==============================] - 1s 2ms/step - loss: 0.6164 - val_loss: 0.6452\n",
      "Epoch 5/20\n",
      "363/363 [==============================] - 1s 2ms/step - loss: 0.5868 - val_loss: 0.6334\n",
      "Epoch 6/20\n",
      "363/363 [==============================] - 1s 2ms/step - loss: 0.5653 - val_loss: 0.6031\n",
      "Epoch 7/20\n",
      "363/363 [==============================] - 1s 2ms/step - loss: 0.5469 - val_loss: 0.5820\n",
      "Epoch 8/20\n",
      "363/363 [==============================] - 1s 2ms/step - loss: 0.5314 - val_loss: 0.5617\n",
      "Epoch 9/20\n",
      "363/363 [==============================] - 1s 2ms/step - loss: 0.5171 - val_loss: 0.5554\n",
      "Epoch 10/20\n",
      "363/363 [==============================] - 1s 2ms/step - loss: 0.5069 - val_loss: 0.5410\n",
      "Epoch 11/20\n",
      "363/363 [==============================] - 1s 2ms/step - loss: 0.4967 - val_loss: 0.5373\n",
      "Epoch 12/20\n",
      "363/363 [==============================] - 1s 3ms/step - loss: 0.4899 - val_loss: 0.5207\n",
      "Epoch 13/20\n",
      "363/363 [==============================] - 1s 3ms/step - loss: 0.4829 - val_loss: 0.5096\n",
      "Epoch 14/20\n",
      "363/363 [==============================] - 1s 2ms/step - loss: 0.4768 - val_loss: 0.4969\n",
      "Epoch 15/20\n",
      "363/363 [==============================] - 1s 2ms/step - loss: 0.4719 - val_loss: 0.4945\n",
      "Epoch 16/20\n",
      "363/363 [==============================] - 1s 2ms/step - loss: 0.4672 - val_loss: 0.4907\n",
      "Epoch 17/20\n",
      "363/363 [==============================] - 1s 2ms/step - loss: 0.4628 - val_loss: 0.4846\n",
      "Epoch 18/20\n",
      "363/363 [==============================] - 1s 2ms/step - loss: 0.4590 - val_loss: 0.4817\n",
      "Epoch 19/20\n",
      "363/363 [==============================] - 1s 2ms/step - loss: 0.4556 - val_loss: 0.4758\n",
      "Epoch 20/20\n",
      "363/363 [==============================] - 1s 2ms/step - loss: 0.4524 - val_loss: 0.4675\n"
     ]
    }
   ],
   "source": [
    "history = model.fit((X_train_A, X_train_B), y_train, epochs=20,\n",
    "                    validation_data=((X_valid_A, X_valid_B), y_valid))"
   ]
  },
  {
   "cell_type": "code",
   "execution_count": 75,
   "id": "resident-finance",
   "metadata": {},
   "outputs": [
    {
     "name": "stdout",
     "output_type": "stream",
     "text": [
      "162/162 [==============================] - 0s 1ms/step - loss: 0.4497\n"
     ]
    }
   ],
   "source": [
    "mse_test = model.evaluate((X_test_A, X_test_B), y_test)"
   ]
  },
  {
   "cell_type": "code",
   "execution_count": 76,
   "id": "measured-apparatus",
   "metadata": {},
   "outputs": [],
   "source": [
    "y_pred = model.predict((X_new_A, X_new_B))"
   ]
  },
  {
   "cell_type": "code",
   "execution_count": 77,
   "id": "surprised-ferry",
   "metadata": {},
   "outputs": [
    {
     "data": {
      "text/plain": [
       "array([[2.5746727],\n",
       "       [3.1722462],\n",
       "       [0.113276 ]], dtype=float32)"
      ]
     },
     "execution_count": 77,
     "metadata": {},
     "output_type": "execute_result"
    }
   ],
   "source": [
    "y_pred"
   ]
  },
  {
   "cell_type": "code",
   "execution_count": 78,
   "id": "friendly-stocks",
   "metadata": {},
   "outputs": [
    {
     "data": {
      "text/plain": [
       "array([3.312, 3.477, 1.625])"
      ]
     },
     "execution_count": 78,
     "metadata": {},
     "output_type": "execute_result"
    }
   ],
   "source": [
    "y_test[:3]"
   ]
  },
  {
   "cell_type": "markdown",
   "id": "accessible-portsmouth",
   "metadata": {},
   "source": [
    "Otra forma de pasar las entradas es con un diccionario, que puede ayudar para organizar bien los datos, e.g. `{\"wide_input\": X_train_A, \"deep_input\": X_train_B}`"
   ]
  },
  {
   "cell_type": "markdown",
   "id": "binding-atlas",
   "metadata": {},
   "source": [
    "También podemos tener multiples salidas, por ejemplo para regularización de una parte de la red.\n",
    "\n",
    "![](figures_intro_rna/fig10-16.png)"
   ]
  },
  {
   "cell_type": "code",
   "execution_count": 79,
   "id": "attractive-efficiency",
   "metadata": {},
   "outputs": [],
   "source": [
    "input_A = keras.layers.Input(shape=[5], name=\"wide_input\")\n",
    "input_B = keras.layers.Input(shape=[6], name=\"deep_input\")\n",
    "hidden1 = keras.layers.Dense(30, activation=\"relu\")(input_B)\n",
    "hidden2 = keras.layers.Dense(30, activation=\"relu\")(hidden1)\n",
    "concat = keras.layers.Concatenate()([input_A, hidden2])\n",
    "output = keras.layers.Dense(1, name=\"main_output\")(concat)\n",
    "aux_output = keras.layers.Dense(1, name=\"aux_output\")(hidden2)\n",
    "model = keras.Model(inputs=[input_A, input_B], outputs=[output, aux_output])"
   ]
  },
  {
   "cell_type": "markdown",
   "id": "talented-prairie",
   "metadata": {},
   "source": [
    "Cada salida requiere su propia función de perdida, así que hay que pasar una lista de tales funciones en el momento de compilar el modelo.\n",
    "\n",
    "Por defecto el valor final del error de la red será simplemente la suma de las funciones de costo, pero podemos asociar un peso a cada función:"
   ]
  },
  {
   "cell_type": "code",
   "execution_count": 80,
   "id": "attractive-antique",
   "metadata": {},
   "outputs": [],
   "source": [
    "model.compile(loss=[\"mse\", \"mse\"], loss_weights=[0.9, 0.1], optimizer=\"sgd\")"
   ]
  },
  {
   "cell_type": "markdown",
   "id": "extraordinary-notification",
   "metadata": {},
   "source": [
    "Ahora tenemos que también dar las etiquetas para cada salida. En este caso queremos que cada parte de la red prediga la misma cosa, así que usamos `y_train` para cada salida:"
   ]
  },
  {
   "cell_type": "code",
   "execution_count": 81,
   "id": "comparable-electric",
   "metadata": {},
   "outputs": [
    {
     "name": "stdout",
     "output_type": "stream",
     "text": [
      "Epoch 1/20\n",
      "363/363 [==============================] - 1s 4ms/step - loss: 1.0194 - main_output_loss: 0.9350 - aux_output_loss: 1.7786 - val_loss: 0.5931 - val_main_output_loss: 0.5219 - val_aux_output_loss: 1.2340\n",
      "Epoch 2/20\n",
      "363/363 [==============================] - 1s 4ms/step - loss: 0.5163 - main_output_loss: 0.4666 - aux_output_loss: 0.9635 - val_loss: 0.5078 - val_main_output_loss: 0.4579 - val_aux_output_loss: 0.9570\n",
      "Epoch 3/20\n",
      "363/363 [==============================] - 1s 4ms/step - loss: 0.4630 - main_output_loss: 0.4274 - aux_output_loss: 0.7834 - val_loss: 0.4718 - val_main_output_loss: 0.4351 - val_aux_output_loss: 0.8027\n",
      "Epoch 4/20\n",
      "363/363 [==============================] - 1s 3ms/step - loss: 0.4580 - main_output_loss: 0.4329 - aux_output_loss: 0.6833 - val_loss: 0.4518 - val_main_output_loss: 0.4235 - val_aux_output_loss: 0.7061\n",
      "Epoch 5/20\n",
      "363/363 [==============================] - 1s 2ms/step - loss: 0.4247 - main_output_loss: 0.4030 - aux_output_loss: 0.6203 - val_loss: 0.4360 - val_main_output_loss: 0.4127 - val_aux_output_loss: 0.6459\n",
      "Epoch 6/20\n",
      "363/363 [==============================] - 1s 3ms/step - loss: 0.4164 - main_output_loss: 0.3978 - aux_output_loss: 0.5836 - val_loss: 0.4267 - val_main_output_loss: 0.4066 - val_aux_output_loss: 0.6083\n",
      "Epoch 7/20\n",
      "363/363 [==============================] - 1s 3ms/step - loss: 0.4082 - main_output_loss: 0.3912 - aux_output_loss: 0.5613 - val_loss: 0.4237 - val_main_output_loss: 0.4062 - val_aux_output_loss: 0.5816\n",
      "Epoch 8/20\n",
      "363/363 [==============================] - 1s 3ms/step - loss: 0.4032 - main_output_loss: 0.3875 - aux_output_loss: 0.5442 - val_loss: 0.4130 - val_main_output_loss: 0.3966 - val_aux_output_loss: 0.5608\n",
      "Epoch 9/20\n",
      "363/363 [==============================] - 1s 3ms/step - loss: 0.3929 - main_output_loss: 0.3779 - aux_output_loss: 0.5277 - val_loss: 0.4012 - val_main_output_loss: 0.3856 - val_aux_output_loss: 0.5415\n",
      "Epoch 10/20\n",
      "363/363 [==============================] - 1s 3ms/step - loss: 0.3876 - main_output_loss: 0.3732 - aux_output_loss: 0.5175 - val_loss: 0.3962 - val_main_output_loss: 0.3818 - val_aux_output_loss: 0.5259\n",
      "Epoch 11/20\n",
      "363/363 [==============================] - 1s 3ms/step - loss: 0.3797 - main_output_loss: 0.3660 - aux_output_loss: 0.5033 - val_loss: 0.3929 - val_main_output_loss: 0.3792 - val_aux_output_loss: 0.5162\n",
      "Epoch 12/20\n",
      "363/363 [==============================] - 1s 2ms/step - loss: 0.3741 - main_output_loss: 0.3611 - aux_output_loss: 0.4910 - val_loss: 0.3861 - val_main_output_loss: 0.3728 - val_aux_output_loss: 0.5057\n",
      "Epoch 13/20\n",
      "363/363 [==============================] - 1s 3ms/step - loss: 0.3705 - main_output_loss: 0.3578 - aux_output_loss: 0.4856 - val_loss: 0.3862 - val_main_output_loss: 0.3738 - val_aux_output_loss: 0.4979\n",
      "Epoch 14/20\n",
      "363/363 [==============================] - 1s 4ms/step - loss: 0.3669 - main_output_loss: 0.3550 - aux_output_loss: 0.4745 - val_loss: 0.3902 - val_main_output_loss: 0.3780 - val_aux_output_loss: 0.4995\n",
      "Epoch 15/20\n",
      "363/363 [==============================] - 1s 3ms/step - loss: 0.3644 - main_output_loss: 0.3529 - aux_output_loss: 0.4682 - val_loss: 0.3776 - val_main_output_loss: 0.3655 - val_aux_output_loss: 0.4867\n",
      "Epoch 16/20\n",
      "363/363 [==============================] - 1s 3ms/step - loss: 0.3574 - main_output_loss: 0.3460 - aux_output_loss: 0.4605 - val_loss: 0.3805 - val_main_output_loss: 0.3690 - val_aux_output_loss: 0.4841\n",
      "Epoch 17/20\n",
      "363/363 [==============================] - 1s 3ms/step - loss: 0.3573 - main_output_loss: 0.3464 - aux_output_loss: 0.4557 - val_loss: 0.3747 - val_main_output_loss: 0.3636 - val_aux_output_loss: 0.4747\n",
      "Epoch 18/20\n",
      "363/363 [==============================] - 1s 2ms/step - loss: 0.3510 - main_output_loss: 0.3402 - aux_output_loss: 0.4481 - val_loss: 0.3723 - val_main_output_loss: 0.3618 - val_aux_output_loss: 0.4667\n",
      "Epoch 19/20\n",
      "363/363 [==============================] - 1s 3ms/step - loss: 0.3507 - main_output_loss: 0.3403 - aux_output_loss: 0.4445 - val_loss: 0.3638 - val_main_output_loss: 0.3531 - val_aux_output_loss: 0.4609\n",
      "Epoch 20/20\n",
      "363/363 [==============================] - 1s 3ms/step - loss: 0.3547 - main_output_loss: 0.3447 - aux_output_loss: 0.4440 - val_loss: 0.3649 - val_main_output_loss: 0.3546 - val_aux_output_loss: 0.4569\n"
     ]
    }
   ],
   "source": [
    "history = model.fit([X_train_A, X_train_B],\n",
    "                    [y_train, y_train],\n",
    "                    epochs=20,\n",
    "                    validation_data=([X_valid_A, X_valid_B], [y_valid, y_valid]))"
   ]
  },
  {
   "cell_type": "code",
   "execution_count": 82,
   "id": "great-tackle",
   "metadata": {},
   "outputs": [
    {
     "name": "stdout",
     "output_type": "stream",
     "text": [
      "162/162 [==============================] - 0s 2ms/step - loss: 0.3642 - main_output_loss: 0.3542 - aux_output_loss: 0.4543\n"
     ]
    }
   ],
   "source": [
    "total_loss, main_loss, aux_loss = model.evaluate(\n",
    " [X_test_A, X_test_B], [y_test, y_test])"
   ]
  },
  {
   "cell_type": "code",
   "execution_count": 83,
   "id": "induced-uniform",
   "metadata": {},
   "outputs": [],
   "source": [
    "y_pred_main, y_pred_aux = model.predict([X_new_A, X_new_B])"
   ]
  },
  {
   "cell_type": "code",
   "execution_count": 84,
   "id": "equal-jewel",
   "metadata": {},
   "outputs": [
    {
     "data": {
      "text/plain": [
       "array([[2.675177 ],\n",
       "       [3.494091 ],\n",
       "       [0.3852623]], dtype=float32)"
      ]
     },
     "execution_count": 84,
     "metadata": {},
     "output_type": "execute_result"
    }
   ],
   "source": [
    "y_pred_main"
   ]
  },
  {
   "cell_type": "code",
   "execution_count": 85,
   "id": "remarkable-insertion",
   "metadata": {},
   "outputs": [
    {
     "data": {
      "text/plain": [
       "array([[2.874715 ],\n",
       "       [3.653451 ],\n",
       "       [0.4929863]], dtype=float32)"
      ]
     },
     "execution_count": 85,
     "metadata": {},
     "output_type": "execute_result"
    }
   ],
   "source": [
    "y_pred_aux"
   ]
  },
  {
   "cell_type": "code",
   "execution_count": 86,
   "id": "respective-enclosure",
   "metadata": {},
   "outputs": [
    {
     "data": {
      "text/plain": [
       "array([3.312, 3.477, 1.625])"
      ]
     },
     "execution_count": 86,
     "metadata": {},
     "output_type": "execute_result"
    }
   ],
   "source": [
    "y_test[:3]"
   ]
  },
  {
   "cell_type": "markdown",
   "id": "purple-intranet",
   "metadata": {},
   "source": [
    "### Construyendo modelos dinámicos con el API de *subclassing*\n",
    "\n",
    "Los APIs funcional y secuencial construyen los modelos en una forma estática. Las ventajas son que se puede guardar, copiar y compartir los modelos; se puede visualizar y analizar su estructura; y el proceso de *debugging* es más fácil.\n",
    "\n",
    "Para construir un modelo más dinámico, con ciclos, variación de la forma de las matrices, condicionales, etc. hay que usar el API de *subclassing*.\n",
    "\n",
    "Para usar este API:\n",
    "\n",
    "* Crear una subclase de la clase `Model`.\n",
    "* Crear las capas que queremos en el constructor de la clase.\n",
    "* Los cálculos están implementados en el método `call()`."
   ]
  },
  {
   "cell_type": "code",
   "execution_count": 87,
   "id": "dried-display",
   "metadata": {},
   "outputs": [],
   "source": [
    "class WideAndDeepModel(keras.Model):\n",
    "    def __init__(self, units=30, activation=\"relu\", **kwargs):\n",
    "        super().__init__(**kwargs) # para argumentos como \"name\"\n",
    "        self.hidden1 = keras.layers.Dense(units, activation=activation)\n",
    "        self.hidden2 = keras.layers.Dense(units, activation=activation)\n",
    "        self.main_output = keras.layers.Dense(1)\n",
    "        self.aux_output = keras.layers.Dense(1)\n",
    "        \n",
    "    def call(self, inputs):\n",
    "        input_A, input_B = inputs\n",
    "        hidden1 = self.hidden1(input_B)\n",
    "        hidden2 = self.hidden2(hidden1)\n",
    "        concat = keras.layers.concatenate([input_A, hidden2])\n",
    "        main_output = self.main_output(concat)\n",
    "        aux_output = self.aux_output(hidden2)\n",
    "        return main_output, aux_output\n",
    "    \n",
    "model = WideAndDeepModel()"
   ]
  },
  {
   "cell_type": "markdown",
   "id": "entitled-plastic",
   "metadata": {},
   "source": [
    "Este método da más flexibilidad (podemos hacer cualquier cosa en `call()`) pero la desventaja es que Keras no puede inspeccionar mucho del modelo..."
   ]
  },
  {
   "cell_type": "code",
   "execution_count": null,
   "id": "massive-crime",
   "metadata": {},
   "outputs": [],
   "source": [
    "model.summary()"
   ]
  },
  {
   "cell_type": "code",
   "execution_count": 90,
   "id": "artistic-absence",
   "metadata": {},
   "outputs": [],
   "source": [
    "model.compile(loss=[\"mse\", \"mse\"], loss_weights=[0.9, 0.1], optimizer=\"sgd\")"
   ]
  },
  {
   "cell_type": "code",
   "execution_count": 92,
   "id": "three-blast",
   "metadata": {},
   "outputs": [
    {
     "name": "stdout",
     "output_type": "stream",
     "text": [
      "Epoch 1/20\n",
      "363/363 [==============================] - 1s 4ms/step - loss: 0.9998 - output_1_loss: 0.8443 - output_2_loss: 2.3989 - val_loss: 0.9677 - val_output_1_loss: 0.9346 - val_output_2_loss: 1.2660\n",
      "Epoch 2/20\n",
      "363/363 [==============================] - 1s 3ms/step - loss: 0.5242 - output_1_loss: 0.4665 - output_2_loss: 1.0435 - val_loss: 0.7031 - val_output_1_loss: 0.6614 - val_output_2_loss: 1.0778\n",
      "Epoch 3/20\n",
      "363/363 [==============================] - 1s 3ms/step - loss: 0.4826 - output_1_loss: 0.4384 - output_2_loss: 0.8798 - val_loss: 0.6140 - val_output_1_loss: 0.5856 - val_output_2_loss: 0.8698\n",
      "Epoch 4/20\n",
      "363/363 [==============================] - 1s 3ms/step - loss: 0.4650 - output_1_loss: 0.4303 - output_2_loss: 0.7773 - val_loss: 0.5870 - val_output_1_loss: 0.5629 - val_output_2_loss: 0.8032\n",
      "Epoch 5/20\n",
      "363/363 [==============================] - 1s 3ms/step - loss: 0.4532 - output_1_loss: 0.4255 - output_2_loss: 0.7024 - val_loss: 0.4835 - val_output_1_loss: 0.4594 - val_output_2_loss: 0.6997\n",
      "Epoch 6/20\n",
      "363/363 [==============================] - 1s 3ms/step - loss: 0.4376 - output_1_loss: 0.4142 - output_2_loss: 0.6473 - val_loss: 0.4475 - val_output_1_loss: 0.4245 - val_output_2_loss: 0.6548\n",
      "Epoch 7/20\n",
      "363/363 [==============================] - 1s 3ms/step - loss: 0.4280 - output_1_loss: 0.4070 - output_2_loss: 0.6175 - val_loss: 0.4349 - val_output_1_loss: 0.4138 - val_output_2_loss: 0.6253\n",
      "Epoch 8/20\n",
      "363/363 [==============================] - 1s 3ms/step - loss: 0.4236 - output_1_loss: 0.4044 - output_2_loss: 0.5970 - val_loss: 0.4391 - val_output_1_loss: 0.4200 - val_output_2_loss: 0.6109\n",
      "Epoch 9/20\n",
      "363/363 [==============================] - 1s 3ms/step - loss: 0.4236 - output_1_loss: 0.4061 - output_2_loss: 0.5812 - val_loss: 0.4242 - val_output_1_loss: 0.4061 - val_output_2_loss: 0.5874\n",
      "Epoch 10/20\n",
      "363/363 [==============================] - 1s 2ms/step - loss: 0.4125 - output_1_loss: 0.3952 - output_2_loss: 0.5680 - val_loss: 0.4229 - val_output_1_loss: 0.4059 - val_output_2_loss: 0.5756\n",
      "Epoch 11/20\n",
      "363/363 [==============================] - 1s 3ms/step - loss: 0.4068 - output_1_loss: 0.3903 - output_2_loss: 0.5556 - val_loss: 0.4134 - val_output_1_loss: 0.3968 - val_output_2_loss: 0.5629\n",
      "Epoch 12/20\n",
      "363/363 [==============================] - 1s 3ms/step - loss: 0.4027 - output_1_loss: 0.3867 - output_2_loss: 0.5471 - val_loss: 0.4089 - val_output_1_loss: 0.3929 - val_output_2_loss: 0.5523\n",
      "Epoch 13/20\n",
      "363/363 [==============================] - 1s 3ms/step - loss: 0.3965 - output_1_loss: 0.3813 - output_2_loss: 0.5341 - val_loss: 0.4134 - val_output_1_loss: 0.3983 - val_output_2_loss: 0.5497\n",
      "Epoch 14/20\n",
      "363/363 [==============================] - 1s 3ms/step - loss: 0.3966 - output_1_loss: 0.3819 - output_2_loss: 0.5288 - val_loss: 0.4007 - val_output_1_loss: 0.3853 - val_output_2_loss: 0.5396\n",
      "Epoch 15/20\n",
      "363/363 [==============================] - 1s 3ms/step - loss: 0.3878 - output_1_loss: 0.3732 - output_2_loss: 0.5187 - val_loss: 0.3974 - val_output_1_loss: 0.3828 - val_output_2_loss: 0.5291\n",
      "Epoch 16/20\n",
      "363/363 [==============================] - 1s 3ms/step - loss: 0.3819 - output_1_loss: 0.3677 - output_2_loss: 0.5099 - val_loss: 0.3920 - val_output_1_loss: 0.3784 - val_output_2_loss: 0.5151\n",
      "Epoch 17/20\n",
      "363/363 [==============================] - 1s 3ms/step - loss: 0.3762 - output_1_loss: 0.3624 - output_2_loss: 0.5003 - val_loss: 0.3912 - val_output_1_loss: 0.3782 - val_output_2_loss: 0.5082\n",
      "Epoch 18/20\n",
      "363/363 [==============================] - 1s 3ms/step - loss: 0.3723 - output_1_loss: 0.3589 - output_2_loss: 0.4926 - val_loss: 0.3914 - val_output_1_loss: 0.3785 - val_output_2_loss: 0.5068\n",
      "Epoch 19/20\n",
      "363/363 [==============================] - 1s 3ms/step - loss: 0.3735 - output_1_loss: 0.3608 - output_2_loss: 0.4885 - val_loss: 0.3791 - val_output_1_loss: 0.3665 - val_output_2_loss: 0.4922\n",
      "Epoch 20/20\n",
      "363/363 [==============================] - 1s 3ms/step - loss: 0.3753 - output_1_loss: 0.3636 - output_2_loss: 0.4804 - val_loss: 0.3937 - val_output_1_loss: 0.3805 - val_output_2_loss: 0.5124\n"
     ]
    }
   ],
   "source": [
    "history = model.fit([X_train_A, X_train_B],\n",
    "                    [y_train, y_train],\n",
    "                    epochs=20,\n",
    "                    validation_data=([X_valid_A, X_valid_B], [y_valid, y_valid]))"
   ]
  },
  {
   "cell_type": "code",
   "execution_count": 93,
   "id": "unsigned-moral",
   "metadata": {},
   "outputs": [
    {
     "name": "stdout",
     "output_type": "stream",
     "text": [
      "Model: \"wide_and_deep_model\"\n",
      "_________________________________________________________________\n",
      "Layer (type)                 Output Shape              Param #   \n",
      "=================================================================\n",
      "dense_26 (Dense)             multiple                  210       \n",
      "_________________________________________________________________\n",
      "dense_27 (Dense)             multiple                  930       \n",
      "_________________________________________________________________\n",
      "dense_28 (Dense)             multiple                  36        \n",
      "_________________________________________________________________\n",
      "dense_29 (Dense)             multiple                  31        \n",
      "=================================================================\n",
      "Total params: 1,207\n",
      "Trainable params: 1,207\n",
      "Non-trainable params: 0\n",
      "_________________________________________________________________\n"
     ]
    }
   ],
   "source": [
    "model.summary()"
   ]
  },
  {
   "cell_type": "markdown",
   "id": "honey-discrimination",
   "metadata": {},
   "source": [
    "### Guardar y cargar un modelo\n",
    "\n"
   ]
  },
  {
   "cell_type": "markdown",
   "id": "featured-pocket",
   "metadata": {},
   "source": [
    "En el caso de los modelos secuencial y funcional, podemos guardar el formato HDF5. Con esto podemos guardar todos los parámetros y hiperparámetros del modelo."
   ]
  },
  {
   "cell_type": "code",
   "execution_count": 7,
   "id": "crude-exposure",
   "metadata": {},
   "outputs": [],
   "source": [
    "X_train_full, X_test, y_train_full, y_test = train_test_split(\n",
    "    housing.data, housing.target)"
   ]
  },
  {
   "cell_type": "code",
   "execution_count": 8,
   "id": "recent-discipline",
   "metadata": {},
   "outputs": [],
   "source": [
    "X_train, X_valid, y_train, y_valid = train_test_split(X_train_full,\n",
    "                                                     y_train_full)"
   ]
  },
  {
   "cell_type": "code",
   "execution_count": 9,
   "id": "pediatric-valley",
   "metadata": {},
   "outputs": [],
   "source": [
    "scaler = StandardScaler()\n",
    "X_train = scaler.fit_transform(X_train)\n",
    "X_valid = scaler.transform(X_valid)\n",
    "X_test = scaler.transform(X_test)"
   ]
  },
  {
   "cell_type": "code",
   "execution_count": 26,
   "id": "occupied-secretary",
   "metadata": {},
   "outputs": [],
   "source": [
    "model = keras.models.Sequential([\n",
    "    keras.layers.Dense(30, activation=\"relu\", input_shape=X_train.shape[1:]),\n",
    "    keras.layers.Dense(1)\n",
    "])"
   ]
  },
  {
   "cell_type": "code",
   "execution_count": 27,
   "id": "opposite-scene",
   "metadata": {},
   "outputs": [],
   "source": [
    "model.compile(loss=\"mean_squared_error\", optimizer=\"sgd\")"
   ]
  },
  {
   "cell_type": "code",
   "execution_count": 28,
   "id": "damaged-anchor",
   "metadata": {},
   "outputs": [
    {
     "name": "stdout",
     "output_type": "stream",
     "text": [
      "Epoch 1/20\n",
      "363/363 [==============================] - 1s 2ms/step - loss: 1.6556 - val_loss: 0.5754\n",
      "Epoch 2/20\n",
      "363/363 [==============================] - 1s 2ms/step - loss: 0.5006 - val_loss: 0.5023\n",
      "Epoch 3/20\n",
      "363/363 [==============================] - 1s 2ms/step - loss: 0.4583 - val_loss: 0.4683\n",
      "Epoch 4/20\n",
      "363/363 [==============================] - 1s 2ms/step - loss: 0.4386 - val_loss: 0.4784\n",
      "Epoch 5/20\n",
      "363/363 [==============================] - 1s 2ms/step - loss: 0.4272 - val_loss: 0.4421\n",
      "Epoch 6/20\n",
      "363/363 [==============================] - 1s 2ms/step - loss: 0.4194 - val_loss: 0.4342\n",
      "Epoch 7/20\n",
      "363/363 [==============================] - 1s 2ms/step - loss: 0.4109 - val_loss: 0.4239\n",
      "Epoch 8/20\n",
      "363/363 [==============================] - 1s 2ms/step - loss: 0.4073 - val_loss: 0.4170\n",
      "Epoch 9/20\n",
      "363/363 [==============================] - 1s 2ms/step - loss: 0.4062 - val_loss: 0.4783\n",
      "Epoch 10/20\n",
      "363/363 [==============================] - 1s 2ms/step - loss: 0.4009 - val_loss: 0.4166\n",
      "Epoch 11/20\n",
      "363/363 [==============================] - 1s 2ms/step - loss: 0.3968 - val_loss: 0.4070\n",
      "Epoch 12/20\n",
      "363/363 [==============================] - 1s 2ms/step - loss: 0.3924 - val_loss: 0.4045\n",
      "Epoch 13/20\n",
      "363/363 [==============================] - 1s 2ms/step - loss: 0.3883 - val_loss: 0.4181\n",
      "Epoch 14/20\n",
      "363/363 [==============================] - 1s 2ms/step - loss: 0.3915 - val_loss: 0.3972\n",
      "Epoch 15/20\n",
      "363/363 [==============================] - 1s 2ms/step - loss: 0.3826 - val_loss: 0.4031\n",
      "Epoch 16/20\n",
      "363/363 [==============================] - 1s 2ms/step - loss: 0.3823 - val_loss: 0.3919\n",
      "Epoch 17/20\n",
      "363/363 [==============================] - 1s 2ms/step - loss: 0.3785 - val_loss: 0.3973\n",
      "Epoch 18/20\n",
      "363/363 [==============================] - 1s 2ms/step - loss: 0.3758 - val_loss: 0.3880\n",
      "Epoch 19/20\n",
      "363/363 [==============================] - 1s 2ms/step - loss: 0.3761 - val_loss: 0.3910\n",
      "Epoch 20/20\n",
      "363/363 [==============================] - 1s 2ms/step - loss: 0.3733 - val_loss: 0.3859\n"
     ]
    }
   ],
   "source": [
    "history = model.fit(X_train, y_train, epochs=20,\n",
    "                    validation_data=(X_valid, y_valid))"
   ]
  },
  {
   "cell_type": "code",
   "execution_count": 29,
   "id": "decent-notion",
   "metadata": {},
   "outputs": [],
   "source": [
    "model.save(\"my_keras_model.h5\")"
   ]
  },
  {
   "cell_type": "code",
   "execution_count": 30,
   "id": "civic-webcam",
   "metadata": {},
   "outputs": [],
   "source": [
    "model = keras.models.load_model(\"my_keras_model.h5\")"
   ]
  },
  {
   "cell_type": "markdown",
   "id": "pacific-penalty",
   "metadata": {},
   "source": [
    "#### Utilizando *callbacks*\n",
    "\n",
    "El método `fit()` tiene un argumento para `callbacks` donde se puede especificar funciones que Keras llamará o antes y después del entrenamiento, o antes y después de cada época, o antes y después del procesamiento de cada lote de instancias.\n",
    "\n",
    "Por ejemplo, un *callback* de tipo `ModelCheckpoint` guardar *checkpoints* del modelo en intervalos regulares durante el entrenamiento, por defecto al final de cada época:"
   ]
  },
  {
   "cell_type": "code",
   "execution_count": 31,
   "id": "flying-swedish",
   "metadata": {},
   "outputs": [
    {
     "name": "stdout",
     "output_type": "stream",
     "text": [
      "Epoch 1/10\n",
      "363/363 [==============================] - 1s 2ms/step - loss: 0.3725\n",
      "Epoch 2/10\n",
      "363/363 [==============================] - 1s 2ms/step - loss: 0.3688\n",
      "Epoch 3/10\n",
      "363/363 [==============================] - 1s 2ms/step - loss: 0.3779\n",
      "Epoch 4/10\n",
      "363/363 [==============================] - 1s 2ms/step - loss: 0.3647\n",
      "Epoch 5/10\n",
      "363/363 [==============================] - 1s 2ms/step - loss: 0.3657\n",
      "Epoch 6/10\n",
      "363/363 [==============================] - 1s 2ms/step - loss: 0.3635\n",
      "Epoch 7/10\n",
      "363/363 [==============================] - 1s 2ms/step - loss: 0.3604\n",
      "Epoch 8/10\n",
      "363/363 [==============================] - 1s 1ms/step - loss: 0.3558\n",
      "Epoch 9/10\n",
      "363/363 [==============================] - 1s 2ms/step - loss: 0.3562\n",
      "Epoch 10/10\n",
      "363/363 [==============================] - 1s 1ms/step - loss: 0.3533\n"
     ]
    }
   ],
   "source": [
    "checkpoint_cb = keras.callbacks.ModelCheckpoint(\"my_keras_model.h5\")\n",
    "history = model.fit(X_train, y_train, epochs=10, callbacks=[checkpoint_cb])"
   ]
  },
  {
   "cell_type": "markdown",
   "id": "verified-thirty",
   "metadata": {},
   "source": [
    "Con el uso de un conjunto de validación, podemos especificar que queremos guardar el *checkpoint* solamente si su rendimiento en el conjunto de validación es el mejor hasta ahora. Este es una forma simple de implementar *early stopping* que vimos antes."
   ]
  },
  {
   "cell_type": "code",
   "execution_count": 32,
   "id": "identified-polls",
   "metadata": {},
   "outputs": [],
   "source": [
    "## Guardar el mejor modelo\n",
    "checkpoint_cb = keras.callbacks.ModelCheckpoint(\"my_keras_model.h5\",\n",
    "                                                save_best_only=True)"
   ]
  },
  {
   "cell_type": "code",
   "execution_count": 34,
   "id": "cutting-whale",
   "metadata": {},
   "outputs": [
    {
     "name": "stdout",
     "output_type": "stream",
     "text": [
      "Epoch 1/10\n",
      "363/363 [==============================] - 1s 2ms/step - loss: 0.3454 - val_loss: 0.3598\n",
      "Epoch 2/10\n",
      "363/363 [==============================] - 1s 2ms/step - loss: 0.3590 - val_loss: 0.3602\n",
      "Epoch 3/10\n",
      "363/363 [==============================] - 1s 2ms/step - loss: 0.3474 - val_loss: 0.3639\n",
      "Epoch 4/10\n",
      "363/363 [==============================] - 1s 2ms/step - loss: 0.3617 - val_loss: 0.3598\n",
      "Epoch 5/10\n",
      "363/363 [==============================] - 1s 2ms/step - loss: 0.3426 - val_loss: 0.3685\n",
      "Epoch 6/10\n",
      "363/363 [==============================] - 1s 2ms/step - loss: 0.3515 - val_loss: 0.4229\n",
      "Epoch 7/10\n",
      "363/363 [==============================] - 1s 2ms/step - loss: 0.3401 - val_loss: 0.3536\n",
      "Epoch 8/10\n",
      "363/363 [==============================] - 1s 2ms/step - loss: 0.3413 - val_loss: 0.3547\n",
      "Epoch 9/10\n",
      "363/363 [==============================] - 1s 2ms/step - loss: 0.3415 - val_loss: 0.3766\n",
      "Epoch 10/10\n",
      "363/363 [==============================] - 1s 2ms/step - loss: 0.3360 - val_loss: 0.3551\n"
     ]
    }
   ],
   "source": [
    "history = model.fit(X_train, y_train, epochs=10, \n",
    "                    validation_data=(X_valid, y_valid),\n",
    "                    callbacks=[checkpoint_cb])"
   ]
  },
  {
   "cell_type": "code",
   "execution_count": 35,
   "id": "trying-member",
   "metadata": {},
   "outputs": [],
   "source": [
    "## Cargar el mejor modelo\n",
    "model = keras.models.load_model(\"my_keras_model.h5\")"
   ]
  },
  {
   "cell_type": "markdown",
   "id": "random-party",
   "metadata": {},
   "source": [
    "Otra manera de implementar *early stopping* es con un *callback* diseñado para eso! Terminará el entrenamiento si no hay progreso en el puntaje de validación por un número de épocas (definido por el parámetro `patience`)."
   ]
  },
  {
   "cell_type": "code",
   "execution_count": 36,
   "id": "alleged-compromise",
   "metadata": {},
   "outputs": [],
   "source": [
    "early_stopping_cb = keras.callbacks.EarlyStopping(patience=10,\n",
    "                                                  restore_best_weights=True)"
   ]
  },
  {
   "cell_type": "code",
   "execution_count": 38,
   "id": "stock-advocate",
   "metadata": {},
   "outputs": [
    {
     "name": "stdout",
     "output_type": "stream",
     "text": [
      "Epoch 1/100\n",
      "363/363 [==============================] - 1s 2ms/step - loss: 0.3301 - val_loss: 0.3488\n",
      "Epoch 2/100\n",
      "363/363 [==============================] - 1s 2ms/step - loss: 0.3359 - val_loss: 0.3485\n",
      "Epoch 3/100\n",
      "363/363 [==============================] - 1s 2ms/step - loss: 0.3285 - val_loss: 0.3512\n",
      "Epoch 4/100\n",
      "363/363 [==============================] - 1s 2ms/step - loss: 0.3361 - val_loss: 0.3432\n",
      "Epoch 5/100\n",
      "363/363 [==============================] - 1s 2ms/step - loss: 0.3454 - val_loss: 0.3847\n",
      "Epoch 6/100\n",
      "363/363 [==============================] - 1s 2ms/step - loss: 0.3344 - val_loss: 0.3581\n",
      "Epoch 7/100\n",
      "363/363 [==============================] - 1s 2ms/step - loss: 0.3335 - val_loss: 0.3537\n",
      "Epoch 8/100\n",
      "363/363 [==============================] - 1s 2ms/step - loss: 0.3420 - val_loss: 0.3537\n",
      "Epoch 9/100\n",
      "363/363 [==============================] - 1s 2ms/step - loss: 0.3293 - val_loss: 0.3652\n",
      "Epoch 10/100\n",
      "363/363 [==============================] - 1s 2ms/step - loss: 0.3276 - val_loss: 0.3536\n",
      "Epoch 11/100\n",
      "363/363 [==============================] - 1s 2ms/step - loss: 0.3253 - val_loss: 0.3453\n",
      "Epoch 12/100\n",
      "363/363 [==============================] - 1s 2ms/step - loss: 0.3239 - val_loss: 0.3659\n",
      "Epoch 13/100\n",
      "363/363 [==============================] - 1s 2ms/step - loss: 0.3237 - val_loss: 0.3432\n",
      "Epoch 14/100\n",
      "363/363 [==============================] - 1s 2ms/step - loss: 0.3212 - val_loss: 0.3462\n",
      "Epoch 15/100\n",
      "363/363 [==============================] - 1s 2ms/step - loss: 0.3221 - val_loss: 0.3990\n",
      "Epoch 16/100\n",
      "363/363 [==============================] - 1s 2ms/step - loss: 0.3386 - val_loss: 0.3453\n",
      "Epoch 17/100\n",
      "363/363 [==============================] - 1s 2ms/step - loss: 0.3316 - val_loss: 0.3420\n",
      "Epoch 18/100\n",
      "363/363 [==============================] - 1s 2ms/step - loss: 0.3213 - val_loss: 0.3436\n",
      "Epoch 19/100\n",
      "363/363 [==============================] - 1s 2ms/step - loss: 0.3280 - val_loss: 0.3581\n",
      "Epoch 20/100\n",
      "363/363 [==============================] - 1s 2ms/step - loss: 0.3250 - val_loss: 0.4872\n",
      "Epoch 21/100\n",
      "363/363 [==============================] - 1s 2ms/step - loss: 0.3275 - val_loss: 0.3467\n",
      "Epoch 22/100\n",
      "363/363 [==============================] - 1s 2ms/step - loss: 0.3317 - val_loss: 0.3790\n",
      "Epoch 23/100\n",
      "363/363 [==============================] - 1s 2ms/step - loss: 0.3206 - val_loss: 0.3497\n",
      "Epoch 24/100\n",
      "363/363 [==============================] - 1s 2ms/step - loss: 0.3935 - val_loss: 0.3628\n",
      "Epoch 25/100\n",
      "363/363 [==============================] - 1s 2ms/step - loss: 0.3285 - val_loss: 0.3451\n",
      "Epoch 26/100\n",
      "363/363 [==============================] - 1s 2ms/step - loss: 0.3208 - val_loss: 0.3541\n",
      "Epoch 27/100\n",
      "363/363 [==============================] - 1s 2ms/step - loss: 0.3183 - val_loss: 0.3443\n"
     ]
    }
   ],
   "source": [
    "history = model.fit(X_train, y_train, epochs=100, \n",
    "                    validation_data=(X_valid, y_valid),\n",
    "                    callbacks=[checkpoint_cb, early_stopping_cb])"
   ]
  },
  {
   "cell_type": "markdown",
   "id": "automated-filter",
   "metadata": {},
   "source": [
    "También podemos definir nuestros propios *callbacks*, por ejemplo:"
   ]
  },
  {
   "cell_type": "code",
   "execution_count": 39,
   "id": "useful-planet",
   "metadata": {},
   "outputs": [],
   "source": [
    "class PrintValTrainRatioCallback(keras.callbacks.Callback):\n",
    "    def on_epoch_end(self, epoch, logs):\n",
    "        print(\"\\nval/train: {:.2f}\".format(logs[\"val_loss\"] / logs[\"loss\"]))"
   ]
  },
  {
   "cell_type": "code",
   "execution_count": 40,
   "id": "convertible-factory",
   "metadata": {},
   "outputs": [],
   "source": [
    "printvaltrain_cb = PrintValTrainRatioCallback()"
   ]
  },
  {
   "cell_type": "code",
   "execution_count": 41,
   "id": "auburn-village",
   "metadata": {},
   "outputs": [
    {
     "name": "stdout",
     "output_type": "stream",
     "text": [
      "Epoch 1/100\n",
      "353/363 [============================>.] - ETA: 0s - loss: 0.3280\n",
      "val/train: 1.13\n",
      "363/363 [==============================] - 1s 2ms/step - loss: 0.3290 - val_loss: 0.3720\n",
      "Epoch 2/100\n",
      "355/363 [============================>.] - ETA: 0s - loss: 0.3335\n",
      "val/train: 1.07\n",
      "363/363 [==============================] - 1s 2ms/step - loss: 0.3345 - val_loss: 0.3563\n",
      "Epoch 3/100\n",
      "346/363 [===========================>..] - ETA: 0s - loss: 0.3310\n",
      "val/train: 1.07\n",
      "363/363 [==============================] - 1s 2ms/step - loss: 0.3297 - val_loss: 0.3518\n",
      "Epoch 4/100\n",
      "362/363 [============================>.] - ETA: 0s - loss: 0.3261\n",
      "val/train: 1.05\n",
      "363/363 [==============================] - 1s 2ms/step - loss: 0.3260 - val_loss: 0.3436\n",
      "Epoch 5/100\n",
      "339/363 [===========================>..] - ETA: 0s - loss: 0.3208\n",
      "val/train: 1.07\n",
      "363/363 [==============================] - 1s 2ms/step - loss: 0.3192 - val_loss: 0.3425\n",
      "Epoch 6/100\n",
      "351/363 [============================>.] - ETA: 0s - loss: 0.3178\n",
      "val/train: 1.14\n",
      "363/363 [==============================] - 1s 2ms/step - loss: 0.3175 - val_loss: 0.3626\n",
      "Epoch 7/100\n",
      "354/363 [============================>.] - ETA: 0s - loss: 0.3179\n",
      "val/train: 1.09\n",
      "363/363 [==============================] - 1s 2ms/step - loss: 0.3191 - val_loss: 0.3489\n",
      "Epoch 8/100\n",
      "341/363 [===========================>..] - ETA: 0s - loss: 0.3170\n",
      "val/train: 1.07\n",
      "363/363 [==============================] - 1s 2ms/step - loss: 0.3179 - val_loss: 0.3414\n",
      "Epoch 9/100\n",
      "358/363 [============================>.] - ETA: 0s - loss: 0.3150\n",
      "val/train: 1.13\n",
      "363/363 [==============================] - 1s 2ms/step - loss: 0.3165 - val_loss: 0.3591\n",
      "Epoch 10/100\n",
      "329/363 [==========================>...] - ETA: 0s - loss: 0.3209\n",
      "val/train: 1.09\n",
      "363/363 [==============================] - 1s 2ms/step - loss: 0.3166 - val_loss: 0.3451\n",
      "Epoch 11/100\n",
      "351/363 [============================>.] - ETA: 0s - loss: 0.3149\n",
      "val/train: 1.08\n",
      "363/363 [==============================] - 1s 2ms/step - loss: 0.3155 - val_loss: 0.3396\n",
      "Epoch 12/100\n",
      "342/363 [===========================>..] - ETA: 0s - loss: 0.3145\n",
      "val/train: 1.12\n",
      "363/363 [==============================] - 1s 2ms/step - loss: 0.3161 - val_loss: 0.3535\n",
      "Epoch 13/100\n",
      "360/363 [============================>.] - ETA: 0s - loss: 0.3151\n",
      "val/train: 1.14\n",
      "363/363 [==============================] - 1s 2ms/step - loss: 0.3147 - val_loss: 0.3585\n",
      "Epoch 14/100\n",
      "341/363 [===========================>..] - ETA: 0s - loss: 0.3189\n",
      "val/train: 1.09\n",
      "363/363 [==============================] - 1s 2ms/step - loss: 0.3171 - val_loss: 0.3456\n",
      "Epoch 15/100\n",
      "363/363 [==============================] - ETA: 0s - loss: 0.3158\n",
      "val/train: 1.10\n",
      "363/363 [==============================] - 1s 2ms/step - loss: 0.3158 - val_loss: 0.3487\n",
      "Epoch 16/100\n",
      "361/363 [============================>.] - ETA: 0s - loss: 0.3133\n",
      "val/train: 1.10\n",
      "363/363 [==============================] - 1s 2ms/step - loss: 0.3149 - val_loss: 0.3462\n",
      "Epoch 17/100\n",
      "348/363 [===========================>..] - ETA: 0s - loss: 0.3134\n",
      "val/train: 1.32\n",
      "363/363 [==============================] - 1s 2ms/step - loss: 0.3155 - val_loss: 0.4177\n",
      "Epoch 18/100\n",
      "337/363 [==========================>...] - ETA: 0s - loss: 0.3260\n",
      "val/train: 1.06\n",
      "363/363 [==============================] - 1s 2ms/step - loss: 0.3238 - val_loss: 0.3448\n",
      "Epoch 19/100\n",
      "353/363 [============================>.] - ETA: 0s - loss: 0.3140\n",
      "val/train: 1.10\n",
      "363/363 [==============================] - 1s 2ms/step - loss: 0.3142 - val_loss: 0.3449\n",
      "Epoch 20/100\n",
      "352/363 [============================>.] - ETA: 0s - loss: 0.3125\n",
      "val/train: 1.08\n",
      "363/363 [==============================] - 1s 2ms/step - loss: 0.3134 - val_loss: 0.3384\n",
      "Epoch 21/100\n",
      "351/363 [============================>.] - ETA: 0s - loss: 0.3163\n",
      "val/train: 1.11\n",
      "363/363 [==============================] - 1s 2ms/step - loss: 0.3168 - val_loss: 0.3524\n",
      "Epoch 22/100\n",
      "358/363 [============================>.] - ETA: 0s - loss: 0.3189\n",
      "val/train: 1.09\n",
      "363/363 [==============================] - 1s 2ms/step - loss: 0.3181 - val_loss: 0.3477\n",
      "Epoch 23/100\n",
      "353/363 [============================>.] - ETA: 0s - loss: 0.3129\n",
      "val/train: 1.12\n",
      "363/363 [==============================] - 1s 2ms/step - loss: 0.3132 - val_loss: 0.3524\n",
      "Epoch 24/100\n",
      "363/363 [==============================] - ETA: 0s - loss: 0.3112\n",
      "val/train: 1.12\n",
      "363/363 [==============================] - 1s 2ms/step - loss: 0.3112 - val_loss: 0.3474\n",
      "Epoch 25/100\n",
      "344/363 [===========================>..] - ETA: 0s - loss: 0.3128\n",
      "val/train: 1.09\n",
      "363/363 [==============================] - 1s 2ms/step - loss: 0.3113 - val_loss: 0.3388\n",
      "Epoch 26/100\n",
      "351/363 [============================>.] - ETA: 0s - loss: 0.3126\n",
      "val/train: 1.10\n",
      "363/363 [==============================] - 1s 2ms/step - loss: 0.3097 - val_loss: 0.3417\n",
      "Epoch 27/100\n",
      "359/363 [============================>.] - ETA: 0s - loss: 0.3101\n",
      "val/train: 1.10\n",
      "363/363 [==============================] - 1s 2ms/step - loss: 0.3100 - val_loss: 0.3404\n",
      "Epoch 28/100\n",
      "352/363 [============================>.] - ETA: 0s - loss: 0.3098\n",
      "val/train: 1.11\n",
      "363/363 [==============================] - 1s 2ms/step - loss: 0.3112 - val_loss: 0.3452\n",
      "Epoch 29/100\n",
      "360/363 [============================>.] - ETA: 0s - loss: 0.3131\n",
      "val/train: 1.12\n",
      "363/363 [==============================] - 1s 2ms/step - loss: 0.3140 - val_loss: 0.3509\n",
      "Epoch 30/100\n",
      "344/363 [===========================>..] - ETA: 0s - loss: 0.3101\n",
      "val/train: 1.11\n",
      "363/363 [==============================] - 1s 2ms/step - loss: 0.3107 - val_loss: 0.3439\n"
     ]
    }
   ],
   "source": [
    "history = model.fit(X_train, y_train, epochs=100, \n",
    "                    validation_data=(X_valid, y_valid),\n",
    "                    callbacks=[checkpoint_cb, early_stopping_cb, \n",
    "                               printvaltrain_cb])"
   ]
  },
  {
   "cell_type": "markdown",
   "id": "geological-reservation",
   "metadata": {},
   "source": [
    "Se puede implementar:\n",
    "\n",
    "* `on_train_begin()`\n",
    "* `on_train_end()`\n",
    "* `on_epoch_begin()`\n",
    "* `on_epoch_end()`\n",
    "* `on_batch_begin()`\n",
    "* `on_batch_end()`\n",
    "\n",
    "También se puede usar *callbacks* en la evaluación del modelo (cuando usamos `evaluate()`) y en las predicciones (cuando usamos `predict()`):\n",
    "\n",
    "* `on_test_begin()`\n",
    "* `on_test_end()`\n",
    "* `on_test_batch_begin()`\n",
    "* `on_test_batch_end()`\n",
    "\n",
    "\n",
    "* `on_predict_begin()`\n",
    "* `on_predict_end()`\n",
    "* `on_predict_batch_begin()`\n",
    "* `on_predict_batch_end()`"
   ]
  },
  {
   "cell_type": "markdown",
   "id": "expected-laundry",
   "metadata": {},
   "source": [
    "### TensorBoard\n",
    "\n",
    "*TensorBoard* es una herramienta interactiva que permite visualizar las curvas de aprendizaje del modelo durante el proceso de entrenamiento, comparar entre varias ejecuciones del modelo, visualizar el gráfo de cómputo, y mucho más...\n",
    "\n",
    "Para usarlo, hay que guardar los datos del modelo en archivos de binario que se llaman **archivos de eventos** (*event files*). Cada record de datos binarios se llama un **resumen** (*summary*).\n",
    "\n",
    "*TensorBoard* monitorea la carpeta de *logs*, y automaticamente puede detectar cambios y actualizar las visualizaciones. Así se puede visualizar en (casi) tiempo real el rendiemiento del modelo durante el entrenamiento.\n",
    "\n",
    "La mejor forma de organizar los *logs* es crear una carpeta principal de *logs*, y crear una sub-carpeta nueva cada vez que ejecutamos el modelo.\n",
    "\n",
    "Ahora vamos a definir la carpeta raiz de *logs*, y una función para generar las rutas a las sub-carpetas basadas en la fecha actual y la hora."
   ]
  },
  {
   "cell_type": "code",
   "execution_count": 25,
   "id": "unlimited-grounds",
   "metadata": {},
   "outputs": [],
   "source": [
    "import os\n",
    "root_logdir = os.path.join(os.curdir, \"my_logs\")"
   ]
  },
  {
   "cell_type": "code",
   "execution_count": 26,
   "id": "distinct-greek",
   "metadata": {},
   "outputs": [],
   "source": [
    "def get_run_logdir():\n",
    "    import time\n",
    "    run_id = time.strftime(\"run_%Y_%m_%d-%H_%M_%S\")\n",
    "    return os.path.join(root_logdir, run_id)"
   ]
  },
  {
   "cell_type": "code",
   "execution_count": 27,
   "id": "efficient-uniform",
   "metadata": {},
   "outputs": [],
   "source": [
    "run_logdir = get_run_logdir()"
   ]
  },
  {
   "cell_type": "code",
   "execution_count": 28,
   "id": "valuable-garlic",
   "metadata": {},
   "outputs": [
    {
     "data": {
      "text/plain": [
       "'./my_logs/run_2022_07_06-15_57_46'"
      ]
     },
     "execution_count": 28,
     "metadata": {},
     "output_type": "execute_result"
    }
   ],
   "source": [
    "run_logdir"
   ]
  },
  {
   "cell_type": "code",
   "execution_count": 29,
   "id": "supported-johns",
   "metadata": {},
   "outputs": [],
   "source": [
    "tensorboard_cb = keras.callbacks.TensorBoard(run_logdir)"
   ]
  },
  {
   "cell_type": "code",
   "execution_count": 30,
   "id": "special-bennett",
   "metadata": {},
   "outputs": [],
   "source": [
    "model = keras.models.Sequential([\n",
    "    keras.layers.Dense(30, activation=\"relu\", input_shape=X_train.shape[1:]),\n",
    "    keras.layers.Dense(1)\n",
    "])"
   ]
  },
  {
   "cell_type": "code",
   "execution_count": 32,
   "id": "dense-david",
   "metadata": {},
   "outputs": [],
   "source": [
    "optimizer = keras.optimizers.SGD(lr=0.05)\n",
    "model.compile(loss=\"mean_squared_error\", optimizer=optimizer)"
   ]
  },
  {
   "cell_type": "code",
   "execution_count": 33,
   "id": "wired-conditions",
   "metadata": {},
   "outputs": [
    {
     "name": "stdout",
     "output_type": "stream",
     "text": [
      "Epoch 1/30\n",
      "  1/363 [..............................] - ETA: 0s - loss: 4.4870WARNING:tensorflow:From /home/graeme/anaconda3/lib/python3.7/site-packages/tensorflow/python/ops/summary_ops_v2.py:1277: stop (from tensorflow.python.eager.profiler) is deprecated and will be removed after 2020-07-01.\n",
      "Instructions for updating:\n",
      "use `tf.profiler.experimental.stop` instead.\n",
      "  2/363 [..............................] - ETA: 28s - loss: 3.7443WARNING:tensorflow:Callbacks method `on_train_batch_end` is slow compared to the batch time (batch time: 0.0027s vs `on_train_batch_end` time: 0.1567s). Check your callbacks.\n",
      "363/363 [==============================] - 1s 3ms/step - loss: 0.8584 - val_loss: 0.5094\n",
      "Epoch 2/30\n",
      "363/363 [==============================] - 1s 2ms/step - loss: 0.4683 - val_loss: 0.4509\n",
      "Epoch 3/30\n",
      "363/363 [==============================] - 1s 2ms/step - loss: 0.4324 - val_loss: 0.3777\n",
      "Epoch 4/30\n",
      "363/363 [==============================] - 1s 2ms/step - loss: 0.4047 - val_loss: 0.3676\n",
      "Epoch 5/30\n",
      "363/363 [==============================] - 1s 2ms/step - loss: 0.3979 - val_loss: 0.3605\n",
      "Epoch 6/30\n",
      "363/363 [==============================] - 1s 2ms/step - loss: 0.3886 - val_loss: 0.3806\n",
      "Epoch 7/30\n",
      "363/363 [==============================] - 1s 2ms/step - loss: 0.4118 - val_loss: 0.3488\n",
      "Epoch 8/30\n",
      "363/363 [==============================] - 1s 2ms/step - loss: 0.4069 - val_loss: 0.4177\n",
      "Epoch 9/30\n",
      "363/363 [==============================] - 1s 2ms/step - loss: 0.3898 - val_loss: 0.3522\n",
      "Epoch 10/30\n",
      "363/363 [==============================] - 1s 2ms/step - loss: 0.3746 - val_loss: 0.3559\n",
      "Epoch 11/30\n",
      "363/363 [==============================] - 1s 2ms/step - loss: 0.3743 - val_loss: 0.3372\n",
      "Epoch 12/30\n",
      "363/363 [==============================] - 1s 2ms/step - loss: 0.3739 - val_loss: 0.3524\n",
      "Epoch 13/30\n",
      "363/363 [==============================] - 1s 2ms/step - loss: 0.3657 - val_loss: 0.3496\n",
      "Epoch 14/30\n",
      "363/363 [==============================] - 1s 2ms/step - loss: 0.9142 - val_loss: 0.3831\n",
      "Epoch 15/30\n",
      "363/363 [==============================] - 1s 2ms/step - loss: 0.4708 - val_loss: 0.3906\n",
      "Epoch 16/30\n",
      "363/363 [==============================] - 1s 2ms/step - loss: 0.4180 - val_loss: 0.4031\n",
      "Epoch 17/30\n",
      "363/363 [==============================] - 1s 2ms/step - loss: 0.3984 - val_loss: 0.3851\n",
      "Epoch 18/30\n",
      "363/363 [==============================] - 1s 2ms/step - loss: 0.3867 - val_loss: 0.3425\n",
      "Epoch 19/30\n",
      "363/363 [==============================] - 1s 2ms/step - loss: 0.3954 - val_loss: 0.3370\n",
      "Epoch 20/30\n",
      "363/363 [==============================] - 1s 2ms/step - loss: 0.3824 - val_loss: 0.3325\n",
      "Epoch 21/30\n",
      "363/363 [==============================] - 1s 2ms/step - loss: 0.3743 - val_loss: 0.4751\n",
      "Epoch 22/30\n",
      "363/363 [==============================] - 1s 2ms/step - loss: 0.4004 - val_loss: 0.3368\n",
      "Epoch 23/30\n",
      "363/363 [==============================] - 1s 2ms/step - loss: 0.3799 - val_loss: 0.3414\n",
      "Epoch 24/30\n",
      "363/363 [==============================] - 1s 2ms/step - loss: 0.3740 - val_loss: 0.3358\n",
      "Epoch 25/30\n",
      "363/363 [==============================] - 1s 2ms/step - loss: 0.3657 - val_loss: 0.3261\n",
      "Epoch 26/30\n",
      "363/363 [==============================] - 1s 2ms/step - loss: 0.3698 - val_loss: 0.3246\n",
      "Epoch 27/30\n",
      "363/363 [==============================] - 1s 2ms/step - loss: 0.3578 - val_loss: 0.3590\n",
      "Epoch 28/30\n",
      "363/363 [==============================] - 1s 2ms/step - loss: 0.3565 - val_loss: 0.4111\n",
      "Epoch 29/30\n",
      "363/363 [==============================] - 1s 2ms/step - loss: 0.3796 - val_loss: 0.3630\n",
      "Epoch 30/30\n",
      "363/363 [==============================] - 1s 2ms/step - loss: 0.3840 - val_loss: 0.3270\n"
     ]
    }
   ],
   "source": [
    "history = model.fit(X_train, y_train, epochs=30,\n",
    "                    validation_data=(X_valid, y_valid),\n",
    "                    callbacks=[tensorboard_cb])"
   ]
  },
  {
   "cell_type": "code",
   "execution_count": 34,
   "id": "color-dublin",
   "metadata": {},
   "outputs": [],
   "source": [
    "run_logdir = get_run_logdir()"
   ]
  },
  {
   "cell_type": "code",
   "execution_count": 35,
   "id": "false-stephen",
   "metadata": {},
   "outputs": [
    {
     "data": {
      "text/plain": [
       "'./my_logs/run_2022_07_06-15_59_50'"
      ]
     },
     "execution_count": 35,
     "metadata": {},
     "output_type": "execute_result"
    }
   ],
   "source": [
    "run_logdir"
   ]
  },
  {
   "cell_type": "code",
   "execution_count": 36,
   "id": "brief-noise",
   "metadata": {},
   "outputs": [],
   "source": [
    "tensorboard_cb = keras.callbacks.TensorBoard(run_logdir)"
   ]
  },
  {
   "cell_type": "code",
   "execution_count": 37,
   "id": "ignored-worth",
   "metadata": {},
   "outputs": [],
   "source": [
    "optimizer = keras.optimizers.SGD(lr=0.001)\n",
    "model.compile(loss=\"mean_squared_error\", optimizer=optimizer)"
   ]
  },
  {
   "cell_type": "code",
   "execution_count": 38,
   "id": "enhanced-initial",
   "metadata": {},
   "outputs": [
    {
     "name": "stdout",
     "output_type": "stream",
     "text": [
      "Epoch 1/30\n",
      "  1/363 [..............................] - ETA: 0s - loss: 0.2265WARNING:tensorflow:Callbacks method `on_train_batch_end` is slow compared to the batch time (batch time: 0.0024s vs `on_train_batch_end` time: 0.0173s). Check your callbacks.\n",
      "363/363 [==============================] - 1s 2ms/step - loss: 0.3485 - val_loss: 0.3177\n",
      "Epoch 2/30\n",
      "363/363 [==============================] - 1s 2ms/step - loss: 0.3460 - val_loss: 0.3165\n",
      "Epoch 3/30\n",
      "363/363 [==============================] - 1s 2ms/step - loss: 0.3444 - val_loss: 0.3154\n",
      "Epoch 4/30\n",
      "363/363 [==============================] - 1s 2ms/step - loss: 0.3433 - val_loss: 0.3148\n",
      "Epoch 5/30\n",
      "363/363 [==============================] - 1s 2ms/step - loss: 0.3425 - val_loss: 0.3142\n",
      "Epoch 6/30\n",
      "363/363 [==============================] - 1s 2ms/step - loss: 0.3420 - val_loss: 0.3137\n",
      "Epoch 7/30\n",
      "363/363 [==============================] - 1s 2ms/step - loss: 0.3415 - val_loss: 0.3136\n",
      "Epoch 8/30\n",
      "363/363 [==============================] - 1s 2ms/step - loss: 0.3409 - val_loss: 0.3131\n",
      "Epoch 9/30\n",
      "363/363 [==============================] - 1s 2ms/step - loss: 0.3407 - val_loss: 0.3130\n",
      "Epoch 10/30\n",
      "363/363 [==============================] - 1s 2ms/step - loss: 0.3403 - val_loss: 0.3127\n",
      "Epoch 11/30\n",
      "363/363 [==============================] - 1s 2ms/step - loss: 0.3399 - val_loss: 0.3132\n",
      "Epoch 12/30\n",
      "363/363 [==============================] - 1s 2ms/step - loss: 0.3398 - val_loss: 0.3127\n",
      "Epoch 13/30\n",
      "363/363 [==============================] - 1s 2ms/step - loss: 0.3394 - val_loss: 0.3124\n",
      "Epoch 14/30\n",
      "363/363 [==============================] - 1s 2ms/step - loss: 0.3392 - val_loss: 0.3120\n",
      "Epoch 15/30\n",
      "363/363 [==============================] - 1s 2ms/step - loss: 0.3387 - val_loss: 0.3123\n",
      "Epoch 16/30\n",
      "363/363 [==============================] - 1s 2ms/step - loss: 0.3386 - val_loss: 0.3119\n",
      "Epoch 17/30\n",
      "363/363 [==============================] - 1s 2ms/step - loss: 0.3385 - val_loss: 0.3119\n",
      "Epoch 18/30\n",
      "363/363 [==============================] - 1s 2ms/step - loss: 0.3384 - val_loss: 0.3118\n",
      "Epoch 19/30\n",
      "363/363 [==============================] - 1s 2ms/step - loss: 0.3378 - val_loss: 0.3119\n",
      "Epoch 20/30\n",
      "363/363 [==============================] - 1s 2ms/step - loss: 0.3378 - val_loss: 0.3114\n",
      "Epoch 21/30\n",
      "363/363 [==============================] - 1s 2ms/step - loss: 0.3376 - val_loss: 0.3114\n",
      "Epoch 22/30\n",
      "363/363 [==============================] - 1s 2ms/step - loss: 0.3374 - val_loss: 0.3113\n",
      "Epoch 23/30\n",
      "363/363 [==============================] - 1s 2ms/step - loss: 0.3373 - val_loss: 0.3108\n",
      "Epoch 24/30\n",
      "363/363 [==============================] - 1s 2ms/step - loss: 0.3370 - val_loss: 0.3112\n",
      "Epoch 25/30\n",
      "363/363 [==============================] - 1s 2ms/step - loss: 0.3368 - val_loss: 0.3113\n",
      "Epoch 26/30\n",
      "363/363 [==============================] - 1s 2ms/step - loss: 0.3368 - val_loss: 0.3112\n",
      "Epoch 27/30\n",
      "363/363 [==============================] - 1s 2ms/step - loss: 0.3366 - val_loss: 0.3109\n",
      "Epoch 28/30\n",
      "363/363 [==============================] - 1s 2ms/step - loss: 0.3363 - val_loss: 0.3107\n",
      "Epoch 29/30\n",
      "363/363 [==============================] - 1s 2ms/step - loss: 0.3363 - val_loss: 0.3103\n",
      "Epoch 30/30\n",
      "363/363 [==============================] - 1s 2ms/step - loss: 0.3360 - val_loss: 0.3105\n"
     ]
    }
   ],
   "source": [
    "history = model.fit(X_train, y_train, epochs=30,\n",
    "                    validation_data=(X_valid, y_valid),\n",
    "                    callbacks=[tensorboard_cb])"
   ]
  },
  {
   "cell_type": "code",
   "execution_count": 39,
   "id": "disciplinary-quantum",
   "metadata": {},
   "outputs": [
    {
     "name": "stdout",
     "output_type": "stream",
     "text": [
      "run_2022_07_06-15_57_46  run_2022_07_06-15_59_50\r\n"
     ]
    }
   ],
   "source": [
    "!ls my_logs/"
   ]
  },
  {
   "cell_type": "code",
   "execution_count": 41,
   "id": "smart-wrist",
   "metadata": {},
   "outputs": [
    {
     "name": "stdout",
     "output_type": "stream",
     "text": [
      "train  validation\r\n"
     ]
    }
   ],
   "source": [
    "!ls my_logs/run_2022_07_06-15_57_46/"
   ]
  },
  {
   "cell_type": "code",
   "execution_count": 42,
   "id": "french-cause",
   "metadata": {},
   "outputs": [
    {
     "name": "stdout",
     "output_type": "stream",
     "text": [
      "events.out.tfevents.1657137567.graeme-GL752VW.4046.57983.v2  plugins\r\n",
      "events.out.tfevents.1657137567.graeme-GL752VW.profile-empty\r\n"
     ]
    }
   ],
   "source": [
    "!ls my_logs/run_2022_07_06-15_57_46/train/"
   ]
  },
  {
   "cell_type": "markdown",
   "id": "precious-contrary",
   "metadata": {},
   "source": [
    "Tenemos archivos de eventos, pero también tenemos información de *profiling* (cuanto tiempo demora la ejecución de cada parte del modelo). Esta información es muy útil para ubicar partes del modelo que corren muy lento y beneficiarían de optimización (paralelización, etc.)"
   ]
  },
  {
   "cell_type": "markdown",
   "id": "marked-warren",
   "metadata": {},
   "source": [
    "Se puede inicializar *TensorBoard* en el terminal:\n",
    "\n",
    "`tensorboard --logdir=./my_logs --port=6006`"
   ]
  },
  {
   "cell_type": "markdown",
   "id": "controlling-mirror",
   "metadata": {},
   "source": [
    "También se puede usar *TensorBoard* directamente en el Notebook:"
   ]
  },
  {
   "cell_type": "code",
   "execution_count": 43,
   "id": "radio-parameter",
   "metadata": {},
   "outputs": [],
   "source": [
    "%load_ext tensorboard"
   ]
  },
  {
   "cell_type": "code",
   "execution_count": 44,
   "id": "increasing-video",
   "metadata": {},
   "outputs": [
    {
     "data": {
      "text/html": [
       "\n",
       "      <iframe id=\"tensorboard-frame-95d2261da8d20d98\" width=\"100%\" height=\"800\" frameborder=\"0\">\n",
       "      </iframe>\n",
       "      <script>\n",
       "        (function() {\n",
       "          const frame = document.getElementById(\"tensorboard-frame-95d2261da8d20d98\");\n",
       "          const url = new URL(\"/\", window.location);\n",
       "          const port = 6006;\n",
       "          if (port) {\n",
       "            url.port = port;\n",
       "          }\n",
       "          frame.src = url;\n",
       "        })();\n",
       "      </script>\n",
       "    "
      ],
      "text/plain": [
       "<IPython.core.display.HTML object>"
      ]
     },
     "metadata": {},
     "output_type": "display_data"
    }
   ],
   "source": [
    "%tensorboard --logdir=./my_logs --port=6006"
   ]
  },
  {
   "cell_type": "markdown",
   "id": "convenient-playlist",
   "metadata": {},
   "source": [
    "También se puede usar *TensorFlow* para guardar información que después se puede visualizar en *TensorBoard*."
   ]
  },
  {
   "cell_type": "code",
   "execution_count": 55,
   "id": "weird-thickness",
   "metadata": {},
   "outputs": [],
   "source": [
    "import numpy as np"
   ]
  },
  {
   "cell_type": "code",
   "execution_count": 53,
   "id": "alternate-stake",
   "metadata": {},
   "outputs": [],
   "source": [
    "test_logdir = get_run_logdir()"
   ]
  },
  {
   "cell_type": "code",
   "execution_count": 54,
   "id": "english-minnesota",
   "metadata": {},
   "outputs": [],
   "source": [
    "writer = tf.summary.create_file_writer(test_logdir)"
   ]
  },
  {
   "cell_type": "code",
   "execution_count": 56,
   "id": "wrapped-jimmy",
   "metadata": {},
   "outputs": [],
   "source": [
    "with writer.as_default():\n",
    "    for step in range(1, 1000 + 1):\n",
    "        tf.summary.scalar(\"my_scalar\", np.sin(step / 10), step=step)\n",
    "        data = (np.random.randn(100) + 2) * step / 100\n",
    "        tf.summary.histogram(\"my_hist\", data, buckets=50, step=step)\n",
    "        images = np.random.rand(2, 32, 32, 3)\n",
    "        tf.summary.image(\"my_images\", images * step / 1000, step=step)\n",
    "        texts = [\"This step is \" + str(step), \"Its square is \" + str(step**2)]\n",
    "        tf.summary.text(\"my_text\", texts, step=step)\n",
    "        sine_wave = tf.math.sin(tf.range(12000) / 48000 * 2 * np.pi * step)\n",
    "        audio = tf.reshape(tf.cast(sine_wave, tf.float32), [1, -1, 1])\n",
    "        tf.summary.audio(\"my_audio\", audio, sample_rate=48000, step=step)"
   ]
  },
  {
   "cell_type": "code",
   "execution_count": 57,
   "id": "scenic-deadline",
   "metadata": {},
   "outputs": [
    {
     "name": "stdout",
     "output_type": "stream",
     "text": [
      "run_2022_07_05-23_24_33  run_2022_07_06-12_19_27  run_2022_07_06-12_29_26\r\n"
     ]
    }
   ],
   "source": [
    "!ls my_logs/"
   ]
  },
  {
   "cell_type": "markdown",
   "id": "directed-collector",
   "metadata": {},
   "source": [
    "### Ajuste de los hiperparámetros\n",
    "\n",
    "Hay muchos hiperparámetros en una red neuronal: se puede cambiar la arquitectura de la red, el número de nueronas, las funciones de activación, las conexiones entre las nueronas, etc.\n",
    "\n",
    "Una opción es usar `GridSearchCV` o `RandomizedSearchCV` como lo que hemos visto antes. Para hacer eso, hay que poner la construcción del modelo dentro de una función:"
   ]
  },
  {
   "cell_type": "code",
   "execution_count": 10,
   "id": "digital-escape",
   "metadata": {},
   "outputs": [],
   "source": [
    "def build_model(n_hidden=1, n_neurons=30, learning_rate=3e-3, input_shape=[8]):\n",
    "    model = keras.models.Sequential()\n",
    "    model.add(keras.layers.InputLayer(input_shape=input_shape))\n",
    "    for layer in range(n_hidden):\n",
    "        model.add(keras.layers.Dense(n_neurons, activation=\"relu\"))\n",
    "    model.add(keras.layers.Dense(1))\n",
    "    optimizer = keras.optimizers.SGD(lr=learning_rate)\n",
    "    model.compile(loss=\"mse\", optimizer=optimizer)\n",
    "    return model"
   ]
  },
  {
   "cell_type": "markdown",
   "id": "computational-rolling",
   "metadata": {},
   "source": [
    "Ahora usamos `KerasRegressor` que es simplemente una clase básica para tener un interfaz con nuestro modelo como si fuera un regresor de Scikit-Learn:"
   ]
  },
  {
   "cell_type": "code",
   "execution_count": 11,
   "id": "radio-variance",
   "metadata": {},
   "outputs": [],
   "source": [
    "keras_reg = keras.wrappers.scikit_learn.KerasRegressor(build_model)"
   ]
  },
  {
   "cell_type": "code",
   "execution_count": 12,
   "id": "progressive-madagascar",
   "metadata": {},
   "outputs": [
    {
     "name": "stdout",
     "output_type": "stream",
     "text": [
      "Epoch 1/100\n",
      "363/363 [==============================] - 1s 2ms/step - loss: 1.3077 - val_loss: 0.7346\n",
      "Epoch 2/100\n",
      "363/363 [==============================] - 1s 2ms/step - loss: 0.7197 - val_loss: 0.6269\n",
      "Epoch 3/100\n",
      "363/363 [==============================] - 1s 2ms/step - loss: 0.6219 - val_loss: 0.5691\n",
      "Epoch 4/100\n",
      "363/363 [==============================] - 1s 2ms/step - loss: 0.5747 - val_loss: 0.5303\n",
      "Epoch 5/100\n",
      "363/363 [==============================] - 1s 2ms/step - loss: 0.5444 - val_loss: 0.5111\n",
      "Epoch 6/100\n",
      "363/363 [==============================] - 1s 2ms/step - loss: 0.5238 - val_loss: 0.4927\n",
      "Epoch 7/100\n",
      "363/363 [==============================] - 1s 2ms/step - loss: 0.5158 - val_loss: 0.4826\n",
      "Epoch 8/100\n",
      "363/363 [==============================] - 1s 2ms/step - loss: 0.5022 - val_loss: 0.4735\n",
      "Epoch 9/100\n",
      "363/363 [==============================] - 1s 2ms/step - loss: 0.4984 - val_loss: 0.4668\n",
      "Epoch 10/100\n",
      "363/363 [==============================] - 1s 2ms/step - loss: 0.4858 - val_loss: 0.4611\n",
      "Epoch 11/100\n",
      "363/363 [==============================] - 1s 2ms/step - loss: 0.4820 - val_loss: 0.4553\n",
      "Epoch 12/100\n",
      "363/363 [==============================] - 1s 2ms/step - loss: 0.4762 - val_loss: 0.4505\n",
      "Epoch 13/100\n",
      "363/363 [==============================] - 1s 2ms/step - loss: 0.4702 - val_loss: 0.4466\n",
      "Epoch 14/100\n",
      "363/363 [==============================] - 1s 2ms/step - loss: 0.4679 - val_loss: 0.4647\n",
      "Epoch 15/100\n",
      "363/363 [==============================] - 1s 2ms/step - loss: 0.4647 - val_loss: 0.4385\n",
      "Epoch 16/100\n",
      "363/363 [==============================] - 1s 2ms/step - loss: 0.4579 - val_loss: 0.4343\n",
      "Epoch 17/100\n",
      "363/363 [==============================] - 1s 2ms/step - loss: 0.4544 - val_loss: 0.4307\n",
      "Epoch 18/100\n",
      "363/363 [==============================] - 1s 2ms/step - loss: 0.4510 - val_loss: 0.4268\n",
      "Epoch 19/100\n",
      "363/363 [==============================] - 1s 2ms/step - loss: 0.4468 - val_loss: 0.4267\n",
      "Epoch 20/100\n",
      "363/363 [==============================] - 1s 3ms/step - loss: 0.4433 - val_loss: 0.4201\n",
      "Epoch 21/100\n",
      "363/363 [==============================] - 1s 2ms/step - loss: 0.4408 - val_loss: 0.4224\n",
      "Epoch 22/100\n",
      "363/363 [==============================] - 1s 2ms/step - loss: 0.4386 - val_loss: 0.4146\n",
      "Epoch 23/100\n",
      "363/363 [==============================] - 1s 2ms/step - loss: 0.4406 - val_loss: 0.4177\n",
      "Epoch 24/100\n",
      "363/363 [==============================] - 1s 2ms/step - loss: 0.4369 - val_loss: 0.4103\n",
      "Epoch 25/100\n",
      "363/363 [==============================] - 1s 2ms/step - loss: 0.4321 - val_loss: 0.4070\n",
      "Epoch 26/100\n",
      "363/363 [==============================] - 1s 2ms/step - loss: 0.4274 - val_loss: 0.4060\n",
      "Epoch 27/100\n",
      "363/363 [==============================] - 1s 2ms/step - loss: 0.4261 - val_loss: 0.4021\n",
      "Epoch 28/100\n",
      "363/363 [==============================] - 1s 2ms/step - loss: 0.4230 - val_loss: 0.4001\n",
      "Epoch 29/100\n",
      "363/363 [==============================] - 1s 2ms/step - loss: 0.4210 - val_loss: 0.4082\n",
      "Epoch 30/100\n",
      "363/363 [==============================] - 1s 2ms/step - loss: 0.4249 - val_loss: 0.3994\n",
      "Epoch 31/100\n",
      "363/363 [==============================] - 1s 2ms/step - loss: 0.4212 - val_loss: 0.3941\n",
      "Epoch 32/100\n",
      "363/363 [==============================] - 1s 2ms/step - loss: 0.4150 - val_loss: 0.3939\n",
      "Epoch 33/100\n",
      "363/363 [==============================] - 1s 2ms/step - loss: 0.4169 - val_loss: 0.3945\n",
      "Epoch 34/100\n",
      "363/363 [==============================] - 1s 2ms/step - loss: 0.4144 - val_loss: 0.4175\n",
      "Epoch 35/100\n",
      "363/363 [==============================] - 1s 2ms/step - loss: 0.4110 - val_loss: 0.3864\n",
      "Epoch 36/100\n",
      "363/363 [==============================] - 1s 2ms/step - loss: 0.4066 - val_loss: 0.3853\n",
      "Epoch 37/100\n",
      "363/363 [==============================] - 1s 2ms/step - loss: 0.4066 - val_loss: 0.3855\n",
      "Epoch 38/100\n",
      "363/363 [==============================] - 1s 2ms/step - loss: 0.4035 - val_loss: 0.3830\n",
      "Epoch 39/100\n",
      "363/363 [==============================] - 1s 2ms/step - loss: 0.4062 - val_loss: 0.3825\n",
      "Epoch 40/100\n",
      "363/363 [==============================] - 1s 2ms/step - loss: 0.3998 - val_loss: 0.3797\n",
      "Epoch 41/100\n",
      "363/363 [==============================] - 1s 2ms/step - loss: 0.3987 - val_loss: 0.3782\n",
      "Epoch 42/100\n",
      "363/363 [==============================] - 1s 2ms/step - loss: 0.3967 - val_loss: 0.3778\n",
      "Epoch 43/100\n",
      "363/363 [==============================] - 1s 2ms/step - loss: 0.3963 - val_loss: 0.3802\n",
      "Epoch 44/100\n",
      "363/363 [==============================] - 1s 2ms/step - loss: 0.3938 - val_loss: 0.3748\n",
      "Epoch 45/100\n",
      "363/363 [==============================] - 1s 2ms/step - loss: 0.3983 - val_loss: 0.3738\n",
      "Epoch 46/100\n",
      "363/363 [==============================] - 1s 2ms/step - loss: 0.3945 - val_loss: 0.3729\n",
      "Epoch 47/100\n",
      "363/363 [==============================] - 1s 2ms/step - loss: 0.3894 - val_loss: 0.3709\n",
      "Epoch 48/100\n",
      "363/363 [==============================] - 1s 2ms/step - loss: 0.3885 - val_loss: 0.3702\n",
      "Epoch 49/100\n",
      "363/363 [==============================] - 1s 2ms/step - loss: 0.3879 - val_loss: 0.3687\n",
      "Epoch 50/100\n",
      "363/363 [==============================] - 1s 2ms/step - loss: 0.3856 - val_loss: 0.3699\n",
      "Epoch 51/100\n",
      "363/363 [==============================] - 1s 2ms/step - loss: 0.3852 - val_loss: 0.3678\n",
      "Epoch 52/100\n",
      "363/363 [==============================] - 1s 2ms/step - loss: 0.3831 - val_loss: 0.3670\n",
      "Epoch 53/100\n",
      "363/363 [==============================] - 1s 2ms/step - loss: 0.3826 - val_loss: 0.3648\n",
      "Epoch 54/100\n",
      "363/363 [==============================] - 1s 2ms/step - loss: 0.3809 - val_loss: 0.3636\n",
      "Epoch 55/100\n",
      "363/363 [==============================] - 1s 2ms/step - loss: 0.3802 - val_loss: 0.3663\n",
      "Epoch 56/100\n",
      "363/363 [==============================] - 1s 2ms/step - loss: 0.3791 - val_loss: 0.3647\n",
      "Epoch 57/100\n",
      "363/363 [==============================] - 1s 2ms/step - loss: 0.3781 - val_loss: 0.3614\n",
      "Epoch 58/100\n",
      "363/363 [==============================] - 1s 2ms/step - loss: 0.3781 - val_loss: 0.3631\n",
      "Epoch 59/100\n",
      "363/363 [==============================] - 1s 2ms/step - loss: 0.3760 - val_loss: 0.3581\n",
      "Epoch 60/100\n",
      "363/363 [==============================] - 1s 2ms/step - loss: 0.3757 - val_loss: 0.3585\n",
      "Epoch 61/100\n",
      "363/363 [==============================] - 1s 2ms/step - loss: 0.3748 - val_loss: 0.3562\n",
      "Epoch 62/100\n",
      "363/363 [==============================] - 1s 2ms/step - loss: 0.3748 - val_loss: 0.3575\n",
      "Epoch 63/100\n",
      "363/363 [==============================] - 1s 2ms/step - loss: 0.3723 - val_loss: 0.3546\n",
      "Epoch 64/100\n",
      "363/363 [==============================] - 1s 2ms/step - loss: 0.3714 - val_loss: 0.3540\n",
      "Epoch 65/100\n",
      "363/363 [==============================] - 1s 2ms/step - loss: 0.3754 - val_loss: 0.3548\n",
      "Epoch 66/100\n",
      "363/363 [==============================] - 1s 2ms/step - loss: 0.3691 - val_loss: 0.3536\n",
      "Epoch 67/100\n",
      "363/363 [==============================] - 1s 2ms/step - loss: 0.3692 - val_loss: 0.3522\n",
      "Epoch 68/100\n",
      "363/363 [==============================] - 1s 2ms/step - loss: 0.3683 - val_loss: 0.3523\n",
      "Epoch 69/100\n",
      "363/363 [==============================] - 1s 2ms/step - loss: 0.3686 - val_loss: 0.3568\n",
      "Epoch 70/100\n",
      "363/363 [==============================] - 1s 2ms/step - loss: 0.3678 - val_loss: 0.3605\n",
      "Epoch 71/100\n",
      "363/363 [==============================] - 1s 2ms/step - loss: 0.3678 - val_loss: 0.4034\n",
      "Epoch 72/100\n",
      "363/363 [==============================] - 1s 2ms/step - loss: 0.3807 - val_loss: 0.3720\n",
      "Epoch 73/100\n",
      "363/363 [==============================] - 1s 2ms/step - loss: 0.3716 - val_loss: 0.3502\n",
      "Epoch 74/100\n",
      "363/363 [==============================] - 1s 2ms/step - loss: 0.3703 - val_loss: 0.3486\n",
      "Epoch 75/100\n",
      "363/363 [==============================] - 1s 2ms/step - loss: 0.3626 - val_loss: 0.3472\n",
      "Epoch 76/100\n",
      "363/363 [==============================] - 1s 2ms/step - loss: 0.3629 - val_loss: 0.3466\n",
      "Epoch 77/100\n",
      "363/363 [==============================] - 1s 2ms/step - loss: 0.3619 - val_loss: 0.3483\n",
      "Epoch 78/100\n",
      "363/363 [==============================] - 1s 2ms/step - loss: 0.3598 - val_loss: 0.3459\n",
      "Epoch 79/100\n",
      "363/363 [==============================] - 1s 2ms/step - loss: 0.3618 - val_loss: 0.3478\n",
      "Epoch 80/100\n",
      "363/363 [==============================] - 1s 2ms/step - loss: 0.3587 - val_loss: 0.3465\n",
      "Epoch 81/100\n"
     ]
    },
    {
     "name": "stdout",
     "output_type": "stream",
     "text": [
      "363/363 [==============================] - 1s 2ms/step - loss: 0.3585 - val_loss: 0.3458\n",
      "Epoch 82/100\n",
      "363/363 [==============================] - 1s 2ms/step - loss: 0.3569 - val_loss: 0.3448\n",
      "Epoch 83/100\n",
      "363/363 [==============================] - 1s 2ms/step - loss: 0.3583 - val_loss: 0.3410\n",
      "Epoch 84/100\n",
      "363/363 [==============================] - 1s 2ms/step - loss: 0.4083 - val_loss: 0.3415\n",
      "Epoch 85/100\n",
      "363/363 [==============================] - 1s 2ms/step - loss: 0.3648 - val_loss: 0.3461\n",
      "Epoch 86/100\n",
      "363/363 [==============================] - 1s 2ms/step - loss: 0.3571 - val_loss: 0.3408\n",
      "Epoch 87/100\n",
      "363/363 [==============================] - 1s 2ms/step - loss: 0.3664 - val_loss: 0.3453\n",
      "Epoch 88/100\n",
      "363/363 [==============================] - 1s 2ms/step - loss: 0.3691 - val_loss: 0.3491\n",
      "Epoch 89/100\n",
      "363/363 [==============================] - 1s 2ms/step - loss: 0.3550 - val_loss: 0.3400\n",
      "Epoch 90/100\n",
      "363/363 [==============================] - 1s 2ms/step - loss: 0.3660 - val_loss: 0.3393\n",
      "Epoch 91/100\n",
      "363/363 [==============================] - 1s 2ms/step - loss: 0.3544 - val_loss: 0.3369\n",
      "Epoch 92/100\n",
      "363/363 [==============================] - 1s 2ms/step - loss: 0.3612 - val_loss: 0.3387\n",
      "Epoch 93/100\n",
      "363/363 [==============================] - 1s 2ms/step - loss: 0.3519 - val_loss: 0.3378\n",
      "Epoch 94/100\n",
      "363/363 [==============================] - 1s 2ms/step - loss: 0.3711 - val_loss: 0.3383\n",
      "Epoch 95/100\n",
      "363/363 [==============================] - 1s 2ms/step - loss: 0.3519 - val_loss: 0.3445\n",
      "Epoch 96/100\n",
      "363/363 [==============================] - 1s 2ms/step - loss: 0.3501 - val_loss: 0.3390\n",
      "Epoch 97/100\n",
      "363/363 [==============================] - 1s 2ms/step - loss: 0.3500 - val_loss: 0.3437\n",
      "Epoch 98/100\n",
      "363/363 [==============================] - 1s 2ms/step - loss: 0.3488 - val_loss: 0.3383\n",
      "Epoch 99/100\n",
      "363/363 [==============================] - 1s 2ms/step - loss: 0.3507 - val_loss: 0.3341\n",
      "Epoch 100/100\n",
      "363/363 [==============================] - 1s 2ms/step - loss: 0.3770 - val_loss: 0.3346\n"
     ]
    },
    {
     "data": {
      "text/plain": [
       "<tensorflow.python.keras.callbacks.History at 0x7f3fb86f7f28>"
      ]
     },
     "execution_count": 12,
     "metadata": {},
     "output_type": "execute_result"
    }
   ],
   "source": [
    "keras_reg.fit(X_train, y_train, epochs=100,\n",
    "              validation_data=(X_valid, y_valid),\n",
    "              callbacks=[keras.callbacks.EarlyStopping(patience=10)])"
   ]
  },
  {
   "cell_type": "code",
   "execution_count": 13,
   "id": "billion-halloween",
   "metadata": {},
   "outputs": [
    {
     "name": "stdout",
     "output_type": "stream",
     "text": [
      "162/162 [==============================] - 0s 1ms/step - loss: 0.3523\n"
     ]
    }
   ],
   "source": [
    "mse_test = keras_reg.score(X_test, y_test)"
   ]
  },
  {
   "cell_type": "code",
   "execution_count": 15,
   "id": "painted-emerald",
   "metadata": {},
   "outputs": [],
   "source": [
    "X_new = X_test[:3]"
   ]
  },
  {
   "cell_type": "code",
   "execution_count": 16,
   "id": "later-hobby",
   "metadata": {},
   "outputs": [],
   "source": [
    "y_pred = keras_reg.predict(X_new)"
   ]
  },
  {
   "cell_type": "code",
   "execution_count": 17,
   "id": "animated-layer",
   "metadata": {},
   "outputs": [
    {
     "data": {
      "text/plain": [
       "array([3.9301076, 2.7603898, 2.9088507], dtype=float32)"
      ]
     },
     "execution_count": 17,
     "metadata": {},
     "output_type": "execute_result"
    }
   ],
   "source": [
    "y_pred"
   ]
  },
  {
   "cell_type": "code",
   "execution_count": 18,
   "id": "julian-foundation",
   "metadata": {},
   "outputs": [
    {
     "data": {
      "text/plain": [
       "array([2.568, 1.253, 1.012])"
      ]
     },
     "execution_count": 18,
     "metadata": {},
     "output_type": "execute_result"
    }
   ],
   "source": [
    "y_train[:3]"
   ]
  },
  {
   "cell_type": "markdown",
   "id": "atmospheric-future",
   "metadata": {},
   "source": [
    "Ahora usamos `RandomizedSearchCV` (mejor que `GridSearchCV` cuando hay muchos parámetros) para encontrar el mejor modelo:"
   ]
  },
  {
   "cell_type": "code",
   "execution_count": 20,
   "id": "expensive-possession",
   "metadata": {},
   "outputs": [],
   "source": [
    "from scipy.stats import reciprocal\n",
    "from sklearn.model_selection import RandomizedSearchCV"
   ]
  },
  {
   "cell_type": "code",
   "execution_count": 21,
   "id": "related-format",
   "metadata": {},
   "outputs": [],
   "source": [
    "param_distribs = {\n",
    "    \"n_hidden\": [0, 1, 2, 3],\n",
    "    \"n_neurons\": np.arange(1, 100),\n",
    "    \"learning_rate\": reciprocal(3e-4, 3e-2),\n",
    "}"
   ]
  },
  {
   "cell_type": "code",
   "execution_count": 22,
   "id": "departmental-consumption",
   "metadata": {},
   "outputs": [],
   "source": [
    "rnd_search_cv = RandomizedSearchCV(keras_reg, param_distribs, n_iter=10, cv=3)"
   ]
  },
  {
   "cell_type": "code",
   "execution_count": 24,
   "id": "abroad-oasis",
   "metadata": {},
   "outputs": [
    {
     "name": "stdout",
     "output_type": "stream",
     "text": [
      "Epoch 1/100\n",
      "242/242 [==============================] - 1s 4ms/step - loss: 1.7169 - val_loss: 0.7215\n",
      "Epoch 2/100\n",
      "242/242 [==============================] - 1s 3ms/step - loss: 0.7007 - val_loss: 0.6360\n",
      "Epoch 3/100\n",
      "242/242 [==============================] - 1s 3ms/step - loss: 0.6359 - val_loss: 0.5876\n",
      "Epoch 4/100\n",
      "242/242 [==============================] - 1s 4ms/step - loss: 0.5922 - val_loss: 0.5501\n",
      "Epoch 5/100\n",
      "242/242 [==============================] - 1s 5ms/step - loss: 0.5552 - val_loss: 0.5159\n",
      "Epoch 6/100\n",
      "242/242 [==============================] - 1s 2ms/step - loss: 0.5267 - val_loss: 0.4899\n",
      "Epoch 7/100\n",
      "242/242 [==============================] - 1s 4ms/step - loss: 0.5019 - val_loss: 0.4691\n",
      "Epoch 8/100\n",
      "242/242 [==============================] - 1s 3ms/step - loss: 0.4844 - val_loss: 0.4531\n",
      "Epoch 9/100\n",
      "242/242 [==============================] - 1s 3ms/step - loss: 0.4699 - val_loss: 0.4405\n",
      "Epoch 10/100\n",
      "242/242 [==============================] - 1s 3ms/step - loss: 0.4584 - val_loss: 0.4316\n",
      "Epoch 11/100\n",
      "242/242 [==============================] - 1s 3ms/step - loss: 0.4478 - val_loss: 0.4230\n",
      "Epoch 12/100\n",
      "242/242 [==============================] - 1s 3ms/step - loss: 0.4417 - val_loss: 0.4163\n",
      "Epoch 13/100\n",
      "242/242 [==============================] - 1s 3ms/step - loss: 0.4345 - val_loss: 0.4206\n",
      "Epoch 14/100\n",
      "242/242 [==============================] - 1s 3ms/step - loss: 0.4297 - val_loss: 0.4065\n",
      "Epoch 15/100\n",
      "242/242 [==============================] - 1s 3ms/step - loss: 0.4236 - val_loss: 0.4028\n",
      "Epoch 16/100\n",
      "242/242 [==============================] - 1s 3ms/step - loss: 0.4196 - val_loss: 0.4022\n",
      "Epoch 17/100\n",
      "242/242 [==============================] - 1s 3ms/step - loss: 0.4152 - val_loss: 0.3991\n",
      "Epoch 18/100\n",
      "242/242 [==============================] - 1s 3ms/step - loss: 0.4115 - val_loss: 0.3910\n",
      "Epoch 19/100\n",
      "242/242 [==============================] - 1s 3ms/step - loss: 0.4077 - val_loss: 0.3891\n",
      "Epoch 20/100\n",
      " 92/242 [==========>...................] - ETA: 0s - loss: 0.4089"
     ]
    },
    {
     "ename": "KeyboardInterrupt",
     "evalue": "",
     "output_type": "error",
     "traceback": [
      "\u001b[0;31m---------------------------------------------------------------------------\u001b[0m",
      "\u001b[0;31mKeyboardInterrupt\u001b[0m                         Traceback (most recent call last)",
      "\u001b[0;32m<ipython-input-24-5cf6e6ebab80>\u001b[0m in \u001b[0;36m<module>\u001b[0;34m\u001b[0m\n\u001b[1;32m      1\u001b[0m rnd_search_cv.fit(X_train, y_train, epochs=100,\n\u001b[1;32m      2\u001b[0m                   \u001b[0mvalidation_data\u001b[0m\u001b[0;34m=\u001b[0m\u001b[0;34m(\u001b[0m\u001b[0mX_valid\u001b[0m\u001b[0;34m,\u001b[0m \u001b[0my_valid\u001b[0m\u001b[0;34m)\u001b[0m\u001b[0;34m,\u001b[0m\u001b[0;34m\u001b[0m\u001b[0;34m\u001b[0m\u001b[0m\n\u001b[0;32m----> 3\u001b[0;31m                   callbacks=[keras.callbacks.EarlyStopping(patience=10)])\n\u001b[0m",
      "\u001b[0;32m~/anaconda3/lib/python3.7/site-packages/sklearn/utils/validation.py\u001b[0m in \u001b[0;36minner_f\u001b[0;34m(*args, **kwargs)\u001b[0m\n\u001b[1;32m     70\u001b[0m                           FutureWarning)\n\u001b[1;32m     71\u001b[0m         \u001b[0mkwargs\u001b[0m\u001b[0;34m.\u001b[0m\u001b[0mupdate\u001b[0m\u001b[0;34m(\u001b[0m\u001b[0;34m{\u001b[0m\u001b[0mk\u001b[0m\u001b[0;34m:\u001b[0m \u001b[0marg\u001b[0m \u001b[0;32mfor\u001b[0m \u001b[0mk\u001b[0m\u001b[0;34m,\u001b[0m \u001b[0marg\u001b[0m \u001b[0;32min\u001b[0m \u001b[0mzip\u001b[0m\u001b[0;34m(\u001b[0m\u001b[0msig\u001b[0m\u001b[0;34m.\u001b[0m\u001b[0mparameters\u001b[0m\u001b[0;34m,\u001b[0m \u001b[0margs\u001b[0m\u001b[0;34m)\u001b[0m\u001b[0;34m}\u001b[0m\u001b[0;34m)\u001b[0m\u001b[0;34m\u001b[0m\u001b[0;34m\u001b[0m\u001b[0m\n\u001b[0;32m---> 72\u001b[0;31m         \u001b[0;32mreturn\u001b[0m \u001b[0mf\u001b[0m\u001b[0;34m(\u001b[0m\u001b[0;34m**\u001b[0m\u001b[0mkwargs\u001b[0m\u001b[0;34m)\u001b[0m\u001b[0;34m\u001b[0m\u001b[0;34m\u001b[0m\u001b[0m\n\u001b[0m\u001b[1;32m     73\u001b[0m     \u001b[0;32mreturn\u001b[0m \u001b[0minner_f\u001b[0m\u001b[0;34m\u001b[0m\u001b[0;34m\u001b[0m\u001b[0m\n\u001b[1;32m     74\u001b[0m \u001b[0;34m\u001b[0m\u001b[0m\n",
      "\u001b[0;32m~/anaconda3/lib/python3.7/site-packages/sklearn/model_selection/_search.py\u001b[0m in \u001b[0;36mfit\u001b[0;34m(self, X, y, groups, **fit_params)\u001b[0m\n\u001b[1;32m    734\u001b[0m                 \u001b[0;32mreturn\u001b[0m \u001b[0mresults\u001b[0m\u001b[0;34m\u001b[0m\u001b[0;34m\u001b[0m\u001b[0m\n\u001b[1;32m    735\u001b[0m \u001b[0;34m\u001b[0m\u001b[0m\n\u001b[0;32m--> 736\u001b[0;31m             \u001b[0mself\u001b[0m\u001b[0;34m.\u001b[0m\u001b[0m_run_search\u001b[0m\u001b[0;34m(\u001b[0m\u001b[0mevaluate_candidates\u001b[0m\u001b[0;34m)\u001b[0m\u001b[0;34m\u001b[0m\u001b[0;34m\u001b[0m\u001b[0m\n\u001b[0m\u001b[1;32m    737\u001b[0m \u001b[0;34m\u001b[0m\u001b[0m\n\u001b[1;32m    738\u001b[0m         \u001b[0;31m# For multi-metric evaluation, store the best_index_, best_params_ and\u001b[0m\u001b[0;34m\u001b[0m\u001b[0;34m\u001b[0m\u001b[0;34m\u001b[0m\u001b[0m\n",
      "\u001b[0;32m~/anaconda3/lib/python3.7/site-packages/sklearn/model_selection/_search.py\u001b[0m in \u001b[0;36m_run_search\u001b[0;34m(self, evaluate_candidates)\u001b[0m\n\u001b[1;32m   1529\u001b[0m         evaluate_candidates(ParameterSampler(\n\u001b[1;32m   1530\u001b[0m             \u001b[0mself\u001b[0m\u001b[0;34m.\u001b[0m\u001b[0mparam_distributions\u001b[0m\u001b[0;34m,\u001b[0m \u001b[0mself\u001b[0m\u001b[0;34m.\u001b[0m\u001b[0mn_iter\u001b[0m\u001b[0;34m,\u001b[0m\u001b[0;34m\u001b[0m\u001b[0;34m\u001b[0m\u001b[0m\n\u001b[0;32m-> 1531\u001b[0;31m             random_state=self.random_state))\n\u001b[0m",
      "\u001b[0;32m~/anaconda3/lib/python3.7/site-packages/sklearn/model_selection/_search.py\u001b[0m in \u001b[0;36mevaluate_candidates\u001b[0;34m(candidate_params)\u001b[0m\n\u001b[1;32m    713\u001b[0m                                \u001b[0;32mfor\u001b[0m \u001b[0mparameters\u001b[0m\u001b[0;34m,\u001b[0m \u001b[0;34m(\u001b[0m\u001b[0mtrain\u001b[0m\u001b[0;34m,\u001b[0m \u001b[0mtest\u001b[0m\u001b[0;34m)\u001b[0m\u001b[0;34m\u001b[0m\u001b[0;34m\u001b[0m\u001b[0m\n\u001b[1;32m    714\u001b[0m                                in product(candidate_params,\n\u001b[0;32m--> 715\u001b[0;31m                                           cv.split(X, y, groups)))\n\u001b[0m\u001b[1;32m    716\u001b[0m \u001b[0;34m\u001b[0m\u001b[0m\n\u001b[1;32m    717\u001b[0m                 \u001b[0;32mif\u001b[0m \u001b[0mlen\u001b[0m\u001b[0;34m(\u001b[0m\u001b[0mout\u001b[0m\u001b[0;34m)\u001b[0m \u001b[0;34m<\u001b[0m \u001b[0;36m1\u001b[0m\u001b[0;34m:\u001b[0m\u001b[0;34m\u001b[0m\u001b[0;34m\u001b[0m\u001b[0m\n",
      "\u001b[0;32m~/anaconda3/lib/python3.7/site-packages/joblib/parallel.py\u001b[0m in \u001b[0;36m__call__\u001b[0;34m(self, iterable)\u001b[0m\n\u001b[1;32m   1039\u001b[0m             \u001b[0;31m# remaining jobs.\u001b[0m\u001b[0;34m\u001b[0m\u001b[0;34m\u001b[0m\u001b[0;34m\u001b[0m\u001b[0m\n\u001b[1;32m   1040\u001b[0m             \u001b[0mself\u001b[0m\u001b[0;34m.\u001b[0m\u001b[0m_iterating\u001b[0m \u001b[0;34m=\u001b[0m \u001b[0;32mFalse\u001b[0m\u001b[0;34m\u001b[0m\u001b[0;34m\u001b[0m\u001b[0m\n\u001b[0;32m-> 1041\u001b[0;31m             \u001b[0;32mif\u001b[0m \u001b[0mself\u001b[0m\u001b[0;34m.\u001b[0m\u001b[0mdispatch_one_batch\u001b[0m\u001b[0;34m(\u001b[0m\u001b[0miterator\u001b[0m\u001b[0;34m)\u001b[0m\u001b[0;34m:\u001b[0m\u001b[0;34m\u001b[0m\u001b[0;34m\u001b[0m\u001b[0m\n\u001b[0m\u001b[1;32m   1042\u001b[0m                 \u001b[0mself\u001b[0m\u001b[0;34m.\u001b[0m\u001b[0m_iterating\u001b[0m \u001b[0;34m=\u001b[0m \u001b[0mself\u001b[0m\u001b[0;34m.\u001b[0m\u001b[0m_original_iterator\u001b[0m \u001b[0;32mis\u001b[0m \u001b[0;32mnot\u001b[0m \u001b[0;32mNone\u001b[0m\u001b[0;34m\u001b[0m\u001b[0;34m\u001b[0m\u001b[0m\n\u001b[1;32m   1043\u001b[0m \u001b[0;34m\u001b[0m\u001b[0m\n",
      "\u001b[0;32m~/anaconda3/lib/python3.7/site-packages/joblib/parallel.py\u001b[0m in \u001b[0;36mdispatch_one_batch\u001b[0;34m(self, iterator)\u001b[0m\n\u001b[1;32m    857\u001b[0m                 \u001b[0;32mreturn\u001b[0m \u001b[0;32mFalse\u001b[0m\u001b[0;34m\u001b[0m\u001b[0;34m\u001b[0m\u001b[0m\n\u001b[1;32m    858\u001b[0m             \u001b[0;32melse\u001b[0m\u001b[0;34m:\u001b[0m\u001b[0;34m\u001b[0m\u001b[0;34m\u001b[0m\u001b[0m\n\u001b[0;32m--> 859\u001b[0;31m                 \u001b[0mself\u001b[0m\u001b[0;34m.\u001b[0m\u001b[0m_dispatch\u001b[0m\u001b[0;34m(\u001b[0m\u001b[0mtasks\u001b[0m\u001b[0;34m)\u001b[0m\u001b[0;34m\u001b[0m\u001b[0;34m\u001b[0m\u001b[0m\n\u001b[0m\u001b[1;32m    860\u001b[0m                 \u001b[0;32mreturn\u001b[0m \u001b[0;32mTrue\u001b[0m\u001b[0;34m\u001b[0m\u001b[0;34m\u001b[0m\u001b[0m\n\u001b[1;32m    861\u001b[0m \u001b[0;34m\u001b[0m\u001b[0m\n",
      "\u001b[0;32m~/anaconda3/lib/python3.7/site-packages/joblib/parallel.py\u001b[0m in \u001b[0;36m_dispatch\u001b[0;34m(self, batch)\u001b[0m\n\u001b[1;32m    775\u001b[0m         \u001b[0;32mwith\u001b[0m \u001b[0mself\u001b[0m\u001b[0;34m.\u001b[0m\u001b[0m_lock\u001b[0m\u001b[0;34m:\u001b[0m\u001b[0;34m\u001b[0m\u001b[0;34m\u001b[0m\u001b[0m\n\u001b[1;32m    776\u001b[0m             \u001b[0mjob_idx\u001b[0m \u001b[0;34m=\u001b[0m \u001b[0mlen\u001b[0m\u001b[0;34m(\u001b[0m\u001b[0mself\u001b[0m\u001b[0;34m.\u001b[0m\u001b[0m_jobs\u001b[0m\u001b[0;34m)\u001b[0m\u001b[0;34m\u001b[0m\u001b[0;34m\u001b[0m\u001b[0m\n\u001b[0;32m--> 777\u001b[0;31m             \u001b[0mjob\u001b[0m \u001b[0;34m=\u001b[0m \u001b[0mself\u001b[0m\u001b[0;34m.\u001b[0m\u001b[0m_backend\u001b[0m\u001b[0;34m.\u001b[0m\u001b[0mapply_async\u001b[0m\u001b[0;34m(\u001b[0m\u001b[0mbatch\u001b[0m\u001b[0;34m,\u001b[0m \u001b[0mcallback\u001b[0m\u001b[0;34m=\u001b[0m\u001b[0mcb\u001b[0m\u001b[0;34m)\u001b[0m\u001b[0;34m\u001b[0m\u001b[0;34m\u001b[0m\u001b[0m\n\u001b[0m\u001b[1;32m    778\u001b[0m             \u001b[0;31m# A job can complete so quickly than its callback is\u001b[0m\u001b[0;34m\u001b[0m\u001b[0;34m\u001b[0m\u001b[0;34m\u001b[0m\u001b[0m\n\u001b[1;32m    779\u001b[0m             \u001b[0;31m# called before we get here, causing self._jobs to\u001b[0m\u001b[0;34m\u001b[0m\u001b[0;34m\u001b[0m\u001b[0;34m\u001b[0m\u001b[0m\n",
      "\u001b[0;32m~/anaconda3/lib/python3.7/site-packages/joblib/_parallel_backends.py\u001b[0m in \u001b[0;36mapply_async\u001b[0;34m(self, func, callback)\u001b[0m\n\u001b[1;32m    206\u001b[0m     \u001b[0;32mdef\u001b[0m \u001b[0mapply_async\u001b[0m\u001b[0;34m(\u001b[0m\u001b[0mself\u001b[0m\u001b[0;34m,\u001b[0m \u001b[0mfunc\u001b[0m\u001b[0;34m,\u001b[0m \u001b[0mcallback\u001b[0m\u001b[0;34m=\u001b[0m\u001b[0;32mNone\u001b[0m\u001b[0;34m)\u001b[0m\u001b[0;34m:\u001b[0m\u001b[0;34m\u001b[0m\u001b[0;34m\u001b[0m\u001b[0m\n\u001b[1;32m    207\u001b[0m         \u001b[0;34m\"\"\"Schedule a func to be run\"\"\"\u001b[0m\u001b[0;34m\u001b[0m\u001b[0;34m\u001b[0m\u001b[0m\n\u001b[0;32m--> 208\u001b[0;31m         \u001b[0mresult\u001b[0m \u001b[0;34m=\u001b[0m \u001b[0mImmediateResult\u001b[0m\u001b[0;34m(\u001b[0m\u001b[0mfunc\u001b[0m\u001b[0;34m)\u001b[0m\u001b[0;34m\u001b[0m\u001b[0;34m\u001b[0m\u001b[0m\n\u001b[0m\u001b[1;32m    209\u001b[0m         \u001b[0;32mif\u001b[0m \u001b[0mcallback\u001b[0m\u001b[0;34m:\u001b[0m\u001b[0;34m\u001b[0m\u001b[0;34m\u001b[0m\u001b[0m\n\u001b[1;32m    210\u001b[0m             \u001b[0mcallback\u001b[0m\u001b[0;34m(\u001b[0m\u001b[0mresult\u001b[0m\u001b[0;34m)\u001b[0m\u001b[0;34m\u001b[0m\u001b[0;34m\u001b[0m\u001b[0m\n",
      "\u001b[0;32m~/anaconda3/lib/python3.7/site-packages/joblib/_parallel_backends.py\u001b[0m in \u001b[0;36m__init__\u001b[0;34m(self, batch)\u001b[0m\n\u001b[1;32m    570\u001b[0m         \u001b[0;31m# Don't delay the application, to avoid keeping the input\u001b[0m\u001b[0;34m\u001b[0m\u001b[0;34m\u001b[0m\u001b[0;34m\u001b[0m\u001b[0m\n\u001b[1;32m    571\u001b[0m         \u001b[0;31m# arguments in memory\u001b[0m\u001b[0;34m\u001b[0m\u001b[0;34m\u001b[0m\u001b[0;34m\u001b[0m\u001b[0m\n\u001b[0;32m--> 572\u001b[0;31m         \u001b[0mself\u001b[0m\u001b[0;34m.\u001b[0m\u001b[0mresults\u001b[0m \u001b[0;34m=\u001b[0m \u001b[0mbatch\u001b[0m\u001b[0;34m(\u001b[0m\u001b[0;34m)\u001b[0m\u001b[0;34m\u001b[0m\u001b[0;34m\u001b[0m\u001b[0m\n\u001b[0m\u001b[1;32m    573\u001b[0m \u001b[0;34m\u001b[0m\u001b[0m\n\u001b[1;32m    574\u001b[0m     \u001b[0;32mdef\u001b[0m \u001b[0mget\u001b[0m\u001b[0;34m(\u001b[0m\u001b[0mself\u001b[0m\u001b[0;34m)\u001b[0m\u001b[0;34m:\u001b[0m\u001b[0;34m\u001b[0m\u001b[0;34m\u001b[0m\u001b[0m\n",
      "\u001b[0;32m~/anaconda3/lib/python3.7/site-packages/joblib/parallel.py\u001b[0m in \u001b[0;36m__call__\u001b[0;34m(self)\u001b[0m\n\u001b[1;32m    261\u001b[0m         \u001b[0;32mwith\u001b[0m \u001b[0mparallel_backend\u001b[0m\u001b[0;34m(\u001b[0m\u001b[0mself\u001b[0m\u001b[0;34m.\u001b[0m\u001b[0m_backend\u001b[0m\u001b[0;34m,\u001b[0m \u001b[0mn_jobs\u001b[0m\u001b[0;34m=\u001b[0m\u001b[0mself\u001b[0m\u001b[0;34m.\u001b[0m\u001b[0m_n_jobs\u001b[0m\u001b[0;34m)\u001b[0m\u001b[0;34m:\u001b[0m\u001b[0;34m\u001b[0m\u001b[0;34m\u001b[0m\u001b[0m\n\u001b[1;32m    262\u001b[0m             return [func(*args, **kwargs)\n\u001b[0;32m--> 263\u001b[0;31m                     for func, args, kwargs in self.items]\n\u001b[0m\u001b[1;32m    264\u001b[0m \u001b[0;34m\u001b[0m\u001b[0m\n\u001b[1;32m    265\u001b[0m     \u001b[0;32mdef\u001b[0m \u001b[0m__reduce__\u001b[0m\u001b[0;34m(\u001b[0m\u001b[0mself\u001b[0m\u001b[0;34m)\u001b[0m\u001b[0;34m:\u001b[0m\u001b[0;34m\u001b[0m\u001b[0;34m\u001b[0m\u001b[0m\n",
      "\u001b[0;32m~/anaconda3/lib/python3.7/site-packages/joblib/parallel.py\u001b[0m in \u001b[0;36m<listcomp>\u001b[0;34m(.0)\u001b[0m\n\u001b[1;32m    261\u001b[0m         \u001b[0;32mwith\u001b[0m \u001b[0mparallel_backend\u001b[0m\u001b[0;34m(\u001b[0m\u001b[0mself\u001b[0m\u001b[0;34m.\u001b[0m\u001b[0m_backend\u001b[0m\u001b[0;34m,\u001b[0m \u001b[0mn_jobs\u001b[0m\u001b[0;34m=\u001b[0m\u001b[0mself\u001b[0m\u001b[0;34m.\u001b[0m\u001b[0m_n_jobs\u001b[0m\u001b[0;34m)\u001b[0m\u001b[0;34m:\u001b[0m\u001b[0;34m\u001b[0m\u001b[0;34m\u001b[0m\u001b[0m\n\u001b[1;32m    262\u001b[0m             return [func(*args, **kwargs)\n\u001b[0;32m--> 263\u001b[0;31m                     for func, args, kwargs in self.items]\n\u001b[0m\u001b[1;32m    264\u001b[0m \u001b[0;34m\u001b[0m\u001b[0m\n\u001b[1;32m    265\u001b[0m     \u001b[0;32mdef\u001b[0m \u001b[0m__reduce__\u001b[0m\u001b[0;34m(\u001b[0m\u001b[0mself\u001b[0m\u001b[0;34m)\u001b[0m\u001b[0;34m:\u001b[0m\u001b[0;34m\u001b[0m\u001b[0;34m\u001b[0m\u001b[0m\n",
      "\u001b[0;32m~/anaconda3/lib/python3.7/site-packages/sklearn/model_selection/_validation.py\u001b[0m in \u001b[0;36m_fit_and_score\u001b[0;34m(estimator, X, y, scorer, train, test, verbose, parameters, fit_params, return_train_score, return_parameters, return_n_test_samples, return_times, return_estimator, error_score)\u001b[0m\n\u001b[1;32m    529\u001b[0m             \u001b[0mestimator\u001b[0m\u001b[0;34m.\u001b[0m\u001b[0mfit\u001b[0m\u001b[0;34m(\u001b[0m\u001b[0mX_train\u001b[0m\u001b[0;34m,\u001b[0m \u001b[0;34m**\u001b[0m\u001b[0mfit_params\u001b[0m\u001b[0;34m)\u001b[0m\u001b[0;34m\u001b[0m\u001b[0;34m\u001b[0m\u001b[0m\n\u001b[1;32m    530\u001b[0m         \u001b[0;32melse\u001b[0m\u001b[0;34m:\u001b[0m\u001b[0;34m\u001b[0m\u001b[0;34m\u001b[0m\u001b[0m\n\u001b[0;32m--> 531\u001b[0;31m             \u001b[0mestimator\u001b[0m\u001b[0;34m.\u001b[0m\u001b[0mfit\u001b[0m\u001b[0;34m(\u001b[0m\u001b[0mX_train\u001b[0m\u001b[0;34m,\u001b[0m \u001b[0my_train\u001b[0m\u001b[0;34m,\u001b[0m \u001b[0;34m**\u001b[0m\u001b[0mfit_params\u001b[0m\u001b[0;34m)\u001b[0m\u001b[0;34m\u001b[0m\u001b[0;34m\u001b[0m\u001b[0m\n\u001b[0m\u001b[1;32m    532\u001b[0m \u001b[0;34m\u001b[0m\u001b[0m\n\u001b[1;32m    533\u001b[0m     \u001b[0;32mexcept\u001b[0m \u001b[0mException\u001b[0m \u001b[0;32mas\u001b[0m \u001b[0me\u001b[0m\u001b[0;34m:\u001b[0m\u001b[0;34m\u001b[0m\u001b[0;34m\u001b[0m\u001b[0m\n",
      "\u001b[0;32m~/anaconda3/lib/python3.7/site-packages/tensorflow/python/keras/wrappers/scikit_learn.py\u001b[0m in \u001b[0;36mfit\u001b[0;34m(self, x, y, **kwargs)\u001b[0m\n\u001b[1;32m    164\u001b[0m     \u001b[0mfit_args\u001b[0m\u001b[0;34m.\u001b[0m\u001b[0mupdate\u001b[0m\u001b[0;34m(\u001b[0m\u001b[0mkwargs\u001b[0m\u001b[0;34m)\u001b[0m\u001b[0;34m\u001b[0m\u001b[0;34m\u001b[0m\u001b[0m\n\u001b[1;32m    165\u001b[0m \u001b[0;34m\u001b[0m\u001b[0m\n\u001b[0;32m--> 166\u001b[0;31m     \u001b[0mhistory\u001b[0m \u001b[0;34m=\u001b[0m \u001b[0mself\u001b[0m\u001b[0;34m.\u001b[0m\u001b[0mmodel\u001b[0m\u001b[0;34m.\u001b[0m\u001b[0mfit\u001b[0m\u001b[0;34m(\u001b[0m\u001b[0mx\u001b[0m\u001b[0;34m,\u001b[0m \u001b[0my\u001b[0m\u001b[0;34m,\u001b[0m \u001b[0;34m**\u001b[0m\u001b[0mfit_args\u001b[0m\u001b[0;34m)\u001b[0m\u001b[0;34m\u001b[0m\u001b[0;34m\u001b[0m\u001b[0m\n\u001b[0m\u001b[1;32m    167\u001b[0m \u001b[0;34m\u001b[0m\u001b[0m\n\u001b[1;32m    168\u001b[0m     \u001b[0;32mreturn\u001b[0m \u001b[0mhistory\u001b[0m\u001b[0;34m\u001b[0m\u001b[0;34m\u001b[0m\u001b[0m\n",
      "\u001b[0;32m~/anaconda3/lib/python3.7/site-packages/tensorflow/python/keras/engine/training.py\u001b[0m in \u001b[0;36m_method_wrapper\u001b[0;34m(self, *args, **kwargs)\u001b[0m\n\u001b[1;32m    106\u001b[0m   \u001b[0;32mdef\u001b[0m \u001b[0m_method_wrapper\u001b[0m\u001b[0;34m(\u001b[0m\u001b[0mself\u001b[0m\u001b[0;34m,\u001b[0m \u001b[0;34m*\u001b[0m\u001b[0margs\u001b[0m\u001b[0;34m,\u001b[0m \u001b[0;34m**\u001b[0m\u001b[0mkwargs\u001b[0m\u001b[0;34m)\u001b[0m\u001b[0;34m:\u001b[0m\u001b[0;34m\u001b[0m\u001b[0;34m\u001b[0m\u001b[0m\n\u001b[1;32m    107\u001b[0m     \u001b[0;32mif\u001b[0m \u001b[0;32mnot\u001b[0m \u001b[0mself\u001b[0m\u001b[0;34m.\u001b[0m\u001b[0m_in_multi_worker_mode\u001b[0m\u001b[0;34m(\u001b[0m\u001b[0;34m)\u001b[0m\u001b[0;34m:\u001b[0m  \u001b[0;31m# pylint: disable=protected-access\u001b[0m\u001b[0;34m\u001b[0m\u001b[0;34m\u001b[0m\u001b[0m\n\u001b[0;32m--> 108\u001b[0;31m       \u001b[0;32mreturn\u001b[0m \u001b[0mmethod\u001b[0m\u001b[0;34m(\u001b[0m\u001b[0mself\u001b[0m\u001b[0;34m,\u001b[0m \u001b[0;34m*\u001b[0m\u001b[0margs\u001b[0m\u001b[0;34m,\u001b[0m \u001b[0;34m**\u001b[0m\u001b[0mkwargs\u001b[0m\u001b[0;34m)\u001b[0m\u001b[0;34m\u001b[0m\u001b[0;34m\u001b[0m\u001b[0m\n\u001b[0m\u001b[1;32m    109\u001b[0m \u001b[0;34m\u001b[0m\u001b[0m\n\u001b[1;32m    110\u001b[0m     \u001b[0;31m# Running inside `run_distribute_coordinator` already.\u001b[0m\u001b[0;34m\u001b[0m\u001b[0;34m\u001b[0m\u001b[0;34m\u001b[0m\u001b[0m\n",
      "\u001b[0;32m~/anaconda3/lib/python3.7/site-packages/tensorflow/python/keras/engine/training.py\u001b[0m in \u001b[0;36mfit\u001b[0;34m(self, x, y, batch_size, epochs, verbose, callbacks, validation_split, validation_data, shuffle, class_weight, sample_weight, initial_epoch, steps_per_epoch, validation_steps, validation_batch_size, validation_freq, max_queue_size, workers, use_multiprocessing)\u001b[0m\n\u001b[1;32m   1096\u001b[0m                 batch_size=batch_size):\n\u001b[1;32m   1097\u001b[0m               \u001b[0mcallbacks\u001b[0m\u001b[0;34m.\u001b[0m\u001b[0mon_train_batch_begin\u001b[0m\u001b[0;34m(\u001b[0m\u001b[0mstep\u001b[0m\u001b[0;34m)\u001b[0m\u001b[0;34m\u001b[0m\u001b[0;34m\u001b[0m\u001b[0m\n\u001b[0;32m-> 1098\u001b[0;31m               \u001b[0mtmp_logs\u001b[0m \u001b[0;34m=\u001b[0m \u001b[0mtrain_function\u001b[0m\u001b[0;34m(\u001b[0m\u001b[0miterator\u001b[0m\u001b[0;34m)\u001b[0m\u001b[0;34m\u001b[0m\u001b[0;34m\u001b[0m\u001b[0m\n\u001b[0m\u001b[1;32m   1099\u001b[0m               \u001b[0;32mif\u001b[0m \u001b[0mdata_handler\u001b[0m\u001b[0;34m.\u001b[0m\u001b[0mshould_sync\u001b[0m\u001b[0;34m:\u001b[0m\u001b[0;34m\u001b[0m\u001b[0;34m\u001b[0m\u001b[0m\n\u001b[1;32m   1100\u001b[0m                 \u001b[0mcontext\u001b[0m\u001b[0;34m.\u001b[0m\u001b[0masync_wait\u001b[0m\u001b[0;34m(\u001b[0m\u001b[0;34m)\u001b[0m\u001b[0;34m\u001b[0m\u001b[0;34m\u001b[0m\u001b[0m\n",
      "\u001b[0;32m~/anaconda3/lib/python3.7/site-packages/tensorflow/python/eager/def_function.py\u001b[0m in \u001b[0;36m__call__\u001b[0;34m(self, *args, **kwds)\u001b[0m\n\u001b[1;32m    778\u001b[0m       \u001b[0;32melse\u001b[0m\u001b[0;34m:\u001b[0m\u001b[0;34m\u001b[0m\u001b[0;34m\u001b[0m\u001b[0m\n\u001b[1;32m    779\u001b[0m         \u001b[0mcompiler\u001b[0m \u001b[0;34m=\u001b[0m \u001b[0;34m\"nonXla\"\u001b[0m\u001b[0;34m\u001b[0m\u001b[0;34m\u001b[0m\u001b[0m\n\u001b[0;32m--> 780\u001b[0;31m         \u001b[0mresult\u001b[0m \u001b[0;34m=\u001b[0m \u001b[0mself\u001b[0m\u001b[0;34m.\u001b[0m\u001b[0m_call\u001b[0m\u001b[0;34m(\u001b[0m\u001b[0;34m*\u001b[0m\u001b[0margs\u001b[0m\u001b[0;34m,\u001b[0m \u001b[0;34m**\u001b[0m\u001b[0mkwds\u001b[0m\u001b[0;34m)\u001b[0m\u001b[0;34m\u001b[0m\u001b[0;34m\u001b[0m\u001b[0m\n\u001b[0m\u001b[1;32m    781\u001b[0m \u001b[0;34m\u001b[0m\u001b[0m\n\u001b[1;32m    782\u001b[0m       \u001b[0mnew_tracing_count\u001b[0m \u001b[0;34m=\u001b[0m \u001b[0mself\u001b[0m\u001b[0;34m.\u001b[0m\u001b[0m_get_tracing_count\u001b[0m\u001b[0;34m(\u001b[0m\u001b[0;34m)\u001b[0m\u001b[0;34m\u001b[0m\u001b[0;34m\u001b[0m\u001b[0m\n",
      "\u001b[0;32m~/anaconda3/lib/python3.7/site-packages/tensorflow/python/eager/def_function.py\u001b[0m in \u001b[0;36m_call\u001b[0;34m(self, *args, **kwds)\u001b[0m\n\u001b[1;32m    805\u001b[0m       \u001b[0;31m# In this case we have created variables on the first call, so we run the\u001b[0m\u001b[0;34m\u001b[0m\u001b[0;34m\u001b[0m\u001b[0;34m\u001b[0m\u001b[0m\n\u001b[1;32m    806\u001b[0m       \u001b[0;31m# defunned version which is guaranteed to never create variables.\u001b[0m\u001b[0;34m\u001b[0m\u001b[0;34m\u001b[0m\u001b[0;34m\u001b[0m\u001b[0m\n\u001b[0;32m--> 807\u001b[0;31m       \u001b[0;32mreturn\u001b[0m \u001b[0mself\u001b[0m\u001b[0;34m.\u001b[0m\u001b[0m_stateless_fn\u001b[0m\u001b[0;34m(\u001b[0m\u001b[0;34m*\u001b[0m\u001b[0margs\u001b[0m\u001b[0;34m,\u001b[0m \u001b[0;34m**\u001b[0m\u001b[0mkwds\u001b[0m\u001b[0;34m)\u001b[0m  \u001b[0;31m# pylint: disable=not-callable\u001b[0m\u001b[0;34m\u001b[0m\u001b[0;34m\u001b[0m\u001b[0m\n\u001b[0m\u001b[1;32m    808\u001b[0m     \u001b[0;32melif\u001b[0m \u001b[0mself\u001b[0m\u001b[0;34m.\u001b[0m\u001b[0m_stateful_fn\u001b[0m \u001b[0;32mis\u001b[0m \u001b[0;32mnot\u001b[0m \u001b[0;32mNone\u001b[0m\u001b[0;34m:\u001b[0m\u001b[0;34m\u001b[0m\u001b[0;34m\u001b[0m\u001b[0m\n\u001b[1;32m    809\u001b[0m       \u001b[0;31m# Release the lock early so that multiple threads can perform the call\u001b[0m\u001b[0;34m\u001b[0m\u001b[0;34m\u001b[0m\u001b[0;34m\u001b[0m\u001b[0m\n",
      "\u001b[0;32m~/anaconda3/lib/python3.7/site-packages/tensorflow/python/eager/function.py\u001b[0m in \u001b[0;36m__call__\u001b[0;34m(self, *args, **kwargs)\u001b[0m\n\u001b[1;32m   2827\u001b[0m     \u001b[0;32mwith\u001b[0m \u001b[0mself\u001b[0m\u001b[0;34m.\u001b[0m\u001b[0m_lock\u001b[0m\u001b[0;34m:\u001b[0m\u001b[0;34m\u001b[0m\u001b[0;34m\u001b[0m\u001b[0m\n\u001b[1;32m   2828\u001b[0m       \u001b[0mgraph_function\u001b[0m\u001b[0;34m,\u001b[0m \u001b[0margs\u001b[0m\u001b[0;34m,\u001b[0m \u001b[0mkwargs\u001b[0m \u001b[0;34m=\u001b[0m \u001b[0mself\u001b[0m\u001b[0;34m.\u001b[0m\u001b[0m_maybe_define_function\u001b[0m\u001b[0;34m(\u001b[0m\u001b[0margs\u001b[0m\u001b[0;34m,\u001b[0m \u001b[0mkwargs\u001b[0m\u001b[0;34m)\u001b[0m\u001b[0;34m\u001b[0m\u001b[0;34m\u001b[0m\u001b[0m\n\u001b[0;32m-> 2829\u001b[0;31m     \u001b[0;32mreturn\u001b[0m \u001b[0mgraph_function\u001b[0m\u001b[0;34m.\u001b[0m\u001b[0m_filtered_call\u001b[0m\u001b[0;34m(\u001b[0m\u001b[0margs\u001b[0m\u001b[0;34m,\u001b[0m \u001b[0mkwargs\u001b[0m\u001b[0;34m)\u001b[0m  \u001b[0;31m# pylint: disable=protected-access\u001b[0m\u001b[0;34m\u001b[0m\u001b[0;34m\u001b[0m\u001b[0m\n\u001b[0m\u001b[1;32m   2830\u001b[0m \u001b[0;34m\u001b[0m\u001b[0m\n\u001b[1;32m   2831\u001b[0m   \u001b[0;34m@\u001b[0m\u001b[0mproperty\u001b[0m\u001b[0;34m\u001b[0m\u001b[0;34m\u001b[0m\u001b[0m\n",
      "\u001b[0;32m~/anaconda3/lib/python3.7/site-packages/tensorflow/python/eager/function.py\u001b[0m in \u001b[0;36m_filtered_call\u001b[0;34m(self, args, kwargs, cancellation_manager)\u001b[0m\n\u001b[1;32m   1846\u001b[0m                            resource_variable_ops.BaseResourceVariable))],\n\u001b[1;32m   1847\u001b[0m         \u001b[0mcaptured_inputs\u001b[0m\u001b[0;34m=\u001b[0m\u001b[0mself\u001b[0m\u001b[0;34m.\u001b[0m\u001b[0mcaptured_inputs\u001b[0m\u001b[0;34m,\u001b[0m\u001b[0;34m\u001b[0m\u001b[0;34m\u001b[0m\u001b[0m\n\u001b[0;32m-> 1848\u001b[0;31m         cancellation_manager=cancellation_manager)\n\u001b[0m\u001b[1;32m   1849\u001b[0m \u001b[0;34m\u001b[0m\u001b[0m\n\u001b[1;32m   1850\u001b[0m   \u001b[0;32mdef\u001b[0m \u001b[0m_call_flat\u001b[0m\u001b[0;34m(\u001b[0m\u001b[0mself\u001b[0m\u001b[0;34m,\u001b[0m \u001b[0margs\u001b[0m\u001b[0;34m,\u001b[0m \u001b[0mcaptured_inputs\u001b[0m\u001b[0;34m,\u001b[0m \u001b[0mcancellation_manager\u001b[0m\u001b[0;34m=\u001b[0m\u001b[0;32mNone\u001b[0m\u001b[0;34m)\u001b[0m\u001b[0;34m:\u001b[0m\u001b[0;34m\u001b[0m\u001b[0;34m\u001b[0m\u001b[0m\n",
      "\u001b[0;32m~/anaconda3/lib/python3.7/site-packages/tensorflow/python/eager/function.py\u001b[0m in \u001b[0;36m_call_flat\u001b[0;34m(self, args, captured_inputs, cancellation_manager)\u001b[0m\n\u001b[1;32m   1922\u001b[0m       \u001b[0;31m# No tape is watching; skip to running the function.\u001b[0m\u001b[0;34m\u001b[0m\u001b[0;34m\u001b[0m\u001b[0;34m\u001b[0m\u001b[0m\n\u001b[1;32m   1923\u001b[0m       return self._build_call_outputs(self._inference_function.call(\n\u001b[0;32m-> 1924\u001b[0;31m           ctx, args, cancellation_manager=cancellation_manager))\n\u001b[0m\u001b[1;32m   1925\u001b[0m     forward_backward = self._select_forward_and_backward_functions(\n\u001b[1;32m   1926\u001b[0m         \u001b[0margs\u001b[0m\u001b[0;34m,\u001b[0m\u001b[0;34m\u001b[0m\u001b[0;34m\u001b[0m\u001b[0m\n",
      "\u001b[0;32m~/anaconda3/lib/python3.7/site-packages/tensorflow/python/eager/function.py\u001b[0m in \u001b[0;36mcall\u001b[0;34m(self, ctx, args, cancellation_manager)\u001b[0m\n\u001b[1;32m    548\u001b[0m               \u001b[0minputs\u001b[0m\u001b[0;34m=\u001b[0m\u001b[0margs\u001b[0m\u001b[0;34m,\u001b[0m\u001b[0;34m\u001b[0m\u001b[0;34m\u001b[0m\u001b[0m\n\u001b[1;32m    549\u001b[0m               \u001b[0mattrs\u001b[0m\u001b[0;34m=\u001b[0m\u001b[0mattrs\u001b[0m\u001b[0;34m,\u001b[0m\u001b[0;34m\u001b[0m\u001b[0;34m\u001b[0m\u001b[0m\n\u001b[0;32m--> 550\u001b[0;31m               ctx=ctx)\n\u001b[0m\u001b[1;32m    551\u001b[0m         \u001b[0;32melse\u001b[0m\u001b[0;34m:\u001b[0m\u001b[0;34m\u001b[0m\u001b[0;34m\u001b[0m\u001b[0m\n\u001b[1;32m    552\u001b[0m           outputs = execute.execute_with_cancellation(\n",
      "\u001b[0;32m~/anaconda3/lib/python3.7/site-packages/tensorflow/python/eager/execute.py\u001b[0m in \u001b[0;36mquick_execute\u001b[0;34m(op_name, num_outputs, inputs, attrs, ctx, name)\u001b[0m\n\u001b[1;32m     58\u001b[0m     \u001b[0mctx\u001b[0m\u001b[0;34m.\u001b[0m\u001b[0mensure_initialized\u001b[0m\u001b[0;34m(\u001b[0m\u001b[0;34m)\u001b[0m\u001b[0;34m\u001b[0m\u001b[0;34m\u001b[0m\u001b[0m\n\u001b[1;32m     59\u001b[0m     tensors = pywrap_tfe.TFE_Py_Execute(ctx._handle, device_name, op_name,\n\u001b[0;32m---> 60\u001b[0;31m                                         inputs, attrs, num_outputs)\n\u001b[0m\u001b[1;32m     61\u001b[0m   \u001b[0;32mexcept\u001b[0m \u001b[0mcore\u001b[0m\u001b[0;34m.\u001b[0m\u001b[0m_NotOkStatusException\u001b[0m \u001b[0;32mas\u001b[0m \u001b[0me\u001b[0m\u001b[0;34m:\u001b[0m\u001b[0;34m\u001b[0m\u001b[0;34m\u001b[0m\u001b[0m\n\u001b[1;32m     62\u001b[0m     \u001b[0;32mif\u001b[0m \u001b[0mname\u001b[0m \u001b[0;32mis\u001b[0m \u001b[0;32mnot\u001b[0m \u001b[0;32mNone\u001b[0m\u001b[0;34m:\u001b[0m\u001b[0;34m\u001b[0m\u001b[0;34m\u001b[0m\u001b[0m\n",
      "\u001b[0;31mKeyboardInterrupt\u001b[0m: "
     ]
    }
   ],
   "source": [
    "rnd_search_cv.fit(X_train, y_train, epochs=100,\n",
    "                  validation_data=(X_valid, y_valid),\n",
    "                  callbacks=[keras.callbacks.EarlyStopping(patience=10)])"
   ]
  },
  {
   "cell_type": "markdown",
   "id": "incredible-blend",
   "metadata": {},
   "source": [
    "`RandomizedSearchCV` ocupa validación cruzada con $k$ *folds*, no utiliza el conjunto de validación `(X_train, y_train)`. Este está usado solamente para *early stopping*.\n",
    "\n",
    "La búsqueda puede demorar horas, dependiendo de la complejidad del modelo, tamaño de conjunto de datos, etc.\n",
    "\n",
    "Se puede acceder a los mejores parámetros así:"
   ]
  },
  {
   "cell_type": "code",
   "execution_count": null,
   "id": "verbal-window",
   "metadata": {},
   "outputs": [],
   "source": [
    "rnd_search_cv.best_params_"
   ]
  },
  {
   "cell_type": "code",
   "execution_count": null,
   "id": "manual-willow",
   "metadata": {},
   "outputs": [],
   "source": [
    "rnd_search_cv.best_score_"
   ]
  },
  {
   "cell_type": "code",
   "execution_count": null,
   "id": "disturbed-september",
   "metadata": {},
   "outputs": [],
   "source": [
    "model = rnd_search_cv.best_estimator_.model"
   ]
  },
  {
   "cell_type": "markdown",
   "id": "modular-summary",
   "metadata": {},
   "source": [
    "Hay otras librerias que ayudan en el proceso de buscar los mejores valores para los hiperparámetros. Todos funcionan en una manera similar: primero aplican una búsqueda amplia, pero no muy detallada. Cuando encuentran una región \"buena\" del espacio de parámetros, hacen un *zoom* y exploran esa región más detalladamente."
   ]
  },
  {
   "cell_type": "markdown",
   "id": "assisted-vision",
   "metadata": {},
   "source": [
    "* [*Hyperopt*](http://hyperopt.github.io/hyperopt/)\n",
    "* [*Hyperas*](https://github.com/maxpumperla/hyperas), [*kopt*](https://github.com/Avsecz/kopt), [*Talos*](https://github.com/autonomio/talos)\n",
    "* [*Keras Tuner*](https://keras.io/keras_tuner/)\n",
    "* [*Scikit-Optimize* (skopt)](https://scikit-optimize.github.io/stable/)\n",
    "* [*Spearmint*](https://github.com/HIPS/Spearmint)\n",
    "* [*Hyperband*](https://github.com/zygmuntz/hyperband)\n",
    "* [*Sklearn-Deap*](https://github.com/rsteca/sklearn-deap)"
   ]
  },
  {
   "cell_type": "markdown",
   "id": "least-battle",
   "metadata": {},
   "source": [
    "El ajuste mejor de los hiperparámetros es un área de investigación activa, y algoritmos basados en la evolución biológica están llamando mucho interés hoy en día. El servicio **AutoML** de Google implementa un algoritmo así (más información [aquí](https://ai.googleblog.com/2018/03/using-evolutionary-automl-to-discover.html))."
   ]
  },
  {
   "cell_type": "markdown",
   "id": "optimum-hartford",
   "metadata": {},
   "source": [
    "### Algunas sugerencias para la construcción de redes nueronales\n",
    "\n",
    "**¿Cuántas capas ocultas?**\n",
    "\n",
    "Típicamente $1$ o $2$ capas ocultas es suficiente. Si el problema es más complejo, es mejor agregar más capas con un número limitado de neuronas que poner muchas nueronas en pocas capas. Una **red profunda** así puede aprender sobre los datos en una manera jerarquica.\n",
    "\n",
    "**¿Cuántas neuronas por capa?**\n",
    "\n",
    "Hoy en día es más común usar el mismo número de neuronas en cada capa oculta. Una forma de decidir el número es comenzar con pocas, y aumentar el número hasta que el modelo comienza a sufrir *overfitting*.\n",
    "\n",
    "Otra opción es poner un número \"grande\" de neuronas y restringir el modelo con regularización.\n",
    "\n",
    "**Taza de aprendizaje**\n",
    "\n",
    "Este hiperparámetro es probablemente lo más importante. Típicamente el valor óptimo es la mitad del máximo (el máximo corresponde al valor donde el algoritmo de entrenamiento diverge).\n",
    "\n",
    "Una forma de econtrar un buen valor de $\\eta$ es comenzar con un valor muy pequeño ($10^{-5}$) para algunas iteraciones y progresivamente aumentar el valor hasta un valor grande ($10$). Después se puede graficar la función de perdida $L$ contra $\\eta$. El mejor valor de $\\eta$ será alrededor de $10$ veces más pequeño que el punto donde $L$ tiene su mínimo en ese gráfico.\n",
    "\n",
    "**Optimizador**\n",
    "\n",
    "Veremos más sobre otros optimizadores (mejor que SGD) más tarde.\n",
    "\n",
    "**Tamaño de lote (*batch size*)**\n",
    "\n",
    "Los GPUs pueden acelerar el entrenamiento con lotes grandes, pero a veces sufre inestabilidades. Los expertos no están de acuerdo sobre el mejor valor...\n",
    "\n",
    "**Función de activación**\n",
    "\n",
    "Veremos más sobre las consecuencias de la elección de las funciones de activación más tarde. La función ReLU sirve en muchos casos. Para la capa de salida va a depender de la aplicación del modelo (sigmoide para regresión, *softmax* para clasificación, etc.)\n",
    "\n",
    "**Número de interaciones**\n",
    "\n",
    "Con *early stopping* no hace falta ajustar este hiperparámetro."
   ]
  },
  {
   "cell_type": "code",
   "execution_count": null,
   "id": "coastal-temple",
   "metadata": {},
   "outputs": [],
   "source": []
  }
 ],
 "metadata": {
  "kernelspec": {
   "display_name": "Python 3",
   "language": "python",
   "name": "python3"
  },
  "language_info": {
   "codemirror_mode": {
    "name": "ipython",
    "version": 3
   },
   "file_extension": ".py",
   "mimetype": "text/x-python",
   "name": "python",
   "nbconvert_exporter": "python",
   "pygments_lexer": "ipython3",
   "version": "3.7.3"
  }
 },
 "nbformat": 4,
 "nbformat_minor": 5
}
