{
 "cells": [
  {
   "cell_type": "code",
   "execution_count": 1,
   "id": "italian-postage",
   "metadata": {},
   "outputs": [
    {
     "name": "stdout",
     "output_type": "stream",
     "text": [
      "Populating the interactive namespace from numpy and matplotlib\n"
     ]
    }
   ],
   "source": [
    "%pylab inline"
   ]
  },
  {
   "cell_type": "code",
   "execution_count": 2,
   "id": "parallel-numbers",
   "metadata": {},
   "outputs": [
    {
     "data": {
      "text/plain": [
       "dict_keys(['data', 'target', 'frame', 'categories', 'feature_names', 'target_names', 'DESCR', 'details', 'url'])"
      ]
     },
     "execution_count": 2,
     "metadata": {},
     "output_type": "execute_result"
    }
   ],
   "source": [
    "from sklearn.datasets import fetch_openml\n",
    "mnist = fetch_openml('mnist_784', version=1, as_frame=False)\n",
    "# En versión 0.24 de scikit-learn el valor de \"as_frame\" cambió a \"auto\"...\n",
    "mnist.keys()"
   ]
  },
  {
   "cell_type": "markdown",
   "id": "precise-concept",
   "metadata": {},
   "source": [
    "Estructura estandar de un conjunto de datos en scikit-learn:\n",
    "\n",
    "* DESCR - descripción del conjunto de datos\n",
    "* data - array con una fila por instancia, una columna por *feature*\n",
    "* target - etiquetas de las instancias"
   ]
  },
  {
   "cell_type": "code",
   "execution_count": 3,
   "id": "grand-arnold",
   "metadata": {},
   "outputs": [],
   "source": [
    "X, y = mnist[\"data\"], mnist[\"target\"]"
   ]
  },
  {
   "cell_type": "code",
   "execution_count": 4,
   "id": "potential-asthma",
   "metadata": {},
   "outputs": [
    {
     "data": {
      "text/plain": [
       "(70000, 784)"
      ]
     },
     "execution_count": 4,
     "metadata": {},
     "output_type": "execute_result"
    }
   ],
   "source": [
    "X.shape"
   ]
  },
  {
   "cell_type": "code",
   "execution_count": 5,
   "id": "outdoor-template",
   "metadata": {},
   "outputs": [
    {
     "data": {
      "text/plain": [
       "(70000,)"
      ]
     },
     "execution_count": 5,
     "metadata": {},
     "output_type": "execute_result"
    }
   ],
   "source": [
    "y.shape"
   ]
  },
  {
   "cell_type": "code",
   "execution_count": 7,
   "id": "still-freeware",
   "metadata": {},
   "outputs": [
    {
     "data": {
      "text/plain": [
       "array(['5', '0', '4', ..., '4', '5', '6'], dtype=object)"
      ]
     },
     "execution_count": 7,
     "metadata": {},
     "output_type": "execute_result"
    }
   ],
   "source": [
    "y"
   ]
  },
  {
   "cell_type": "markdown",
   "id": "genuine-proof",
   "metadata": {},
   "source": [
    "Cada imagen tiene 28x28 pixeles, así que cada instancia tiene $28 \\times 28 = 784$ *features*. \n",
    "\n",
    "Cada *feature* es simplemente la intensidad del pixel, entre $0$ (blanco) a $255$ (negro). \n",
    "\n",
    "Vamos a visualizar el vector de *features* de una instancia..."
   ]
  },
  {
   "cell_type": "code",
   "execution_count": 8,
   "id": "decreased-bangkok",
   "metadata": {},
   "outputs": [],
   "source": [
    "un_digito = X[0]\n",
    "un_digito_imagen = un_digito.reshape(28, 28)"
   ]
  },
  {
   "cell_type": "code",
   "execution_count": 9,
   "id": "arctic-cookbook",
   "metadata": {},
   "outputs": [
    {
     "data": {
      "text/plain": [
       "(-0.5, 27.5, 27.5, -0.5)"
      ]
     },
     "execution_count": 9,
     "metadata": {},
     "output_type": "execute_result"
    },
    {
     "data": {
      "image/png": "[encoded data removed]",
      "text/plain": [
       "<Figure size 432x288 with 1 Axes>"
      ]
     },
     "metadata": {
      "needs_background": "light"
     },
     "output_type": "display_data"
    }
   ],
   "source": [
    "imshow(un_digito_imagen, cmap=cm.binary, interpolation=\"nearest\")\n",
    "axis(\"off\")"
   ]
  },
  {
   "cell_type": "code",
   "execution_count": 10,
   "id": "impressive-springfield",
   "metadata": {},
   "outputs": [
    {
     "data": {
      "text/plain": [
       "'5'"
      ]
     },
     "execution_count": 10,
     "metadata": {},
     "output_type": "execute_result"
    }
   ],
   "source": [
    "y[0]"
   ]
  },
  {
   "cell_type": "markdown",
   "id": "worth-dominican",
   "metadata": {},
   "source": [
    "La imagen parece un 5, y la etiqueta dice lo mismo! Será mejor trabajar con números en vez de *strings* así que convertimos el tipo de datos..."
   ]
  },
  {
   "cell_type": "code",
   "execution_count": 11,
   "id": "circular-halloween",
   "metadata": {},
   "outputs": [],
   "source": [
    "y = y.astype(np.uint8)"
   ]
  },
  {
   "cell_type": "markdown",
   "id": "young-palace",
   "metadata": {},
   "source": [
    "Abajo vemos más imagenes de los números en el conjunto de datos, para tener una idea de la complejidad del problema."
   ]
  },
  {
   "cell_type": "markdown",
   "id": "subjective-temperature",
   "metadata": {},
   "source": [
    "![](figures_clasificacion/fig3-1.png)"
   ]
  },
  {
   "cell_type": "markdown",
   "id": "australian-solomon",
   "metadata": {},
   "source": [
    "Primero, siempre deberíamos definir un subconjunto de datos como el *test set* y nunca más deberíamos mirar a esos datos! \n",
    "\n",
    "Los datos de MNIST ya están separados en un conjunto de entrenamiento (las primeras 60.000 imagenes) y un *test set* (las últimas 10.000 imagenes)."
   ]
  },
  {
   "cell_type": "code",
   "execution_count": 15,
   "id": "monetary-chick",
   "metadata": {},
   "outputs": [],
   "source": [
    "X_train, X_test, y_train, y_test = X[:60000], X[60000:], y[:60000], y[60000:]"
   ]
  },
  {
   "cell_type": "markdown",
   "id": "proud-suicide",
   "metadata": {},
   "source": [
    "El conjunto de entrenamiento ya está desordenado.\n",
    "\n",
    "Este es bueno, porque garantiza que todos los conjuntos (*folds*) que usaremos en el proceso de *cross-validation* serán similares (con representación de todos los números)."
   ]
  },
  {
   "cell_type": "markdown",
   "id": "reported-telescope",
   "metadata": {},
   "source": [
    "#### Entrenamiento de un clasificador binario\n",
    "\n",
    "Comenzamos con un sistema más simple: vamos a clasificar los dígitos como \"5\" o \"no-5\".\n",
    "\n",
    "Creamos los *target vectors* para este problema en la siguiente manera:"
   ]
  },
  {
   "cell_type": "code",
   "execution_count": 16,
   "id": "democratic-viking",
   "metadata": {},
   "outputs": [],
   "source": [
    "y_train_5 = (y_train == 5) # verdad para cada instancia de 5, falso para todas las demas\n",
    "y_test_5 = (y_test == 5)"
   ]
  },
  {
   "cell_type": "markdown",
   "id": "controlling-repair",
   "metadata": {},
   "source": [
    "Vamos a usar un clasificador que se llama *Stochastic Gradient Descent classifier*.\n",
    "\n",
    "*Stochastic gradient descent* es una técnia para encontrar el mínimo de una función.\n",
    "\n",
    "Veremos mucho más sobre este método más tarde.\n",
    "\n",
    "Vamos a crear el clasificador, y después vamos a entrenarla usando todos los datos de entrenamiento."
   ]
  },
  {
   "cell_type": "code",
   "execution_count": 18,
   "id": "fifty-signal",
   "metadata": {},
   "outputs": [
    {
     "data": {
      "text/plain": [
       "SGDClassifier(random_state=42)"
      ]
     },
     "execution_count": 18,
     "metadata": {},
     "output_type": "execute_result"
    }
   ],
   "source": [
    "from sklearn.linear_model import SGDClassifier\n",
    "\n",
    "sgd_clf = SGDClassifier(random_state=42)\n",
    "sgd_clf.fit(X_train, y_train_5)"
   ]
  },
  {
   "cell_type": "code",
   "execution_count": 19,
   "id": "organizational-rogers",
   "metadata": {},
   "outputs": [
    {
     "data": {
      "text/plain": [
       "array([ True])"
      ]
     },
     "execution_count": 19,
     "metadata": {},
     "output_type": "execute_result"
    }
   ],
   "source": [
    "sgd_clf.predict([un_digito])"
   ]
  },
  {
   "cell_type": "markdown",
   "id": "deadly-vacuum",
   "metadata": {},
   "source": [
    "Según el clasificador, la imagen representa un 5 (True). Correcto!"
   ]
  },
  {
   "cell_type": "markdown",
   "id": "appropriate-career",
   "metadata": {},
   "source": [
    "#### Mediciones de *accuracy* con *cross-validation*\n",
    "\n",
    "Podemos usar una función de `scikit-learn` que se llama `cross_val_score()` para evaluar el modelo en distintos *validation sets*.\n",
    "\n",
    "En este contexto, los distintos *sets* se llaman *folds*.\n",
    "\n",
    "Usaremos 3 *folds*."
   ]
  },
  {
   "cell_type": "code",
   "execution_count": 14,
   "id": "according-seafood",
   "metadata": {},
   "outputs": [
    {
     "data": {
      "text/plain": [
       "array([0.95035, 0.96035, 0.9604 ])"
      ]
     },
     "execution_count": 14,
     "metadata": {},
     "output_type": "execute_result"
    }
   ],
   "source": [
    "from sklearn.model_selection import cross_val_score\n",
    "cross_val_score(sgd_clf, X_train, y_train_5, cv=3, scoring=\"accuracy\")\n",
    "# \"accuracy\" significa la razón de predicciones correctas"
   ]
  },
  {
   "cell_type": "markdown",
   "id": "confident-welsh",
   "metadata": {},
   "source": [
    "Parece que tenemos un modelo muy bueno... Pero vamos a comparar con nuestro propio clasificador que clasifica **todo** como un \"no-5\"."
   ]
  },
  {
   "cell_type": "code",
   "execution_count": 15,
   "id": "described-bleeding",
   "metadata": {},
   "outputs": [],
   "source": [
    "from sklearn.base import BaseEstimator\n",
    "\n",
    "class Nunca5Clasificador(BaseEstimator):\n",
    "    def fit(self, X, y=None):\n",
    "        pass\n",
    "    def predict(self, X):\n",
    "        return np.zeros((len(X), 1), dtype=bool)"
   ]
  },
  {
   "cell_type": "code",
   "execution_count": 16,
   "id": "correct-ethernet",
   "metadata": {},
   "outputs": [
    {
     "data": {
      "text/plain": [
       "array([0.91125, 0.90855, 0.90915])"
      ]
     },
     "execution_count": 16,
     "metadata": {},
     "output_type": "execute_result"
    }
   ],
   "source": [
    "nunca_5_clf = Nunca5Clasificador()\n",
    "cross_val_score(nunca_5_clf, X_train, y_train_5, cv=3, scoring=\"accuracy\")"
   ]
  },
  {
   "cell_type": "markdown",
   "id": "heavy-publicity",
   "metadata": {},
   "source": [
    "Un *accuracy* de más que 90%!\n",
    "\n",
    "Este es porque solamente ~10% de las imagenes son del número 5. Así que si siempre predecimos que la imagen **no** es un 5, vamos a predecir bien en 90% de los casos.\n",
    "\n",
    "Con este ejemplo vemos porque *accuracy* (razón de predicciones correctas) no es la mejor medición de rendimiento para un clasificador, en particular cuando la representación de las instancias en el conjunto de datos no es homogénea."
   ]
  },
  {
   "cell_type": "markdown",
   "id": "gorgeous-christian",
   "metadata": {},
   "source": [
    "#### Confusion matrix\n",
    "\n",
    "Una mejor forma de evaluar un clasificador es con una matriz de confusión (*confusion matrix*).\n",
    "\n",
    "Es bastante fácil entender la idea de la *confusion matrix* para nuestro ejemplo con dos clases de instancias (es decir, hay \"5\" y hay \"no-5\", por ahora).\n",
    "\n",
    "La idea de la *confusion matrix* es contar cuantas veces el clasificador clasifica... \n",
    "\n",
    "* una instancia de \"5\" como una instancia de \"5\" (positivo verdadero, *true positive*)\n",
    "* una instancia de \"5\" como una instancia de \"no-5\" (positivo falso, *false positive*)\n",
    "* una instancia de \"no-5\" como una instancia de \"5\" (negativo falso, *false negative*)\n",
    "* una instancia de \"no-5\" como una instancia de \"no-5\" (negativo verdadero, *true negative*)"
   ]
  },
  {
   "cell_type": "markdown",
   "id": "married-median",
   "metadata": {},
   "source": [
    "Para calcular la *confusion matrix* necesitamos predicciones del modelo.\n",
    "\n",
    "Hasta ahora hemos calculado solamente el *accuracy* para los 3 *folds* de validación cruzada.\n",
    "\n",
    "Ahora usamos `cross_val_predict()` para obtener todas las predicciones en cada *fold* de *cross-validation*.\n",
    "\n",
    "Es importante notar que las instancias usadas para las predicciones (para cada conjunto de validación) son instancias que ese modelo no ha visto en el proceso de entrenamiento."
   ]
  },
  {
   "cell_type": "code",
   "execution_count": 17,
   "id": "individual-taylor",
   "metadata": {},
   "outputs": [],
   "source": [
    "from sklearn.model_selection import cross_val_predict\n",
    "\n",
    "y_train_pred = cross_val_predict(sgd_clf, X_train, y_train_5, cv=3)"
   ]
  },
  {
   "cell_type": "code",
   "execution_count": 18,
   "id": "intellectual-suggestion",
   "metadata": {},
   "outputs": [
    {
     "data": {
      "text/plain": [
       "array([[53892,   687],\n",
       "       [ 1891,  3530]])"
      ]
     },
     "execution_count": 18,
     "metadata": {},
     "output_type": "execute_result"
    }
   ],
   "source": [
    "from sklearn.metrics import confusion_matrix\n",
    "\n",
    "confusion_matrix(y_train_5, y_train_pred)"
   ]
  },
  {
   "cell_type": "markdown",
   "id": "accepted-remove",
   "metadata": {},
   "source": [
    "Cada fila en la matriz corresponde a una clase de los datos, y cada columna corresponde a una clase predicha.\n",
    "\n",
    "La primera fila es para \"no-5\", la segunda fila es para \"5\".\n",
    "\n",
    "* Hay 53.892 predicciones de \"no-5\" cuando la clase de la instancia es \"no-5\" (*true negatives*). \n",
    "* Hay 687 clasificaciones de \"5\" para las imagenes \"no-5\" (*false positives*)\n",
    "* Hay 1891 clasificaciones de \"no-5\" para las imagenes \"5\" (*false negatives*)\n",
    "* Hay 3530 clasificaciones de \"5\" para las imagenes \"5\" (*true positives*)"
   ]
  },
  {
   "cell_type": "markdown",
   "id": "fluid-grain",
   "metadata": {},
   "source": [
    "En el caso de un clasificador perfecto..."
   ]
  },
  {
   "cell_type": "code",
   "execution_count": 19,
   "id": "automotive-archive",
   "metadata": {},
   "outputs": [
    {
     "data": {
      "text/plain": [
       "array([[54579,     0],\n",
       "       [    0,  5421]])"
      ]
     },
     "execution_count": 19,
     "metadata": {},
     "output_type": "execute_result"
    }
   ],
   "source": [
    "y_train_perfect_predictions = y_train_5\n",
    "confusion_matrix(y_train_5, y_train_perfect_predictions)"
   ]
  },
  {
   "cell_type": "markdown",
   "id": "grave-content",
   "metadata": {},
   "source": [
    "**Precisión**: taza de predicciones positivas (*accuracy* de predicciones positivas)\n",
    "\n",
    "$$p = \\frac{TP}{TP + FP}$$\n",
    "\n",
    "TP es el número de *true positives* y $FP$ es el número de *false positives*.\n",
    "\n",
    "Se puede tener precisión perfecta en una manera trivial si realizamos solamente una predicción positiva y aseguramos que sea correcta: TP = 1, FP = 0, precisión = 100%."
   ]
  },
  {
   "cell_type": "markdown",
   "id": "settled-chassis",
   "metadata": {},
   "source": [
    "***Recall***: razón de instancias positivas correctamente clasificadas por el clasificador\n",
    "\n",
    "$$r = \\frac{TP}{TP+FN}$$\n",
    "\n",
    "donde FN es el número de *false negatives* (clasificaciones de \"5\" como \"no-5\")."
   ]
  },
  {
   "cell_type": "markdown",
   "id": "amino-halloween",
   "metadata": {},
   "source": [
    "![](figures_clasificacion/fig3-2.png)"
   ]
  },
  {
   "cell_type": "code",
   "execution_count": 20,
   "id": "arabic-radius",
   "metadata": {},
   "outputs": [
    {
     "data": {
      "text/plain": [
       "0.8370879772350012"
      ]
     },
     "execution_count": 20,
     "metadata": {},
     "output_type": "execute_result"
    }
   ],
   "source": [
    "from sklearn.metrics import precision_score, recall_score\n",
    "precision_score(y_train_5, y_train_pred)"
   ]
  },
  {
   "cell_type": "code",
   "execution_count": 21,
   "id": "missing-assault",
   "metadata": {},
   "outputs": [
    {
     "data": {
      "text/plain": [
       "0.6511713705958311"
      ]
     },
     "execution_count": 21,
     "metadata": {},
     "output_type": "execute_result"
    }
   ],
   "source": [
    "recall_score(y_train_5, y_train_pred)"
   ]
  },
  {
   "cell_type": "markdown",
   "id": "sapphire-crossing",
   "metadata": {},
   "source": [
    "El clasificador es correcto 83.7% del tiempo cuando dice que una imagen es de un \"5\", pero detecta solamente 65.1% de las imagenes de \"5\".\n",
    "\n",
    "Hay otra métrica que se llama $F_1$, que es el promedio harmónico de la precisión y del *recall*:\n",
    "\n",
    "$$F_1 = \\frac{2}{\\frac{1}{p} + \\frac{1}{r}} = 2 \\times \\frac{p \\times r}{p+r} = \\frac{TP}{TP+\\frac{FN+FP}{2}}$$\n",
    "\n",
    "El promedio harmónico pone mucho más enfasis en valores bajos, así que $F_1$ será alto solamente si el *recall* y la precisión son ambos altos."
   ]
  },
  {
   "cell_type": "code",
   "execution_count": 22,
   "id": "ancient-chapter",
   "metadata": {},
   "outputs": [
    {
     "data": {
      "text/plain": [
       "0.7325171197343846"
      ]
     },
     "execution_count": 22,
     "metadata": {},
     "output_type": "execute_result"
    }
   ],
   "source": [
    "from sklearn.metrics import f1_score\n",
    "f1_score(y_train_5, y_train_pred)"
   ]
  },
  {
   "cell_type": "markdown",
   "id": "color-gothic",
   "metadata": {},
   "source": [
    "La métrica $F_1$ favorece clasificadores que tienen $r \\approx p$.\n",
    "\n",
    "A veces es más importante tener $p$ alto, y a veces $r$ alto.\n",
    "\n",
    "Pero lo importante es que aumentar $p$ significa disminuir $r$, y vice versa. Este se llama *precision/recall tradeoff*."
   ]
  },
  {
   "cell_type": "markdown",
   "id": "labeled-negotiation",
   "metadata": {},
   "source": [
    "#### Umbral de decisión, precisión/*recall*"
   ]
  },
  {
   "cell_type": "markdown",
   "id": "comfortable-isaac",
   "metadata": {},
   "source": [
    "El clasificador `SGDClassifier` (como cualquier clasificador) calcula un valor para cada instancia usando una **función de decisión**.\n",
    "\n",
    "Este valor se llama la puntuación de decisión (*decision score*).\n",
    "\n",
    "Si el valor es mayor que un umbral, la instancia está clasificada como una instancia positiva (\"5\" en nuestro ejemplo).\n",
    "\n",
    "Si el valor es menor, la instancia está clasificada como una instancia negativa (\"no-5\" en nuestro ejemplo)."
   ]
  },
  {
   "cell_type": "markdown",
   "id": "graphic-trouble",
   "metadata": {},
   "source": [
    "![](figures_clasificacion/fig3-3.png)"
   ]
  },
  {
   "cell_type": "markdown",
   "id": "detected-sister",
   "metadata": {},
   "source": [
    "No podemos acceder al umbral, pero podemos ver los valores de la función de decisión del algoritmo.\n",
    "\n",
    "Para hacer eso, usamos `decision_function()` en vez de `predict()`."
   ]
  },
  {
   "cell_type": "code",
   "execution_count": 23,
   "id": "demanding-watershed",
   "metadata": {},
   "outputs": [
    {
     "data": {
      "text/plain": [
       "array([2164.22030239])"
      ]
     },
     "execution_count": 23,
     "metadata": {},
     "output_type": "execute_result"
    }
   ],
   "source": [
    "y_scores = sgd_clf.decision_function([un_digito])\n",
    "y_scores"
   ]
  },
  {
   "cell_type": "code",
   "execution_count": 24,
   "id": "soviet-liabilities",
   "metadata": {},
   "outputs": [
    {
     "data": {
      "text/plain": [
       "array([ True])"
      ]
     },
     "execution_count": 24,
     "metadata": {},
     "output_type": "execute_result"
    }
   ],
   "source": [
    "umbral = 0\n",
    "y_un_digito_pred = (y_scores > umbral)\n",
    "y_un_digito_pred"
   ]
  },
  {
   "cell_type": "markdown",
   "id": "local-vegetation",
   "metadata": {},
   "source": [
    "El umbral en `SGDClassifier` es igual a 0 también. Cambiamos el umbral..."
   ]
  },
  {
   "cell_type": "code",
   "execution_count": 25,
   "id": "authorized-alias",
   "metadata": {},
   "outputs": [
    {
     "data": {
      "text/plain": [
       "array([False])"
      ]
     },
     "execution_count": 25,
     "metadata": {},
     "output_type": "execute_result"
    }
   ],
   "source": [
    "umbral = 8000\n",
    "y_un_digito_pred = (y_scores > umbral)\n",
    "y_un_digito_pred"
   ]
  },
  {
   "cell_type": "markdown",
   "id": "earned-special",
   "metadata": {},
   "source": [
    "Aquí estamos reduciendo el *recall*: la imagen representa un \"5\" y el clasificador lo detecta cuando el umbral es igual a 0, pero no cuando se aumenta a 8000.\n",
    "\n",
    "Ahora, vamos a obtener todos los *decision scores* de todas las instancias usando `cross_val_predict()` de nuevo, cambiando una opción."
   ]
  },
  {
   "cell_type": "code",
   "execution_count": 26,
   "id": "expressed-polymer",
   "metadata": {},
   "outputs": [],
   "source": [
    "y_scores = cross_val_predict(sgd_clf, X_train, y_train_5, cv=3, method=\"decision_function\")"
   ]
  },
  {
   "cell_type": "markdown",
   "id": "furnished-school",
   "metadata": {},
   "source": [
    "Con estos valores, podemos calcular precisión y *recall* para todos los posibles umbrales, ocupando la función `precision_recall_curve()` de scikit-learn."
   ]
  },
  {
   "cell_type": "code",
   "execution_count": 27,
   "id": "cardiovascular-belize",
   "metadata": {},
   "outputs": [],
   "source": [
    "from sklearn.metrics import precision_recall_curve\n",
    "\n",
    "precisions, recalls, umbrales = precision_recall_curve(y_train_5, y_scores)"
   ]
  },
  {
   "cell_type": "code",
   "execution_count": 28,
   "id": "alien-friday",
   "metadata": {},
   "outputs": [
    {
     "data": {
      "image/png": "[encoded data removed]",
      "text/plain": [
       "<Figure size 432x288 with 1 Axes>"
      ]
     },
     "metadata": {
      "needs_background": "light"
     },
     "output_type": "display_data"
    }
   ],
   "source": [
    "axis([-50000,50000,0.0,1.0])\n",
    "plot(umbrales, precisions[:-1], \"b--\", label=\"Precisión\")\n",
    "plot(umbrales, recalls[:-1], \"g-\", label=\"Recall\")\n",
    "xlabel(\"Umbral\")\n",
    "legend()\n",
    "grid()"
   ]
  },
  {
   "cell_type": "markdown",
   "id": "bulgarian-cover",
   "metadata": {},
   "source": [
    "La curva de precisión es más ruidosa que la curva de *recall* porque la precisión puede disminuir cuando se aumenta el umbral (como lo que pasa en la figura arriba cuando desplazamos el umbral un dígito a la derecha).\n",
    "\n",
    "También podemos graficar precisión vs. *recall*."
   ]
  },
  {
   "cell_type": "code",
   "execution_count": 29,
   "id": "simple-technical",
   "metadata": {},
   "outputs": [
    {
     "data": {
      "image/png": "[encoded data removed]",
      "text/plain": [
       "<Figure size 432x288 with 1 Axes>"
      ]
     },
     "metadata": {
      "needs_background": "light"
     },
     "output_type": "display_data"
    }
   ],
   "source": [
    "axis([0.0,1.0,0.0,1.0])\n",
    "plot(recalls[:-1], precisions[:-1], \"b-\")\n",
    "xlabel(\"Recall\")\n",
    "ylabel(\"Precision\")\n",
    "grid()"
   ]
  },
  {
   "cell_type": "markdown",
   "id": "thorough-burke",
   "metadata": {},
   "source": [
    "Vamos a buscar el valor mínimo del umbral que resulta en una precisión de 90%."
   ]
  },
  {
   "cell_type": "code",
   "execution_count": 30,
   "id": "endless-doctor",
   "metadata": {},
   "outputs": [],
   "source": [
    "umbral_90_precision = umbrales[argmax(precisions >= 0.90)]"
   ]
  },
  {
   "cell_type": "code",
   "execution_count": 31,
   "id": "spectacular-zimbabwe",
   "metadata": {},
   "outputs": [],
   "source": [
    "y_train_pred_90 = (y_scores >= umbral_90_precision)"
   ]
  },
  {
   "cell_type": "code",
   "execution_count": 32,
   "id": "standing-latex",
   "metadata": {},
   "outputs": [
    {
     "data": {
      "text/plain": [
       "0.9000345901072293"
      ]
     },
     "execution_count": 32,
     "metadata": {},
     "output_type": "execute_result"
    }
   ],
   "source": [
    "precision_score(y_train_5, y_train_pred_90)"
   ]
  },
  {
   "cell_type": "code",
   "execution_count": 33,
   "id": "municipal-proposal",
   "metadata": {},
   "outputs": [
    {
     "data": {
      "text/plain": [
       "0.4799852425751706"
      ]
     },
     "execution_count": 33,
     "metadata": {},
     "output_type": "execute_result"
    }
   ],
   "source": [
    "recall_score(y_train_5, y_train_pred_90)"
   ]
  },
  {
   "cell_type": "markdown",
   "id": "constant-index",
   "metadata": {},
   "source": [
    "#### Curva de ROC\n",
    "\n",
    "ROC significa *receiver operating characteristic*. Fue usado originalmente en el contexto de operadores de sistemas de RADAR en la segunda guerra mundial.\n",
    "\n",
    "Esta métrica considera el *true positive rate* (TPR, equivalente al *recall*) contra el *false positive rate* (FPR)."
   ]
  },
  {
   "cell_type": "code",
   "execution_count": 34,
   "id": "assisted-handbook",
   "metadata": {},
   "outputs": [],
   "source": [
    "from sklearn.metrics import roc_curve\n",
    "\n",
    "fpr, tpr, umbrales = roc_curve(y_train_5, y_scores)"
   ]
  },
  {
   "cell_type": "code",
   "execution_count": 35,
   "id": "dangerous-terminal",
   "metadata": {},
   "outputs": [
    {
     "data": {
      "text/plain": [
       "Text(0, 0.5, 'True positive rate')"
      ]
     },
     "execution_count": 35,
     "metadata": {},
     "output_type": "execute_result"
    },
    {
     "data": {
      "image/png": "[encoded data removed]",
      "text/plain": [
       "<Figure size 432x288 with 1 Axes>"
      ]
     },
     "metadata": {
      "needs_background": "light"
     },
     "output_type": "display_data"
    }
   ],
   "source": [
    "axis([0,1,0,1])\n",
    "plot(fpr, tpr)\n",
    "plot([0,1],[0,1], 'k--')\n",
    "xlabel(\"False positive rate\")\n",
    "ylabel(\"True positive rate\")"
   ]
  },
  {
   "cell_type": "markdown",
   "id": "peripheral-result",
   "metadata": {},
   "source": [
    "La línea diagonal corresponde a un clasificador aleatorio. Un buen clasificador tiene una curva ROC lo más lejano de la línea diagonal posible (hacia la esquina del nor-oeste).\n",
    "\n",
    "Se puede cuantificar el clasificador con el área debajo de la curva ROC (*area under the curve*, AUC).\n",
    "\n",
    "Un clasificador perfecto tendrá un AUC igual a 1. Un clasificador aleatorio tiene AUC = 0.5."
   ]
  },
  {
   "cell_type": "code",
   "execution_count": 36,
   "id": "southwest-creativity",
   "metadata": {},
   "outputs": [
    {
     "data": {
      "text/plain": [
       "0.9604938554008616"
      ]
     },
     "execution_count": 36,
     "metadata": {},
     "output_type": "execute_result"
    }
   ],
   "source": [
    "from sklearn.metrics import roc_auc_score\n",
    "roc_auc_score(y_train_5, y_scores)"
   ]
  },
  {
   "cell_type": "markdown",
   "id": "fleet-benefit",
   "metadata": {},
   "source": [
    "La curva de precisión/*recall* (PR) es más apta en casos donde la clase positiva es rara, o cuando los positivos falsos son de mayor importancia que los negativos falsos.\n",
    "\n",
    "En cualquier otro caso, la curva ROC es probablemente más útil.\n",
    "\n",
    "En el clasificador de \"5\" o \"no-5\", el caso \"5\" ocurre solamente 10% del tiempo. La curva ROC implica un clasificador muy bueno, pero la curva PR muestra que se lo puede mejorar todavía."
   ]
  },
  {
   "cell_type": "markdown",
   "id": "paperback-selling",
   "metadata": {},
   "source": [
    "##### Otro algoritmo: *random forest*\n",
    "\n",
    "Ahora usamos otro clasificador: *random forest*. Veremos más sobre este algoritmo más tarde.\n",
    "\n",
    "En el caso de `RandomForestClassifier` no hay un método `decision_function()`, sino que hay `predict_proba()`.\n",
    "\n",
    "`predict_proba()` devuelve un array con una fila por instancia y una columna por clase. Cada elemento del array da la probabilidad que la instancia pertenece a la clase."
   ]
  },
  {
   "cell_type": "code",
   "execution_count": 37,
   "id": "turkish-leeds",
   "metadata": {},
   "outputs": [],
   "source": [
    "from sklearn.ensemble import RandomForestClassifier\n",
    "\n",
    "forest_clf = RandomForestClassifier(random_state=42)\n",
    "y_probas_forest = cross_val_predict(forest_clf, X_train, y_train_5,\n",
    "                                    cv=3, method=\"predict_proba\")"
   ]
  },
  {
   "cell_type": "markdown",
   "id": "civilian-length",
   "metadata": {},
   "source": [
    "Usamos la probabilidad de la clase positiva (\"5\") como la puntuación de decisión para este algoritmo."
   ]
  },
  {
   "cell_type": "code",
   "execution_count": 38,
   "id": "dimensional-james",
   "metadata": {},
   "outputs": [],
   "source": [
    "y_scores_forest = y_probas_forest[:, 1]\n",
    "fpr_forest, tpr_forest, umbrales_forest = roc_curve(y_train_5, \n",
    "                                                    y_scores_forest)"
   ]
  },
  {
   "cell_type": "code",
   "execution_count": 39,
   "id": "crucial-prime",
   "metadata": {},
   "outputs": [
    {
     "data": {
      "text/plain": [
       "<matplotlib.legend.Legend at 0x7f4f91e69220>"
      ]
     },
     "execution_count": 39,
     "metadata": {},
     "output_type": "execute_result"
    },
    {
     "data": {
      "image/png": "[encoded data removed]",
      "text/plain": [
       "<Figure size 432x288 with 1 Axes>"
      ]
     },
     "metadata": {
      "needs_background": "light"
     },
     "output_type": "display_data"
    }
   ],
   "source": [
    "axis([0,1,0,1])\n",
    "plot(fpr, tpr, 'b:', label=\"SGD\")\n",
    "plot(fpr_forest, tpr_forest, 'b-', label=\"Random forest\")\n",
    "plot([0,1],[0,1], 'k--')\n",
    "xlabel(\"False positive rate\")\n",
    "ylabel(\"True positive rate\")\n",
    "legend()"
   ]
  },
  {
   "cell_type": "code",
   "execution_count": 40,
   "id": "covered-romantic",
   "metadata": {},
   "outputs": [
    {
     "data": {
      "text/plain": [
       "0.9983436731328145"
      ]
     },
     "execution_count": 40,
     "metadata": {},
     "output_type": "execute_result"
    }
   ],
   "source": [
    "roc_auc_score(y_train_5, y_scores_forest)"
   ]
  },
  {
   "cell_type": "code",
   "execution_count": 41,
   "id": "environmental-bidding",
   "metadata": {},
   "outputs": [],
   "source": [
    "y_forest_pred = (y_scores_forest >= 0.5)"
   ]
  },
  {
   "cell_type": "code",
   "execution_count": 42,
   "id": "guided-definition",
   "metadata": {},
   "outputs": [
    {
     "data": {
      "text/plain": [
       "0.9897468089558485"
      ]
     },
     "execution_count": 42,
     "metadata": {},
     "output_type": "execute_result"
    }
   ],
   "source": [
    "precision_score(y_train_5, y_forest_pred)"
   ]
  },
  {
   "cell_type": "code",
   "execution_count": 43,
   "id": "atmospheric-skill",
   "metadata": {},
   "outputs": [
    {
     "data": {
      "text/plain": [
       "0.8725327430363402"
      ]
     },
     "execution_count": 43,
     "metadata": {},
     "output_type": "execute_result"
    }
   ],
   "source": [
    "recall_score(y_train_5, y_forest_pred)"
   ]
  },
  {
   "cell_type": "markdown",
   "id": "patient-agent",
   "metadata": {},
   "source": [
    "#### Clasificación de multiclase\n",
    "\n",
    "En el ejemplo anterior habían dos clases: \"5\" o \"no 5\". Pero sabemos que en realidad hay 10 clases: todos los dígitos entre 0 y 9.\n",
    "\n",
    "Un clasificador que puede clasificar instancias en más que dos clases se llama un **clasificador de multiclase** (*multiclass classifier*, *multinomial classifier*).\n",
    "\n",
    "Algunos algoritmos son clasificadores binarios (SVM, clasificadores lineales).\n",
    "\n",
    "Se puede combinar varios clasificadores binarios para crear un clasificador de multiclase."
   ]
  },
  {
   "cell_type": "markdown",
   "id": "neural-people",
   "metadata": {},
   "source": [
    "##### Una estrategia: one-versus-all (OvA)\n",
    "\n",
    "Tenemos 10 clasificadores binarios, uno para cada dígito.\n",
    "\n",
    "Entrenamos todos los clasificadores y para cada instancia consideramos la *decision score* más alta de los clasificadores como la clasificación final."
   ]
  },
  {
   "cell_type": "markdown",
   "id": "defensive-swaziland",
   "metadata": {},
   "source": [
    "##### Otra estrategia: one-versus-one (OvO)\n",
    "\n",
    "Tenemos un clasificador binario para cada par de dígitos (e.g. 0 vs. 1, 0 vs. 2, etc.)\n",
    "\n",
    "Para $N$ clases, necesitamos $\\frac{1}{2}N(N-1)$ clasificadores.\n",
    "\n",
    "En el caso de MNIST, necesitariamos 45 clasificadores binarios!\n",
    "\n",
    "La clasificación final corresponde a la clase que gana la mayoría de las \"batallas\".\n",
    "\n",
    "La ventaja de este método es que podemos entrenar cada clasificador con solamente las clases que tiene que distinguir."
   ]
  },
  {
   "cell_type": "markdown",
   "id": "fossil-blood",
   "metadata": {},
   "source": [
    "##### OvA? OvO?\n",
    "\n",
    "Algunos algoritmos escalan muy mal con el tamaño del conjunto de entrenamiento (SVM por ejemplo).\n",
    "\n",
    "En ese caso, OvO es mejor, ya que es más rápido entrenar muchos clasificadores con pocos datos que pocos clasificadores con muchos datos.\n",
    "\n",
    "En la mayoría de los casos, OvA es mejor."
   ]
  },
  {
   "cell_type": "markdown",
   "id": "annual-municipality",
   "metadata": {},
   "source": [
    "Scikit-learn automáticamente ocupa OvA para clasificación multiclase con clasificadores binarios.\n",
    "\n",
    "Ocupa OvO solamente en el caso de SVM."
   ]
  },
  {
   "cell_type": "code",
   "execution_count": 44,
   "id": "accompanied-table",
   "metadata": {},
   "outputs": [
    {
     "data": {
      "text/plain": [
       "array([3], dtype=uint8)"
      ]
     },
     "execution_count": 44,
     "metadata": {},
     "output_type": "execute_result"
    }
   ],
   "source": [
    "sgd_clf.fit(X_train, y_train) #\"target\" es y_train, NO y_train_5\n",
    "sgd_clf.predict([un_digito])"
   ]
  },
  {
   "cell_type": "code",
   "execution_count": 45,
   "id": "defensive-fitness",
   "metadata": {},
   "outputs": [
    {
     "data": {
      "text/plain": [
       "<matplotlib.image.AxesImage at 0x7f4f91e82f10>"
      ]
     },
     "execution_count": 45,
     "metadata": {},
     "output_type": "execute_result"
    },
    {
     "data": {
      "image/png": "[encoded data removed]",
      "text/plain": [
       "<Figure size 432x288 with 1 Axes>"
      ]
     },
     "metadata": {
      "needs_background": "light"
     },
     "output_type": "display_data"
    }
   ],
   "source": [
    "imshow(un_digito.reshape(28,28),cmap=cm.binary)"
   ]
  },
  {
   "cell_type": "markdown",
   "id": "boolean-emperor",
   "metadata": {},
   "source": [
    "En el ejemplo anterior `scikit-learn` automáticamente está entrenando 10 clasificadores binarios, obtiene los *decision scores* y elige la clase con la puntuación más alta."
   ]
  },
  {
   "cell_type": "code",
   "execution_count": 46,
   "id": "cheap-jumping",
   "metadata": {},
   "outputs": [
    {
     "data": {
      "text/plain": [
       "array([[-31893.03095419, -34419.69069632,  -9530.63950739,\n",
       "          1823.73154031, -22320.14822878,  -1385.80478895,\n",
       "        -26188.91070951, -16147.51323997,  -4604.35491274,\n",
       "        -12050.767298  ]])"
      ]
     },
     "execution_count": 46,
     "metadata": {},
     "output_type": "execute_result"
    }
   ],
   "source": [
    "algunos_puntuaciones = sgd_clf.decision_function([un_digito])\n",
    "algunos_puntuaciones"
   ]
  },
  {
   "cell_type": "code",
   "execution_count": 47,
   "id": "thermal-nursery",
   "metadata": {},
   "outputs": [
    {
     "data": {
      "text/plain": [
       "3"
      ]
     },
     "execution_count": 47,
     "metadata": {},
     "output_type": "execute_result"
    }
   ],
   "source": [
    "argmax(algunos_puntuaciones)"
   ]
  },
  {
   "cell_type": "code",
   "execution_count": 48,
   "id": "ambient-internet",
   "metadata": {},
   "outputs": [
    {
     "data": {
      "text/plain": [
       "array([0, 1, 2, 3, 4, 5, 6, 7, 8, 9], dtype=uint8)"
      ]
     },
     "execution_count": 48,
     "metadata": {},
     "output_type": "execute_result"
    }
   ],
   "source": [
    "sgd_clf.classes_"
   ]
  },
  {
   "cell_type": "code",
   "execution_count": 49,
   "id": "pressed-lover",
   "metadata": {},
   "outputs": [
    {
     "data": {
      "text/plain": [
       "5"
      ]
     },
     "execution_count": 49,
     "metadata": {},
     "output_type": "execute_result"
    }
   ],
   "source": [
    "sgd_clf.classes_[5]"
   ]
  },
  {
   "cell_type": "markdown",
   "id": "floating-wilson",
   "metadata": {},
   "source": [
    "Los clasificacores en `scikit-learn` guardan la lista de clases en un atributo que se llama `classes_`, ordenado por valor."
   ]
  },
  {
   "cell_type": "markdown",
   "id": "changed-remains",
   "metadata": {},
   "source": [
    "Se puede pedir que `scikit-learn` ocupe OvO u OvA con las clases `OneVsOneClassifier` o `OneVsRestClassifier`.\n",
    "\n",
    "Hay que crear una instancia y pasar un clasificador binario al constructor de la clase. Por ejemplo:"
   ]
  },
  {
   "cell_type": "code",
   "execution_count": 50,
   "id": "unusual-generation",
   "metadata": {},
   "outputs": [
    {
     "data": {
      "text/plain": [
       "array([5], dtype=uint8)"
      ]
     },
     "execution_count": 50,
     "metadata": {},
     "output_type": "execute_result"
    }
   ],
   "source": [
    "from sklearn.multiclass import OneVsOneClassifier\n",
    "ovo_clf = OneVsOneClassifier(SGDClassifier(random_state=42))\n",
    "ovo_clf.fit(X_train, y_train)\n",
    "ovo_clf.predict([un_digito])"
   ]
  },
  {
   "cell_type": "code",
   "execution_count": 51,
   "id": "hidden-confidence",
   "metadata": {},
   "outputs": [
    {
     "data": {
      "text/plain": [
       "45"
      ]
     },
     "execution_count": 51,
     "metadata": {},
     "output_type": "execute_result"
    }
   ],
   "source": [
    "len(ovo_clf.estimators_)"
   ]
  },
  {
   "cell_type": "markdown",
   "id": "executive-variety",
   "metadata": {},
   "source": [
    "Ahora vamos a usar otro clasificador (*random forest*):"
   ]
  },
  {
   "cell_type": "code",
   "execution_count": 52,
   "id": "coral-accordance",
   "metadata": {},
   "outputs": [
    {
     "data": {
      "text/plain": [
       "array([5], dtype=uint8)"
      ]
     },
     "execution_count": 52,
     "metadata": {},
     "output_type": "execute_result"
    }
   ],
   "source": [
    "forest_clf.fit(X_train, y_train)\n",
    "forest_clf.predict([un_digito])"
   ]
  },
  {
   "cell_type": "markdown",
   "id": "caroline-metro",
   "metadata": {},
   "source": [
    "No es necesario usar OvA ni OvO, porque *random forest* es un algoritmo que ya puede clasificar instancias en distintas clases.\n",
    "\n",
    "Con el método `predict_proba()` se puede obtener la lista de probabilidades que el clasificador está asignando a cada instancia para cada clase."
   ]
  },
  {
   "cell_type": "code",
   "execution_count": 53,
   "id": "unlimited-medication",
   "metadata": {},
   "outputs": [
    {
     "data": {
      "text/plain": [
       "array([[0.  , 0.  , 0.01, 0.08, 0.  , 0.9 , 0.  , 0.  , 0.  , 0.01]])"
      ]
     },
     "execution_count": 53,
     "metadata": {},
     "output_type": "execute_result"
    }
   ],
   "source": [
    "forest_clf.predict_proba([un_digito])"
   ]
  },
  {
   "cell_type": "markdown",
   "id": "portable-scheme",
   "metadata": {},
   "source": [
    "Ahora vamos a evaluar el `SGDClassifier` según su *accuracy* con la función `cross_val_score()`:"
   ]
  },
  {
   "cell_type": "code",
   "execution_count": 54,
   "id": "mysterious-stake",
   "metadata": {},
   "outputs": [
    {
     "data": {
      "text/plain": [
       "array([0.87365, 0.85835, 0.8689 ])"
      ]
     },
     "execution_count": 54,
     "metadata": {},
     "output_type": "execute_result"
    }
   ],
   "source": [
    "cross_val_score(sgd_clf, X_train, y_train, cv=3, scoring=\"accuracy\")"
   ]
  },
  {
   "cell_type": "markdown",
   "id": "cordless-strap",
   "metadata": {},
   "source": [
    "Podemos mejorar los resultados aplicando una transformada a los datos: un escalamiento.\n",
    "\n",
    "Hay dos formas típicas de escalar los datos:\n",
    "\n",
    "* Min-max: los datos están transformados para tomar valores en el rango 0 a 1.\n",
    "* Estandarización: resta el valor promedio y dividida por la desviación estandar.\n",
    "\n",
    "En `scikit-learn`, para el primer caso, hay `MinMaxScaler`. Para el segundo caso hay `StandardScaler`."
   ]
  },
  {
   "cell_type": "code",
   "execution_count": 55,
   "id": "acknowledged-passing",
   "metadata": {},
   "outputs": [
    {
     "data": {
      "text/plain": [
       "array([0.8983, 0.891 , 0.9018])"
      ]
     },
     "execution_count": 55,
     "metadata": {},
     "output_type": "execute_result"
    }
   ],
   "source": [
    "from sklearn.preprocessing import StandardScaler\n",
    "scaler = StandardScaler()\n",
    "X_train_scaled = scaler.fit_transform(X_train.astype(np.float64))\n",
    "cross_val_score(sgd_clf, X_train_scaled, y_train, cv=3, scoring=\"accuracy\")"
   ]
  },
  {
   "cell_type": "markdown",
   "id": "floating-softball",
   "metadata": {},
   "source": [
    "#### Analisis de errores\n",
    "\n",
    "Volvemos a la matriz de confusión..."
   ]
  },
  {
   "cell_type": "code",
   "execution_count": 56,
   "id": "commercial-separate",
   "metadata": {},
   "outputs": [
    {
     "data": {
      "text/plain": [
       "array([[5577,    0,   22,    5,    8,   43,   36,    6,  225,    1],\n",
       "       [   0, 6400,   37,   24,    4,   44,    4,    7,  212,   10],\n",
       "       [  27,   27, 5220,   92,   73,   27,   67,   36,  378,   11],\n",
       "       [  22,   17,  117, 5227,    2,  203,   27,   40,  403,   73],\n",
       "       [  12,   14,   41,    9, 5182,   12,   34,   27,  347,  164],\n",
       "       [  27,   15,   30,  168,   53, 4444,   75,   14,  535,   60],\n",
       "       [  30,   15,   42,    3,   44,   97, 5552,    3,  131,    1],\n",
       "       [  21,   10,   51,   30,   49,   12,    3, 5684,  195,  210],\n",
       "       [  17,   63,   48,   86,    3,  126,   25,   10, 5429,   44],\n",
       "       [  25,   18,   30,   64,  118,   36,    1,  179,  371, 5107]])"
      ]
     },
     "execution_count": 56,
     "metadata": {},
     "output_type": "execute_result"
    }
   ],
   "source": [
    "y_train_pred = cross_val_predict(sgd_clf, X_train_scaled, y_train, cv=3)\n",
    "conf_mx = confusion_matrix(y_train, y_train_pred)\n",
    "conf_mx"
   ]
  },
  {
   "cell_type": "code",
   "execution_count": 57,
   "id": "sound-frontier",
   "metadata": {},
   "outputs": [
    {
     "data": {
      "text/plain": [
       "<matplotlib.image.AxesImage at 0x7f4f82a53310>"
      ]
     },
     "execution_count": 57,
     "metadata": {},
     "output_type": "execute_result"
    },
    {
     "data": {
      "image/png": "[encoded data removed]",
      "text/plain": [
       "<Figure size 288x288 with 1 Axes>"
      ]
     },
     "metadata": {
      "needs_background": "light"
     },
     "output_type": "display_data"
    }
   ],
   "source": [
    "matshow(conf_mx, cmap=cm.gray)"
   ]
  },
  {
   "cell_type": "markdown",
   "id": "economic-doctrine",
   "metadata": {},
   "source": [
    "Parece bien... la mayoría de las clasificaciones son correctas (la diagonal de la matriz es casi blanca).\n",
    "\n",
    "El elemento que corresponde a \"5\" en la diagonal es un poco más oscuro.\n",
    "\n",
    "Este podría indicar que hay pocas imagenes de \"5\" y/o el clasificador no funciona tan bien para imagenes de \"5\".\n",
    "\n",
    "Vamos a investigar más..."
   ]
  },
  {
   "cell_type": "markdown",
   "id": "surprising-kinase",
   "metadata": {},
   "source": [
    "Dividimos cada valor en la matriz por el número de imagenes en la clase que corresponde (para encontrar la taza de error, en vez del número absoluto de errores)."
   ]
  },
  {
   "cell_type": "code",
   "execution_count": 58,
   "id": "classified-adoption",
   "metadata": {},
   "outputs": [],
   "source": [
    "sumas_filas = conf_mx.sum(axis=1, keepdims=True)\n",
    "norm_conf_mx = conf_mx / sumas_filas"
   ]
  },
  {
   "cell_type": "markdown",
   "id": "roman-program",
   "metadata": {},
   "source": [
    "Llenamos la diagonal con ceros para trabajar solamente con los errores."
   ]
  },
  {
   "cell_type": "code",
   "execution_count": 59,
   "id": "generic-priest",
   "metadata": {},
   "outputs": [
    {
     "data": {
      "text/plain": [
       "<matplotlib.image.AxesImage at 0x7f4f919a0ee0>"
      ]
     },
     "execution_count": 59,
     "metadata": {},
     "output_type": "execute_result"
    },
    {
     "data": {
      "image/png": "[encoded data removed]",
      "text/plain": [
       "<Figure size 288x288 with 1 Axes>"
      ]
     },
     "metadata": {
      "needs_background": "light"
     },
     "output_type": "display_data"
    }
   ],
   "source": [
    "fill_diagonal(norm_conf_mx, 0)\n",
    "matshow(norm_conf_mx, cmap=cm.gray)"
   ]
  },
  {
   "cell_type": "markdown",
   "id": "vocal-limit",
   "metadata": {},
   "source": [
    "Recordar: filas son las clases verdaderas (las imagenes), columnas son las predicciones del clasificador.\n",
    "\n",
    "* La columna para clase \"8\" es más brillante, así que hay muchas imagenes clasificadas (incorrectamente) como \"8\"\n",
    "* La fila para \"8\" está mucho más oscura, así que las imagenes de \"8\" están clasificadas bien.\n",
    "* También parece que imagenes de \"3\" y \"5\" están confundidos (en ambos sentidos)"
   ]
  },
  {
   "cell_type": "markdown",
   "id": "opponent-settlement",
   "metadata": {},
   "source": [
    "Según nuestro analisis de la matriz de confusión, para mejorar el modelo podríamos:\n",
    "\n",
    "* Recopilar más datos de dígitos que parecen \"8\" pero no son (para entrenar como distinguir un \"8\").\n",
    "* Agregar más *features* e.g. el número de lazos.\n",
    "* Preprocesar las imagenes para resaltar los *features*."
   ]
  },
  {
   "cell_type": "markdown",
   "id": "incoming-ozone",
   "metadata": {},
   "source": [
    "La razón básica por tener clasificaciones erroneas es que `SGDClassifier` es un modelo lineal:\n",
    "\n",
    "* Asigna un peso por clase a cada pixel.\n",
    "* Para una imagen nueva, suma las intensidades ponderadas de los pixeles para calcular una puntuación en cada clase (recordatorio: `SDGClassifier` es binario)\n",
    "\n",
    "Ya que las imagenes de \"3\" y \"5\" difieren por solo algunos pixeles, es muy fácil confundirlas."
   ]
  },
  {
   "cell_type": "markdown",
   "id": "useful-monroe",
   "metadata": {},
   "source": [
    "#### Clasificación de multi-etiqueta (*multilabel*)\n",
    "\n",
    "Para la clasificación que hemos realizado hasta ahora tenemos una sola etiqueta (el dígito que la imagen representa).\n",
    "\n",
    "Multi-etiqueta significa usar dos etiquetas para los datos.\n",
    "\n",
    "Por ejemplo, clasificar los dígitos con las etiquetas \"grande\" (si son mayor que 7) y \"impar\".\n",
    "\n",
    "Usaremos el algoritmo de *k-nearest neighbours* para este ejemplo."
   ]
  },
  {
   "cell_type": "code",
   "execution_count": 60,
   "id": "sustainable-promise",
   "metadata": {},
   "outputs": [
    {
     "data": {
      "text/plain": [
       "KNeighborsClassifier()"
      ]
     },
     "execution_count": 60,
     "metadata": {},
     "output_type": "execute_result"
    }
   ],
   "source": [
    "from sklearn.neighbors import KNeighborsClassifier\n",
    "\n",
    "y_train_large = (y_train >= 7)\n",
    "y_train_odd = (y_train % 2 == 1)\n",
    "y_multilabel = c_[y_train_large, y_train_odd]\n",
    "\n",
    "knn_clf = KNeighborsClassifier()\n",
    "knn_clf.fit(X_train, y_multilabel)"
   ]
  },
  {
   "cell_type": "code",
   "execution_count": 61,
   "id": "popular-charlotte",
   "metadata": {},
   "outputs": [
    {
     "data": {
      "text/plain": [
       "array([[False,  True]])"
      ]
     },
     "execution_count": 61,
     "metadata": {},
     "output_type": "execute_result"
    }
   ],
   "source": [
    "knn_clf.predict([un_digito])"
   ]
  },
  {
   "cell_type": "markdown",
   "id": "hazardous-nutrition",
   "metadata": {},
   "source": [
    "Ahora clasifica el dígito 5 con dos etiquetas: no es \"grande\" (es menor que 7) y es impar."
   ]
  },
  {
   "cell_type": "markdown",
   "id": "floppy-enzyme",
   "metadata": {},
   "source": [
    "La evaluación de un clasificador de multi-etqueta es un poco más complejo.\n",
    "\n",
    "Una opción sería usar las métricas que vimos antes (por ejemplo, $F_1$) para cada etiqueta y promediar los resultados."
   ]
  },
  {
   "cell_type": "code",
   "execution_count": 62,
   "id": "vanilla-fault",
   "metadata": {},
   "outputs": [
    {
     "data": {
      "text/plain": [
       "0.976410265560605"
      ]
     },
     "execution_count": 62,
     "metadata": {},
     "output_type": "execute_result"
    }
   ],
   "source": [
    "y_train_knn_pred = cross_val_predict(knn_clf, X_train, y_multilabel, cv=3)\n",
    "f1_score(y_multilabel, y_train_knn_pred, average=\"macro\")"
   ]
  },
  {
   "cell_type": "markdown",
   "id": "stunning-thumbnail",
   "metadata": {},
   "source": [
    "Este método supone que todas las etiquetas son iguales en importancia.\n",
    "\n",
    "Si no es así, se puede asociar un peso a cada etiqueta según su *support* (el número de instancias con esa etiqueta como *target*).\n",
    "\n",
    "Eso se hace con `average=\"weighted\"` en el ejemplo anterior."
   ]
  },
  {
   "cell_type": "markdown",
   "id": "surface-colon",
   "metadata": {},
   "source": [
    "#### Clasificación de multi-salida (*multioutput*)\n",
    "\n",
    "Generalización de multilabel donde cada etiqueta puede ser *multiclass*.\n",
    "\n",
    "Como ejemplo, podemos construir un sistema que elimina el ruido de las imagenes de los dígitos.\n",
    "\n",
    "Como entrada tenemos las imagenes originales, y como salida tenemos imagenes más \"limpias\".\n",
    "\n",
    "Entonces la salida es un array de $28 \\times 28$ pixeles.\n",
    "\n",
    "* Multilabel: cada pixel tiene una \"etiqueta\".\n",
    "* Multiclass: cada \"etiqueta\" es un valor entre 0 y 255."
   ]
  },
  {
   "cell_type": "markdown",
   "id": "wicked-brush",
   "metadata": {},
   "source": [
    "(Parentesis: a veces la distinción entre **clasificación** y **regresión** no es muy clara... Se puede decir que la predicción de los valores de los pixeles en este ejemplo es más un ejemplo de regresión.)"
   ]
  },
  {
   "cell_type": "code",
   "execution_count": 64,
   "id": "fluid-nickname",
   "metadata": {},
   "outputs": [],
   "source": [
    "ruido = random.randint(0, 100, (len(X_train), 784))\n",
    "X_train_mod = X_train + ruido\n",
    "ruido = random.randint(0, 100, (len(X_test), 784))\n",
    "X_test_mod = X_test + ruido\n",
    "\n",
    "y_train_mod = X_train #\"targets\" son las imagenes originales sin ruido\n",
    "y_test_mod = X_test"
   ]
  },
  {
   "cell_type": "code",
   "execution_count": 74,
   "id": "romance-chest",
   "metadata": {},
   "outputs": [
    {
     "data": {
      "text/plain": [
       "<matplotlib.image.AxesImage at 0x7f4f8d9e1700>"
      ]
     },
     "execution_count": 74,
     "metadata": {},
     "output_type": "execute_result"
    },
    {
     "data": {
      "image/png": "[encoded data removed]",
      "text/plain": [
       "<Figure size 432x288 with 1 Axes>"
      ]
     },
     "metadata": {
      "needs_background": "light"
     },
     "output_type": "display_data"
    }
   ],
   "source": [
    "imshow(X_test_mod[0].reshape((28,28)),cmap=cm.binary)"
   ]
  },
  {
   "cell_type": "code",
   "execution_count": 75,
   "id": "impossible-substitute",
   "metadata": {},
   "outputs": [
    {
     "data": {
      "text/plain": [
       "<matplotlib.image.AxesImage at 0x7f4f8d942b20>"
      ]
     },
     "execution_count": 75,
     "metadata": {},
     "output_type": "execute_result"
    },
    {
     "data": {
      "image/png": "[encoded data removed]",
      "text/plain": [
       "<Figure size 432x288 with 1 Axes>"
      ]
     },
     "metadata": {
      "needs_background": "light"
     },
     "output_type": "display_data"
    }
   ],
   "source": [
    "imshow(y_test_mod[0].reshape((28,28)),cmap=cm.binary)"
   ]
  },
  {
   "cell_type": "code",
   "execution_count": 79,
   "id": "committed-chuck",
   "metadata": {},
   "outputs": [
    {
     "data": {
      "text/plain": [
       "<matplotlib.image.AxesImage at 0x7f4f8db6e460>"
      ]
     },
     "execution_count": 79,
     "metadata": {},
     "output_type": "execute_result"
    },
    {
     "data": {
      "image/png": "[encoded data removed]",
      "text/plain": [
       "<Figure size 432x288 with 1 Axes>"
      ]
     },
     "metadata": {
      "needs_background": "light"
     },
     "output_type": "display_data"
    }
   ],
   "source": [
    "knn_clf.fit(X_train_mod, y_train_mod)\n",
    "digito_limpio = knn_clf.predict([X_test_mod[0]])\n",
    "imshow(digito_limpio.reshape((28,28)),cmap=cm.binary)"
   ]
  },
  {
   "cell_type": "code",
   "execution_count": null,
   "id": "hidden-adult",
   "metadata": {},
   "outputs": [],
   "source": []
  }
 ],
 "metadata": {
  "@webio": {
   "lastCommId": null,
   "lastKernelId": null
  },
  "kernelspec": {
   "display_name": "Python 3",
   "language": "python",
   "name": "python3"
  },
  "language_info": {
   "codemirror_mode": {
    "name": "ipython",
    "version": 3
   },
   "file_extension": ".py",
   "mimetype": "text/x-python",
   "name": "python",
   "nbconvert_exporter": "python",
   "pygments_lexer": "ipython3",
   "version": "3.7.3"
  }
 },
 "nbformat": 4,
 "nbformat_minor": 5
}
