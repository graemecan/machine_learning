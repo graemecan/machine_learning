{
 "cells": [
  {
   "cell_type": "code",
   "execution_count": 1,
   "id": "complex-runner",
   "metadata": {},
   "outputs": [
    {
     "name": "stdout",
     "output_type": "stream",
     "text": [
      "Populating the interactive namespace from numpy and matplotlib\n"
     ]
    }
   ],
   "source": [
    "%pylab inline"
   ]
  },
  {
   "cell_type": "markdown",
   "id": "strange-ballet",
   "metadata": {},
   "source": [
    "## Arboles de decisión (*decision trees*)\n",
    "\n",
    "Método versatil que se puede usar para clasificación y regresión, incluso problemas de *multioutput*.\n",
    "\n",
    "Los árboles de decisión son los componentes fundamentales para *random forests*, uno de los métodos de *machine learning* más poderosos que existe hoy en día."
   ]
  },
  {
   "cell_type": "markdown",
   "id": "white-assist",
   "metadata": {},
   "source": [
    "#### Entrenamiento y visualización de un árbol de decisión\n",
    "\n",
    "Volvemos a los datos de los flores \"iris\"."
   ]
  },
  {
   "cell_type": "code",
   "execution_count": 2,
   "id": "front-tonight",
   "metadata": {},
   "outputs": [],
   "source": [
    "from sklearn.datasets import load_iris\n",
    "from sklearn.tree import DecisionTreeClassifier"
   ]
  },
  {
   "cell_type": "code",
   "execution_count": 3,
   "id": "classified-relief",
   "metadata": {},
   "outputs": [],
   "source": [
    "iris = load_iris()\n",
    "X = iris.data[:, 2:] #longitud y ancho de los pétalos\n",
    "y = iris.target"
   ]
  },
  {
   "cell_type": "code",
   "execution_count": 4,
   "id": "jewish-junction",
   "metadata": {},
   "outputs": [
    {
     "data": {
      "text/plain": [
       "DecisionTreeClassifier(max_depth=2)"
      ]
     },
     "execution_count": 4,
     "metadata": {},
     "output_type": "execute_result"
    }
   ],
   "source": [
    "tree_clf = DecisionTreeClassifier(max_depth=2)\n",
    "tree_clf.fit(X, y)"
   ]
  },
  {
   "cell_type": "markdown",
   "id": "southern-cruise",
   "metadata": {},
   "source": [
    "Se puede visualizar el árbol entrenado usando `export_graphviz()` para obtener un archivo de definición de un grafo."
   ]
  },
  {
   "cell_type": "code",
   "execution_count": 6,
   "id": "unavailable-meeting",
   "metadata": {},
   "outputs": [],
   "source": [
    "from sklearn.tree import export_graphviz\n",
    "\n",
    "export_graphviz(tree_clf, out_file=\"iris_tree.dot\",\n",
    "                feature_names=iris.feature_names[2:], class_names=iris.target_names,\n",
    "                rounded=True, filled=True)"
   ]
  },
  {
   "cell_type": "markdown",
   "id": "ongoing-biotechnology",
   "metadata": {},
   "source": [
    "Se puede convertir el archivo de extensión `.dot` a `.png` usando el paquete `graphviz` ([graphviz](http://www.graphviz.org))"
   ]
  },
  {
   "cell_type": "code",
   "execution_count": 7,
   "id": "liberal-gilbert",
   "metadata": {},
   "outputs": [],
   "source": [
    "!dot -Tpng iris_tree.dot -o iris_tree.png"
   ]
  },
  {
   "cell_type": "markdown",
   "id": "periodic-tiger",
   "metadata": {},
   "source": [
    "![](iris_tree.png)"
   ]
  },
  {
   "cell_type": "markdown",
   "id": "provincial-trinity",
   "metadata": {},
   "source": [
    "Ejemplo del uso del árbol:\n",
    "\n",
    "* Comenzamos en el nodo de raíz (nivel 0): ¿la longitud del pétalo es menor que 2.45cm?\n",
    "* Si es así, vamos a la izquierda y llegamos a un nodo de hoja y una clasificación (Iris-Setosa)\n",
    "* Si **no** es así, vamos a la derecha: ¿el ancho del pétalo es menor que o igual a 1.75cm?\n",
    "* Si la respuesta es \"sí\", es Iris-Versicolor.\n",
    "* Si la respuesta es \"no\", es Iris-Virginica.\n",
    "\n",
    "Una ventaja de un árbol de decisión es que no requiere mucha preparación de los datos (por ejemplo, *feature scaling*)."
   ]
  },
  {
   "cell_type": "markdown",
   "id": "efficient-color",
   "metadata": {},
   "source": [
    "Atributos de los nodos:\n",
    "\n",
    "* `samples`: a cuantas instancias aplica este nodo.\n",
    "* `value`: a cuantas instancias **en cada clase** aplica este nodo.\n",
    "* `gini`: una medición de la \"impureza\" del nodo.\n",
    "\n",
    "El coeficiente `gini` es 0 si el nodo es \"puro\" (aplica solamente a instancias de una clase). La definición es\n",
    "\n",
    "$$G_i = 1 - \\sum_{k=1}^n p_{i,k}^2$$\n",
    "\n",
    "$p_{i,k} = n_k/N_i$ donde \n",
    "\n",
    "* $n_k$ es el número de instancias en clase $k$\n",
    "* $N_i$ es el número de instancias en nodo $i$."
   ]
  },
  {
   "cell_type": "markdown",
   "id": "sticky-liberty",
   "metadata": {},
   "source": [
    "Scikit-Learn ocupa el algoritmo CART que produce árboles binarios: cada nodo puede tener máximo dos hijos. Hay otros algoritmos que permiten más hijos por nodo."
   ]
  },
  {
   "cell_type": "code",
   "execution_count": 13,
   "id": "reported-writer",
   "metadata": {},
   "outputs": [
    {
     "data": {
      "text/plain": [
       "Text(4.05, 0.5, '(Depth=2)')"
      ]
     },
     "execution_count": 13,
     "metadata": {},
     "output_type": "execute_result"
    },
    {
     "data": {
      "image/png": "[encoded data removed]",
      "text/plain": [
       "<Figure size 576x288 with 1 Axes>"
      ]
     },
     "metadata": {
      "needs_background": "light"
     },
     "output_type": "display_data"
    }
   ],
   "source": [
    "from matplotlib.colors import ListedColormap\n",
    "\n",
    "def plot_decision_boundary(clf, X, y, axes=[0, 7.5, 0, 3], iris=True, legend=False, plot_training=True):\n",
    "    x1s = np.linspace(axes[0], axes[1], 100)\n",
    "    x2s = np.linspace(axes[2], axes[3], 100)\n",
    "    x1, x2 = np.meshgrid(x1s, x2s)\n",
    "    X_new = np.c_[x1.ravel(), x2.ravel()]\n",
    "    y_pred = clf.predict(X_new).reshape(x1.shape)\n",
    "    custom_cmap = ListedColormap(['#fafab0','#9898ff','#a0faa0'])\n",
    "    plt.contourf(x1, x2, y_pred, alpha=0.3, cmap=custom_cmap)\n",
    "    if not iris:\n",
    "        custom_cmap2 = ListedColormap(['#7d7d58','#4c4c7f','#507d50'])\n",
    "        plt.contour(x1, x2, y_pred, cmap=custom_cmap2, alpha=0.8)\n",
    "    if plot_training:\n",
    "        plt.plot(X[:, 0][y==0], X[:, 1][y==0], \"yo\", label=\"Iris setosa\")\n",
    "        plt.plot(X[:, 0][y==1], X[:, 1][y==1], \"bs\", label=\"Iris versicolor\")\n",
    "        plt.plot(X[:, 0][y==2], X[:, 1][y==2], \"g^\", label=\"Iris virginica\")\n",
    "        plt.axis(axes)\n",
    "    if iris:\n",
    "        plt.xlabel(\"Petal length\", fontsize=14)\n",
    "        plt.ylabel(\"Petal width\", fontsize=14)\n",
    "    else:\n",
    "        plt.xlabel(r\"$x_1$\", fontsize=18)\n",
    "        plt.ylabel(r\"$x_2$\", fontsize=18, rotation=0)\n",
    "    if legend:\n",
    "        plt.legend(loc=\"lower right\", fontsize=14)\n",
    "\n",
    "plt.figure(figsize=(8, 4))\n",
    "plot_decision_boundary(tree_clf, X, y)\n",
    "plt.plot([2.45, 2.45], [0, 3], \"k-\", linewidth=2)\n",
    "plt.plot([2.45, 7.5], [1.75, 1.75], \"k--\", linewidth=2)\n",
    "plt.plot([4.95, 4.95], [0, 1.75], \"k:\", linewidth=2)\n",
    "plt.plot([4.85, 4.85], [1.75, 3], \"k:\", linewidth=2)\n",
    "plt.text(1.40, 1.0, \"Depth=0\", fontsize=15)\n",
    "plt.text(3.2, 1.80, \"Depth=1\", fontsize=13)\n",
    "plt.text(4.05, 0.5, \"(Depth=2)\", fontsize=11)"
   ]
  },
  {
   "cell_type": "markdown",
   "id": "governing-somerset",
   "metadata": {},
   "source": [
    "Los límites de decisión del árbol."
   ]
  },
  {
   "cell_type": "markdown",
   "id": "beneficial-glass",
   "metadata": {},
   "source": [
    "##### Parentesis: interpretación de modelos\n",
    "\n",
    "* Se puede interpretar facilmente los resultados de un algoritmo como un árbol de decisión (*white box model*)\n",
    "* *Random forests* y redes neuronales son mucho más difíciles de interpretar (*black box models*)"
   ]
  },
  {
   "cell_type": "markdown",
   "id": "protecting-breakfast",
   "metadata": {},
   "source": [
    "#### Estimación de probabilidades de clases\n",
    "\n",
    "La probabilidad de la clase dada para una instancia: hay que encontrar el nodo de hoja que corresponde a la instancia, después se calcula $p(x) = n_k/N_i$, donde $n_k$ es el número de instancias en la clase $k$ y $N_i$ es el número de instancias en nodo $i$.\n",
    "\n",
    "Por ejemplo:\n",
    "\n",
    "* Tenemos una flor con pétalos de longitud $5$cm y ancho $1.5$cm.\n",
    "* El nodo de hoja que corresponde es el verde.\n",
    "* Las probabilidades son: Iris-Setosa 0% (0/54), Iris-Versicolor 90.7% (49/54), Iris-Virginica 9.3% (5/54)."
   ]
  },
  {
   "cell_type": "code",
   "execution_count": 14,
   "id": "subjective-stand",
   "metadata": {},
   "outputs": [
    {
     "data": {
      "text/plain": [
       "array([[0.        , 0.90740741, 0.09259259]])"
      ]
     },
     "execution_count": 14,
     "metadata": {},
     "output_type": "execute_result"
    }
   ],
   "source": [
    "tree_clf.predict_proba([[5, 1.5]])"
   ]
  },
  {
   "cell_type": "code",
   "execution_count": 15,
   "id": "excellent-sodium",
   "metadata": {},
   "outputs": [
    {
     "data": {
      "text/plain": [
       "array([1])"
      ]
     },
     "execution_count": 15,
     "metadata": {},
     "output_type": "execute_result"
    }
   ],
   "source": [
    "tree_clf.predict([[5, 1.5]])"
   ]
  },
  {
   "cell_type": "markdown",
   "id": "cognitive-workplace",
   "metadata": {},
   "source": [
    "### El algoritmo de entrenamiento (*classification and regression tree*, CART)\n",
    "\n",
    "* El algoritmo divida los datos en dos partes usando un sólo *feature* $k$ y un umbral $t_k$ (por ejemplo, longitud de pétalo $\\leq 2.45$cm).\n",
    "* Encuentra el par $(k, t_k)$ que produce los subconjuntos (ponderados por sus tamaños) más puros.\n",
    "\n",
    "La función de costo que corresponde es:\n",
    "\n",
    "$$J(k,t_k) = \\frac{m_{\\text{izq.}}}{m}G_{\\text{izq.}} + \\frac{m_{\\text{der.}}}{m}G_{\\text{der.}}$$\n",
    "\n",
    "donde $G_{\\text{izq.}/\\text{der.}}$ es el coeficiente Gini del subconjunto de la izquierda/derecha, y $m_{\\text{izq.}/\\text{der.}}$ es el número de instancias en el subconjunto de la izquierda/derecha."
   ]
  },
  {
   "cell_type": "markdown",
   "id": "governing-iceland",
   "metadata": {},
   "source": [
    "Después de dividir los datos en dos partes, repite el proceso con los subconjuntos, y después con los subsubconjuntos, etc. en una manera recursiva.\n",
    "\n",
    "El algoritmo para cuando llega a la profundidad máxima o cuando no puede encontrar una división que disminuye la impureza.\n",
    "\n",
    "En Scikit-Learn hay más hiperparámetros para determinar el momento de parar el algoritmo."
   ]
  },
  {
   "cell_type": "markdown",
   "id": "geological-benjamin",
   "metadata": {},
   "source": [
    "Este algoritmo es *greedy* (avaro): busca una división óptima en la primera nivel, y repite el proceso en cada nivel.\n",
    "\n",
    "No verifica si otra división en el primer nivel implica menor impureza en un nivel más bajo.\n",
    "\n",
    "Encontrar un árbol óptimo es un problema **NP-completo**: requiere un tiempo de $\\mathcal{O}(\\exp(m))$."
   ]
  },
  {
   "cell_type": "markdown",
   "id": "intimate-health",
   "metadata": {},
   "source": [
    "### Complejidad computacional\n",
    "\n",
    "* Predicciones: travesar el árbol, de raíz a las hojas, requiere tiempo de $\\mathcal{O}(\\log_2(m))$ ($m$ es el número de instancias). Predicciones son rápidas.\n",
    "* Entrenamiento: hay que comparar todos los *features* en todas las instancias en cada nodo. Este requiere tiempo de $\\mathcal{O}(n \\times m \\log(m))$."
   ]
  },
  {
   "cell_type": "markdown",
   "id": "radical-level",
   "metadata": {},
   "source": [
    "### Impureza de Gini o entropía\n",
    "\n",
    "* La función de costo ocupa, por defecto, el coeficiente Gini.\n",
    "* Otra opción es la entropía.\n",
    "\n",
    "La entropía está usada frecuentemente (en *machine learning*) como una medición la impureza de un conjunto de datos: un conjunto tiene entropía cero si las instancias pertenecen a solamente una clase.\n",
    "\n",
    "La entropía del nodo $i$ se define como:\n",
    "\n",
    "$$H_i = -\\underset{p_{i,k} \\neq 0}{\\sum_{k=1}^n} p_{i,k} \\log_2 (p_{i,k})$$\n",
    "\n",
    "* El coeficiente Gini tiende a aislar la clase más frecuente en su propia rama del árbol.\n",
    "* La entropía tiende a producir árboles más balanceados."
   ]
  },
  {
   "cell_type": "markdown",
   "id": "norman-content",
   "metadata": {},
   "source": [
    "### Hiperparámetros de regularización\n",
    "\n",
    "* Modelos no-paramétricos (como un árbol de decisión): el número de parámetros no se define antes del proceso de entrenamiento. El modelo puede ajustarse muy cercanamente a los datos (*overfitting*)\n",
    "* Modelos paramétricos (como un modelo lineal): tiene un número pre-determinado de parámetros (menos grados de libertad, menos *overfitting*)\n",
    "\n",
    "Hiperparámetros para regularizar un árbol de decisión:\n",
    "\n",
    "* `max_depth`: profundidad máxima del árbol (límite en el número de niveles)\n",
    "* `min_samples_split`: número mínimo de instancias en un nodo antes de dividir\n",
    "* `min_samples_leaf`: número mínimo de instancias en un nodo de hoja\n",
    "* `min_weight_fraction_leaf`: lo mismo, pero expresado como la fracción del número total de instancias ponderadas\n",
    "* `max_leaf_nodes`: número máximo de nodos de hoja\n",
    "* `max_features`: número máximo de *features* que están evaluados para división en cada nodo."
   ]
  },
  {
   "cell_type": "code",
   "execution_count": 18,
   "id": "heard-money",
   "metadata": {},
   "outputs": [
    {
     "data": {
      "text/plain": [
       "Text(0, 0.5, '')"
      ]
     },
     "execution_count": 18,
     "metadata": {},
     "output_type": "execute_result"
    },
    {
     "data": {
      "image/png": "[encoded data removed]",
      "text/plain": [
       "<Figure size 720x288 with 2 Axes>"
      ]
     },
     "metadata": {
      "needs_background": "light"
     },
     "output_type": "display_data"
    }
   ],
   "source": [
    "from sklearn.datasets import make_moons\n",
    "Xm, ym = make_moons(n_samples=100, noise=0.25, random_state=53)\n",
    "\n",
    "deep_tree_clf1 = DecisionTreeClassifier(random_state=42)\n",
    "deep_tree_clf2 = DecisionTreeClassifier(min_samples_leaf=4, random_state=42)\n",
    "deep_tree_clf1.fit(Xm, ym)\n",
    "deep_tree_clf2.fit(Xm, ym)\n",
    "\n",
    "fig, axes = plt.subplots(ncols=2, figsize=(10, 4), sharey=True)\n",
    "plt.sca(axes[0])\n",
    "plot_decision_boundary(deep_tree_clf1, Xm, ym, axes=[-1.5, 2.4, -1, 1.5], iris=False)\n",
    "plt.title(\"No restrictions\", fontsize=16)\n",
    "plt.sca(axes[1])\n",
    "plot_decision_boundary(deep_tree_clf2, Xm, ym, axes=[-1.5, 2.4, -1, 1.5], iris=False)\n",
    "plt.title(\"min_samples_leaf = {}\".format(deep_tree_clf2.min_samples_leaf), fontsize=14)\n",
    "plt.ylabel(\"\")"
   ]
  },
  {
   "cell_type": "markdown",
   "id": "representative-mentor",
   "metadata": {},
   "source": [
    "### Regresión\n",
    "\n",
    "Se puede implementar regresión con un árbol de decisión también."
   ]
  },
  {
   "cell_type": "code",
   "execution_count": 21,
   "id": "judicial-adult",
   "metadata": {},
   "outputs": [],
   "source": [
    "np.random.seed(42)\n",
    "m = 200\n",
    "X = np.random.rand(m, 1)\n",
    "y = 4 * (X - 0.5) ** 2\n",
    "y = y + np.random.randn(m, 1) / 10"
   ]
  },
  {
   "cell_type": "code",
   "execution_count": 22,
   "id": "lightweight-contract",
   "metadata": {},
   "outputs": [
    {
     "data": {
      "text/plain": [
       "DecisionTreeRegressor(max_depth=2)"
      ]
     },
     "execution_count": 22,
     "metadata": {},
     "output_type": "execute_result"
    }
   ],
   "source": [
    "from sklearn.tree import DecisionTreeRegressor\n",
    "\n",
    "tree_reg = DecisionTreeRegressor(max_depth=2)\n",
    "tree_reg.fit(X, y)"
   ]
  },
  {
   "cell_type": "code",
   "execution_count": 23,
   "id": "educated-heath",
   "metadata": {},
   "outputs": [],
   "source": [
    "export_graphviz(tree_reg, out_file=\"tree_reg.dot\", feature_names=['x1'], \n",
    "                rounded=True, filled=True)"
   ]
  },
  {
   "cell_type": "code",
   "execution_count": 24,
   "id": "israeli-divorce",
   "metadata": {},
   "outputs": [],
   "source": [
    "!dot -Tpng tree_reg.dot -o tree_reg.png"
   ]
  },
  {
   "cell_type": "markdown",
   "id": "refined-treasure",
   "metadata": {},
   "source": [
    "![](tree_reg.png)"
   ]
  },
  {
   "cell_type": "markdown",
   "id": "adjacent-bones",
   "metadata": {},
   "source": [
    "Ahora el árbol predice un valor en cada nodo.\n",
    "\n",
    "Por ejemplo:\n",
    "\n",
    "* Tenemos una nueva instancia, $x_1 = 0.6$\n",
    "* Llegamos al tercer nodo de hoja, con `value=0.111`."
   ]
  },
  {
   "cell_type": "code",
   "execution_count": 25,
   "id": "voluntary-ozone",
   "metadata": {},
   "outputs": [
    {
     "data": {
      "text/plain": [
       "Text(0.5, 1.0, 'max_depth=3')"
      ]
     },
     "execution_count": 25,
     "metadata": {},
     "output_type": "execute_result"
    },
    {
     "data": {
      "image/png": "[encoded data removed]",
      "text/plain": [
       "<Figure size 720x288 with 2 Axes>"
      ]
     },
     "metadata": {
      "needs_background": "light"
     },
     "output_type": "display_data"
    }
   ],
   "source": [
    "from sklearn.tree import DecisionTreeRegressor\n",
    "\n",
    "tree_reg1 = DecisionTreeRegressor(random_state=42, max_depth=2)\n",
    "tree_reg2 = DecisionTreeRegressor(random_state=42, max_depth=3)\n",
    "tree_reg1.fit(X, y)\n",
    "tree_reg2.fit(X, y)\n",
    "\n",
    "def plot_regression_predictions(tree_reg, X, y, axes=[0, 1, -0.2, 1], ylabel=\"$y$\"):\n",
    "    x1 = np.linspace(axes[0], axes[1], 500).reshape(-1, 1)\n",
    "    y_pred = tree_reg.predict(x1)\n",
    "    plt.axis(axes)\n",
    "    plt.xlabel(\"$x_1$\", fontsize=18)\n",
    "    if ylabel:\n",
    "        plt.ylabel(ylabel, fontsize=18, rotation=0)\n",
    "    plt.plot(X, y, \"b.\")\n",
    "    plt.plot(x1, y_pred, \"r.-\", linewidth=2, label=r\"$\\hat{y}$\")\n",
    "\n",
    "fig, axes = plt.subplots(ncols=2, figsize=(10, 4), sharey=True)\n",
    "plt.sca(axes[0])\n",
    "plot_regression_predictions(tree_reg1, X, y)\n",
    "for split, style in ((0.1973, \"k-\"), (0.0917, \"k--\"), (0.7718, \"k--\")):\n",
    "    plt.plot([split, split], [-0.2, 1], style, linewidth=2)\n",
    "plt.text(0.21, 0.65, \"Depth=0\", fontsize=15)\n",
    "plt.text(0.01, 0.2, \"Depth=1\", fontsize=13)\n",
    "plt.text(0.65, 0.8, \"Depth=1\", fontsize=13)\n",
    "plt.legend(loc=\"upper center\", fontsize=18)\n",
    "plt.title(\"max_depth=2\", fontsize=14)\n",
    "\n",
    "plt.sca(axes[1])\n",
    "plot_regression_predictions(tree_reg2, X, y, ylabel=None)\n",
    "for split, style in ((0.1973, \"k-\"), (0.0917, \"k--\"), (0.7718, \"k--\")):\n",
    "    plt.plot([split, split], [-0.2, 1], style, linewidth=2)\n",
    "for split in (0.0458, 0.1298, 0.2873, 0.9040):\n",
    "    plt.plot([split, split], [-0.2, 1], \"k:\", linewidth=1)\n",
    "plt.text(0.3, 0.5, \"Depth=2\", fontsize=13)\n",
    "plt.title(\"max_depth=3\", fontsize=14)"
   ]
  },
  {
   "cell_type": "markdown",
   "id": "sporting-mercury",
   "metadata": {},
   "source": [
    "El algoritmo CART funcion como antes, aparte de la función de costo. Ahora intentamos minimizar el MSE:\n",
    "\n",
    "$$J(k,t_k) = \\frac{m_{\\text{izq.}}}{m}\\text{MSE}_{\\text{izq.}} + \\frac{m_{\\text{der.}}}{m}\\text{MSE}_{\\text{der.}}$$\n",
    "\n",
    "donde\n",
    "\n",
    "$$\\text{MSE}_{\\text{nodo}} = \\sum_{i \\in \\text{nodo}} \\left( \\hat{y}_{\\text{nodo}} - y^{(i)} \\right)^2 \\quad \\quad \\hat{y}_{\\text{nodo}} = \\frac{1}{m_{\\text{nodo}}} \\sum_{i \\in \\text{nodo}} y^{(i)}$$"
   ]
  },
  {
   "cell_type": "markdown",
   "id": "smooth-replacement",
   "metadata": {},
   "source": [
    "Ya que por defecto no hay restricción en el árbol, hay que tener cuidado con *overfitting*."
   ]
  },
  {
   "cell_type": "markdown",
   "id": "enabling-lucas",
   "metadata": {},
   "source": [
    "![](figures_arboles/fig6-6.png)"
   ]
  },
  {
   "cell_type": "markdown",
   "id": "built-maple",
   "metadata": {},
   "source": [
    "### Inestabilidad\n",
    "\n",
    "Hay limitaciones con árboles de decisión: todos los límites de decisión son ortogonales a los ejes del espacio de parámetros. Por eso, están sensibles a rotaciones del conjunto de datos."
   ]
  },
  {
   "cell_type": "markdown",
   "id": "resident-floor",
   "metadata": {},
   "source": [
    "| ![](figures_arboles/fig6-7.png) |\n",
    "|---------------------------------|\n",
    "| Izquierda: datos linealmente separables. Derecha: los mismos datos después de una rotación. |"
   ]
  },
  {
   "cell_type": "markdown",
   "id": "modified-drama",
   "metadata": {},
   "source": [
    "Una opción para resolver este problema es el uso de PCA (un algoritmo sin supervisión que veremos más tarde) para transformar los datos.\n",
    "\n",
    "El problema principal con árboles de decisión es que son muy sensibles a cambios menores en los datos.\n",
    "\n",
    "Por ejemplo, si sacamos la Iris-Versicolor más ancha de los datos de \"iris\", el árbol de decisión que puede resultar es:\n",
    "\n",
    "![](figures_arboles/fig6-8.png)\n",
    "\n",
    "De hecho, el algoritmo de entrenamiento de Scikit-Learn es **estocástico** (elige **aleatoriamente** el conjunto de *features* evaluados en cada nodo).\n",
    "\n",
    "Así que es posible tener distintos árboles en el mismo conjunto de datos cada vez que entrenamos el modelo (se puede eliminar esta variabilidad con el parámetro `random_state`)"
   ]
  },
  {
   "cell_type": "markdown",
   "id": "general-specialist",
   "metadata": {},
   "source": [
    "El algoritmo *random forest* reduce esta inestabilidad por promediar muchos árboles."
   ]
  }
 ],
 "metadata": {
  "kernelspec": {
   "display_name": "Python 3",
   "language": "python",
   "name": "python3"
  },
  "language_info": {
   "codemirror_mode": {
    "name": "ipython",
    "version": 3
   },
   "file_extension": ".py",
   "mimetype": "text/x-python",
   "name": "python",
   "nbconvert_exporter": "python",
   "pygments_lexer": "ipython3",
   "version": "3.7.3"
  }
 },
 "nbformat": 4,
 "nbformat_minor": 5
}
