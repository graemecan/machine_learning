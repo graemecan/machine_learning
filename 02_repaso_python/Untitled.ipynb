{
 "cells": [
  {
   "cell_type": "code",
   "execution_count": 1,
   "id": "military-green",
   "metadata": {},
   "outputs": [
    {
     "name": "stdout",
     "output_type": "stream",
     "text": [
      "Populating the interactive namespace from numpy and matplotlib\n"
     ]
    }
   ],
   "source": [
    "%pylab inline"
   ]
  },
  {
   "cell_type": "code",
   "execution_count": 127,
   "id": "perceived-publicity",
   "metadata": {},
   "outputs": [],
   "source": [
    "class NumeroComplejo:\n",
    "    \n",
    "    \"\"\"\n",
    "    This class defines complex numbers.\n",
    "    \"\"\"\n",
    "    \n",
    "    def __init__(self, x, y):\n",
    "        self.real = x\n",
    "        self.imaginario = y\n",
    "        \n",
    "    def __str__(self):\n",
    "        return \"Numero complejo: (%f, %f j)\" % (self.real,self.imaginario)\n",
    "    \n",
    "    def __repr__(self):\n",
    "        return \"Numero complejo: (%f, %f j)\" % (self.real,self.imaginario)\n",
    "    \n",
    "    def __add__(self, other):\n",
    "        return NumeroComplejo(self.real+other.real, self.imaginario+other.imaginario)\n",
    "    \n",
    "    def __mul__(self, other):\n",
    "        return NumeroComplejo(self.real*other.real - self.imaginario*other.imaginario, \n",
    "                              self.real*other.imaginario + self.imaginario*other.real)\n",
    "    \n",
    "    def getReal(self):\n",
    "        \"\"\"\n",
    "        Obtain the real part of the complex number.\n",
    "        \"\"\"\n",
    "        return self.real\n",
    "    \n",
    "    def getImaginary(self):\n",
    "        return self.imaginario\n",
    "    \n",
    "    def conjugate(self):\n",
    "        return NumeroComplejo(self.real, -self.imaginario)"
   ]
  },
  {
   "cell_type": "code",
   "execution_count": 128,
   "id": "featured-transportation",
   "metadata": {},
   "outputs": [],
   "source": [
    "z = NumeroComplejo(2.0, 4.0)\n",
    "w = NumeroComplejo(3.0, 7.0)"
   ]
  },
  {
   "cell_type": "code",
   "execution_count": 74,
   "id": "local-racing",
   "metadata": {},
   "outputs": [
    {
     "data": {
      "text/plain": [
       "4.0"
      ]
     },
     "execution_count": 74,
     "metadata": {},
     "output_type": "execute_result"
    }
   ],
   "source": [
    "z.imaginario"
   ]
  },
  {
   "cell_type": "code",
   "execution_count": 75,
   "id": "hollywood-prayer",
   "metadata": {},
   "outputs": [
    {
     "data": {
      "text/plain": [
       "Numero complejo: (2, 4 j)"
      ]
     },
     "execution_count": 75,
     "metadata": {},
     "output_type": "execute_result"
    }
   ],
   "source": [
    "z"
   ]
  },
  {
   "cell_type": "code",
   "execution_count": 76,
   "id": "available-alias",
   "metadata": {},
   "outputs": [
    {
     "data": {
      "text/plain": [
       "Numero complejo: (3, 7 j)"
      ]
     },
     "execution_count": 76,
     "metadata": {},
     "output_type": "execute_result"
    }
   ],
   "source": [
    "w"
   ]
  },
  {
   "cell_type": "code",
   "execution_count": 77,
   "id": "specified-money",
   "metadata": {},
   "outputs": [
    {
     "data": {
      "text/plain": [
       "Numero complejo: (5, 11 j)"
      ]
     },
     "execution_count": 77,
     "metadata": {},
     "output_type": "execute_result"
    }
   ],
   "source": [
    "z+w"
   ]
  },
  {
   "cell_type": "code",
   "execution_count": 78,
   "id": "distant-switzerland",
   "metadata": {},
   "outputs": [
    {
     "data": {
      "text/plain": [
       "Numero complejo: (-22, 26 j)"
      ]
     },
     "execution_count": 78,
     "metadata": {},
     "output_type": "execute_result"
    }
   ],
   "source": [
    "z*w"
   ]
  },
  {
   "cell_type": "code",
   "execution_count": 79,
   "id": "urban-cassette",
   "metadata": {},
   "outputs": [
    {
     "data": {
      "text/plain": [
       "2.0"
      ]
     },
     "execution_count": 79,
     "metadata": {},
     "output_type": "execute_result"
    }
   ],
   "source": [
    "z.getReal()"
   ]
  },
  {
   "cell_type": "code",
   "execution_count": 80,
   "id": "demanding-blackjack",
   "metadata": {},
   "outputs": [
    {
     "data": {
      "text/plain": [
       "4.0"
      ]
     },
     "execution_count": 80,
     "metadata": {},
     "output_type": "execute_result"
    }
   ],
   "source": [
    "z.getImaginary()"
   ]
  },
  {
   "cell_type": "code",
   "execution_count": 81,
   "id": "negative-preservation",
   "metadata": {},
   "outputs": [
    {
     "data": {
      "text/plain": [
       "3.0"
      ]
     },
     "execution_count": 81,
     "metadata": {},
     "output_type": "execute_result"
    }
   ],
   "source": [
    "w.getReal()"
   ]
  },
  {
   "cell_type": "code",
   "execution_count": 82,
   "id": "cross-firmware",
   "metadata": {},
   "outputs": [
    {
     "data": {
      "text/plain": [
       "7.0"
      ]
     },
     "execution_count": 82,
     "metadata": {},
     "output_type": "execute_result"
    }
   ],
   "source": [
    "w.getImaginary()"
   ]
  },
  {
   "cell_type": "code",
   "execution_count": 83,
   "id": "sufficient-packaging",
   "metadata": {},
   "outputs": [
    {
     "data": {
      "text/plain": [
       "Numero complejo: (2, -4 j)"
      ]
     },
     "execution_count": 83,
     "metadata": {},
     "output_type": "execute_result"
    }
   ],
   "source": [
    "z.conjugate()"
   ]
  },
  {
   "cell_type": "code",
   "execution_count": 86,
   "id": "casual-footwear",
   "metadata": {},
   "outputs": [
    {
     "data": {
      "text/plain": [
       "'Complex numbers involve the square root of -1'"
      ]
     },
     "execution_count": 86,
     "metadata": {},
     "output_type": "execute_result"
    }
   ],
   "source": [
    "z.explanation"
   ]
  },
  {
   "cell_type": "code",
   "execution_count": 87,
   "id": "ideal-separate",
   "metadata": {},
   "outputs": [
    {
     "data": {
      "text/plain": [
       "'Complex numbers involve the square root of -1'"
      ]
     },
     "execution_count": 87,
     "metadata": {},
     "output_type": "execute_result"
    }
   ],
   "source": [
    "w.explanation"
   ]
  },
  {
   "cell_type": "code",
   "execution_count": 136,
   "id": "broad-lincoln",
   "metadata": {},
   "outputs": [],
   "source": [
    "class ComplejoPolar(NumeroComplejo):\n",
    "    \n",
    "    def __repr__(self):\n",
    "        return \"Modulus: %f Argument %f\" % (self.mod, self.arg)\n",
    "    \n",
    "    def __init__(self, mod, arg):\n",
    "        self.mod = mod\n",
    "        self.arg = arg\n",
    "        self.real = mod*cos(arg)\n",
    "        self.imaginario = mod*sin(arg)\n",
    "        \n",
    "    def __mul__(self, other):\n",
    "        return ComplejoPolar(self.mod*other.mod, self.arg+other.arg)"
   ]
  },
  {
   "cell_type": "code",
   "execution_count": 144,
   "id": "hybrid-learning",
   "metadata": {},
   "outputs": [],
   "source": [
    "k = ComplejoPolar(3.0, 7.0)\n",
    "m = ComplejoPolar(5.0, 2.0)"
   ]
  },
  {
   "cell_type": "code",
   "execution_count": 143,
   "id": "spoken-fraction",
   "metadata": {},
   "outputs": [
    {
     "name": "stdout",
     "output_type": "stream",
     "text": [
      "Numero complejo: (4.261707, 5.970960 j)\n"
     ]
    }
   ],
   "source": [
    "print(k + z)"
   ]
  },
  {
   "cell_type": "code",
   "execution_count": 147,
   "id": "uniform-dinner",
   "metadata": {},
   "outputs": [
    {
     "name": "stdout",
     "output_type": "stream",
     "text": [
      "Numero complejo: (-13.666954, 6.181777 j)\n"
     ]
    }
   ],
   "source": [
    "print(k*m)"
   ]
  },
  {
   "cell_type": "code",
   "execution_count": 148,
   "id": "criminal-weight",
   "metadata": {},
   "outputs": [
    {
     "data": {
      "text/plain": [
       "Modulus: 15.000000 Argument 9.000000"
      ]
     },
     "execution_count": 148,
     "metadata": {},
     "output_type": "execute_result"
    }
   ],
   "source": [
    "k*m"
   ]
  },
  {
   "cell_type": "code",
   "execution_count": 150,
   "id": "adjustable-restriction",
   "metadata": {},
   "outputs": [
    {
     "data": {
      "text/plain": [
       "Numero complejo: (-3.360426, 12.988747 j)"
      ]
     },
     "execution_count": 150,
     "metadata": {},
     "output_type": "execute_result"
    }
   ],
   "source": [
    "z*k"
   ]
  },
  {
   "cell_type": "code",
   "execution_count": 151,
   "id": "broad-repository",
   "metadata": {},
   "outputs": [
    {
     "ename": "AttributeError",
     "evalue": "'NumeroComplejo' object has no attribute 'mod'",
     "output_type": "error",
     "traceback": [
      "\u001b[0;31m---------------------------------------------------------------------------\u001b[0m",
      "\u001b[0;31mAttributeError\u001b[0m                            Traceback (most recent call last)",
      "\u001b[0;32m<ipython-input-151-460f4d7c2361>\u001b[0m in \u001b[0;36m<module>\u001b[0;34m\u001b[0m\n\u001b[0;32m----> 1\u001b[0;31m \u001b[0mk\u001b[0m\u001b[0;34m*\u001b[0m\u001b[0mz\u001b[0m\u001b[0;34m\u001b[0m\u001b[0;34m\u001b[0m\u001b[0m\n\u001b[0m",
      "\u001b[0;32m<ipython-input-136-376434e05801>\u001b[0m in \u001b[0;36m__mul__\u001b[0;34m(self, other)\u001b[0m\n\u001b[1;32m     11\u001b[0m \u001b[0;34m\u001b[0m\u001b[0m\n\u001b[1;32m     12\u001b[0m     \u001b[0;32mdef\u001b[0m \u001b[0m__mul__\u001b[0m\u001b[0;34m(\u001b[0m\u001b[0mself\u001b[0m\u001b[0;34m,\u001b[0m \u001b[0mother\u001b[0m\u001b[0;34m)\u001b[0m\u001b[0;34m:\u001b[0m\u001b[0;34m\u001b[0m\u001b[0;34m\u001b[0m\u001b[0m\n\u001b[0;32m---> 13\u001b[0;31m         \u001b[0;32mreturn\u001b[0m \u001b[0mComplejoPolar\u001b[0m\u001b[0;34m(\u001b[0m\u001b[0mself\u001b[0m\u001b[0;34m.\u001b[0m\u001b[0mmod\u001b[0m\u001b[0;34m*\u001b[0m\u001b[0mother\u001b[0m\u001b[0;34m.\u001b[0m\u001b[0mmod\u001b[0m\u001b[0;34m,\u001b[0m \u001b[0mself\u001b[0m\u001b[0;34m.\u001b[0m\u001b[0marg\u001b[0m\u001b[0;34m+\u001b[0m\u001b[0mother\u001b[0m\u001b[0;34m.\u001b[0m\u001b[0marg\u001b[0m\u001b[0;34m)\u001b[0m\u001b[0;34m\u001b[0m\u001b[0;34m\u001b[0m\u001b[0m\n\u001b[0m",
      "\u001b[0;31mAttributeError\u001b[0m: 'NumeroComplejo' object has no attribute 'mod'"
     ]
    }
   ],
   "source": [
    "k*z"
   ]
  },
  {
   "cell_type": "code",
   "execution_count": null,
   "id": "satisfied-hazard",
   "metadata": {},
   "outputs": [],
   "source": []
  }
 ],
 "metadata": {
  "kernelspec": {
   "display_name": "Python 3",
   "language": "python",
   "name": "python3"
  },
  "language_info": {
   "codemirror_mode": {
    "name": "ipython",
    "version": 3
   },
   "file_extension": ".py",
   "mimetype": "text/x-python",
   "name": "python",
   "nbconvert_exporter": "python",
   "pygments_lexer": "ipython3",
   "version": "3.7.3"
  }
 },
 "nbformat": 4,
 "nbformat_minor": 5
}
