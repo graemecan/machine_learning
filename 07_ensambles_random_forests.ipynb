{
 "cells": [
  {
   "cell_type": "code",
   "execution_count": 1,
   "id": "drawn-peripheral",
   "metadata": {},
   "outputs": [
    {
     "name": "stdout",
     "output_type": "stream",
     "text": [
      "Populating the interactive namespace from numpy and matplotlib\n"
     ]
    }
   ],
   "source": [
    "%pylab inline"
   ]
  },
  {
   "cell_type": "markdown",
   "id": "technological-highland",
   "metadata": {},
   "source": [
    "## Ensamble de modelos y *random forest*\n",
    "\n",
    "En un ensamble de modelos combinamos varios modelos para mejorar las predicciones (clasificación o regresión) de los modelos individuales.\n",
    "\n",
    "Un grupo de modelos así se llama un **ensamble de modelos** y la técnica se llama *ensemble learning*.\n",
    "\n",
    "Por ejemplo:\n",
    "\n",
    "* Se puede entrenar un grupo de árboles de decisión, cada uno en un subconjunto aleatorio del conjunto de entrenamiento.\n",
    "* Para realizar predicciones, obtenemos las predicciones de cada árbol y la predicción final es la clase que obtiene la mayoría de los votos.\n",
    "* Este ensamble de modelos se llama un *random forest*.\n",
    "* Aunque es un método simple, es uno de los algoritmos más poderosos de *machine learning*."
   ]
  },
  {
   "cell_type": "markdown",
   "id": "alive-constitutional",
   "metadata": {},
   "source": [
    "### Clasificadores con votos\n",
    "\n",
    "| ![](figures_ensamble/fig7-1.png) |\n",
    "|----------------------------------|\n",
    "| Un grupo de clasificadores diversos. |"
   ]
  },
  {
   "cell_type": "markdown",
   "id": "compressed-stroke",
   "metadata": {},
   "source": [
    "| ![](figures_ensamble/fig7-2.png) |\n",
    "|----------------------------------|\n",
    "| Clasificador por votos (*hard voting*) |"
   ]
  },
  {
   "cell_type": "markdown",
   "id": "proper-translator",
   "metadata": {},
   "source": [
    "Un clasificador por votos a veces logra un *accuracy* mayor que el mejor clasificador del ensamble!\n",
    "\n",
    "De hecho, incluso si cada clasificador es **débil** (es solo ligeramente mejor que adivinanzas al azar), el ensamble puede ser un clasificador **fuerte** (si hay muchos clasificadores y son muy diversos).\n",
    "\n",
    "Por ejemplo: $1000$ clasificadores que son correctos 51% del tiempo. Usando la clase votado por la mayoría se puede esperar un rendimiento de 75%.\n",
    "\n",
    "Este es verdad sólo si todos los clasificadores son independientes, y cometen errores sin correlaciones. Pero ya que están entrenados usando los mismos datos habrán correlaciones. Así que el rendimiento será un poco menor."
   ]
  },
  {
   "cell_type": "code",
   "execution_count": 2,
   "id": "hungarian-charlotte",
   "metadata": {},
   "outputs": [],
   "source": [
    "from sklearn.model_selection import train_test_split\n",
    "from sklearn.datasets import make_moons\n",
    "\n",
    "X, y = make_moons(n_samples=500, noise=0.30, random_state=42)\n",
    "X_train, X_test, y_train, y_test = train_test_split(X, y, random_state=42)"
   ]
  },
  {
   "cell_type": "code",
   "execution_count": 3,
   "id": "sporting-industry",
   "metadata": {},
   "outputs": [],
   "source": [
    "from sklearn.ensemble import RandomForestClassifier\n",
    "from sklearn.ensemble import VotingClassifier\n",
    "from sklearn.linear_model import LogisticRegression\n",
    "from sklearn.svm import SVC"
   ]
  },
  {
   "cell_type": "code",
   "execution_count": 4,
   "id": "statutory-mapping",
   "metadata": {},
   "outputs": [],
   "source": [
    "log_clf = LogisticRegression()\n",
    "rnd_clf = RandomForestClassifier()\n",
    "svm_clf = SVC()"
   ]
  },
  {
   "cell_type": "code",
   "execution_count": 5,
   "id": "brown-indonesia",
   "metadata": {},
   "outputs": [
    {
     "data": {
      "text/plain": [
       "VotingClassifier(estimators=[('lr', LogisticRegression()),\n",
       "                             ('rf', RandomForestClassifier()), ('svc', SVC())])"
      ]
     },
     "execution_count": 5,
     "metadata": {},
     "output_type": "execute_result"
    }
   ],
   "source": [
    "voting_clf = VotingClassifier(estimators=[('lr', log_clf), \n",
    "                                          ('rf', rnd_clf), ('svc', svm_clf)],\n",
    "                              voting='hard')\n",
    "voting_clf.fit(X_train, y_train)"
   ]
  },
  {
   "cell_type": "code",
   "execution_count": 6,
   "id": "cooked-darwin",
   "metadata": {},
   "outputs": [
    {
     "name": "stdout",
     "output_type": "stream",
     "text": [
      "LogisticRegression 0.864\n",
      "RandomForestClassifier 0.896\n",
      "SVC 0.896\n",
      "VotingClassifier 0.912\n"
     ]
    }
   ],
   "source": [
    "from sklearn.metrics import accuracy_score\n",
    "for clf in (log_clf, rnd_clf, svm_clf, voting_clf):\n",
    "    clf.fit(X_train, y_train)\n",
    "    y_pred = clf.predict(X_test)\n",
    "    print(clf.__class__.__name__, accuracy_score(y_test, y_pred))"
   ]
  },
  {
   "cell_type": "markdown",
   "id": "understood-provider",
   "metadata": {},
   "source": [
    "Si los clasificadores pueden dar la probabilidad para las clases (tienen un método `predict_proba()`) se puede predecir la clase con la mayor probabilidad, promediada sobre los clasificadores individuales. Este se llama *soft voting*.\n",
    "\n",
    "Para implementar este, hay que usar `voting='soft'` en `VotingClassifier`, y todos los clasificadores tienen que tener un método de `predict_proba()`.\n",
    "\n",
    "Por defecto SVC no tiene `predict_proba()`, pero se puede elegir la opción `True` para el hiperparámetro `probability` de ese modelo.\n",
    "\n",
    "**Ejercicio**: implementar *soft voting* en el modelo arriba."
   ]
  },
  {
   "cell_type": "markdown",
   "id": "western-joining",
   "metadata": {},
   "source": [
    "### *Bagging* y *pasting*"
   ]
  },
  {
   "cell_type": "markdown",
   "id": "minor-poison",
   "metadata": {},
   "source": [
    "Otro método de tener un grupo de diverso de predictores es usar el mismo algoritmo para cada clasificador, pero usando distintos subconjuntos de entrenamiento.\n",
    "\n",
    "* Si reemplazamos las instancias en el conjunto total cada vez que está elegida para un subconjunto (es decir, la misma instancia puede aparecer varias veces en el subconjunto) se llama *bagging* (*bootstrap aggregating*).\n",
    "* Si **no** reemplazamos (cada instancia aparece solamente una vez en el subconjunto) se llama *pasting*.\n",
    "\n",
    "![](figures_ensamble/fig7-4.png)"
   ]
  },
  {
   "cell_type": "markdown",
   "id": "classical-guard",
   "metadata": {},
   "source": [
    "Con todos los predictores entrenados, agregamos las predicciones para llegar a la predicción del ensamble para una nueva instancia.\n",
    "\n",
    "* Para clasificación la función de agregación es típicamente el **modo estadístico** (la predicción más frecuente).\n",
    "* Para regresión es típicamente el promedio.\n",
    "\n",
    "Ya que usamos subconjuntos de entrenamiento, el *bias* es mayor para cada predictor individual, pero la agregación reduce el *bias* y la varianza.\n",
    "\n",
    "Es muy fácil parallelizar la operación de un ensamble."
   ]
  },
  {
   "cell_type": "markdown",
   "id": "fourth-slovakia",
   "metadata": {},
   "source": [
    "##### Bagging/pasting en Scikit-Learn\n",
    "\n",
    "En Scikit-Learn se puede usar *bagging/pasting* muy facilmente. El código abajo es para entrenar 500 clasificadores de árbol de decisión, con 100 instancias elegidas aleatoriamente del conjunto de entrenamiento para cada árbol.\n",
    "\n",
    "La elección de las instancias es con reemplazo (*bagging*). Se puede cambiar a *pasting* con `bootstrap=False`.\n",
    "\n",
    "También se puede usar un valor entre $0.0$ y $1.0$ para `max_samples`, y multiplicará el número total de instancias de entrenamiento por ese valor.\n",
    "\n",
    "`n_jobs` es el número de núcleos (*cores*) de CPU usado. El valor `-1` indica que queremos usar todos los *cores* disponibles."
   ]
  },
  {
   "cell_type": "code",
   "execution_count": 7,
   "id": "suspended-pound",
   "metadata": {},
   "outputs": [],
   "source": [
    "from sklearn.ensemble import BaggingClassifier\n",
    "from sklearn.tree import DecisionTreeClassifier\n",
    "\n",
    "bag_clf = BaggingClassifier(DecisionTreeClassifier(), n_estimators=500,\n",
    "                            max_samples=100, bootstrap=True, n_jobs=-1)"
   ]
  },
  {
   "cell_type": "code",
   "execution_count": 8,
   "id": "lesser-promotion",
   "metadata": {},
   "outputs": [],
   "source": [
    "bag_clf.fit(X_train, y_train)\n",
    "y_pred = bag_clf.predict(X_test)"
   ]
  },
  {
   "cell_type": "code",
   "execution_count": 9,
   "id": "coordinated-preservation",
   "metadata": {},
   "outputs": [
    {
     "name": "stdout",
     "output_type": "stream",
     "text": [
      "0.904\n"
     ]
    }
   ],
   "source": [
    "from sklearn.metrics import accuracy_score\n",
    "print(accuracy_score(y_test, y_pred))"
   ]
  },
  {
   "cell_type": "code",
   "execution_count": 22,
   "id": "framed-leather",
   "metadata": {},
   "outputs": [
    {
     "name": "stdout",
     "output_type": "stream",
     "text": [
      "0.896\n"
     ]
    }
   ],
   "source": [
    "tree_clf = DecisionTreeClassifier(random_state=42,max_depth=5)\n",
    "tree_clf.fit(X_train, y_train)\n",
    "y_pred_tree = tree_clf.predict(X_test)\n",
    "print(accuracy_score(y_test, y_pred_tree))"
   ]
  },
  {
   "cell_type": "code",
   "execution_count": 23,
   "id": "stone-doctor",
   "metadata": {},
   "outputs": [
    {
     "data": {
      "text/plain": [
       "5"
      ]
     },
     "execution_count": 23,
     "metadata": {},
     "output_type": "execute_result"
    }
   ],
   "source": [
    "tree_clf.get_depth()"
   ]
  },
  {
   "cell_type": "markdown",
   "id": "residential-corner",
   "metadata": {},
   "source": [
    "`BaggingClassifier` implementa *soft voting* automaticamente si el clasificador de base puede estimar probabilidades de las clases (tiene el método `predict_proba()`)."
   ]
  },
  {
   "cell_type": "code",
   "execution_count": 24,
   "id": "protecting-compensation",
   "metadata": {},
   "outputs": [],
   "source": [
    "from matplotlib.colors import ListedColormap\n",
    "\n",
    "def plot_decision_boundary(clf, X, y, axes=[-1.5, 2.45, -1, 1.5], alpha=0.5, contour=True):\n",
    "    x1s = np.linspace(axes[0], axes[1], 100)\n",
    "    x2s = np.linspace(axes[2], axes[3], 100)\n",
    "    x1, x2 = np.meshgrid(x1s, x2s)\n",
    "    X_new = np.c_[x1.ravel(), x2.ravel()]\n",
    "    y_pred = clf.predict(X_new).reshape(x1.shape)\n",
    "    custom_cmap = ListedColormap(['#fafab0','#9898ff','#a0faa0'])\n",
    "    plt.contourf(x1, x2, y_pred, alpha=0.3, cmap=custom_cmap)\n",
    "    if contour:\n",
    "        custom_cmap2 = ListedColormap(['#7d7d58','#4c4c7f','#507d50'])\n",
    "        plt.contour(x1, x2, y_pred, cmap=custom_cmap2, alpha=0.8)\n",
    "    plt.plot(X[:, 0][y==0], X[:, 1][y==0], \"yo\", alpha=alpha)\n",
    "    plt.plot(X[:, 0][y==1], X[:, 1][y==1], \"bs\", alpha=alpha)\n",
    "    plt.axis(axes)\n",
    "    plt.xlabel(r\"$x_1$\", fontsize=18)\n",
    "    plt.ylabel(r\"$x_2$\", fontsize=18, rotation=0)"
   ]
  },
  {
   "cell_type": "code",
   "execution_count": 25,
   "id": "alive-newcastle",
   "metadata": {},
   "outputs": [
    {
     "data": {
      "text/plain": [
       "Text(0, 0.5, '')"
      ]
     },
     "execution_count": 25,
     "metadata": {},
     "output_type": "execute_result"
    },
    {
     "data": {
      "image/png": "[encoded data removed]",
      "text/plain": [
       "<Figure size 1008x432 with 2 Axes>"
      ]
     },
     "metadata": {
      "needs_background": "light"
     },
     "output_type": "display_data"
    }
   ],
   "source": [
    "fig, axes = plt.subplots(ncols=2, figsize=(14,6), sharey=True)\n",
    "plt.sca(axes[0])\n",
    "plot_decision_boundary(tree_clf, X, y)\n",
    "plt.title(\"Decision Tree\", fontsize=14)\n",
    "plt.sca(axes[1])\n",
    "plot_decision_boundary(bag_clf, X, y)\n",
    "plt.title(\"Decision Trees with Bagging\", fontsize=14)\n",
    "plt.ylabel(\"\")"
   ]
  },
  {
   "cell_type": "markdown",
   "id": "stone-collect",
   "metadata": {},
   "source": [
    "El ensamble tiene un *bias* similar al árbol individual, pero hay menos varianza (comete el mismo número de errores en los datos de entrenamiento, pero el límite de decisión es menos irregular)."
   ]
  },
  {
   "cell_type": "markdown",
   "id": "amended-error",
   "metadata": {},
   "source": [
    "##### Evaluación *out-of-bag*\n",
    "\n",
    "Con *bagging* es posible tener la misma instancia usada varias veces en el entrenamiento de un predictor, mientras para otro no está usada ni una vez.\n",
    "\n",
    "![](figures_ensamble/fig_wiki_oob.jpg)\n",
    "\n",
    "Por defect, `BaggingClassifier` toma $m$ instancias del conjunto de entrenamiento, con reemplazo (`bootstrap=True`), donde $m$ es el tamaño del conjunto.\n",
    "\n",
    "$\\sim 63$% de las instancias están usadas, en promedio, para cada predictor. Los demás $37$% se llaman instancias *out-of-bag* (oob).\n",
    "\n",
    "Cada predictor tendrá un conjunto de instancias \"oob\" diferente.\n",
    "\n",
    "Podemos usar las instancias \"oob\" para evaluación del modelo, en vez de usar un conjunto de validación, con `oob_score=True`."
   ]
  },
  {
   "cell_type": "code",
   "execution_count": 26,
   "id": "integral-sharing",
   "metadata": {},
   "outputs": [
    {
     "data": {
      "text/plain": [
       "BaggingClassifier(base_estimator=DecisionTreeClassifier(), n_estimators=500,\n",
       "                  n_jobs=-1, oob_score=True)"
      ]
     },
     "execution_count": 26,
     "metadata": {},
     "output_type": "execute_result"
    }
   ],
   "source": [
    "bag_clf = BaggingClassifier(DecisionTreeClassifier(), n_estimators=500,\n",
    "                            bootstrap=True, n_jobs=-1, oob_score=True)\n",
    "\n",
    "bag_clf.fit(X_train, y_train)"
   ]
  },
  {
   "cell_type": "code",
   "execution_count": 27,
   "id": "horizontal-filing",
   "metadata": {},
   "outputs": [
    {
     "data": {
      "text/plain": [
       "0.9013333333333333"
      ]
     },
     "execution_count": 27,
     "metadata": {},
     "output_type": "execute_result"
    }
   ],
   "source": [
    "bag_clf.oob_score_"
   ]
  },
  {
   "cell_type": "markdown",
   "id": "convenient-portuguese",
   "metadata": {},
   "source": [
    "Esperamos un *accuracy* de 90.1% en el conjunto de preuba..."
   ]
  },
  {
   "cell_type": "code",
   "execution_count": 28,
   "id": "purple-palmer",
   "metadata": {},
   "outputs": [
    {
     "data": {
      "text/plain": [
       "0.896"
      ]
     },
     "execution_count": 28,
     "metadata": {},
     "output_type": "execute_result"
    }
   ],
   "source": [
    "from sklearn.metrics import accuracy_score\n",
    "y_pred = bag_clf.predict(X_test)\n",
    "accuracy_score(y_test, y_pred)"
   ]
  },
  {
   "cell_type": "markdown",
   "id": "intelligent-clarity",
   "metadata": {},
   "source": [
    "También se puede obtener la función de decisión \"oob\" para cada instancia de entrenamiento.\n",
    "\n",
    "En este caso el clasificador de base (`DecisionTreeClassifier`) tiene un método `predict_proba()`, así que la función de decisión retorna las probabilidades de cada clase para cada instancia de entrenamiento."
   ]
  },
  {
   "cell_type": "code",
   "execution_count": 29,
   "id": "outdoor-competition",
   "metadata": {},
   "outputs": [
    {
     "data": {
      "text/plain": [
       "array([[0.37096774, 0.62903226],\n",
       "       [0.32994924, 0.67005076],\n",
       "       [1.        , 0.        ],\n",
       "       [0.        , 1.        ],\n",
       "       [0.        , 1.        ],\n",
       "       [0.07978723, 0.92021277],\n",
       "       [0.32608696, 0.67391304],\n",
       "       [0.01507538, 0.98492462],\n",
       "       [0.99438202, 0.00561798],\n",
       "       [0.98351648, 0.01648352],\n",
       "       [0.79096045, 0.20903955],\n",
       "       [0.        , 1.        ],\n",
       "       [0.75      , 0.25      ],\n",
       "       [0.8358209 , 0.1641791 ],\n",
       "       [0.95652174, 0.04347826],\n",
       "       [0.07253886, 0.92746114],\n",
       "       [0.        , 1.        ],\n",
       "       [0.98947368, 0.01052632],\n",
       "       [0.93714286, 0.06285714],\n",
       "       [0.99453552, 0.00546448],\n",
       "       [0.02030457, 0.97969543],\n",
       "       [0.31578947, 0.68421053],\n",
       "       [0.90697674, 0.09302326],\n",
       "       [1.        , 0.        ],\n",
       "       [0.98477157, 0.01522843],\n",
       "       [0.        , 1.        ],\n",
       "       [1.        , 0.        ],\n",
       "       [1.        , 0.        ],\n",
       "       [0.        , 1.        ],\n",
       "       [0.66497462, 0.33502538],\n",
       "       [0.        , 1.        ],\n",
       "       [1.        , 0.        ],\n",
       "       [0.        , 1.        ],\n",
       "       [0.00990099, 0.99009901],\n",
       "       [0.16410256, 0.83589744],\n",
       "       [1.        , 0.        ],\n",
       "       [0.00540541, 0.99459459],\n",
       "       [0.39873418, 0.60126582],\n",
       "       [0.        , 1.        ],\n",
       "       [1.        , 0.        ],\n",
       "       [0.26395939, 0.73604061],\n",
       "       [0.28415301, 0.71584699],\n",
       "       [1.        , 0.        ],\n",
       "       [1.        , 0.        ],\n",
       "       [0.        , 1.        ],\n",
       "       [1.        , 0.        ],\n",
       "       [1.        , 0.        ],\n",
       "       [0.02247191, 0.97752809],\n",
       "       [1.        , 0.        ],\n",
       "       [0.01052632, 0.98947368],\n",
       "       [0.99337748, 0.00662252],\n",
       "       [0.93956044, 0.06043956],\n",
       "       [0.96      , 0.04      ],\n",
       "       [0.98947368, 0.01052632],\n",
       "       [0.00469484, 0.99530516],\n",
       "       [0.03389831, 0.96610169],\n",
       "       [0.98830409, 0.01169591],\n",
       "       [0.00526316, 0.99473684],\n",
       "       [0.        , 1.        ],\n",
       "       [0.01648352, 0.98351648],\n",
       "       [0.98684211, 0.01315789],\n",
       "       [0.80319149, 0.19680851],\n",
       "       [0.48087432, 0.51912568],\n",
       "       [1.        , 0.        ],\n",
       "       [0.        , 1.        ],\n",
       "       [0.67914439, 0.32085561],\n",
       "       [1.        , 0.        ],\n",
       "       [0.99418605, 0.00581395],\n",
       "       [0.89473684, 0.10526316],\n",
       "       [0.99473684, 0.00526316],\n",
       "       [0.66336634, 0.33663366],\n",
       "       [0.08888889, 0.91111111],\n",
       "       [0.63095238, 0.36904762],\n",
       "       [0.89795918, 0.10204082],\n",
       "       [0.        , 1.        ],\n",
       "       [0.20125786, 0.79874214],\n",
       "       [0.86956522, 0.13043478],\n",
       "       [1.        , 0.        ],\n",
       "       [0.        , 1.        ],\n",
       "       [1.        , 0.        ],\n",
       "       [0.        , 1.        ],\n",
       "       [0.03488372, 0.96511628],\n",
       "       [0.05027933, 0.94972067],\n",
       "       [0.28333333, 0.71666667],\n",
       "       [1.        , 0.        ],\n",
       "       [0.        , 1.        ],\n",
       "       [0.88297872, 0.11702128],\n",
       "       [0.        , 1.        ],\n",
       "       [0.        , 1.        ],\n",
       "       [0.        , 1.        ],\n",
       "       [0.24712644, 0.75287356],\n",
       "       [1.        , 0.        ],\n",
       "       [0.        , 1.        ],\n",
       "       [0.00512821, 0.99487179],\n",
       "       [0.        , 1.        ],\n",
       "       [0.93650794, 0.06349206],\n",
       "       [0.78378378, 0.21621622],\n",
       "       [0.00490196, 0.99509804],\n",
       "       [1.        , 0.        ],\n",
       "       [0.23      , 0.77      ],\n",
       "       [0.60752688, 0.39247312],\n",
       "       [0.        , 1.        ],\n",
       "       [0.04433498, 0.95566502],\n",
       "       [0.4494382 , 0.5505618 ],\n",
       "       [1.        , 0.        ],\n",
       "       [0.02030457, 0.97969543],\n",
       "       [1.        , 0.        ],\n",
       "       [0.20320856, 0.79679144],\n",
       "       [0.5       , 0.5       ],\n",
       "       [1.        , 0.        ],\n",
       "       [0.03723404, 0.96276596],\n",
       "       [0.97802198, 0.02197802],\n",
       "       [0.25966851, 0.74033149],\n",
       "       [0.89534884, 0.10465116],\n",
       "       [0.9947644 , 0.0052356 ],\n",
       "       [1.        , 0.        ],\n",
       "       [0.        , 1.        ],\n",
       "       [0.        , 1.        ],\n",
       "       [0.77456647, 0.22543353],\n",
       "       [1.        , 0.        ],\n",
       "       [0.01212121, 0.98787879],\n",
       "       [1.        , 0.        ],\n",
       "       [1.        , 0.        ],\n",
       "       [1.        , 0.        ],\n",
       "       [1.        , 0.        ],\n",
       "       [1.        , 0.        ],\n",
       "       [0.00529101, 0.99470899],\n",
       "       [0.95652174, 0.04347826],\n",
       "       [1.        , 0.        ],\n",
       "       [0.01639344, 0.98360656],\n",
       "       [0.31097561, 0.68902439],\n",
       "       [0.96256684, 0.03743316],\n",
       "       [0.2       , 0.8       ],\n",
       "       [1.        , 0.        ],\n",
       "       [0.        , 1.        ],\n",
       "       [0.01086957, 0.98913043],\n",
       "       [0.74719101, 0.25280899],\n",
       "       [0.38728324, 0.61271676],\n",
       "       [0.40837696, 0.59162304],\n",
       "       [0.87958115, 0.12041885],\n",
       "       [0.94186047, 0.05813953],\n",
       "       [0.07035176, 0.92964824],\n",
       "       [0.76530612, 0.23469388],\n",
       "       [0.01015228, 0.98984772],\n",
       "       [0.        , 1.        ],\n",
       "       [0.0212766 , 0.9787234 ],\n",
       "       [0.9893617 , 0.0106383 ],\n",
       "       [1.        , 0.        ],\n",
       "       [1.        , 0.        ],\n",
       "       [0.00581395, 0.99418605],\n",
       "       [0.        , 1.        ],\n",
       "       [0.0212766 , 0.9787234 ],\n",
       "       [0.        , 1.        ],\n",
       "       [1.        , 0.        ],\n",
       "       [0.99441341, 0.00558659],\n",
       "       [0.93548387, 0.06451613],\n",
       "       [1.        , 0.        ],\n",
       "       [1.        , 0.        ],\n",
       "       [1.        , 0.        ],\n",
       "       [0.        , 1.        ],\n",
       "       [0.38265306, 0.61734694],\n",
       "       [0.33516484, 0.66483516],\n",
       "       [0.01136364, 0.98863636],\n",
       "       [0.        , 1.        ],\n",
       "       [0.24861878, 0.75138122],\n",
       "       [1.        , 0.        ],\n",
       "       [0.98963731, 0.01036269],\n",
       "       [0.        , 1.        ],\n",
       "       [1.        , 0.        ],\n",
       "       [0.        , 1.        ],\n",
       "       [0.        , 1.        ],\n",
       "       [0.98395722, 0.01604278],\n",
       "       [0.        , 1.        ],\n",
       "       [0.        , 1.        ],\n",
       "       [1.        , 0.        ],\n",
       "       [0.01010101, 0.98989899],\n",
       "       [0.6547619 , 0.3452381 ],\n",
       "       [0.93010753, 0.06989247],\n",
       "       [0.        , 1.        ],\n",
       "       [0.98963731, 0.01036269],\n",
       "       [0.98360656, 0.01639344],\n",
       "       [1.        , 0.        ],\n",
       "       [0.00555556, 0.99444444],\n",
       "       [0.        , 1.        ],\n",
       "       [1.        , 0.        ],\n",
       "       [0.0862069 , 0.9137931 ],\n",
       "       [1.        , 0.        ],\n",
       "       [0.0483871 , 0.9516129 ],\n",
       "       [0.        , 1.        ],\n",
       "       [1.        , 0.        ],\n",
       "       [0.        , 1.        ],\n",
       "       [0.03174603, 0.96825397],\n",
       "       [1.        , 0.        ],\n",
       "       [0.94179894, 0.05820106],\n",
       "       [0.72067039, 0.27932961],\n",
       "       [0.6284153 , 0.3715847 ],\n",
       "       [0.        , 1.        ],\n",
       "       [0.15053763, 0.84946237],\n",
       "       [1.        , 0.        ],\n",
       "       [0.92391304, 0.07608696],\n",
       "       [0.98773006, 0.01226994],\n",
       "       [0.99453552, 0.00546448],\n",
       "       [0.01075269, 0.98924731],\n",
       "       [0.        , 1.        ],\n",
       "       [0.40721649, 0.59278351],\n",
       "       [0.84444444, 0.15555556],\n",
       "       [0.        , 1.        ],\n",
       "       [0.        , 1.        ],\n",
       "       [0.9895288 , 0.0104712 ],\n",
       "       [0.01546392, 0.98453608],\n",
       "       [0.01086957, 0.98913043],\n",
       "       [0.95652174, 0.04347826],\n",
       "       [0.        , 1.        ],\n",
       "       [0.23076923, 0.76923077],\n",
       "       [0.        , 1.        ],\n",
       "       [1.        , 0.        ],\n",
       "       [0.        , 1.        ],\n",
       "       [0.        , 1.        ],\n",
       "       [0.98907104, 0.01092896],\n",
       "       [0.78947368, 0.21052632],\n",
       "       [0.99411765, 0.00588235],\n",
       "       [0.        , 1.        ],\n",
       "       [0.07352941, 0.92647059],\n",
       "       [1.        , 0.        ],\n",
       "       [0.01117318, 0.98882682],\n",
       "       [0.        , 1.        ],\n",
       "       [0.01507538, 0.98492462],\n",
       "       [0.99470899, 0.00529101],\n",
       "       [0.83084577, 0.16915423],\n",
       "       [0.01052632, 0.98947368],\n",
       "       [0.93820225, 0.06179775],\n",
       "       [0.98963731, 0.01036269],\n",
       "       [0.20618557, 0.79381443],\n",
       "       [0.1969697 , 0.8030303 ],\n",
       "       [1.        , 0.        ],\n",
       "       [0.        , 1.        ],\n",
       "       [0.        , 1.        ],\n",
       "       [0.        , 1.        ],\n",
       "       [0.23243243, 0.76756757],\n",
       "       [0.96354167, 0.03645833],\n",
       "       [0.        , 1.        ],\n",
       "       [1.        , 0.        ],\n",
       "       [0.99453552, 0.00546448],\n",
       "       [0.        , 1.        ],\n",
       "       [0.52272727, 0.47727273],\n",
       "       [1.        , 0.        ],\n",
       "       [0.        , 1.        ],\n",
       "       [1.        , 0.        ],\n",
       "       [0.00555556, 0.99444444],\n",
       "       [0.        , 1.        ],\n",
       "       [0.09803922, 0.90196078],\n",
       "       [0.14364641, 0.85635359],\n",
       "       [0.98412698, 0.01587302],\n",
       "       [0.02209945, 0.97790055],\n",
       "       [1.        , 0.        ],\n",
       "       [0.39664804, 0.60335196],\n",
       "       [0.09248555, 0.90751445],\n",
       "       [0.50253807, 0.49746193],\n",
       "       [0.57541899, 0.42458101],\n",
       "       [0.        , 1.        ],\n",
       "       [1.        , 0.        ],\n",
       "       [0.        , 1.        ],\n",
       "       [0.        , 1.        ],\n",
       "       [0.57446809, 0.42553191],\n",
       "       [0.        , 1.        ],\n",
       "       [1.        , 0.        ],\n",
       "       [0.255     , 0.745     ],\n",
       "       [0.79310345, 0.20689655],\n",
       "       [0.09444444, 0.90555556],\n",
       "       [1.        , 0.        ],\n",
       "       [0.81683168, 0.18316832],\n",
       "       [0.        , 1.        ],\n",
       "       [0.02139037, 0.97860963],\n",
       "       [0.11351351, 0.88648649],\n",
       "       [0.02222222, 0.97777778],\n",
       "       [0.        , 1.        ],\n",
       "       [1.        , 0.        ],\n",
       "       [0.93989071, 0.06010929],\n",
       "       [0.20304569, 0.79695431],\n",
       "       [0.97894737, 0.02105263],\n",
       "       [0.        , 1.        ],\n",
       "       [0.56315789, 0.43684211],\n",
       "       [0.06770833, 0.93229167],\n",
       "       [0.984375  , 0.015625  ],\n",
       "       [0.82738095, 0.17261905],\n",
       "       [0.        , 1.        ],\n",
       "       [0.98941799, 0.01058201],\n",
       "       [0.94949495, 0.05050505],\n",
       "       [0.        , 1.        ],\n",
       "       [0.        , 1.        ],\n",
       "       [1.        , 0.        ],\n",
       "       [0.        , 1.        ],\n",
       "       [1.        , 0.        ],\n",
       "       [0.27748691, 0.72251309],\n",
       "       [0.98461538, 0.01538462],\n",
       "       [1.        , 0.        ],\n",
       "       [0.        , 1.        ],\n",
       "       [0.        , 1.        ],\n",
       "       [0.88172043, 0.11827957],\n",
       "       [0.        , 1.        ],\n",
       "       [1.        , 0.        ],\n",
       "       [0.75138122, 0.24861878],\n",
       "       [0.90721649, 0.09278351],\n",
       "       [1.        , 0.        ],\n",
       "       [0.63128492, 0.36871508],\n",
       "       [0.50837989, 0.49162011],\n",
       "       [0.        , 1.        ],\n",
       "       [0.90659341, 0.09340659],\n",
       "       [0.        , 1.        ],\n",
       "       [1.        , 0.        ],\n",
       "       [0.87309645, 0.12690355],\n",
       "       [1.        , 0.        ],\n",
       "       [1.        , 0.        ],\n",
       "       [0.78488372, 0.21511628],\n",
       "       [0.16751269, 0.83248731],\n",
       "       [0.47593583, 0.52406417],\n",
       "       [0.19672131, 0.80327869],\n",
       "       [0.        , 1.        ],\n",
       "       [0.8839779 , 0.1160221 ],\n",
       "       [0.89215686, 0.10784314],\n",
       "       [0.        , 1.        ],\n",
       "       [1.        , 0.        ],\n",
       "       [1.        , 0.        ],\n",
       "       [1.        , 0.        ],\n",
       "       [0.        , 1.        ],\n",
       "       [0.02777778, 0.97222222],\n",
       "       [0.96410256, 0.03589744],\n",
       "       [0.95721925, 0.04278075],\n",
       "       [1.        , 0.        ],\n",
       "       [0.4640884 , 0.5359116 ],\n",
       "       [1.        , 0.        ],\n",
       "       [0.01587302, 0.98412698],\n",
       "       [1.        , 0.        ],\n",
       "       [0.04597701, 0.95402299],\n",
       "       [1.        , 0.        ],\n",
       "       [1.        , 0.        ],\n",
       "       [1.        , 0.        ],\n",
       "       [0.        , 1.        ],\n",
       "       [0.96276596, 0.03723404],\n",
       "       [0.        , 1.        ],\n",
       "       [0.06486486, 0.93513514],\n",
       "       [0.        , 1.        ],\n",
       "       [0.        , 1.        ],\n",
       "       [1.        , 0.        ],\n",
       "       [1.        , 0.        ],\n",
       "       [0.        , 1.        ],\n",
       "       [1.        , 0.        ],\n",
       "       [0.        , 1.        ],\n",
       "       [1.        , 0.        ],\n",
       "       [0.11702128, 0.88297872],\n",
       "       [0.        , 1.        ],\n",
       "       [0.        , 1.        ],\n",
       "       [0.        , 1.        ],\n",
       "       [0.43274854, 0.56725146],\n",
       "       [0.07920792, 0.92079208],\n",
       "       [0.203125  , 0.796875  ],\n",
       "       [1.        , 0.        ],\n",
       "       [0.9787234 , 0.0212766 ],\n",
       "       [0.12571429, 0.87428571],\n",
       "       [0.98404255, 0.01595745],\n",
       "       [0.        , 1.        ],\n",
       "       [0.01030928, 0.98969072],\n",
       "       [1.        , 0.        ],\n",
       "       [0.95505618, 0.04494382],\n",
       "       [0.29032258, 0.70967742],\n",
       "       [0.98412698, 0.01587302],\n",
       "       [1.        , 0.        ],\n",
       "       [0.        , 1.        ],\n",
       "       [0.99      , 0.01      ],\n",
       "       [0.        , 1.        ],\n",
       "       [0.04639175, 0.95360825],\n",
       "       [0.98979592, 0.01020408],\n",
       "       [1.        , 0.        ],\n",
       "       [0.02259887, 0.97740113],\n",
       "       [0.65517241, 0.34482759]])"
      ]
     },
     "execution_count": 29,
     "metadata": {},
     "output_type": "execute_result"
    }
   ],
   "source": [
    "bag_clf.oob_decision_function_"
   ]
  },
  {
   "cell_type": "markdown",
   "id": "humanitarian-breeding",
   "metadata": {},
   "source": [
    "##### Parches aleatorios y sub-espacios aleatorios (random patches, random subspaces)\n",
    "\n",
    "Se puede elegir los *features* usados en un `BaggingClassifier` aleatoriamente también. Hay dos hiperparámetros:\n",
    "\n",
    "* `max_features`\n",
    "* `bootstrap_features`\n",
    "\n",
    "Estos son equivalentes a `max_samples` y `bootstrap` pero para los *features* en vez de las instancias.\n",
    "\n",
    "Entonces, cada predictor está entrenado con un subconjunto aleatorio diferente de los *features*. Este es útil cuando los datos tienen muchas dimensiones.\n",
    "\n",
    "* Parches aleatorios (*random patches*) corresponde a usar *bagging* para instancias y *features*\n",
    "* Subespacios aleatorios (*random subspaces*) corresponde a usar todas las instancias de entrenamiento pero aplicar *bagging* a los *features* (`bootstrap=False`, `max_samples=1.0`, `bootstrap_features=True`, `max_features=x` donde `x < 1.0`)\n",
    "\n",
    "Usando subconjuntos de *features* tenemos aún más diversidad de predictores, así que el *bias* aumenta y la varianza disminuye."
   ]
  },
  {
   "cell_type": "markdown",
   "id": "noticed-arthur",
   "metadata": {},
   "source": [
    "### Random Forests\n",
    "\n",
    "Ya hemos usado un *random forest* (ensamble de árboles de decisión, usualmente ocupando *bagging* con `max_samples` igual al tamaño del conjunto de entrenamiento).\n",
    "\n",
    "En vez de usar `BaggingClassifier` tenemos `RandomForestClassifier` que es más optimizado (también hay `RandomForestRegressor` para regresión)."
   ]
  },
  {
   "cell_type": "code",
   "execution_count": 14,
   "id": "regional-texas",
   "metadata": {},
   "outputs": [],
   "source": [
    "from sklearn.ensemble import RandomForestClassifier\n",
    "\n",
    "rnd_clf = RandomForestClassifier(n_estimators=500, max_leaf_nodes=16, n_jobs=-1)\n",
    "rnd_clf.fit(X_train, y_train)\n",
    "\n",
    "y_pred_rf = rnd_clf.predict(X_test)"
   ]
  },
  {
   "cell_type": "code",
   "execution_count": 15,
   "id": "adopted-fellowship",
   "metadata": {},
   "outputs": [
    {
     "data": {
      "text/plain": [
       "array([0, 0, 0, 1, 1, 1, 0, 0, 0, 0, 1, 0, 1, 1, 1, 0, 0, 1, 1, 0, 0, 1,\n",
       "       0, 0, 0, 0, 1, 0, 1, 0, 1, 1, 0, 0, 1, 0, 0, 1, 1, 1, 1, 1, 0, 0,\n",
       "       0, 0, 1, 0, 1, 1, 1, 1, 0, 0, 1, 0, 1, 1, 0, 1, 0, 1, 1, 0, 1, 0,\n",
       "       0, 0, 0, 1, 0, 0, 1, 1, 0, 0, 1, 1, 0, 0, 1, 1, 1, 0, 1, 1, 1, 0,\n",
       "       1, 1, 1, 0, 0, 0, 0, 1, 0, 1, 0, 1, 0, 1, 1, 0, 0, 0, 0, 0, 1, 1,\n",
       "       1, 0, 0, 1, 1, 0, 0, 0, 0, 1, 1, 1, 0, 0, 0])"
      ]
     },
     "execution_count": 15,
     "metadata": {},
     "output_type": "execute_result"
    }
   ],
   "source": [
    "y_pred_rf"
   ]
  },
  {
   "cell_type": "markdown",
   "id": "certain-saskatchewan",
   "metadata": {},
   "source": [
    "En un *random forest* un nodo está dividido en cada árbol usando el mejor *feature* en un conjunto aleatorio de *features*.\n",
    "\n",
    "Así que un *random forest* tiene más aleatoriedad que un árbol de decisión individual $\\Rightarrow$ más *bias*, menos varianza."
   ]
  },
  {
   "cell_type": "markdown",
   "id": "posted-african",
   "metadata": {},
   "source": [
    "#### Extra-Trees\n",
    "\n",
    "Se puede usar umbrales aleatorios para cada *feature* en la división de los nodos, en vez de usar el mejor umbral posible (como lo que pasa con un árbol de decisión normal).\n",
    "\n",
    "Un *random forest* así se llama un ensamble de *extremely randomized trees* (*Extra-Trees*).\n",
    "\n",
    "En Scikit-Learn está disponible con `ExtraTreesClassifier`.\n",
    "\n",
    "Este modelo de nuevo aumenta el *bias* pero reduce la varianza."
   ]
  },
  {
   "cell_type": "markdown",
   "id": "basic-worcester",
   "metadata": {},
   "source": [
    "#### Importancia de los *features*\n",
    "\n",
    "Con un *random forest* se puede determinar la importancia relativa de cada *feature*.\n",
    "\n",
    "La importancia de un *feature* está dada por cuanto está reducido la **impureza** (en promedio, sobre todos los árboles del bosque) por nodos que utilizan ese *feature*.\n",
    "\n",
    "El promedio es un promedio ponderado, donde el peso de cada nodo es igual al número de instancias de entrenamiento asociado.\n",
    "\n",
    "Scikit-Learn calcula esta importancia automaticamente para cada *feature* después del entrenamiento, y normaliza los resultados tal que $\\sum_{i=0}^{n} I_i = 1$, donde $I_i$ es la importancia de *feature* $i$.\n",
    "\n",
    "Se puede acceder a esta información con la variable `feature_importances_`."
   ]
  },
  {
   "cell_type": "markdown",
   "id": "identical-victoria",
   "metadata": {},
   "source": [
    "##### Ejemplo con los dígitos de MNIST"
   ]
  },
  {
   "cell_type": "code",
   "execution_count": 16,
   "id": "foster-fisher",
   "metadata": {},
   "outputs": [],
   "source": [
    "from sklearn.datasets import fetch_openml\n",
    "\n",
    "mnist = fetch_openml('mnist_784', version=1, as_frame=False)\n",
    "mnist.target = mnist.target.astype(np.uint8)"
   ]
  },
  {
   "cell_type": "code",
   "execution_count": 17,
   "id": "electoral-swiss",
   "metadata": {},
   "outputs": [
    {
     "data": {
      "text/plain": [
       "RandomForestClassifier(random_state=42)"
      ]
     },
     "execution_count": 17,
     "metadata": {},
     "output_type": "execute_result"
    }
   ],
   "source": [
    "rnd_clf = RandomForestClassifier(n_estimators=100, random_state=42)\n",
    "rnd_clf.fit(mnist[\"data\"], mnist[\"target\"])"
   ]
  },
  {
   "cell_type": "code",
   "execution_count": 18,
   "id": "artistic-christianity",
   "metadata": {},
   "outputs": [],
   "source": [
    "def plot_digit(data):\n",
    "    image = data.reshape(28, 28)\n",
    "    plt.imshow(image, cmap = mpl.cm.hot,\n",
    "               interpolation=\"nearest\")\n",
    "    plt.axis(\"off\")"
   ]
  },
  {
   "cell_type": "code",
   "execution_count": 19,
   "id": "checked-astrology",
   "metadata": {},
   "outputs": [
    {
     "data": {
      "text/plain": [
       "[Text(1, 0.0, 'No importante'),\n",
       " Text(1, 0.009791489757332336, 'Muy importante')]"
      ]
     },
     "execution_count": 19,
     "metadata": {},
     "output_type": "execute_result"
    },
    {
     "data": {
      "image/png": "[encoded data removed]",
      "text/plain": [
       "<Figure size 432x288 with 2 Axes>"
      ]
     },
     "metadata": {
      "needs_background": "light"
     },
     "output_type": "display_data"
    }
   ],
   "source": [
    "plot_digit(rnd_clf.feature_importances_)\n",
    "\n",
    "cbar = plt.colorbar(ticks=[rnd_clf.feature_importances_.min(), rnd_clf.feature_importances_.max()])\n",
    "cbar.ax.set_yticklabels(['No importante', 'Muy importante'])"
   ]
  },
  {
   "cell_type": "markdown",
   "id": "combined-breast",
   "metadata": {},
   "source": [
    "### Boosting\n",
    "\n",
    "*Boosting* se refiere a cualquier método de ensamble que combina varios modelos débiles en un modelo fuerte.\n",
    "\n",
    "La idea general es entrenar los modelos secuencialmente, cada modelo intentando a \"corregir\" los errores del modelo anterior.\n",
    "\n",
    "Dos métodos más populares:\n",
    "* *AdaBoost* (*Adaptive Boosting*)\n",
    "* *Gradient Boosting*"
   ]
  },
  {
   "cell_type": "markdown",
   "id": "variable-recipient",
   "metadata": {},
   "source": [
    "### AdaBoost\n",
    "\n",
    "Ejemplo de clasificación:\n",
    "\n",
    "1. El primer clasificador está entrenado y realiza predicciones (clasificaciones) en los datos de entrenamiento.\n",
    "2. Los pesos de las instancias mal clasificadas están aumentados.\n",
    "3. El segundo clasificador está entrenado usando los datos con los nuevos pesos, realiza predicciones.\n",
    "4. Los pesos de las instancias mal clasificadas están aumentados de nuevo, etc...\n",
    "\n",
    "![](figures_ensamble/fig7-7.png)"
   ]
  },
  {
   "cell_type": "markdown",
   "id": "therapeutic-seven",
   "metadata": {},
   "source": [
    "Como ejemplo, abajo vemos los límites de decisión de $5$ predictores consecutivos en el conjunto de *moons* (cada predictor es un clasificador de SVM con mucha regularización y un kernel de RBF).\n",
    "\n",
    "El primer clasificador comete muchos errores, los pesos de estas instancias están *boosted*, el segundo clasificador es mejor, etc...\n",
    "\n",
    "| ![](figures_ensamble/fig7-8.png) |\n",
    "|----------------------------------|\n",
    "| Dos secuencias de *AdaBoost*. En la figura a la derecha las instancias mal clasificadas tienen la mitad del peso aplicado a la izquierda. |"
   ]
  },
  {
   "cell_type": "markdown",
   "id": "essential-influence",
   "metadata": {},
   "source": [
    "Una vez que todos los predictores estén entrenados, el ensamble realiza predicciones en una manera similar a *bagging* o *pasting*, pero los predictores tienen pesos distintos según su precisión en los datos ponderados de entrenamiento.\n",
    "\n",
    "Una desvantaja importante: no se puede paralelizar el método, ya que cada predictor requiere el resultado del predictor anterior."
   ]
  },
  {
   "cell_type": "markdown",
   "id": "violent-polish",
   "metadata": {},
   "source": [
    "#### En mas detalles...\n",
    "\n",
    "Definimos un vector de pesos para todas las instancias de entrenamiento $w^{(i)}$.\n",
    "\n",
    "Inicializamos estos pesos a $1/m$, donde $m$ es el número de instancias.\n",
    "\n",
    "Calculamos la taza ponderada de error del $j$-esima predictor así:\n",
    "\n",
    "$$r_j = \\frac{1}{\\sum_{i=1}^m w^{(i)}} \\left( \\underset{\\hat{y}^{(i)}_j \\neq y^{(i)}}{\\sum_{i=1}^m w^{(i)}} \\right)$$\n",
    "\n",
    "donde $\\hat{y}^{(i)}_j$ es la predicción del $j$-esima predictor para la $i$-esima instancia.\n",
    "\n",
    "El peso del predictor $\\alpha_j$ está dado por:\n",
    "\n",
    "$$\\alpha_j = \\eta \\log \\frac{1-r_j}{r_j}$$\n",
    "\n",
    "donde $\\eta$ es la taza de aprendizaje (por defect igual a $1$) para el proceso de *boosting*. (Hay similitudes con descenso por gradiente...)\n",
    "\n",
    "Si los predicciones del predictor son aleatorios, $\\alpha_j \\approx 0$, si son siempre incorrectos (peor que aleatorio) $\\alpha_j < 0$.\n",
    "\n",
    "Ahora, los pesos de las instancias están actualizados:\n",
    "\n",
    "$$w^{(i)} = \\begin{cases} w^{(i)} & \\hat{y}^{(i)}_j = y^{(i)} \\\\ w^{(i)} \\exp(\\alpha_j) & \\hat{y}^{(i)}_j \\neq y^{(i)} \\end{cases}$$\n",
    "\n",
    "Después, todos los pesos de las instancias están normalizados (dividido por $\\sum_{i=1}^m w^{(i)}$).\n",
    "\n",
    "Finalmente, un nuevo predictor está entrenado con los nuevos valores de $w^{(i)}$, calculamos $\\alpha$ para el nuevo predictor, actualizamos los valores de $w^{(i)}$ y repetimos el proceso.\n",
    "\n",
    "Para realizar predicciones, *AdaBoost* calcula las predicciones de todos los predictores y aplica los pesos $\\alpha_j$. La clase predicha es la que recibe la mayoría de votos ponderados:\n",
    "\n",
    "$$\\hat{y}(\\boldsymbol{x}) = \\underset{k}{\\text{argmax}} \\underset{\\hat{y}_j(\\boldsymbol{x}) = k}{\\sum_{j=1}^N} \\alpha_j$$\n",
    "\n",
    "donde $N$ es el número de predictores."
   ]
  },
  {
   "cell_type": "markdown",
   "id": "simplified-standard",
   "metadata": {},
   "source": [
    "Scikit-Learn ocupa una versión multiclase de *AdaBoost* que se llama *SAMME* (*Stagewise Additive Modeling using a Multiclass Exponential loss function*).\n",
    "\n",
    "Con dos clases, SAMME es equivalente a *AdaBoost*.\n",
    "\n",
    "Si los predictores pueden estimar probabilidades para las clases (tienen el método `predict_proba()`) Scikit-Learn puede ocupar una variante de SAMME que se llama *SAMME.R* que utiliza estas probabilidades y típicamente funciona mejor."
   ]
  },
  {
   "cell_type": "markdown",
   "id": "attached-laugh",
   "metadata": {},
   "source": [
    "En el ejemplo abajo usamos un tocón de decisión (*decision stump*, un árbol de decisión con `max_depth=1`: un nodo de decisión y dos nodos de hoja)."
   ]
  },
  {
   "cell_type": "code",
   "execution_count": 32,
   "id": "atmospheric-omega",
   "metadata": {},
   "outputs": [
    {
     "data": {
      "text/plain": [
       "AdaBoostClassifier(base_estimator=DecisionTreeClassifier(max_depth=1),\n",
       "                   learning_rate=0.5, n_estimators=200)"
      ]
     },
     "execution_count": 32,
     "metadata": {},
     "output_type": "execute_result"
    }
   ],
   "source": [
    "from sklearn.ensemble import AdaBoostClassifier\n",
    "\n",
    "ada_clf = AdaBoostClassifier(DecisionTreeClassifier(max_depth=1),\n",
    "                             n_estimators=200,\n",
    "                             algorithm=\"SAMME.R\",\n",
    "                             learning_rate=0.5)\n",
    "\n",
    "ada_clf.fit(X_train, y_train)"
   ]
  },
  {
   "cell_type": "code",
   "execution_count": 33,
   "id": "satisfied-finnish",
   "metadata": {},
   "outputs": [
    {
     "data": {
      "image/png": "[encoded data removed]",
      "text/plain": [
       "<Figure size 432x288 with 1 Axes>"
      ]
     },
     "metadata": {
      "needs_background": "light"
     },
     "output_type": "display_data"
    }
   ],
   "source": [
    "plot_decision_boundary(ada_clf, X, y)"
   ]
  },
  {
   "cell_type": "markdown",
   "id": "expanded-bowling",
   "metadata": {},
   "source": [
    "### Gradient Boosting\n",
    "\n",
    "En este método la idea es ajustar el nuevo predictor a los errores residuos cometidos por el predictor anterior.\n",
    "\n",
    "Como ejemplo, consideramos regresión con árboles de decisión."
   ]
  },
  {
   "cell_type": "code",
   "execution_count": 34,
   "id": "radical-construction",
   "metadata": {},
   "outputs": [],
   "source": [
    "# Datos cuadráticos\n",
    "\n",
    "np.random.seed(42)\n",
    "X = np.random.rand(100, 1) - 0.5\n",
    "y = 3*X[:, 0]**2 + 0.05 * np.random.randn(100)"
   ]
  },
  {
   "cell_type": "code",
   "execution_count": 35,
   "id": "grateful-imagination",
   "metadata": {},
   "outputs": [
    {
     "data": {
      "text/plain": [
       "DecisionTreeRegressor(max_depth=2)"
      ]
     },
     "execution_count": 35,
     "metadata": {},
     "output_type": "execute_result"
    }
   ],
   "source": [
    "from sklearn.tree import DecisionTreeRegressor\n",
    "\n",
    "tree_reg1 = DecisionTreeRegressor(max_depth=2)\n",
    "tree_reg1.fit(X, y)"
   ]
  },
  {
   "cell_type": "code",
   "execution_count": 36,
   "id": "passing-finish",
   "metadata": {},
   "outputs": [
    {
     "data": {
      "text/plain": [
       "DecisionTreeRegressor(max_depth=2)"
      ]
     },
     "execution_count": 36,
     "metadata": {},
     "output_type": "execute_result"
    }
   ],
   "source": [
    "y2 = y - tree_reg1.predict(X)\n",
    "\n",
    "tree_reg2 = DecisionTreeRegressor(max_depth=2)\n",
    "tree_reg2.fit(X, y2)"
   ]
  },
  {
   "cell_type": "code",
   "execution_count": 37,
   "id": "capable-geneva",
   "metadata": {},
   "outputs": [
    {
     "data": {
      "text/plain": [
       "DecisionTreeRegressor(max_depth=2)"
      ]
     },
     "execution_count": 37,
     "metadata": {},
     "output_type": "execute_result"
    }
   ],
   "source": [
    "y3 = y2 - tree_reg2.predict(X)\n",
    "\n",
    "tree_reg3 = DecisionTreeRegressor(max_depth=2)\n",
    "tree_reg3.fit(X, y3)"
   ]
  },
  {
   "cell_type": "code",
   "execution_count": 38,
   "id": "equipped-carolina",
   "metadata": {},
   "outputs": [
    {
     "name": "stderr",
     "output_type": "stream",
     "text": [
      "/tmp/ipykernel_23407/1684835290.py:2: DeprecationWarning: Calling np.sum(generator) is deprecated, and in the future will give a different result. Use np.sum(np.fromiter(generator)) or the python sum builtin instead.\n",
      "  y_pred = np.sum(tree.predict(X_new) for tree in (tree_reg1, tree_reg2, tree_reg3))\n"
     ]
    }
   ],
   "source": [
    "X_new = np.array([[0.8]])\n",
    "y_pred = np.sum(tree.predict(X_new) for tree in (tree_reg1, tree_reg2, tree_reg3))"
   ]
  },
  {
   "cell_type": "code",
   "execution_count": 39,
   "id": "alpha-convenience",
   "metadata": {},
   "outputs": [
    {
     "data": {
      "text/plain": [
       "array([0.75026781])"
      ]
     },
     "execution_count": 39,
     "metadata": {},
     "output_type": "execute_result"
    }
   ],
   "source": [
    "y_pred"
   ]
  },
  {
   "cell_type": "code",
   "execution_count": 40,
   "id": "accepted-choir",
   "metadata": {},
   "outputs": [],
   "source": [
    "def plot_predictions(regressors, X, y, axes, label=None, style=\"r-\", data_style=\"b.\", data_label=None):\n",
    "    x1 = np.linspace(axes[0], axes[1], 500)\n",
    "    y_pred = sum(regressor.predict(x1.reshape(-1, 1)) for regressor in regressors)\n",
    "    plt.plot(X[:, 0], y, data_style, label=data_label)\n",
    "    plt.plot(x1, y_pred, style, linewidth=2, label=label)\n",
    "    if label or data_label:\n",
    "        plt.legend(loc=\"upper center\", fontsize=16)\n",
    "    plt.axis(axes)"
   ]
  },
  {
   "cell_type": "code",
   "execution_count": 41,
   "id": "chinese-dinner",
   "metadata": {},
   "outputs": [
    {
     "name": "stderr",
     "output_type": "stream",
     "text": [
      "/tmp/ipykernel_23407/3820871828.py:3: DeprecationWarning: Calling np.sum(generator) is deprecated, and in the future will give a different result. Use np.sum(np.fromiter(generator)) or the python sum builtin instead.\n",
      "  y_pred = sum(regressor.predict(x1.reshape(-1, 1)) for regressor in regressors)\n",
      "/tmp/ipykernel_23407/3820871828.py:3: DeprecationWarning: Calling np.sum(generator) is deprecated, and in the future will give a different result. Use np.sum(np.fromiter(generator)) or the python sum builtin instead.\n",
      "  y_pred = sum(regressor.predict(x1.reshape(-1, 1)) for regressor in regressors)\n",
      "/tmp/ipykernel_23407/3820871828.py:3: DeprecationWarning: Calling np.sum(generator) is deprecated, and in the future will give a different result. Use np.sum(np.fromiter(generator)) or the python sum builtin instead.\n",
      "  y_pred = sum(regressor.predict(x1.reshape(-1, 1)) for regressor in regressors)\n",
      "/tmp/ipykernel_23407/3820871828.py:3: DeprecationWarning: Calling np.sum(generator) is deprecated, and in the future will give a different result. Use np.sum(np.fromiter(generator)) or the python sum builtin instead.\n",
      "  y_pred = sum(regressor.predict(x1.reshape(-1, 1)) for regressor in regressors)\n",
      "/tmp/ipykernel_23407/3820871828.py:3: DeprecationWarning: Calling np.sum(generator) is deprecated, and in the future will give a different result. Use np.sum(np.fromiter(generator)) or the python sum builtin instead.\n",
      "  y_pred = sum(regressor.predict(x1.reshape(-1, 1)) for regressor in regressors)\n",
      "/tmp/ipykernel_23407/3820871828.py:3: DeprecationWarning: Calling np.sum(generator) is deprecated, and in the future will give a different result. Use np.sum(np.fromiter(generator)) or the python sum builtin instead.\n",
      "  y_pred = sum(regressor.predict(x1.reshape(-1, 1)) for regressor in regressors)\n"
     ]
    },
    {
     "data": {
      "text/plain": [
       "Text(0, 0.5, '$y$')"
      ]
     },
     "execution_count": 41,
     "metadata": {},
     "output_type": "execute_result"
    },
    {
     "data": {
      "image/png": "[encoded data removed]",
      "text/plain": [
       "<Figure size 792x792 with 6 Axes>"
      ]
     },
     "metadata": {
      "needs_background": "light"
     },
     "output_type": "display_data"
    }
   ],
   "source": [
    "plt.figure(figsize=(11,11))\n",
    "\n",
    "plt.subplot(321)\n",
    "plot_predictions([tree_reg1], X, y, axes=[-0.5, 0.5, -0.1, 0.8], label=\"$h_1(x_1)$\", style=\"g-\", data_label=\"Training set\")\n",
    "plt.ylabel(\"$y$\", fontsize=16, rotation=0)\n",
    "plt.title(\"Residuals and tree predictions\", fontsize=16)\n",
    "\n",
    "plt.subplot(322)\n",
    "plot_predictions([tree_reg1], X, y, axes=[-0.5, 0.5, -0.1, 0.8], label=\"$h(x_1) = h_1(x_1)$\", data_label=\"Training set\")\n",
    "plt.ylabel(\"$y$\", fontsize=16, rotation=0)\n",
    "plt.title(\"Ensemble predictions\", fontsize=16)\n",
    "\n",
    "plt.subplot(323)\n",
    "plot_predictions([tree_reg2], X, y2, axes=[-0.5, 0.5, -0.5, 0.5], label=\"$h_2(x_1)$\", style=\"g-\", data_style=\"k+\", data_label=\"Residuals\")\n",
    "plt.ylabel(\"$y - h_1(x_1)$\", fontsize=16)\n",
    "\n",
    "plt.subplot(324)\n",
    "plot_predictions([tree_reg1, tree_reg2], X, y, axes=[-0.5, 0.5, -0.1, 0.8], label=\"$h(x_1) = h_1(x_1) + h_2(x_1)$\")\n",
    "plt.ylabel(\"$y$\", fontsize=16, rotation=0)\n",
    "\n",
    "plt.subplot(325)\n",
    "plot_predictions([tree_reg3], X, y3, axes=[-0.5, 0.5, -0.5, 0.5], label=\"$h_3(x_1)$\", style=\"g-\", data_style=\"k+\")\n",
    "plt.ylabel(\"$y - h_1(x_1) - h_2(x_1)$\", fontsize=16)\n",
    "plt.xlabel(\"$x_1$\", fontsize=16)\n",
    "\n",
    "plt.subplot(326)\n",
    "plot_predictions([tree_reg1, tree_reg2, tree_reg3], X, y, axes=[-0.5, 0.5, -0.1, 0.8], label=\"$h(x_1) = h_1(x_1) + h_2(x_1) + h_3(x_1)$\")\n",
    "plt.xlabel(\"$x_1$\", fontsize=16)\n",
    "plt.ylabel(\"$y$\", fontsize=16, rotation=0)"
   ]
  },
  {
   "cell_type": "markdown",
   "id": "becoming-breach",
   "metadata": {},
   "source": [
    "Es más fácil usar `GradientBoostingRegressor` del Scikit-Learn para implementar este tipo de *boosting*. Funciona con árboles de decisión, así tiene hiperparámetros relevantes para los árboles."
   ]
  },
  {
   "cell_type": "code",
   "execution_count": 47,
   "id": "contrary-police",
   "metadata": {},
   "outputs": [
    {
     "data": {
      "text/plain": [
       "GradientBoostingRegressor(learning_rate=1.0, max_depth=2, n_estimators=3)"
      ]
     },
     "execution_count": 47,
     "metadata": {},
     "output_type": "execute_result"
    }
   ],
   "source": [
    "from sklearn.ensemble import GradientBoostingRegressor\n",
    "\n",
    "gbrt = GradientBoostingRegressor(max_depth=2, n_estimators=3, learning_rate=1.0)\n",
    "gbrt.fit(X, y)"
   ]
  },
  {
   "cell_type": "code",
   "execution_count": 48,
   "id": "brutal-ordering",
   "metadata": {},
   "outputs": [
    {
     "data": {
      "text/plain": [
       "GradientBoostingRegressor(max_depth=2, n_estimators=200, random_state=42)"
      ]
     },
     "execution_count": 48,
     "metadata": {},
     "output_type": "execute_result"
    }
   ],
   "source": [
    "gbrt_slow = GradientBoostingRegressor(max_depth=2, n_estimators=200, learning_rate=0.1, random_state=42)\n",
    "gbrt_slow.fit(X, y)"
   ]
  },
  {
   "cell_type": "code",
   "execution_count": 49,
   "id": "personalized-clear",
   "metadata": {},
   "outputs": [
    {
     "name": "stderr",
     "output_type": "stream",
     "text": [
      "/tmp/ipykernel_23407/3820871828.py:3: DeprecationWarning: Calling np.sum(generator) is deprecated, and in the future will give a different result. Use np.sum(np.fromiter(generator)) or the python sum builtin instead.\n",
      "  y_pred = sum(regressor.predict(x1.reshape(-1, 1)) for regressor in regressors)\n",
      "/tmp/ipykernel_23407/3820871828.py:3: DeprecationWarning: Calling np.sum(generator) is deprecated, and in the future will give a different result. Use np.sum(np.fromiter(generator)) or the python sum builtin instead.\n",
      "  y_pred = sum(regressor.predict(x1.reshape(-1, 1)) for regressor in regressors)\n"
     ]
    },
    {
     "data": {
      "text/plain": [
       "Text(0.5, 0, '$x_1$')"
      ]
     },
     "execution_count": 49,
     "metadata": {},
     "output_type": "execute_result"
    },
    {
     "data": {
      "image/png": "[encoded data removed]",
      "text/plain": [
       "<Figure size 720x288 with 2 Axes>"
      ]
     },
     "metadata": {
      "needs_background": "light"
     },
     "output_type": "display_data"
    }
   ],
   "source": [
    "fix, axes = plt.subplots(ncols=2, figsize=(10,4), sharey=True)\n",
    "\n",
    "plt.sca(axes[0])\n",
    "plot_predictions([gbrt], X, y, axes=[-0.5, 0.5, -0.1, 0.8], label=\"Ensemble predictions\")\n",
    "plt.title(\"learning_rate={}, n_estimators={}\".format(gbrt.learning_rate, gbrt.n_estimators), fontsize=14)\n",
    "plt.xlabel(\"$x_1$\", fontsize=16)\n",
    "plt.ylabel(\"$y$\", fontsize=16, rotation=0)\n",
    "\n",
    "plt.sca(axes[1])\n",
    "plot_predictions([gbrt_slow], X, y, axes=[-0.5, 0.5, -0.1, 0.8])\n",
    "plt.title(\"learning_rate={}, n_estimators={}\".format(gbrt_slow.learning_rate, gbrt_slow.n_estimators), fontsize=14)\n",
    "plt.xlabel(\"$x_1$\", fontsize=16)"
   ]
  },
  {
   "cell_type": "markdown",
   "id": "useful-astronomy",
   "metadata": {},
   "source": [
    "La taza de aprendizaje (*learning rate*) aplica un factor a la contribución de cada árbol.\n",
    "\n",
    "Si toma un valor pequeño, necesitamos más árboles para ajustar bien a los datos, pero las predicciones suelen generalizar mejor (esta es una técnica de regularización que se llama *shrinkage*).\n",
    "\n",
    "En la figura arriba, el modelo a la izquierda no tiene suficientes árboles (*underfitting*), mientras el modelo a la derecha tiene demasiados (*overfitting*).\n",
    "\n",
    "Una forma de encontrar el número óptimo de árboles es con *early stopping*"
   ]
  },
  {
   "cell_type": "markdown",
   "id": "defined-satellite",
   "metadata": {},
   "source": [
    "El método `staged_predict()` ejecuta una iteración sobre las predicciones del ensamble en cada etapa de entrenamiento (con $1$ árbol, $2$ árboles, etc.)\n",
    "\n",
    "El código abajo entrena un ensamble de *Gradient Boosted Regression Trees* con $120$ árboles, mide el error de validación en cada etapa de entrenamiento para encontrar el número óptimo de árboles, y después entrena otro ensamble GBRT con este número de árboles."
   ]
  },
  {
   "cell_type": "code",
   "execution_count": 50,
   "id": "greenhouse-colon",
   "metadata": {},
   "outputs": [
    {
     "data": {
      "text/plain": [
       "GradientBoostingRegressor(max_depth=2, n_estimators=33)"
      ]
     },
     "execution_count": 50,
     "metadata": {},
     "output_type": "execute_result"
    }
   ],
   "source": [
    "from sklearn.model_selection import train_test_split\n",
    "from sklearn.metrics import mean_squared_error\n",
    "\n",
    "X_train, X_val, y_train, y_val = train_test_split(X, y)\n",
    "\n",
    "gbrt = GradientBoostingRegressor(max_depth=2, n_estimators=120)\n",
    "gbrt.fit(X_train, y_train)\n",
    "\n",
    "errors = [mean_squared_error(y_val, y_pred)\n",
    "          for y_pred in gbrt.staged_predict(X_val)]\n",
    "\n",
    "bst_n_estimators = np.argmin(errors)\n",
    "\n",
    "gbrt_best = GradientBoostingRegressor(max_depth=2, n_estimators=bst_n_estimators)\n",
    "gbrt_best.fit(X_train, y_train)"
   ]
  },
  {
   "cell_type": "code",
   "execution_count": 51,
   "id": "visible-malta",
   "metadata": {},
   "outputs": [],
   "source": [
    "min_error = np.min(errors)"
   ]
  },
  {
   "cell_type": "code",
   "execution_count": 52,
   "id": "direct-tolerance",
   "metadata": {},
   "outputs": [
    {
     "name": "stderr",
     "output_type": "stream",
     "text": [
      "/tmp/ipykernel_23407/3820871828.py:3: DeprecationWarning: Calling np.sum(generator) is deprecated, and in the future will give a different result. Use np.sum(np.fromiter(generator)) or the python sum builtin instead.\n",
      "  y_pred = sum(regressor.predict(x1.reshape(-1, 1)) for regressor in regressors)\n"
     ]
    },
    {
     "data": {
      "text/plain": [
       "Text(0.5, 0, '$x_1$')"
      ]
     },
     "execution_count": 52,
     "metadata": {},
     "output_type": "execute_result"
    },
    {
     "data": {
      "image/png": "[encoded data removed]",
      "text/plain": [
       "<Figure size 720x288 with 2 Axes>"
      ]
     },
     "metadata": {
      "needs_background": "light"
     },
     "output_type": "display_data"
    }
   ],
   "source": [
    "plt.figure(figsize=(10, 4))\n",
    "\n",
    "plt.subplot(121)\n",
    "plt.plot(np.arange(1, len(errors) + 1), errors, \"b.-\")\n",
    "plt.plot([bst_n_estimators, bst_n_estimators], [0, min_error], \"k--\")\n",
    "plt.plot([0, 120], [min_error, min_error], \"k--\")\n",
    "plt.plot(bst_n_estimators, min_error, \"ko\")\n",
    "plt.text(bst_n_estimators, min_error*1.2, \"Minimum\", ha=\"center\", fontsize=14)\n",
    "plt.axis([0, 120, 0, 0.01])\n",
    "plt.xlabel(\"Number of trees\")\n",
    "plt.ylabel(\"Error\", fontsize=16)\n",
    "plt.title(\"Validation error\", fontsize=14)\n",
    "\n",
    "plt.subplot(122)\n",
    "plot_predictions([gbrt_best], X, y, axes=[-0.5, 0.5, -0.1, 0.8])\n",
    "plt.title(\"Best model (%d trees)\" % bst_n_estimators, fontsize=14)\n",
    "plt.ylabel(\"$y$\", fontsize=16, rotation=0)\n",
    "plt.xlabel(\"$x_1$\", fontsize=16)"
   ]
  },
  {
   "cell_type": "markdown",
   "id": "enhanced-conditions",
   "metadata": {},
   "source": [
    "### Stacking\n",
    "\n",
    "El último método de ensamble que veremos se llama *stacking* (*stacked generalisation*).\n",
    "\n",
    "La idea es usar un modelo para agregar las predicciones de los predictores en el ensamble (en vez de elegir algo *a priori*).\n",
    "\n",
    "![](figures_ensamble/fig7-12.png)"
   ]
  },
  {
   "cell_type": "markdown",
   "id": "athletic-scientist",
   "metadata": {},
   "source": [
    "Para entrenar la \"licuadora\" (*blender*) se puede usar un conjunto de *hold-out*.\n",
    "\n",
    "Primero, el conjunto de entrenamiento está dividido en dos subconjuntos. El primero está usado para entrenar los predictors en la primera capa.\n",
    "\n",
    "![](figures_ensamble/fig7-13.png)"
   ]
  },
  {
   "cell_type": "markdown",
   "id": "protecting-bottom",
   "metadata": {},
   "source": [
    "Después, los predictores de la primera capa realizan predicciones en el conjunto $2$ (el de *hold-out*).\n",
    "\n",
    "Así aseguramos que las predicciones son \"limpias\" ya que los predictores no vieron estos datos en su entrenamiento.\n",
    "\n",
    "Ahora, para cada instancia en el conjunto de *hold-out* hay $3$ valores predichos. Creamos un nuevo conjunto de entrenamiento con estas predicciones como *features* de entrada (por lo tanto, es un conjunto tridimensional), y manteniendo los valores de *target*.\n",
    "\n",
    "La \"licuadora\" está entrenada en este nuevo conjunto para que aprenda predecir los valores de *target* usando las predicciones de la primera capa.\n",
    "\n",
    "![](figures_ensamble/fig7-14.png)"
   ]
  },
  {
   "cell_type": "markdown",
   "id": "considered-stuff",
   "metadata": {},
   "source": [
    "Es posible entrenar varias \"licuadoras\", y así tener una capa de \"licuadoras\".\n",
    "\n",
    "Para hacer eso, hay que dividir el conjunto de entrenamiento en $3$ subconjuntos:\n",
    "\n",
    "* El primero es para entrenar la primera capa.\n",
    "* El segundo es para crear el conjunto usado para entrenar la segunda capa (con las predicciones de la primera capa).\n",
    "* El tercero es para crear el conjunto usado para entrenar la tercera capa (con las predicciones de la segunda capa).\n",
    "\n",
    "Una vez completado el entrenamiento, una predicción para una nueva instancia se puede obtener pasando a través de cada capa secuencialmente.\n",
    "\n",
    "![](figures_ensamble/fig7-15.png)"
   ]
  },
  {
   "cell_type": "markdown",
   "id": "individual-permission",
   "metadata": {},
   "source": [
    "Scikit-Learn no tiene una implementación de *stacking*, pero no es muy difícil implementar."
   ]
  },
  {
   "cell_type": "code",
   "execution_count": null,
   "id": "emerging-answer",
   "metadata": {},
   "outputs": [],
   "source": []
  }
 ],
 "metadata": {
  "@webio": {
   "lastCommId": null,
   "lastKernelId": null
  },
  "kernelspec": {
   "display_name": "Python 3",
   "language": "python",
   "name": "python3"
  },
  "language_info": {
   "codemirror_mode": {
    "name": "ipython",
    "version": 3
   },
   "file_extension": ".py",
   "mimetype": "text/x-python",
   "name": "python",
   "nbconvert_exporter": "python",
   "pygments_lexer": "ipython3",
   "version": "3.7.3"
  }
 },
 "nbformat": 4,
 "nbformat_minor": 5
}
