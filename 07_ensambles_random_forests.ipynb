{
 "cells": [
  {
   "cell_type": "code",
   "execution_count": 2,
   "id": "utility-savings",
   "metadata": {},
   "outputs": [
    {
     "name": "stdout",
     "output_type": "stream",
     "text": [
      "Populating the interactive namespace from numpy and matplotlib\n"
     ]
    }
   ],
   "source": [
    "%pylab inline"
   ]
  },
  {
   "cell_type": "markdown",
   "id": "angry-decimal",
   "metadata": {},
   "source": [
    "## Ensamble de modelos y *random forest*\n",
    "\n",
    "En un ensamble de modelos combinamos varios modelos para mejorar las predicciones (clasificación o regresión) de los modelos individuales.\n",
    "\n",
    "Un grupo de modelos así se llama un **ensamble de modelos** y la técnica se llama *ensemble learning*.\n",
    "\n",
    "Por ejemplo:\n",
    "\n",
    "* Se puede entrenar un grupo de árboles de decisión, cada uno en un subconjunto aleatorio del conjunto de entrenamiento.\n",
    "* Para realizar predicciones, obtenemos las predicciones de cada árbol y la predicción final es la clase que obtiene la mayoría de los votos.\n",
    "* Este ensamble de modelos se llama un *random forest*.\n",
    "* Aunque es un método simple, es uno de los algoritmos más poderosos de *machine learning*."
   ]
  },
  {
   "cell_type": "markdown",
   "id": "broad-fifty",
   "metadata": {},
   "source": [
    "### Clasificadores con votos\n",
    "\n",
    "| ![](figures_ensamble/fig7-1.png) |\n",
    "|----------------------------------|\n",
    "| Un grupo de clasificadores diversos. |"
   ]
  },
  {
   "cell_type": "markdown",
   "id": "collective-chancellor",
   "metadata": {},
   "source": [
    "| ![](figures_ensamble/fig7-2.png) |\n",
    "|----------------------------------|\n",
    "| Clasificador por votos (*hard voting*) |"
   ]
  },
  {
   "cell_type": "markdown",
   "id": "embedded-viking",
   "metadata": {},
   "source": [
    "Un clasificador por votos a veces logra un *accuracy* mayor que el mejor clasificador del ensamble!\n",
    "\n",
    "De hecho, incluso si cada clasificador es **débil** (es solo ligeramente mejor que adivinanzas al azar), el ensamble puede ser un clasificador **fuerte** (si hay muchos clasificadores y son muy diversos).\n",
    "\n",
    "Por ejemplo: $1000$ clasificadores que son correctos 51% del tiempo. Usando la clase votado por la mayoría se puede esperar un rendimiento de 75%.\n",
    "\n",
    "Este es verdad sólo si todos los clasificadores son independientes, y cometen errores sin correlaciones. Pero ya que están entrenados usando los mismos datos habrán correlaciones. Así que el rendimiento será un poco menor."
   ]
  },
  {
   "cell_type": "code",
   "execution_count": 3,
   "id": "numerous-negotiation",
   "metadata": {},
   "outputs": [],
   "source": [
    "from sklearn.model_selection import train_test_split\n",
    "from sklearn.datasets import make_moons\n",
    "\n",
    "X, y = make_moons(n_samples=500, noise=0.30, random_state=42)\n",
    "X_train, X_test, y_train, y_test = train_test_split(X, y, random_state=42)"
   ]
  },
  {
   "cell_type": "code",
   "execution_count": 4,
   "id": "dense-siemens",
   "metadata": {},
   "outputs": [],
   "source": [
    "from sklearn.ensemble import RandomForestClassifier\n",
    "from sklearn.ensemble import VotingClassifier\n",
    "from sklearn.linear_model import LogisticRegression\n",
    "from sklearn.svm import SVC"
   ]
  },
  {
   "cell_type": "code",
   "execution_count": 5,
   "id": "boxed-sussex",
   "metadata": {},
   "outputs": [],
   "source": [
    "log_clf = LogisticRegression()\n",
    "rnd_clf = RandomForestClassifier()\n",
    "svm_clf = SVC()"
   ]
  },
  {
   "cell_type": "code",
   "execution_count": 6,
   "id": "thick-gather",
   "metadata": {},
   "outputs": [
    {
     "data": {
      "text/plain": [
       "VotingClassifier(estimators=[('lr', LogisticRegression()),\n",
       "                             ('rf', RandomForestClassifier()), ('svc', SVC())])"
      ]
     },
     "execution_count": 6,
     "metadata": {},
     "output_type": "execute_result"
    }
   ],
   "source": [
    "voting_clf = VotingClassifier(estimators=[('lr', log_clf), \n",
    "                                          ('rf', rnd_clf), ('svc', svm_clf)],\n",
    "                              voting='hard')\n",
    "voting_clf.fit(X_train, y_train)"
   ]
  },
  {
   "cell_type": "code",
   "execution_count": 7,
   "id": "thorough-maintenance",
   "metadata": {},
   "outputs": [
    {
     "name": "stdout",
     "output_type": "stream",
     "text": [
      "LogisticRegression 0.864\n",
      "RandomForestClassifier 0.904\n",
      "SVC 0.896\n",
      "VotingClassifier 0.904\n"
     ]
    }
   ],
   "source": [
    "from sklearn.metrics import accuracy_score\n",
    "for clf in (log_clf, rnd_clf, svm_clf, voting_clf):\n",
    "    clf.fit(X_train, y_train)\n",
    "    y_pred = clf.predict(X_test)\n",
    "    print(clf.__class__.__name__, accuracy_score(y_test, y_pred))"
   ]
  },
  {
   "cell_type": "markdown",
   "id": "expected-spirituality",
   "metadata": {},
   "source": [
    "Si los clasificadores pueden dar la probabilidad para las clases (tienen un método `predict_proba()`) se puede predecir la clase con la mayor probabilidad, promediada sobre los clasificadores individuales. Este se llama *soft voting*.\n",
    "\n",
    "Para implementar este, hay que usar `voting='soft'` en `VotingClassifier`, y todos los clasificadores tienen que tener un método de `predict_proba()`.\n",
    "\n",
    "Por defecto SVC no tiene `predict_proba()`, pero se puede elegir la opción `True` para el hiperparámetro `probability` de ese modelo.\n",
    "\n",
    "**Ejercicio**: implementar *soft voting* en el modelo arriba."
   ]
  },
  {
   "cell_type": "markdown",
   "id": "black-guard",
   "metadata": {},
   "source": [
    "### *Bagging* y *pasting*"
   ]
  },
  {
   "cell_type": "markdown",
   "id": "distributed-computer",
   "metadata": {},
   "source": [
    "Otro método de tener un grupo de diverso de predictores es usar el mismo algoritmo para cada clasificador, pero usando distintos subconjuntos de entrenamiento.\n",
    "\n",
    "* Si reemplazamos las instancias en el conjunto total cada vez que está elegida para un subconjunto (es decir, la misma instancia puede aparecer varias veces en el subconjunto) se llama *bagging* (*bootstrap aggregating*).\n",
    "* Si **no** reemplazamos (cada instancia aparece solamente una vez en el subconjunto) se llama *pasting*.\n",
    "\n",
    "![](figures_ensamble/fig7-4.png)"
   ]
  },
  {
   "cell_type": "markdown",
   "id": "consecutive-cosmetic",
   "metadata": {},
   "source": [
    "Con todos los predictores entrenados, agregamos las predicciones para llegar a la predicción del ensamble para una nueva instancia.\n",
    "\n",
    "* Para clasificación la función de agregación es típicamente el **modo estadístico** (la predicción más frecuente).\n",
    "* Para regresión es típicamente el promedio.\n",
    "\n",
    "Ya que usamos subconjuntos de entrenamiento, el *bias* es mayor para cada predictor individual, pero la agregación reduce el *bias* y la varianza.\n",
    "\n",
    "Es muy fácil parallelizar la operación de un ensamble."
   ]
  },
  {
   "cell_type": "markdown",
   "id": "crucial-sphere",
   "metadata": {},
   "source": [
    "##### Bagging/pasting en Scikit-Learn\n",
    "\n",
    "En Scikit-Learn se puede usar *bagging/pasting* muy facilmente. El código abajo es para entrenar 500 clasificadores de árbol de decisión, con 100 instancias elegidas aleatoriamente del conjunto de entrenamiento para cada árbol.\n",
    "\n",
    "La elección de las instancias es con reemplazo (*bagging*). Se puede cambiar a *pasting* con `bootstrap=False`.\n",
    "\n",
    "También se puede usar un valor entre $0.0$ y $1.0$ para `max_samples`, y multiplicará el número total de instancias de entrenamiento por ese valor.\n",
    "\n",
    "`n_jobs` es el número de núcleos (*cores*) de CPU usado. El valor `-1` indica que queremos usar todos los *cores* disponibles."
   ]
  },
  {
   "cell_type": "code",
   "execution_count": 8,
   "id": "solar-quarterly",
   "metadata": {},
   "outputs": [],
   "source": [
    "from sklearn.ensemble import BaggingClassifier\n",
    "from sklearn.tree import DecisionTreeClassifier\n",
    "\n",
    "bag_clf = BaggingClassifier(DecisionTreeClassifier(), n_estimators=500,\n",
    "                            max_samples=100, bootstrap=True, n_jobs=-1)"
   ]
  },
  {
   "cell_type": "code",
   "execution_count": 9,
   "id": "precious-latter",
   "metadata": {},
   "outputs": [],
   "source": [
    "bag_clf.fit(X_train, y_train)\n",
    "y_pred = bag_clf.predict(X_test)"
   ]
  },
  {
   "cell_type": "markdown",
   "id": "sweet-signature",
   "metadata": {},
   "source": [
    "`BaggingClassifier` implementa *soft voting* automaticamente si el clasificador de base puede estimar probabilidades de las clases (tiene el método `predict_proba()`)."
   ]
  },
  {
   "cell_type": "markdown",
   "id": "supported-lebanon",
   "metadata": {},
   "source": [
    "| ![](figures_ensamble/fig7-5.png) |\n",
    "|----------------------------------|\n",
    "| Árbol de decisión vs. ensamble de 500 árboles. |"
   ]
  },
  {
   "cell_type": "markdown",
   "id": "auburn-hollywood",
   "metadata": {},
   "source": [
    "El ensamble tiene un *bias* similar al árbol individual, pero hay menos varianza (comete el mismo número de errores en los datos de entrenamiento, pero el límite de decisión es menos irregular)."
   ]
  },
  {
   "cell_type": "markdown",
   "id": "intelligent-economy",
   "metadata": {},
   "source": [
    "##### Evaluación *out-of-bag*\n",
    "\n",
    "Con *bagging* es posible tener la misma instancia usada varias veces en el entrenamiento de un predictor, mientras para otro no está usada ni una vez.\n",
    "\n",
    "![](figures_ensamble/fig_wiki_oob.jpg)\n",
    "\n",
    "Por defect, `BaggingClassifier` toma $m$ instancias del conjunto de entrenamiento, con reemplazo (`bootstrap=True`), donde $m$ es el tamaño del conjunto.\n",
    "\n",
    "$\\sim 63$% de las instancias están usadas, en promedio, para cada predictor. Los demás $37$% se llaman instancias *out-of-bag* (oob).\n",
    "\n",
    "Cada predictor tendrá un conjunto de instancias \"oob\" diferente.\n",
    "\n",
    "Podemos usar las instancias \"oob\" para evaluación del modelo, en vez de usar un conjunto de validación, con `oob_score=True`."
   ]
  },
  {
   "cell_type": "code",
   "execution_count": 10,
   "id": "immediate-accounting",
   "metadata": {},
   "outputs": [
    {
     "data": {
      "text/plain": [
       "BaggingClassifier(base_estimator=DecisionTreeClassifier(), n_estimators=500,\n",
       "                  n_jobs=-1, oob_score=True)"
      ]
     },
     "execution_count": 10,
     "metadata": {},
     "output_type": "execute_result"
    }
   ],
   "source": [
    "bag_clf = BaggingClassifier(DecisionTreeClassifier(), n_estimators=500,\n",
    "                            bootstrap=True, n_jobs=-1, oob_score=True)\n",
    "\n",
    "bag_clf.fit(X_train, y_train)"
   ]
  },
  {
   "cell_type": "code",
   "execution_count": 11,
   "id": "phantom-peripheral",
   "metadata": {},
   "outputs": [
    {
     "data": {
      "text/plain": [
       "0.9013333333333333"
      ]
     },
     "execution_count": 11,
     "metadata": {},
     "output_type": "execute_result"
    }
   ],
   "source": [
    "bag_clf.oob_score_"
   ]
  },
  {
   "cell_type": "markdown",
   "id": "wound-floating",
   "metadata": {},
   "source": [
    "Esperamos un *accuracy* de 90.1% en el conjunto de preuba..."
   ]
  },
  {
   "cell_type": "code",
   "execution_count": 12,
   "id": "revolutionary-relief",
   "metadata": {},
   "outputs": [
    {
     "data": {
      "text/plain": [
       "0.896"
      ]
     },
     "execution_count": 12,
     "metadata": {},
     "output_type": "execute_result"
    }
   ],
   "source": [
    "from sklearn.metrics import accuracy_score\n",
    "y_pred = bag_clf.predict(X_test)\n",
    "accuracy_score(y_test, y_pred)"
   ]
  },
  {
   "cell_type": "markdown",
   "id": "bronze-associate",
   "metadata": {},
   "source": [
    "También se puede obtener la función de decisión \"oob\" para cada instancia de entrenamiento.\n",
    "\n",
    "En este caso el clasificador de base (`DecisionTreeClassifier`) tiene un método `predict_proba()`, así que la función de decisión retorna las probabilidades de cada clase para cada instancia de entrenamiento."
   ]
  },
  {
   "cell_type": "code",
   "execution_count": 13,
   "id": "southern-cycle",
   "metadata": {},
   "outputs": [
    {
     "data": {
      "text/plain": [
       "array([[0.36082474, 0.63917526],\n",
       "       [0.35714286, 0.64285714],\n",
       "       [1.        , 0.        ],\n",
       "       [0.        , 1.        ],\n",
       "       [0.        , 1.        ],\n",
       "       [0.06936416, 0.93063584],\n",
       "       [0.33160622, 0.66839378],\n",
       "       [0.01630435, 0.98369565],\n",
       "       [0.98214286, 0.01785714],\n",
       "       [0.97938144, 0.02061856],\n",
       "       [0.76086957, 0.23913043],\n",
       "       [0.        , 1.        ],\n",
       "       [0.80729167, 0.19270833],\n",
       "       [0.83783784, 0.16216216],\n",
       "       [0.96296296, 0.03703704],\n",
       "       [0.09039548, 0.90960452],\n",
       "       [0.        , 1.        ],\n",
       "       [0.97790055, 0.02209945],\n",
       "       [0.95238095, 0.04761905],\n",
       "       [1.        , 0.        ],\n",
       "       [0.01675978, 0.98324022],\n",
       "       [0.35204082, 0.64795918],\n",
       "       [0.89617486, 0.10382514],\n",
       "       [1.        , 0.        ],\n",
       "       [0.9673913 , 0.0326087 ],\n",
       "       [0.        , 1.        ],\n",
       "       [1.        , 0.        ],\n",
       "       [1.        , 0.        ],\n",
       "       [0.        , 1.        ],\n",
       "       [0.64171123, 0.35828877],\n",
       "       [0.        , 1.        ],\n",
       "       [1.        , 0.        ],\n",
       "       [0.        , 1.        ],\n",
       "       [0.        , 1.        ],\n",
       "       [0.08609272, 0.91390728],\n",
       "       [1.        , 0.        ],\n",
       "       [0.        , 1.        ],\n",
       "       [0.36842105, 0.63157895],\n",
       "       [0.        , 1.        ],\n",
       "       [1.        , 0.        ],\n",
       "       [0.21787709, 0.78212291],\n",
       "       [0.38095238, 0.61904762],\n",
       "       [1.        , 0.        ],\n",
       "       [1.        , 0.        ],\n",
       "       [0.        , 1.        ],\n",
       "       [1.        , 0.        ],\n",
       "       [1.        , 0.        ],\n",
       "       [0.00552486, 0.99447514],\n",
       "       [1.        , 0.        ],\n",
       "       [0.        , 1.        ],\n",
       "       [0.98863636, 0.01136364],\n",
       "       [0.93401015, 0.06598985],\n",
       "       [0.94285714, 0.05714286],\n",
       "       [0.96236559, 0.03763441],\n",
       "       [0.00520833, 0.99479167],\n",
       "       [0.046875  , 0.953125  ],\n",
       "       [0.97515528, 0.02484472],\n",
       "       [0.        , 1.        ],\n",
       "       [0.        , 1.        ],\n",
       "       [0.01463415, 0.98536585],\n",
       "       [0.98360656, 0.01639344],\n",
       "       [0.78421053, 0.21578947],\n",
       "       [0.45762712, 0.54237288],\n",
       "       [1.        , 0.        ],\n",
       "       [0.        , 1.        ],\n",
       "       [0.7       , 0.3       ],\n",
       "       [1.        , 0.        ],\n",
       "       [1.        , 0.        ],\n",
       "       [0.85279188, 0.14720812],\n",
       "       [1.        , 0.        ],\n",
       "       [0.605     , 0.395     ],\n",
       "       [0.11173184, 0.88826816],\n",
       "       [0.63350785, 0.36649215],\n",
       "       [0.89847716, 0.10152284],\n",
       "       [0.        , 1.        ],\n",
       "       [0.21195652, 0.78804348],\n",
       "       [0.86857143, 0.13142857],\n",
       "       [1.        , 0.        ],\n",
       "       [0.        , 1.        ],\n",
       "       [1.        , 0.        ],\n",
       "       [0.        , 1.        ],\n",
       "       [0.06521739, 0.93478261],\n",
       "       [0.01639344, 0.98360656],\n",
       "       [0.35502959, 0.64497041],\n",
       "       [1.        , 0.        ],\n",
       "       [0.        , 1.        ],\n",
       "       [0.83425414, 0.16574586],\n",
       "       [0.        , 1.        ],\n",
       "       [0.        , 1.        ],\n",
       "       [0.        , 1.        ],\n",
       "       [0.24873096, 0.75126904],\n",
       "       [1.        , 0.        ],\n",
       "       [0.        , 1.        ],\n",
       "       [0.        , 1.        ],\n",
       "       [0.        , 1.        ],\n",
       "       [0.91326531, 0.08673469],\n",
       "       [0.79775281, 0.20224719],\n",
       "       [0.00609756, 0.99390244],\n",
       "       [1.        , 0.        ],\n",
       "       [0.23595506, 0.76404494],\n",
       "       [0.64772727, 0.35227273],\n",
       "       [0.        , 1.        ],\n",
       "       [0.02222222, 0.97777778],\n",
       "       [0.46486486, 0.53513514],\n",
       "       [1.        , 0.        ],\n",
       "       [0.02339181, 0.97660819],\n",
       "       [1.        , 0.        ],\n",
       "       [0.27419355, 0.72580645],\n",
       "       [0.45263158, 0.54736842],\n",
       "       [1.        , 0.        ],\n",
       "       [0.02688172, 0.97311828],\n",
       "       [0.98214286, 0.01785714],\n",
       "       [0.31428571, 0.68571429],\n",
       "       [0.90243902, 0.09756098],\n",
       "       [1.        , 0.        ],\n",
       "       [1.        , 0.        ],\n",
       "       [0.        , 1.        ],\n",
       "       [0.        , 1.        ],\n",
       "       [0.80102041, 0.19897959],\n",
       "       [1.        , 0.        ],\n",
       "       [0.01104972, 0.98895028],\n",
       "       [1.        , 0.        ],\n",
       "       [1.        , 0.        ],\n",
       "       [1.        , 0.        ],\n",
       "       [0.99438202, 0.00561798],\n",
       "       [1.        , 0.        ],\n",
       "       [0.        , 1.        ],\n",
       "       [0.945     , 0.055     ],\n",
       "       [1.        , 0.        ],\n",
       "       [0.01104972, 0.98895028],\n",
       "       [0.18009479, 0.81990521],\n",
       "       [0.9726776 , 0.0273224 ],\n",
       "       [0.26041667, 0.73958333],\n",
       "       [0.97790055, 0.02209945],\n",
       "       [0.        , 1.        ],\n",
       "       [0.00520833, 0.99479167],\n",
       "       [0.6631016 , 0.3368984 ],\n",
       "       [0.31550802, 0.68449198],\n",
       "       [0.40804598, 0.59195402],\n",
       "       [0.85      , 0.15      ],\n",
       "       [0.92783505, 0.07216495],\n",
       "       [0.0591716 , 0.9408284 ],\n",
       "       [0.78947368, 0.21052632],\n",
       "       [0.00540541, 0.99459459],\n",
       "       [0.        , 1.        ],\n",
       "       [0.02312139, 0.97687861],\n",
       "       [0.97368421, 0.02631579],\n",
       "       [1.        , 0.        ],\n",
       "       [1.        , 0.        ],\n",
       "       [0.01604278, 0.98395722],\n",
       "       [0.        , 1.        ],\n",
       "       [0.03045685, 0.96954315],\n",
       "       [0.        , 1.        ],\n",
       "       [1.        , 0.        ],\n",
       "       [1.        , 0.        ],\n",
       "       [0.97409326, 0.02590674],\n",
       "       [1.        , 0.        ],\n",
       "       [1.        , 0.        ],\n",
       "       [0.99481865, 0.00518135],\n",
       "       [0.        , 1.        ],\n",
       "       [0.46067416, 0.53932584],\n",
       "       [0.24338624, 0.75661376],\n",
       "       [0.00546448, 0.99453552],\n",
       "       [0.        , 1.        ],\n",
       "       [0.2972973 , 0.7027027 ],\n",
       "       [1.        , 0.        ],\n",
       "       [1.        , 0.        ],\n",
       "       [0.        , 1.        ],\n",
       "       [1.        , 0.        ],\n",
       "       [0.        , 1.        ],\n",
       "       [0.        , 1.        ],\n",
       "       [0.97790055, 0.02209945],\n",
       "       [0.        , 1.        ],\n",
       "       [0.        , 1.        ],\n",
       "       [1.        , 0.        ],\n",
       "       [0.        , 1.        ],\n",
       "       [0.63068182, 0.36931818],\n",
       "       [0.92121212, 0.07878788],\n",
       "       [0.        , 1.        ],\n",
       "       [0.995     , 0.005     ],\n",
       "       [0.9950495 , 0.0049505 ],\n",
       "       [1.        , 0.        ],\n",
       "       [0.00505051, 0.99494949],\n",
       "       [0.        , 1.        ],\n",
       "       [1.        , 0.        ],\n",
       "       [0.06857143, 0.93142857],\n",
       "       [1.        , 0.        ],\n",
       "       [0.02512563, 0.97487437],\n",
       "       [0.        , 1.        ],\n",
       "       [1.        , 0.        ],\n",
       "       [0.        , 1.        ],\n",
       "       [0.03645833, 0.96354167],\n",
       "       [1.        , 0.        ],\n",
       "       [0.93650794, 0.06349206],\n",
       "       [0.77005348, 0.22994652],\n",
       "       [0.58895706, 0.41104294],\n",
       "       [0.        , 1.        ],\n",
       "       [0.15425532, 0.84574468],\n",
       "       [1.        , 0.        ],\n",
       "       [0.94117647, 0.05882353],\n",
       "       [0.97175141, 0.02824859],\n",
       "       [1.        , 0.        ],\n",
       "       [0.        , 1.        ],\n",
       "       [0.        , 1.        ],\n",
       "       [0.40116279, 0.59883721],\n",
       "       [0.8547486 , 0.1452514 ],\n",
       "       [0.        , 1.        ],\n",
       "       [0.        , 1.        ],\n",
       "       [1.        , 0.        ],\n",
       "       [0.01630435, 0.98369565],\n",
       "       [0.        , 1.        ],\n",
       "       [0.95808383, 0.04191617],\n",
       "       [0.        , 1.        ],\n",
       "       [0.24479167, 0.75520833],\n",
       "       [0.        , 1.        ],\n",
       "       [1.        , 0.        ],\n",
       "       [0.        , 1.        ],\n",
       "       [0.        , 1.        ],\n",
       "       [0.98360656, 0.01639344],\n",
       "       [0.82417582, 0.17582418],\n",
       "       [1.        , 0.        ],\n",
       "       [0.        , 1.        ],\n",
       "       [0.06666667, 0.93333333],\n",
       "       [0.98984772, 0.01015228],\n",
       "       [0.04545455, 0.95454545],\n",
       "       [0.        , 1.        ],\n",
       "       [0.06046512, 0.93953488],\n",
       "       [1.        , 0.        ],\n",
       "       [0.70731707, 0.29268293],\n",
       "       [0.        , 1.        ],\n",
       "       [0.88359788, 0.11640212],\n",
       "       [0.99435028, 0.00564972],\n",
       "       [0.19662921, 0.80337079],\n",
       "       [0.21910112, 0.78089888],\n",
       "       [1.        , 0.        ],\n",
       "       [0.        , 1.        ],\n",
       "       [0.        , 1.        ],\n",
       "       [0.        , 1.        ],\n",
       "       [0.18539326, 0.81460674],\n",
       "       [0.97237569, 0.02762431],\n",
       "       [0.00568182, 0.99431818],\n",
       "       [1.        , 0.        ],\n",
       "       [0.99465241, 0.00534759],\n",
       "       [0.        , 1.        ],\n",
       "       [0.52331606, 0.47668394],\n",
       "       [1.        , 0.        ],\n",
       "       [0.        , 1.        ],\n",
       "       [1.        , 0.        ],\n",
       "       [0.        , 1.        ],\n",
       "       [0.        , 1.        ],\n",
       "       [0.0959596 , 0.9040404 ],\n",
       "       [0.09142857, 0.90857143],\n",
       "       [0.99404762, 0.00595238],\n",
       "       [0.03448276, 0.96551724],\n",
       "       [1.        , 0.        ],\n",
       "       [0.42857143, 0.57142857],\n",
       "       [0.06896552, 0.93103448],\n",
       "       [0.61538462, 0.38461538],\n",
       "       [0.68823529, 0.31176471],\n",
       "       [0.        , 1.        ],\n",
       "       [1.        , 0.        ],\n",
       "       [0.        , 1.        ],\n",
       "       [0.        , 1.        ],\n",
       "       [0.60215054, 0.39784946],\n",
       "       [0.        , 1.        ],\n",
       "       [1.        , 0.        ],\n",
       "       [0.24242424, 0.75757576],\n",
       "       [0.79487179, 0.20512821],\n",
       "       [0.08121827, 0.91878173],\n",
       "       [1.        , 0.        ],\n",
       "       [0.79411765, 0.20588235],\n",
       "       [0.        , 1.        ],\n",
       "       [0.        , 1.        ],\n",
       "       [0.140625  , 0.859375  ],\n",
       "       [0.03157895, 0.96842105],\n",
       "       [0.        , 1.        ],\n",
       "       [0.99408284, 0.00591716],\n",
       "       [0.88541667, 0.11458333],\n",
       "       [0.19883041, 0.80116959],\n",
       "       [0.94179894, 0.05820106],\n",
       "       [0.00595238, 0.99404762],\n",
       "       [0.58857143, 0.41142857],\n",
       "       [0.04268293, 0.95731707],\n",
       "       [0.99415205, 0.00584795],\n",
       "       [0.80310881, 0.19689119],\n",
       "       [0.        , 1.        ],\n",
       "       [0.98404255, 0.01595745],\n",
       "       [0.93604651, 0.06395349],\n",
       "       [0.        , 1.        ],\n",
       "       [0.        , 1.        ],\n",
       "       [1.        , 0.        ],\n",
       "       [0.        , 1.        ],\n",
       "       [1.        , 0.        ],\n",
       "       [0.31736527, 0.68263473],\n",
       "       [0.98974359, 0.01025641],\n",
       "       [1.        , 0.        ],\n",
       "       [0.        , 1.        ],\n",
       "       [0.        , 1.        ],\n",
       "       [0.87373737, 0.12626263],\n",
       "       [0.        , 1.        ],\n",
       "       [1.        , 0.        ],\n",
       "       [0.68817204, 0.31182796],\n",
       "       [0.94705882, 0.05294118],\n",
       "       [1.        , 0.        ],\n",
       "       [0.7382199 , 0.2617801 ],\n",
       "       [0.5027933 , 0.4972067 ],\n",
       "       [0.        , 1.        ],\n",
       "       [0.92307692, 0.07692308],\n",
       "       [0.        , 1.        ],\n",
       "       [1.        , 0.        ],\n",
       "       [0.84408602, 0.15591398],\n",
       "       [1.        , 0.        ],\n",
       "       [1.        , 0.        ],\n",
       "       [0.77948718, 0.22051282],\n",
       "       [0.1147541 , 0.8852459 ],\n",
       "       [0.49142857, 0.50857143],\n",
       "       [0.27419355, 0.72580645],\n",
       "       [0.        , 1.        ],\n",
       "       [0.87755102, 0.12244898],\n",
       "       [0.75428571, 0.24571429],\n",
       "       [0.        , 1.        ],\n",
       "       [1.        , 0.        ],\n",
       "       [1.        , 0.        ],\n",
       "       [1.        , 0.        ],\n",
       "       [0.        , 1.        ],\n",
       "       [0.02185792, 0.97814208],\n",
       "       [0.96648045, 0.03351955],\n",
       "       [0.97647059, 0.02352941],\n",
       "       [1.        , 0.        ],\n",
       "       [0.50259067, 0.49740933],\n",
       "       [1.        , 0.        ],\n",
       "       [0.        , 1.        ],\n",
       "       [0.98979592, 0.01020408],\n",
       "       [0.01734104, 0.98265896],\n",
       "       [1.        , 0.        ],\n",
       "       [1.        , 0.        ],\n",
       "       [1.        , 0.        ],\n",
       "       [0.        , 1.        ],\n",
       "       [0.98830409, 0.01169591],\n",
       "       [0.        , 1.        ],\n",
       "       [0.06632653, 0.93367347],\n",
       "       [0.        , 1.        ],\n",
       "       [0.        , 1.        ],\n",
       "       [1.        , 0.        ],\n",
       "       [1.        , 0.        ],\n",
       "       [0.        , 1.        ],\n",
       "       [0.9893617 , 0.0106383 ],\n",
       "       [0.00609756, 0.99390244],\n",
       "       [1.        , 0.        ],\n",
       "       [0.11290323, 0.88709677],\n",
       "       [0.        , 1.        ],\n",
       "       [0.01069519, 0.98930481],\n",
       "       [0.        , 1.        ],\n",
       "       [0.41538462, 0.58461538],\n",
       "       [0.09045226, 0.90954774],\n",
       "       [0.17460317, 0.82539683],\n",
       "       [1.        , 0.        ],\n",
       "       [0.97938144, 0.02061856],\n",
       "       [0.20967742, 0.79032258],\n",
       "       [0.98125   , 0.01875   ],\n",
       "       [0.        , 1.        ],\n",
       "       [0.        , 1.        ],\n",
       "       [1.        , 0.        ],\n",
       "       [0.94475138, 0.05524862],\n",
       "       [0.32768362, 0.67231638],\n",
       "       [0.97191011, 0.02808989],\n",
       "       [1.        , 0.        ],\n",
       "       [0.        , 1.        ],\n",
       "       [0.99492386, 0.00507614],\n",
       "       [0.        , 1.        ],\n",
       "       [0.01675978, 0.98324022],\n",
       "       [0.9895288 , 0.0104712 ],\n",
       "       [1.        , 0.        ],\n",
       "       [0.0212766 , 0.9787234 ],\n",
       "       [0.72625698, 0.27374302]])"
      ]
     },
     "execution_count": 13,
     "metadata": {},
     "output_type": "execute_result"
    }
   ],
   "source": [
    "bag_clf.oob_decision_function_"
   ]
  },
  {
   "cell_type": "markdown",
   "id": "surface-citation",
   "metadata": {},
   "source": [
    "##### Parches aleatorios y sub-espacios aleatorios (random patches, random subspaces)\n",
    "\n",
    "Se puede elegir los *features* usados en un `BaggingClassifier` aleatoriamente también. Hay dos hiperparámetros:\n",
    "\n",
    "* `max_features`\n",
    "* `bootstrap_features`\n",
    "\n",
    "Estos son equivalentes a `max_samples` y `bootstrap` pero para los *features* en vez de las instancias.\n",
    "\n",
    "Entonces, cada predictor está entrenado con un subconjunto aleatorio diferente de los *features*. Este es útil cuando los datos tienen muchas dimensiones.\n",
    "\n",
    "* Parches aleatorios (*random patches*) corresponde a usar *bagging* para instancias y *features*\n",
    "* Subespacios aleatorios (*random subspaces*) corresponde a usar todas las instancias de entrenamiento pero aplicar *bagging* a los *features* (`bootstrap=False`, `max_samples=1.0`, `bootstrap_features=True`, `max_features=x` donde `x < 1.0`)\n",
    "\n",
    "Usando subconjuntos de *features* tenemos aún más diversidad de predictores, así que el *bias* aumenta y la varianza disminuye."
   ]
  },
  {
   "cell_type": "markdown",
   "id": "prime-shoulder",
   "metadata": {},
   "source": [
    "### Random Forests\n",
    "\n",
    "Ya hemos usado un *random forest* (ensamble de árboles de decisión, usualmente ocupando *bagging* con `max_samples` igual al tamaño del conjunto de entrenamiento).\n",
    "\n",
    "En vez de usar `BaggingClassifier` tenemos `RandomForestClassifier` que es más optimizado (también hay `RandomForestRegressor` para regresión)."
   ]
  },
  {
   "cell_type": "code",
   "execution_count": 14,
   "id": "confirmed-party",
   "metadata": {},
   "outputs": [],
   "source": [
    "from sklearn.ensemble import RandomForestClassifier\n",
    "\n",
    "rnd_clf = RandomForestClassifier(n_estimators=500, max_leaf_nodes=16, n_jobs=-1)\n",
    "rnd_clf.fit(X_train, y_train)\n",
    "\n",
    "y_pred_rf = rnd_clf.predict(X_test)"
   ]
  },
  {
   "cell_type": "code",
   "execution_count": 15,
   "id": "specialized-empty",
   "metadata": {},
   "outputs": [
    {
     "data": {
      "text/plain": [
       "array([0, 0, 0, 1, 1, 1, 0, 0, 0, 0, 1, 0, 1, 1, 1, 0, 0, 1, 1, 0, 0, 1,\n",
       "       0, 0, 0, 0, 1, 0, 1, 0, 1, 1, 0, 0, 1, 0, 0, 1, 1, 1, 1, 1, 0, 0,\n",
       "       0, 0, 1, 0, 1, 1, 1, 1, 0, 0, 1, 0, 1, 1, 0, 1, 0, 1, 1, 0, 1, 0,\n",
       "       0, 0, 0, 1, 0, 0, 1, 1, 0, 0, 1, 1, 0, 0, 1, 1, 1, 0, 1, 1, 1, 0,\n",
       "       1, 1, 1, 0, 0, 0, 0, 1, 0, 1, 0, 1, 0, 1, 1, 0, 0, 0, 0, 0, 1, 1,\n",
       "       1, 0, 0, 1, 1, 0, 0, 0, 0, 1, 1, 1, 0, 0, 0])"
      ]
     },
     "execution_count": 15,
     "metadata": {},
     "output_type": "execute_result"
    }
   ],
   "source": [
    "y_pred_rf"
   ]
  },
  {
   "cell_type": "markdown",
   "id": "endless-print",
   "metadata": {},
   "source": [
    "En un *random forest* un nodo está dividido en cada árbol usando el mejor *feature* en un conjunto aleatorio de *features*.\n",
    "\n",
    "Así que un *random forest* tiene más aleatoriedad que un árbol de decisión individual $\\Rightarrow$ más *bias*, menos varianza."
   ]
  },
  {
   "cell_type": "markdown",
   "id": "virtual-active",
   "metadata": {},
   "source": [
    "#### Extra-Trees\n",
    "\n",
    "Se puede usar umbrales aleatorios para cada *feature* en la división de los nodos, en vez de usar el mejor umbral posible (como lo que pasa con un árbol de decisión normal).\n",
    "\n",
    "Un *random forest* así se llama un esamble de *extremely randomized trees* (*Extra-Trees*).\n",
    "\n",
    "En Scikit-Learn está disponible con `ExtraTreesClassifier`.\n",
    "\n",
    "Este modelo de nuevo aumenta el *bias* pero reduce la varianza."
   ]
  },
  {
   "cell_type": "markdown",
   "id": "consolidated-peeing",
   "metadata": {},
   "source": [
    "#### Importancia de los *features*\n",
    "\n",
    "Con un *random forest* se puede determinar la importancia relativa de cada *feature*.\n",
    "\n",
    "La importancia de un *feature* está dada por cuanto está reducido la **impureza** (en promedio, sobre todos los árboles del bosque) por nodos que utilizan ese *feature*.\n",
    "\n",
    "El promedio es un promedio ponderado, donde el peso de cada nodo es igual al número de instancias de entrenamiento asociado.\n",
    "\n",
    "Scikit-Learn calcula esta importancia automaticamente para cada *feature* después del entrenamiento, y normaliza los resultados tal que $\\sum_{i=0}^{n} I_i = 1$, donde $I_i$ es la importancia de *feature* $i$.\n",
    "\n",
    "Se puede acceder a esta información con la variable `feature_importances_`."
   ]
  },
  {
   "cell_type": "markdown",
   "id": "demanding-links",
   "metadata": {},
   "source": [
    "##### Ejemplo con los dígitos de MNIST"
   ]
  },
  {
   "cell_type": "code",
   "execution_count": 16,
   "id": "subtle-sleeping",
   "metadata": {},
   "outputs": [],
   "source": [
    "from sklearn.datasets import fetch_openml\n",
    "\n",
    "mnist = fetch_openml('mnist_784', version=1, as_frame=False)\n",
    "mnist.target = mnist.target.astype(np.uint8)"
   ]
  },
  {
   "cell_type": "code",
   "execution_count": 17,
   "id": "billion-vertical",
   "metadata": {},
   "outputs": [
    {
     "data": {
      "text/plain": [
       "RandomForestClassifier(random_state=42)"
      ]
     },
     "execution_count": 17,
     "metadata": {},
     "output_type": "execute_result"
    }
   ],
   "source": [
    "rnd_clf = RandomForestClassifier(n_estimators=100, random_state=42)\n",
    "rnd_clf.fit(mnist[\"data\"], mnist[\"target\"])"
   ]
  },
  {
   "cell_type": "code",
   "execution_count": 18,
   "id": "hourly-layout",
   "metadata": {},
   "outputs": [],
   "source": [
    "def plot_digit(data):\n",
    "    image = data.reshape(28, 28)\n",
    "    plt.imshow(image, cmap = mpl.cm.hot,\n",
    "               interpolation=\"nearest\")\n",
    "    plt.axis(\"off\")"
   ]
  },
  {
   "cell_type": "code",
   "execution_count": 19,
   "id": "intended-thesis",
   "metadata": {},
   "outputs": [
    {
     "data": {
      "text/plain": [
       "[Text(1, 0.0, 'No importante'),\n",
       " Text(1, 0.009791489757332336, 'Muy importante')]"
      ]
     },
     "execution_count": 19,
     "metadata": {},
     "output_type": "execute_result"
    },
    {
     "data": {
      "image/png": "[encoded data removed]",
      "text/plain": [
       "<Figure size 432x288 with 2 Axes>"
      ]
     },
     "metadata": {
      "needs_background": "light"
     },
     "output_type": "display_data"
    }
   ],
   "source": [
    "plot_digit(rnd_clf.feature_importances_)\n",
    "\n",
    "cbar = plt.colorbar(ticks=[rnd_clf.feature_importances_.min(), rnd_clf.feature_importances_.max()])\n",
    "cbar.ax.set_yticklabels(['No importante', 'Muy importante'])"
   ]
  },
  {
   "cell_type": "markdown",
   "id": "swiss-confirmation",
   "metadata": {},
   "source": [
    "### Boosting\n",
    "\n",
    "*Boosting* se refiere a cualquier método de ensamble que combina varios modelos débiles en un modelo fuerte.\n",
    "\n",
    "La idea general es entrenar los modelos secuencialmente, cada modelo intentando a \"corregir\" los errores del modelo anterior.\n",
    "\n",
    "Dos métodos más populares:\n",
    "* *AdaBoost* (*Adaptive Boosting*)\n",
    "* *Gradient Boosting*"
   ]
  },
  {
   "cell_type": "markdown",
   "id": "5b8da726",
   "metadata": {},
   "source": [
    "### AdaBoost\n",
    "\n",
    "Ejemplo de clasificación:\n",
    "\n",
    "1. El primer clasificador está entrenado y realiza predicciones (clasificaciones) en los datos de entrenamiento.\n",
    "2. Los pesos de las instancias mal clasificadas están aumentados.\n",
    "3. El segundo clasificador está entrenado usando los datos con los nuevos pesos, realiza predicciones.\n",
    "4. Los pesos de las instancias mal clasificadas están aumentados de nuevo, etc...\n",
    "\n",
    "![](figures_ensamble/fig7-7.png)"
   ]
  },
  {
   "cell_type": "markdown",
   "id": "cf7a9dbe",
   "metadata": {},
   "source": [
    "Como ejemplo, abajo vemos los límites de decisión de $5$ predictores consecutivos en el conjunto de *moons* (cada predictor es un clasificador de SVM con mucha regularización y un kernel de RBF).\n",
    "\n",
    "El primer clasificador comete muchos errores, los pesos de estas instancias están *boosted*, el segundo clasificador es mejor, etc...\n",
    "\n",
    "| ![](figures_ensamble/fig7-8.png) |\n",
    "|----------------------------------|\n",
    "| Dos secuencias de *AdaBoost*. En la figura a la derecha las instancias mal clasificadas tienen la mitad del peso aplicado a la izquierda. |"
   ]
  },
  {
   "cell_type": "markdown",
   "id": "c5da2de3",
   "metadata": {},
   "source": [
    "Una vez que todos los predictores estén entrenados, el ensamble realiza predicciones en una manera similar a *bagging* o *pasting*, pero los predictores tienen pesos distintos según su precisión en los datos ponderados de entrenamiento.\n",
    "\n",
    "Una desvantaja importante: no se puede paralelizar el método, ya que cada predictor requiere el resultado del predictor anterior."
   ]
  },
  {
   "cell_type": "markdown",
   "id": "ad2ac533",
   "metadata": {},
   "source": [
    "#### En mas detalles...\n",
    "\n",
    "Definimos un vector de pesos para todas las instancias de entrenamiento $w^{(i)}$.\n",
    "\n",
    "Inicializamos estos pesos a $1/m$, donde $m$ es el número de instancias.\n",
    "\n",
    "Calculamos la taza ponderada de error del $j$-esima predictor así:\n",
    "\n",
    "$$r_j = \\frac{1}{\\sum_{i=1}^m w^{(i)}} \\left( \\underset{\\hat{y}^{(i)}_j \\neq y^{(i)}}{\\sum_{i=1}^m w^{(i)}} \\right)$$\n",
    "\n",
    "donde $\\hat{y}^{(i)}_j$ es la predicción del $j$-esima predictor para la $i$-esima instancia.\n",
    "\n",
    "El peso del predictor $\\alpha_j$ está dado por:\n",
    "\n",
    "$$\\alpha_j = \\eta \\log \\frac{1-r_j}{r_j}$$\n",
    "\n",
    "donde $\\eta$ es la taza de aprendizaje (por defect igual a $1$) para el proceso de *boosting*. (Hay similitudes con descenso por gradiente...)\n",
    "\n",
    "Si los predicciones del predictor son aleatorios, $\\alpha_j \\approx 0$, si son siempre incorrectos (peor que aleatorio) $\\alpha_j < 0$.\n",
    "\n",
    "Ahora, los pesos de las instancias están actualizados:\n",
    "\n",
    "$$w^{(i)} = \\begin{cases} w^{(i)} & \\hat{y}^{(i)}_j = y^{(i)} \\\\ w^{(i)} \\exp(\\alpha_j) & \\hat{y}^{(i)}_j \\neq y^{(i)} \\end{cases}$$\n",
    "\n",
    "Después, todos los pesos de las instancias están normalizados (dividido por $\\sum_{i=1}^m w^{(i)}$).\n",
    "\n",
    "Finalmente, un nuevo predictor está entrenado con los nuevos valores de $w^{(i)}$, calculamos $\\alpha$ para el nuevo predictor, actualizamos los valores de $w^{(i)}$ y repetimos el proceso.\n",
    "\n",
    "Para realizar predicciones, *AdaBoost* calcula las predicciones de todos los predictores y aplica los pesos $\\alpha_j$. La clase predicha es la que recibe la mayoría de votos ponderados:\n",
    "\n",
    "$$\\hat{y}(\\boldsymbol{x}) = \\underset{k}{\\text{argmax}} \\underset{\\hat{y}_j(\\boldsymbol{x}) = k}{\\sum_{j=1}^N} \\alpha_j$$\n",
    "\n",
    "donde $N$ es el número de predictores."
   ]
  },
  {
   "cell_type": "markdown",
   "id": "3e73e383",
   "metadata": {},
   "source": [
    "Scikit-Learn ocupa una versión multiclase de *AdaBoost* que se llama *SAMME* (*Stagewise Additive Modeling using a Multiclass Exponential loss function*).\n",
    "\n",
    "Con dos clases, SAMME es equivalente a *AdaBoost*.\n",
    "\n",
    "Si los predictores pueden estimar probabilidades para las clases (tienen el método `predict_proba()`) Scikit-Learn puede ocupar una variante de SAMME que se llama *SAMME.R* que utiliza estas probabilidades y típicamente funciona mejor."
   ]
  },
  {
   "cell_type": "markdown",
   "id": "bf080712",
   "metadata": {},
   "source": [
    "En el ejemplo abajo usamos un tocón de decisión (*decision stump*, un árbol de decisión con `max_depth=1`: un nodo de decisión y dos nodos de hoja)."
   ]
  },
  {
   "cell_type": "code",
   "execution_count": 25,
   "id": "a182f438",
   "metadata": {},
   "outputs": [],
   "source": [
    "from matplotlib.colors import ListedColormap\n",
    "\n",
    "def plot_decision_boundary(clf, X, y, axes=[-1.5, 2.45, -1, 1.5], alpha=0.5, contour=True):\n",
    "    x1s = np.linspace(axes[0], axes[1], 100)\n",
    "    x2s = np.linspace(axes[2], axes[3], 100)\n",
    "    x1, x2 = np.meshgrid(x1s, x2s)\n",
    "    X_new = np.c_[x1.ravel(), x2.ravel()]\n",
    "    y_pred = clf.predict(X_new).reshape(x1.shape)\n",
    "    custom_cmap = ListedColormap(['#fafab0','#9898ff','#a0faa0'])\n",
    "    plt.contourf(x1, x2, y_pred, alpha=0.3, cmap=custom_cmap)\n",
    "    if contour:\n",
    "        custom_cmap2 = ListedColormap(['#7d7d58','#4c4c7f','#507d50'])\n",
    "        plt.contour(x1, x2, y_pred, cmap=custom_cmap2, alpha=0.8)\n",
    "    plt.plot(X[:, 0][y==0], X[:, 1][y==0], \"yo\", alpha=alpha)\n",
    "    plt.plot(X[:, 0][y==1], X[:, 1][y==1], \"bs\", alpha=alpha)\n",
    "    plt.axis(axes)\n",
    "    plt.xlabel(r\"$x_1$\", fontsize=18)\n",
    "    plt.ylabel(r\"$x_2$\", fontsize=18, rotation=0)"
   ]
  },
  {
   "cell_type": "code",
   "execution_count": 26,
   "id": "89ba9281",
   "metadata": {},
   "outputs": [
    {
     "data": {
      "text/plain": [
       "AdaBoostClassifier(base_estimator=DecisionTreeClassifier(max_depth=1),\n",
       "                   learning_rate=0.5, n_estimators=200)"
      ]
     },
     "execution_count": 26,
     "metadata": {},
     "output_type": "execute_result"
    }
   ],
   "source": [
    "from sklearn.ensemble import AdaBoostClassifier\n",
    "\n",
    "ada_clf = AdaBoostClassifier(DecisionTreeClassifier(max_depth=1),\n",
    "                             n_estimators=200,\n",
    "                             algorithm=\"SAMME.R\",\n",
    "                             learning_rate=0.5)\n",
    "\n",
    "ada_clf.fit(X_train, y_train)"
   ]
  },
  {
   "cell_type": "code",
   "execution_count": 27,
   "id": "6e516a01",
   "metadata": {},
   "outputs": [
    {
     "data": {
      "image/png": "[encoded data removed]",
      "text/plain": [
       "<Figure size 432x288 with 1 Axes>"
      ]
     },
     "metadata": {
      "needs_background": "light"
     },
     "output_type": "display_data"
    }
   ],
   "source": [
    "plot_decision_boundary(ada_clf, X, y)"
   ]
  },
  {
   "cell_type": "markdown",
   "id": "cb439b8c",
   "metadata": {},
   "source": [
    "### Gradient Boosting\n",
    "\n",
    "En este método la idea es ajustar el nuevo predictor a los errores residuos cometidos por el predictor anterior.\n",
    "\n",
    "Como ejemplo, consideramos regresión con árboles de decisión."
   ]
  },
  {
   "cell_type": "code",
   "execution_count": 34,
   "id": "63189c5f",
   "metadata": {},
   "outputs": [],
   "source": [
    "# Datos cuadráticos\n",
    "\n",
    "np.random.seed(42)\n",
    "X = np.random.rand(100, 1) - 0.5\n",
    "y = 3*X[:, 0]**2 + 0.05 * np.random.randn(100)"
   ]
  },
  {
   "cell_type": "code",
   "execution_count": 35,
   "id": "36388b9e",
   "metadata": {},
   "outputs": [
    {
     "data": {
      "text/plain": [
       "DecisionTreeRegressor(max_depth=2)"
      ]
     },
     "execution_count": 35,
     "metadata": {},
     "output_type": "execute_result"
    }
   ],
   "source": [
    "from sklearn.tree import DecisionTreeRegressor\n",
    "\n",
    "tree_reg1 = DecisionTreeRegressor(max_depth=2)\n",
    "tree_reg1.fit(X, y)"
   ]
  },
  {
   "cell_type": "code",
   "execution_count": 36,
   "id": "a84d25fb",
   "metadata": {},
   "outputs": [
    {
     "data": {
      "text/plain": [
       "DecisionTreeRegressor(max_depth=2)"
      ]
     },
     "execution_count": 36,
     "metadata": {},
     "output_type": "execute_result"
    }
   ],
   "source": [
    "y2 = y - tree_reg1.predict(X)\n",
    "\n",
    "tree_reg2 = DecisionTreeRegressor(max_depth=2)\n",
    "tree_reg2.fit(X, y2)"
   ]
  },
  {
   "cell_type": "code",
   "execution_count": 37,
   "id": "ccf03621",
   "metadata": {},
   "outputs": [
    {
     "data": {
      "text/plain": [
       "DecisionTreeRegressor(max_depth=2)"
      ]
     },
     "execution_count": 37,
     "metadata": {},
     "output_type": "execute_result"
    }
   ],
   "source": [
    "y3 = y2 - tree_reg2.predict(X)\n",
    "\n",
    "tree_reg3 = DecisionTreeRegressor(max_depth=2)\n",
    "tree_reg3.fit(X, y3)"
   ]
  },
  {
   "cell_type": "code",
   "execution_count": 38,
   "id": "99ff24f3",
   "metadata": {},
   "outputs": [
    {
     "name": "stderr",
     "output_type": "stream",
     "text": [
      "/tmp/ipykernel_23407/1684835290.py:2: DeprecationWarning: Calling np.sum(generator) is deprecated, and in the future will give a different result. Use np.sum(np.fromiter(generator)) or the python sum builtin instead.\n",
      "  y_pred = np.sum(tree.predict(X_new) for tree in (tree_reg1, tree_reg2, tree_reg3))\n"
     ]
    }
   ],
   "source": [
    "X_new = np.array([[0.8]])\n",
    "y_pred = np.sum(tree.predict(X_new) for tree in (tree_reg1, tree_reg2, tree_reg3))"
   ]
  },
  {
   "cell_type": "code",
   "execution_count": 39,
   "id": "fb61c331",
   "metadata": {},
   "outputs": [
    {
     "data": {
      "text/plain": [
       "array([0.75026781])"
      ]
     },
     "execution_count": 39,
     "metadata": {},
     "output_type": "execute_result"
    }
   ],
   "source": [
    "y_pred"
   ]
  },
  {
   "cell_type": "code",
   "execution_count": 40,
   "id": "7d30d5d7",
   "metadata": {},
   "outputs": [],
   "source": [
    "def plot_predictions(regressors, X, y, axes, label=None, style=\"r-\", data_style=\"b.\", data_label=None):\n",
    "    x1 = np.linspace(axes[0], axes[1], 500)\n",
    "    y_pred = sum(regressor.predict(x1.reshape(-1, 1)) for regressor in regressors)\n",
    "    plt.plot(X[:, 0], y, data_style, label=data_label)\n",
    "    plt.plot(x1, y_pred, style, linewidth=2, label=label)\n",
    "    if label or data_label:\n",
    "        plt.legend(loc=\"upper center\", fontsize=16)\n",
    "    plt.axis(axes)"
   ]
  },
  {
   "cell_type": "code",
   "execution_count": 41,
   "id": "4686ce2a",
   "metadata": {},
   "outputs": [
    {
     "name": "stderr",
     "output_type": "stream",
     "text": [
      "/tmp/ipykernel_23407/3820871828.py:3: DeprecationWarning: Calling np.sum(generator) is deprecated, and in the future will give a different result. Use np.sum(np.fromiter(generator)) or the python sum builtin instead.\n",
      "  y_pred = sum(regressor.predict(x1.reshape(-1, 1)) for regressor in regressors)\n",
      "/tmp/ipykernel_23407/3820871828.py:3: DeprecationWarning: Calling np.sum(generator) is deprecated, and in the future will give a different result. Use np.sum(np.fromiter(generator)) or the python sum builtin instead.\n",
      "  y_pred = sum(regressor.predict(x1.reshape(-1, 1)) for regressor in regressors)\n",
      "/tmp/ipykernel_23407/3820871828.py:3: DeprecationWarning: Calling np.sum(generator) is deprecated, and in the future will give a different result. Use np.sum(np.fromiter(generator)) or the python sum builtin instead.\n",
      "  y_pred = sum(regressor.predict(x1.reshape(-1, 1)) for regressor in regressors)\n",
      "/tmp/ipykernel_23407/3820871828.py:3: DeprecationWarning: Calling np.sum(generator) is deprecated, and in the future will give a different result. Use np.sum(np.fromiter(generator)) or the python sum builtin instead.\n",
      "  y_pred = sum(regressor.predict(x1.reshape(-1, 1)) for regressor in regressors)\n",
      "/tmp/ipykernel_23407/3820871828.py:3: DeprecationWarning: Calling np.sum(generator) is deprecated, and in the future will give a different result. Use np.sum(np.fromiter(generator)) or the python sum builtin instead.\n",
      "  y_pred = sum(regressor.predict(x1.reshape(-1, 1)) for regressor in regressors)\n",
      "/tmp/ipykernel_23407/3820871828.py:3: DeprecationWarning: Calling np.sum(generator) is deprecated, and in the future will give a different result. Use np.sum(np.fromiter(generator)) or the python sum builtin instead.\n",
      "  y_pred = sum(regressor.predict(x1.reshape(-1, 1)) for regressor in regressors)\n"
     ]
    },
    {
     "data": {
      "text/plain": [
       "Text(0, 0.5, '$y$')"
      ]
     },
     "execution_count": 41,
     "metadata": {},
     "output_type": "execute_result"
    },
    {
     "data": {
      "image/png": "[encoded data removed]",
      "text/plain": [
       "<Figure size 792x792 with 6 Axes>"
      ]
     },
     "metadata": {
      "needs_background": "light"
     },
     "output_type": "display_data"
    }
   ],
   "source": [
    "plt.figure(figsize=(11,11))\n",
    "\n",
    "plt.subplot(321)\n",
    "plot_predictions([tree_reg1], X, y, axes=[-0.5, 0.5, -0.1, 0.8], label=\"$h_1(x_1)$\", style=\"g-\", data_label=\"Training set\")\n",
    "plt.ylabel(\"$y$\", fontsize=16, rotation=0)\n",
    "plt.title(\"Residuals and tree predictions\", fontsize=16)\n",
    "\n",
    "plt.subplot(322)\n",
    "plot_predictions([tree_reg1], X, y, axes=[-0.5, 0.5, -0.1, 0.8], label=\"$h(x_1) = h_1(x_1)$\", data_label=\"Training set\")\n",
    "plt.ylabel(\"$y$\", fontsize=16, rotation=0)\n",
    "plt.title(\"Ensemble predictions\", fontsize=16)\n",
    "\n",
    "plt.subplot(323)\n",
    "plot_predictions([tree_reg2], X, y2, axes=[-0.5, 0.5, -0.5, 0.5], label=\"$h_2(x_1)$\", style=\"g-\", data_style=\"k+\", data_label=\"Residuals\")\n",
    "plt.ylabel(\"$y - h_1(x_1)$\", fontsize=16)\n",
    "\n",
    "plt.subplot(324)\n",
    "plot_predictions([tree_reg1, tree_reg2], X, y, axes=[-0.5, 0.5, -0.1, 0.8], label=\"$h(x_1) = h_1(x_1) + h_2(x_1)$\")\n",
    "plt.ylabel(\"$y$\", fontsize=16, rotation=0)\n",
    "\n",
    "plt.subplot(325)\n",
    "plot_predictions([tree_reg3], X, y3, axes=[-0.5, 0.5, -0.5, 0.5], label=\"$h_3(x_1)$\", style=\"g-\", data_style=\"k+\")\n",
    "plt.ylabel(\"$y - h_1(x_1) - h_2(x_1)$\", fontsize=16)\n",
    "plt.xlabel(\"$x_1$\", fontsize=16)\n",
    "\n",
    "plt.subplot(326)\n",
    "plot_predictions([tree_reg1, tree_reg2, tree_reg3], X, y, axes=[-0.5, 0.5, -0.1, 0.8], label=\"$h(x_1) = h_1(x_1) + h_2(x_1) + h_3(x_1)$\")\n",
    "plt.xlabel(\"$x_1$\", fontsize=16)\n",
    "plt.ylabel(\"$y$\", fontsize=16, rotation=0)"
   ]
  },
  {
   "cell_type": "markdown",
   "id": "a086f2d1",
   "metadata": {},
   "source": [
    "Es más fácil usar `GradientBoostingRegressor` del Scikit-Learn para implementar este tipo de *boosting*. Funciona con árboles de decisión, así tiene hiperparámetros relevantes para los árboles."
   ]
  },
  {
   "cell_type": "code",
   "execution_count": 47,
   "id": "591782ff",
   "metadata": {},
   "outputs": [
    {
     "data": {
      "text/plain": [
       "GradientBoostingRegressor(learning_rate=1.0, max_depth=2, n_estimators=3)"
      ]
     },
     "execution_count": 47,
     "metadata": {},
     "output_type": "execute_result"
    }
   ],
   "source": [
    "from sklearn.ensemble import GradientBoostingRegressor\n",
    "\n",
    "gbrt = GradientBoostingRegressor(max_depth=2, n_estimators=3, learning_rate=1.0)\n",
    "gbrt.fit(X, y)"
   ]
  },
  {
   "cell_type": "code",
   "execution_count": 48,
   "id": "b07bcd3d",
   "metadata": {},
   "outputs": [
    {
     "data": {
      "text/plain": [
       "GradientBoostingRegressor(max_depth=2, n_estimators=200, random_state=42)"
      ]
     },
     "execution_count": 48,
     "metadata": {},
     "output_type": "execute_result"
    }
   ],
   "source": [
    "gbrt_slow = GradientBoostingRegressor(max_depth=2, n_estimators=200, learning_rate=0.1, random_state=42)\n",
    "gbrt_slow.fit(X, y)"
   ]
  },
  {
   "cell_type": "code",
   "execution_count": 49,
   "id": "0844eec1",
   "metadata": {},
   "outputs": [
    {
     "name": "stderr",
     "output_type": "stream",
     "text": [
      "/tmp/ipykernel_23407/3820871828.py:3: DeprecationWarning: Calling np.sum(generator) is deprecated, and in the future will give a different result. Use np.sum(np.fromiter(generator)) or the python sum builtin instead.\n",
      "  y_pred = sum(regressor.predict(x1.reshape(-1, 1)) for regressor in regressors)\n",
      "/tmp/ipykernel_23407/3820871828.py:3: DeprecationWarning: Calling np.sum(generator) is deprecated, and in the future will give a different result. Use np.sum(np.fromiter(generator)) or the python sum builtin instead.\n",
      "  y_pred = sum(regressor.predict(x1.reshape(-1, 1)) for regressor in regressors)\n"
     ]
    },
    {
     "data": {
      "text/plain": [
       "Text(0.5, 0, '$x_1$')"
      ]
     },
     "execution_count": 49,
     "metadata": {},
     "output_type": "execute_result"
    },
    {
     "data": {
      "image/png": "[encoded data removed]",
      "text/plain": [
       "<Figure size 720x288 with 2 Axes>"
      ]
     },
     "metadata": {
      "needs_background": "light"
     },
     "output_type": "display_data"
    }
   ],
   "source": [
    "fix, axes = plt.subplots(ncols=2, figsize=(10,4), sharey=True)\n",
    "\n",
    "plt.sca(axes[0])\n",
    "plot_predictions([gbrt], X, y, axes=[-0.5, 0.5, -0.1, 0.8], label=\"Ensemble predictions\")\n",
    "plt.title(\"learning_rate={}, n_estimators={}\".format(gbrt.learning_rate, gbrt.n_estimators), fontsize=14)\n",
    "plt.xlabel(\"$x_1$\", fontsize=16)\n",
    "plt.ylabel(\"$y$\", fontsize=16, rotation=0)\n",
    "\n",
    "plt.sca(axes[1])\n",
    "plot_predictions([gbrt_slow], X, y, axes=[-0.5, 0.5, -0.1, 0.8])\n",
    "plt.title(\"learning_rate={}, n_estimators={}\".format(gbrt_slow.learning_rate, gbrt_slow.n_estimators), fontsize=14)\n",
    "plt.xlabel(\"$x_1$\", fontsize=16)"
   ]
  },
  {
   "cell_type": "markdown",
   "id": "dff8c8c9",
   "metadata": {},
   "source": [
    "La taza de aprendizaje (*learning rate*) aplica un factor a la contribución de cada árbol.\n",
    "\n",
    "Si toma un valor pequeño, necesitamos más árboles para ajustar bien a los datos, pero las predicciones suelen generalizar mejor (esta es una técnica de regularización que se llama *shrinkage*).\n",
    "\n",
    "En la figura arriba, el modelo a la izquierda no tiene suficientes árboles (*underfitting*), mientras el modelo a la derecha tiene demasiados (*overfitting*).\n",
    "\n",
    "Una forma de encontrar el número óptimo de árboles es con *early stopping*"
   ]
  },
  {
   "cell_type": "markdown",
   "id": "4595a3fc",
   "metadata": {},
   "source": [
    "El método `staged_predict()` ejecuta una iteración sobre las predicciones del ensamble en cada etapa de entrenamiento (con $1$ árbol, $2$ árboles, etc.)\n",
    "\n",
    "El código abajo entrena un ensamble de *Gradient Boosted Regression Trees* con $120$ árboles, mide el error de validación en cada etapa de entrenamiento para encontrar el número óptimo de árboles, y después entrena otro ensamble GBRT con este número de árboles."
   ]
  },
  {
   "cell_type": "code",
   "execution_count": 50,
   "id": "7d50b2a5",
   "metadata": {},
   "outputs": [
    {
     "data": {
      "text/plain": [
       "GradientBoostingRegressor(max_depth=2, n_estimators=33)"
      ]
     },
     "execution_count": 50,
     "metadata": {},
     "output_type": "execute_result"
    }
   ],
   "source": [
    "from sklearn.model_selection import train_test_split\n",
    "from sklearn.metrics import mean_squared_error\n",
    "\n",
    "X_train, X_val, y_train, y_val = train_test_split(X, y)\n",
    "\n",
    "gbrt = GradientBoostingRegressor(max_depth=2, n_estimators=120)\n",
    "gbrt.fit(X_train, y_train)\n",
    "\n",
    "errors = [mean_squared_error(y_val, y_pred)\n",
    "          for y_pred in gbrt.staged_predict(X_val)]\n",
    "\n",
    "bst_n_estimators = np.argmin(errors)\n",
    "\n",
    "gbrt_best = GradientBoostingRegressor(max_depth=2, n_estimators=bst_n_estimators)\n",
    "gbrt_best.fit(X_train, y_train)"
   ]
  },
  {
   "cell_type": "code",
   "execution_count": 51,
   "id": "d333817c",
   "metadata": {},
   "outputs": [],
   "source": [
    "min_error = np.min(errors)"
   ]
  },
  {
   "cell_type": "code",
   "execution_count": 52,
   "id": "ceed13b2",
   "metadata": {},
   "outputs": [
    {
     "name": "stderr",
     "output_type": "stream",
     "text": [
      "/tmp/ipykernel_23407/3820871828.py:3: DeprecationWarning: Calling np.sum(generator) is deprecated, and in the future will give a different result. Use np.sum(np.fromiter(generator)) or the python sum builtin instead.\n",
      "  y_pred = sum(regressor.predict(x1.reshape(-1, 1)) for regressor in regressors)\n"
     ]
    },
    {
     "data": {
      "text/plain": [
       "Text(0.5, 0, '$x_1$')"
      ]
     },
     "execution_count": 52,
     "metadata": {},
     "output_type": "execute_result"
    },
    {
     "data": {
      "image/png": "[encoded data removed]",
      "text/plain": [
       "<Figure size 720x288 with 2 Axes>"
      ]
     },
     "metadata": {
      "needs_background": "light"
     },
     "output_type": "display_data"
    }
   ],
   "source": [
    "plt.figure(figsize=(10, 4))\n",
    "\n",
    "plt.subplot(121)\n",
    "plt.plot(np.arange(1, len(errors) + 1), errors, \"b.-\")\n",
    "plt.plot([bst_n_estimators, bst_n_estimators], [0, min_error], \"k--\")\n",
    "plt.plot([0, 120], [min_error, min_error], \"k--\")\n",
    "plt.plot(bst_n_estimators, min_error, \"ko\")\n",
    "plt.text(bst_n_estimators, min_error*1.2, \"Minimum\", ha=\"center\", fontsize=14)\n",
    "plt.axis([0, 120, 0, 0.01])\n",
    "plt.xlabel(\"Number of trees\")\n",
    "plt.ylabel(\"Error\", fontsize=16)\n",
    "plt.title(\"Validation error\", fontsize=14)\n",
    "\n",
    "plt.subplot(122)\n",
    "plot_predictions([gbrt_best], X, y, axes=[-0.5, 0.5, -0.1, 0.8])\n",
    "plt.title(\"Best model (%d trees)\" % bst_n_estimators, fontsize=14)\n",
    "plt.ylabel(\"$y$\", fontsize=16, rotation=0)\n",
    "plt.xlabel(\"$x_1$\", fontsize=16)"
   ]
  },
  {
   "cell_type": "markdown",
   "id": "c273a544",
   "metadata": {},
   "source": [
    "### Stacking\n",
    "\n",
    "El último método de ensamble que veremos se llama *stacking* (*stacked generalisation*).\n",
    "\n",
    "La idea es usar un modelo para agregar las predicciones de los predictores en el ensamble (en vez de elegir algo *a priori*).\n",
    "\n",
    "![](figures_ensamble/fig7-12.png)"
   ]
  },
  {
   "cell_type": "markdown",
   "id": "cf4f4699",
   "metadata": {},
   "source": [
    "Para entrenar la \"licuadora\" (*blender*) se puede usar un conjunto de *hold-out*.\n",
    "\n",
    "Primero, el conjunto de entrenamiento está dividido en dos subconjuntos. El primero está usado para entrenar los predictors en la primera capa.\n",
    "\n",
    "![](figures_ensamble/fig7-13.png)"
   ]
  },
  {
   "cell_type": "markdown",
   "id": "03a0ffa3",
   "metadata": {},
   "source": [
    "Después, los predictores de la primera capa realizan predicciones en el conjunto $2$ (el de *hold-out*).\n",
    "\n",
    "Así aseguramos que las predicciones son \"limpias\" ya que los predictores no vieron estos datos en su entrenamiento.\n",
    "\n",
    "Ahora, para cada instancia en el conjunto de *hold-out* hay $3$ valores predichos. Creamos un nuevo conjunto de entrenamiento con estas predicciones como *features* de entrada (por lo tanto, es un conjunto tridimensional), y manteniendo los valores de *target*.\n",
    "\n",
    "La \"licuadora\" está entrenada en este nuevo conjunto para que aprenda predecir los valores de *target* usando las predicciones de la primera capa.\n",
    "\n",
    "![](figures_ensamble/fig7-14.png)"
   ]
  },
  {
   "cell_type": "markdown",
   "id": "afb562af",
   "metadata": {},
   "source": [
    "Es posible entrenar varias \"licuadoras\", y así tener una capa de \"licuadoras\".\n",
    "\n",
    "Para hacer eso, hay que dividir el conjunto de entrenamiento en $3$ subconjuntos:\n",
    "\n",
    "* El primero es para entrenar la primera capa.\n",
    "* El segundo es para crear el conjunto usado para entrenar la segunda capa (con las predicciones de la primera capa).\n",
    "* El tercero es para crear el conjunto usado para entrenar la tercera capa (con las predicciones de la segunda capa).\n",
    "\n",
    "Una vez completado el entrenamiento, una predicción para una nueva instancia se puede obtener pasando a través de cada capa secuencialmente.\n",
    "\n",
    "![](figures_ensamble/fig7-15.png)"
   ]
  },
  {
   "cell_type": "markdown",
   "id": "8042e47f",
   "metadata": {},
   "source": [
    "Scikit-Learn no tiene una implementación de *stacking*, pero no es muy difícil implementar."
   ]
  },
  {
   "cell_type": "code",
   "execution_count": null,
   "id": "64c4f467",
   "metadata": {},
   "outputs": [],
   "source": []
  }
 ],
 "metadata": {
  "@webio": {
   "lastCommId": null,
   "lastKernelId": null
  },
  "kernelspec": {
   "display_name": "Python 3 (ipykernel)",
   "language": "python",
   "name": "python3"
  },
  "language_info": {
   "codemirror_mode": {
    "name": "ipython",
    "version": 3
   },
   "file_extension": ".py",
   "mimetype": "text/x-python",
   "name": "python",
   "nbconvert_exporter": "python",
   "pygments_lexer": "ipython3",
   "version": "3.9.7"
  }
 },
 "nbformat": 4,
 "nbformat_minor": 5
}
