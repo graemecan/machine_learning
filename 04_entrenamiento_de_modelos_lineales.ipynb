{
 "cells": [
  {
   "cell_type": "markdown",
   "id": "unauthorized-benchmark",
   "metadata": {},
   "source": [
    "### Entrenamiento de los modelos lineales\n",
    "\n",
    "Ahora vamos a estudiar en más detalles el proceso de entrenamiento de un modelo.\n",
    "\n",
    "Usaremos regresión lineal para comenzar, ya que es muy simple.\n",
    "\n",
    "Después vamos a ver sobre regresión polinomial, regresión logística y regresión *softmax*"
   ]
  },
  {
   "cell_type": "markdown",
   "id": "selective-anaheim",
   "metadata": {},
   "source": [
    "#### Regresión lineal\n",
    "\n",
    "Un modelo lineal tiene la siguiente forma matemática:\n",
    "\n",
    "$$\\hat{y} = \\theta_0 + \\theta_1x_1 + \\theta_2x_2 + \\cdots + \\theta_nx_n$$\n",
    "\n",
    "* $\\hat{y}$ es el valor predicho por el modelo\n",
    "* $n$ es el número de *features*\n",
    "* $x_i$ es el valor del $i$-esima *feature*\n",
    "* $\\theta_j$ es el $j$-esima parámetro del modelo"
   ]
  },
  {
   "cell_type": "markdown",
   "id": "powerful-allocation",
   "metadata": {},
   "source": [
    "En forma vectorial:\n",
    "\n",
    "$$\\hat{y} = h_{\\boldsymbol{\\theta}} = \\boldsymbol{\\theta} \\cdot \\boldsymbol{x}$$\n",
    "\n",
    "* $\\boldsymbol{\\theta}$: vector de parámetros.\n",
    "* $\\boldsymbol{x}$: vector de *features* para una instancia, donde $x_0 = 1$ siempre.\n",
    "* $h_{\\mathbf{\\theta}}$"
   ]
  },
  {
   "cell_type": "markdown",
   "id": "attempted-broadcasting",
   "metadata": {},
   "source": [
    "¿Cómo se puede entrenar el modelo?\n",
    "\n",
    "Tenemos que encontrar el valor de $\\boldsymbol{\\theta}$ que corresponde al mejor ajuste del modelo a los datos.\n",
    "\n",
    "¿Cómo sabemos cuál es el mejor ajuste?\n",
    "\n",
    "Ocupamos una medición de lo bueno (o malo) que es el modelo. En el caso de regresión, es muy común usar el **raiz del error cuadrático medio** (RMSE).\n",
    "\n",
    "Entonces, entrenamiento del modelo corresponde a encontrar el valor de $\\boldsymbol{\\theta}$ que minimiza el RMSE (de hecho, es más fácil minimizar el error cuadrático medio)."
   ]
  },
  {
   "cell_type": "markdown",
   "id": "liberal-healing",
   "metadata": {},
   "source": [
    "MSE función de costo para un modelo de regresión lineal:\n",
    "\n",
    "$$\\text{MSE}(\\boldsymbol{X},h_{\\boldsymbol{\\theta}}) = \\frac{1}{m} \\sum_{i=1}^m \\left( \\boldsymbol{\\theta}^T \\boldsymbol{x}^{(i)} - y^{(i)} \\right)^2$$\n",
    "\n",
    "El conjunto de entrenamiento está indicado con $\\boldsymbol{X}$, y $m$ es el número de instancias en este conjunto."
   ]
  },
  {
   "cell_type": "markdown",
   "id": "forbidden-substitute",
   "metadata": {},
   "source": [
    "#### La ecuación normal\n",
    "\n",
    "Hay una solución analítica a este problema de optimización.\n",
    "\n",
    "$$\\hat{\\boldsymbol{\\theta}} = \\left( \\boldsymbol{X}^T \\boldsymbol{X} \\right)^{-1} \\boldsymbol{X}^T \\boldsymbol{y}$$\n",
    "\n",
    "* $\\hat{\\boldsymbol{\\theta}}$ es el valor de $\\boldsymbol{\\theta}$\n",
    "* $\\boldsymbol{y} = (y^{(1)},\\ldots,y^{(m)})$ es el vector de valores de *target* (*ground truth*)"
   ]
  },
  {
   "cell_type": "code",
   "execution_count": 1,
   "id": "annual-active",
   "metadata": {},
   "outputs": [
    {
     "name": "stdout",
     "output_type": "stream",
     "text": [
      "Populating the interactive namespace from numpy and matplotlib\n"
     ]
    }
   ],
   "source": [
    "%pylab inline"
   ]
  },
  {
   "cell_type": "code",
   "execution_count": 2,
   "id": "generous-confidentiality",
   "metadata": {},
   "outputs": [],
   "source": [
    "X = 2 * random.rand(100, 1)\n",
    "y = 4 + 3 * X + random.randn(100, 1)"
   ]
  },
  {
   "cell_type": "code",
   "execution_count": 3,
   "id": "flexible-marijuana",
   "metadata": {},
   "outputs": [
    {
     "data": {
      "text/plain": [
       "Text(0, 0.5, '$y$')"
      ]
     },
     "execution_count": 3,
     "metadata": {},
     "output_type": "execute_result"
    },
    {
     "data": {
      "image/png": "[encoded data removed]",
      "text/plain": [
       "<Figure size 432x288 with 1 Axes>"
      ]
     },
     "metadata": {
      "needs_background": "light"
     },
     "output_type": "display_data"
    }
   ],
   "source": [
    "plot(X,y,'bo')\n",
    "xlabel(\"$x_1$\")\n",
    "ylabel(\"$y$\")"
   ]
  },
  {
   "cell_type": "markdown",
   "id": "intimate-scientist",
   "metadata": {},
   "source": [
    "Ahora podemos calcular la solución a la ecuación normal, usando la función `inv()` del módulo de algebra lineal de NumPy (`np.linalg`)."
   ]
  },
  {
   "cell_type": "code",
   "execution_count": 4,
   "id": "instant-detection",
   "metadata": {},
   "outputs": [],
   "source": [
    "X_b = c_[ones((100, 1)), X] # agregar x0 = 1 a cada instancia.\n",
    "theta_ajuste = inv(X_b.T.dot(X_b)).dot(X_b.T).dot(y)"
   ]
  },
  {
   "cell_type": "markdown",
   "id": "rolled-twelve",
   "metadata": {},
   "source": [
    "La función que genera los datos es $y = 4 + 3x_1 + \\text{ruido}$. El resultado del ajuste con regresión lineal es:"
   ]
  },
  {
   "cell_type": "code",
   "execution_count": 5,
   "id": "effective-smell",
   "metadata": {},
   "outputs": [
    {
     "data": {
      "text/plain": [
       "array([[3.77851012],\n",
       "       [3.30622909]])"
      ]
     },
     "execution_count": 5,
     "metadata": {},
     "output_type": "execute_result"
    }
   ],
   "source": [
    "theta_ajuste"
   ]
  },
  {
   "cell_type": "markdown",
   "id": "grand-avatar",
   "metadata": {},
   "source": [
    "Los parámetros exactos son $\\theta_0 = 4$, $\\theta_1 = 3$. Es imposible recuperar los parámetros por el ruido aleatorio agregado a los datos.\n",
    "\n",
    "Ahora podemos predecir nuevos valores usando $\\boldsymbol{\\theta}$."
   ]
  },
  {
   "cell_type": "code",
   "execution_count": 6,
   "id": "raised-microphone",
   "metadata": {},
   "outputs": [
    {
     "data": {
      "text/plain": [
       "array([[ 3.77851012],\n",
       "       [10.39096829]])"
      ]
     },
     "execution_count": 6,
     "metadata": {},
     "output_type": "execute_result"
    }
   ],
   "source": [
    "X_nuevo = array([[0], [2]])\n",
    "X_nuevo_b = c_[ones((2, 1)), X_nuevo] # agregar x0 = 1 a cada instancia.\n",
    "y_prediccion = X_nuevo_b.dot(theta_ajuste)\n",
    "y_prediccion"
   ]
  },
  {
   "cell_type": "code",
   "execution_count": 7,
   "id": "gross-devices",
   "metadata": {},
   "outputs": [
    {
     "data": {
      "text/plain": [
       "Text(0, 0.5, '$y$')"
      ]
     },
     "execution_count": 7,
     "metadata": {},
     "output_type": "execute_result"
    },
    {
     "data": {
      "image/png": "[encoded data removed]",
      "text/plain": [
       "<Figure size 432x288 with 1 Axes>"
      ]
     },
     "metadata": {
      "needs_background": "light"
     },
     "output_type": "display_data"
    }
   ],
   "source": [
    "axis([0,2,0,15])\n",
    "plot(X_nuevo, y_prediccion, \"r-\")\n",
    "plot(X, y, \"b.\")\n",
    "xlabel(\"$x_1$\")\n",
    "ylabel(\"$y$\")"
   ]
  },
  {
   "cell_type": "markdown",
   "id": "coated-plant",
   "metadata": {},
   "source": [
    "Ahora podemos aplicar el modelo de regresión lineal con `scikit-learn`"
   ]
  },
  {
   "cell_type": "code",
   "execution_count": 8,
   "id": "passing-wrong",
   "metadata": {},
   "outputs": [
    {
     "data": {
      "text/plain": [
       "(array([3.77851012]), array([[3.30622909]]))"
      ]
     },
     "execution_count": 8,
     "metadata": {},
     "output_type": "execute_result"
    }
   ],
   "source": [
    "from sklearn.linear_model import LinearRegression\n",
    "lin_reg = LinearRegression()\n",
    "lin_reg.fit(X, y)\n",
    "lin_reg.intercept_, lin_reg.coef_"
   ]
  },
  {
   "cell_type": "code",
   "execution_count": 9,
   "id": "adopted-morocco",
   "metadata": {},
   "outputs": [
    {
     "data": {
      "text/plain": [
       "array([[ 3.77851012],\n",
       "       [10.39096829]])"
      ]
     },
     "execution_count": 9,
     "metadata": {},
     "output_type": "execute_result"
    }
   ],
   "source": [
    "lin_reg.predict(X_nuevo)"
   ]
  },
  {
   "cell_type": "markdown",
   "id": "extreme-complaint",
   "metadata": {},
   "source": [
    "La clase de `LinearRegression` está basada en `scipy.linalg.lstsq()`."
   ]
  },
  {
   "cell_type": "code",
   "execution_count": 10,
   "id": "possible-music",
   "metadata": {},
   "outputs": [
    {
     "data": {
      "text/plain": [
       "array([[3.77851012],\n",
       "       [3.30622909]])"
      ]
     },
     "execution_count": 10,
     "metadata": {},
     "output_type": "execute_result"
    }
   ],
   "source": [
    "theta_ajuste_svd, residuos, rank, s = linalg.lstsq(X_b, y, rcond=1e-6)\n",
    "theta_ajuste_svd"
   ]
  },
  {
   "cell_type": "markdown",
   "id": "atomic-stability",
   "metadata": {},
   "source": [
    "Esta función calcula $\\hat{\\boldsymbol{\\theta}} = \\boldsymbol{X}^+ \\boldsymbol{y}$ donde $\\boldsymbol{X}^+$ es la **pseudoinversa** de la matriz $\\boldsymbol{X}$ (se llama la inversa de Moore-Penrose).\n",
    "\n",
    "Se puede calcular esta inversa directamente con `linalg.pinv()`:"
   ]
  },
  {
   "cell_type": "code",
   "execution_count": 11,
   "id": "aboriginal-mounting",
   "metadata": {},
   "outputs": [
    {
     "data": {
      "text/plain": [
       "array([[3.77851012],\n",
       "       [3.30622909]])"
      ]
     },
     "execution_count": 11,
     "metadata": {},
     "output_type": "execute_result"
    }
   ],
   "source": [
    "linalg.pinv(X_b).dot(y)"
   ]
  },
  {
   "cell_type": "markdown",
   "id": "julian-junction",
   "metadata": {},
   "source": [
    "La pseudoinversa se calcula con el método de *Singular Value Decomposition* (SVD) que descompona una matriz $\\boldsymbol{X}$ en tres matrices:\n",
    "\n",
    "$$\\boldsymbol{X} = \\boldsymbol{U} \\cdot \\boldsymbol{\\Sigma} \\cdot \\boldsymbol{V}^T$$\n",
    "\n",
    "La pseudoinversa es:\n",
    "\n",
    "$$\\boldsymbol{X}^+ = \\boldsymbol{V} \\cdot \\boldsymbol{\\Sigma}^+ \\cdot \\boldsymbol{U}^T$$\n",
    "\n",
    "Para construir $\\boldsymbol{\\Sigma}^+$:\n",
    "\n",
    "1. Si $\\boldsymbol{\\Sigma}_{ij} < \\epsilon$, entonces $\\boldsymbol{\\Sigma}'_{ij} = 0$ (donde $\\epsilon$ es un número muy pequeño).\n",
    "2. Para cada elemento donde $\\boldsymbol{\\Sigma}_{ij} \\neq 0$ escribimos $\\boldsymbol{\\Sigma}'_{ij} = 1/\\boldsymbol{\\Sigma}_{ij}$.\n",
    "3. $\\boldsymbol{\\Sigma}^+ = \\boldsymbol{\\Sigma}'^T$\n",
    "\n",
    "Este método es mucho más eficiente que el calculo de la ecuación normal.\n",
    "\n",
    "Además la pseudoinversa siempre está definida, así que funciona cuando no se puede invertir $\\boldsymbol{X}^T \\boldsymbol{X}$, o si $m < n$ ($n$ es el número de *features* y $m$ es el número de instancias)."
   ]
  },
  {
   "cell_type": "markdown",
   "id": "timely-victorian",
   "metadata": {},
   "source": [
    "##### Complejidad computacional\n",
    "\n",
    "Calcular la inversa de $\\boldsymbol{X}^T \\boldsymbol{X}$ (una matriz de $(n+1)\\times(n+1)$ elementos) tiene complejidad entre $\\mathcal{O}(n^{2.4})$ y $\\mathcal{O}(n^3)$ (depende de la implementación).\n",
    "\n",
    "En el caso de SVD la complejidad es mejor: $\\mathcal{O}(n^2)$.\n",
    "\n",
    "Ambos métodos son muy lentos en el caso de datos con muchos *features*.\n",
    "\n",
    "Son de complejidad lineal el número de instancias: $\\mathcal{O}(m)$. Así que manejan bien conjuntos de datos grandes.\n",
    "\n",
    "Predicción con el modelo es lineal en el número de instancias nuevas y *features*."
   ]
  },
  {
   "cell_type": "markdown",
   "id": "nervous-investment",
   "metadata": {},
   "source": [
    "#### Descenso por gradiente (*gradient descent*)\n",
    "\n",
    "En el caso de tener muchos *features* o datos que no caben en la memoria, es mejor usar otro método.\n",
    "\n",
    "Vamos a estudiar en más detalles el método de **descenso por gradiente**, un método muy genérico para problemas de optimización."
   ]
  },
  {
   "cell_type": "markdown",
   "id": "potential-atmosphere",
   "metadata": {},
   "source": [
    "![](figures_entrenamiento/fig4-3.png)"
   ]
  },
  {
   "cell_type": "markdown",
   "id": "median-percentage",
   "metadata": {},
   "source": [
    "El tamaño de los saltos depende de un hiperparámetro que se llama *learning rate*.\n",
    "\n",
    "Si el valor de este parámetro es demasiado pequeño el algoritmo demora mucho tiempo en encontrar el mínimo:"
   ]
  },
  {
   "cell_type": "markdown",
   "id": "optical-school",
   "metadata": {},
   "source": [
    "![](figures_entrenamiento/fig4-4.png)"
   ]
  },
  {
   "cell_type": "markdown",
   "id": "religious-internship",
   "metadata": {},
   "source": [
    "Si el valor es muy grande el algoritmo puede saltar y incluso divergir del mínimo:\n",
    "\n",
    "![](figures_entrenamiento/fig4-5.png)"
   ]
  },
  {
   "cell_type": "markdown",
   "id": "spatial-gnome",
   "metadata": {},
   "source": [
    "La forma de la función de costo puede ser muy complicada, con varios mínimos locales y regiones muy planas.\n",
    "\n",
    "Si el algoritmo encuentra un mínimo local, terminará allí, sin encontrar el mínimo global de la función.\n",
    "\n",
    "En una región plana los movimientos serán muy pequeños y de nuevo demorará much tiempo en encontrar un mínimo."
   ]
  },
  {
   "cell_type": "markdown",
   "id": "dynamic-impression",
   "metadata": {},
   "source": [
    "![](figures_entrenamiento/fig4-6.png)"
   ]
  },
  {
   "cell_type": "markdown",
   "id": "immune-lobby",
   "metadata": {},
   "source": [
    "Afortunadamente en el caso de regresión lineal la función de costo MSE es una función **convexa**, así que no existen mínimos locales, solo un mínimo global.\n",
    "\n",
    "Además, es una función **lipschitziana** (los valores de la función no cambian drasticamente de un punto a otro)."
   ]
  },
  {
   "cell_type": "markdown",
   "id": "parliamentary-chart",
   "metadata": {},
   "source": [
    "Si los *features* de las instancias tienen escalas muy distintas, la función de costo tendrá una forma elongada:\n",
    "\n",
    "![](figures_entrenamiento/fig4-7.png)\n",
    "\n",
    "En el caso a la izquierda el algoritmo encontrará el mínimo más rápido.\n",
    "\n",
    "En el caso a la derecha los puntos se mueven a lo largo de un \"valle\" bastante plano, así que toma más tiempo.\n",
    "\n",
    "Por lo tanto, es buena idea asegurar que los *features* tienen escalas similares (por uso de una transformación, e.g. `StandardScaler`)"
   ]
  },
  {
   "cell_type": "markdown",
   "id": "pretty-swiss",
   "metadata": {},
   "source": [
    "#### Descenso de gradiente por lote (*batch gradient descent*)\n",
    "\n",
    "Necesitamos encontrar el mínimo de la función de costo. \n",
    "\n",
    "Esta función depende de los parámetros del modelo. En el caso de regresión lineal tenemos los $\\theta_j$, donde $j = 0 \\ldots n$ y $n$ es el número de *features*.\n",
    "\n",
    "Este es un problema clásico de **optimización**.\n",
    "\n",
    "Para resolver el problema podemos utilizar las derivadas parciales de la función de costo con respecto a los parámetros $\\theta_j$:"
   ]
  },
  {
   "cell_type": "markdown",
   "id": "renewable-european",
   "metadata": {},
   "source": [
    "$$\\frac{\\partial}{\\partial \\theta_j} \\text{MSE}(\\boldsymbol{\\theta}) = \\frac{2}{m} \\sum_{i=1}^m \\left( \\boldsymbol{\\theta}^T \\boldsymbol{x}^{(i)} - y^{(i)} \\right) x_j^{(i)}$$"
   ]
  },
  {
   "cell_type": "markdown",
   "id": "continent-definition",
   "metadata": {},
   "source": [
    "Este operador es el gradiente de la función en la dirección $\\theta_j$. Podemos escribir todas las derivadas usando el operador $\\nabla$ del cálculo vectorial:"
   ]
  },
  {
   "cell_type": "markdown",
   "id": "lightweight-macedonia",
   "metadata": {},
   "source": [
    "$$\\nabla_{\\boldsymbol{\\theta}} \\text{MSE}(\\boldsymbol{\\theta}) = \\begin{pmatrix} \\frac{\\partial}{\\partial \\theta_0} \\text{MSE}(\\boldsymbol{\\theta}) \\\\ \\frac{\\partial}{\\partial \\theta_1} \\text{MSE}(\\boldsymbol{\\theta}) \\\\ \\vdots \\\\ \\frac{\\partial}{\\partial \\theta_n} \\text{MSE}(\\boldsymbol{\\theta}) \\end{pmatrix} = \\frac{2}{m} \\boldsymbol{X}^T(\\boldsymbol{X}\\boldsymbol{\\theta} - \\boldsymbol{y})$$"
   ]
  },
  {
   "cell_type": "markdown",
   "id": "tender-bennett",
   "metadata": {},
   "source": [
    "Aquí estamos calculando los gradientes con **todos** los datos de entrenamiento. Por eso se llama *batch gradient descent* (un nombre mejor: *full gradient descent*).\n",
    "\n",
    "Si hay muchos datos de entrenamiento, el algoritmo será muy lento.\n",
    "\n",
    "Pero es más eficiente que el cálculo de la ecuación normal (o descomposición de SVD) en el caso de tener muchos *features* (un espacio de parámetros de muchas dimensiones)."
   ]
  },
  {
   "cell_type": "markdown",
   "id": "hybrid-promotion",
   "metadata": {},
   "source": [
    "El gradiente de una función nos da la dirección donde la función **aumenta** más rápidamente.\n",
    "\n",
    "Así que, para encontrar el mínimo, vamos en la dirección opuesta.\n",
    "\n",
    "Por lo tanto, se puede actualizar los parámetros con:\n",
    "\n",
    "$$\\boldsymbol{\\theta}^{(t+1)} = \\boldsymbol{\\theta}^t - \\eta \\nabla_{\\boldsymbol{\\theta}} \\text{MSE}(\\boldsymbol{\\theta}^t)$$\n",
    "\n",
    "donde $\\eta$ es la taza de aprendizaje (*learning rate*)."
   ]
  },
  {
   "cell_type": "code",
   "execution_count": 12,
   "id": "serious-corporation",
   "metadata": {},
   "outputs": [],
   "source": [
    "eta = 0.1 #taza de aprendizaje\n",
    "n_iteraciones = 1000\n",
    "m = 100"
   ]
  },
  {
   "cell_type": "code",
   "execution_count": 13,
   "id": "universal-biography",
   "metadata": {},
   "outputs": [],
   "source": [
    "theta = random.randn(2,1)"
   ]
  },
  {
   "cell_type": "code",
   "execution_count": 14,
   "id": "typical-banana",
   "metadata": {},
   "outputs": [],
   "source": [
    "for iteracion in range(n_iteraciones):\n",
    "    gradientes = 2/m * X_b.T.dot(X_b.dot(theta) - y)\n",
    "    theta = theta - eta * gradientes"
   ]
  },
  {
   "cell_type": "code",
   "execution_count": 15,
   "id": "dramatic-wayne",
   "metadata": {},
   "outputs": [
    {
     "data": {
      "text/plain": [
       "array([[3.77851012],\n",
       "       [3.30622909]])"
      ]
     },
     "execution_count": 15,
     "metadata": {},
     "output_type": "execute_result"
    }
   ],
   "source": [
    "theta"
   ]
  },
  {
   "cell_type": "markdown",
   "id": "color-threat",
   "metadata": {},
   "source": [
    "Este resultado es igual a lo que vimos con la ecuación normal."
   ]
  },
  {
   "cell_type": "code",
   "execution_count": 16,
   "id": "committed-pendant",
   "metadata": {},
   "outputs": [
    {
     "data": {
      "image/png": "[encoded data removed]",
      "text/plain": [
       "<Figure size 432x288 with 1 Axes>"
      ]
     },
     "metadata": {
      "needs_background": "light"
     },
     "output_type": "display_data"
    }
   ],
   "source": [
    "axis([0,2,0,15])\n",
    "plot(X, y, \"b.\")\n",
    "xlabel(\"$x_1$\")\n",
    "ylabel(\"$y$\")\n",
    "\n",
    "theta = random.randn(2,1)\n",
    "\n",
    "n_iteraciones = 10\n",
    "eta = 0.5\n",
    "\n",
    "for iteracion in range(n_iteraciones):\n",
    "    gradientes = 2/m * X_b.T.dot(X_b.dot(theta) - y)\n",
    "    theta = theta - eta * gradientes\n",
    "    \n",
    "    plot(X, theta[0]*X + theta[1], 'r-')"
   ]
  },
  {
   "cell_type": "markdown",
   "id": "frequent-framework",
   "metadata": {},
   "source": [
    "##### Búsqueda de grilla (*grid search*)\n",
    "\n",
    "En `scikit-learn` se puede usar una función `GridSearchCV` para buscar los \"mejores\" valores de los hiperparámetros (por ejemplo, el *learning rate*) por el método de *cross-validation*.\n",
    "\n",
    "Hay que dar los rangos de parámetros que quieres considerar (la grilla en el espacio de parámetros)."
   ]
  },
  {
   "cell_type": "markdown",
   "id": "closing-hazard",
   "metadata": {},
   "source": [
    "##### El número de iteraciones\n",
    "\n",
    "Una opción para controlar el número de iteraciones es tener muchas iteraciones pero parar el algoritmo cuando los gradientes son muy pequeños.\n",
    "\n",
    "La condición sería tener $|\\nabla_{\\boldsymbol{\\theta}}| < \\epsilon$ donde $\\epsilon$ se llama la tolerancia."
   ]
  },
  {
   "cell_type": "markdown",
   "id": "catholic-grove",
   "metadata": {},
   "source": [
    "#### Descenso por gradiente estocástico (*stochastic gradient descent*)\n",
    "\n",
    "En el método de *batch gradient descent* usamos todos los datos de entrenamiento.\n",
    "\n",
    "El método de *stochastic gradient descent* ocupa solamente una instancia aleatoria del conjunto de datos en cada iteración.\n",
    "\n",
    "Así es un algoritmo más rápido y permite el uso de conjuntos de datos masivos."
   ]
  },
  {
   "cell_type": "markdown",
   "id": "acting-regular",
   "metadata": {},
   "source": [
    "![](figures_entrenamiento/fig4-9.png)"
   ]
  },
  {
   "cell_type": "markdown",
   "id": "invisible-nylon",
   "metadata": {},
   "source": [
    "El hecho de que el algoritmo \"salta\" de un punto a otro significa que puede salir de un mínimo local, pero nunca encuentra el mínimo exacto, sino que un valor cercano.\n",
    "\n",
    "Se puede aliviar este problema por una reducción gradual en la taza de aprendizaje, durante el proceso (similar al [algoritmo de recocido simulado](https://es.wikipedia.org/wiki/Algoritmo_de_recocido_simulado), *simulated annealing*).\n",
    "\n",
    "La función que determina el valor de la taza de aprendizaje se llama el *learning schedule*."
   ]
  },
  {
   "cell_type": "code",
   "execution_count": 17,
   "id": "round-watson",
   "metadata": {},
   "outputs": [
    {
     "data": {
      "image/png": "[encoded data removed]",
      "text/plain": [
       "<Figure size 432x288 with 1 Axes>"
      ]
     },
     "metadata": {
      "needs_background": "light"
     },
     "output_type": "display_data"
    }
   ],
   "source": [
    "axis([0,2,0,15])\n",
    "plot(X, y, \"b.\")\n",
    "xlabel(\"$x_1$\")\n",
    "ylabel(\"$y$\")\n",
    "\n",
    "n_epocas = 50\n",
    "t0, t1 = 5, 50 #parámetros del learning schedule\n",
    "\n",
    "def learning_schedule(t):\n",
    "    return t0 / (t + t1)\n",
    "\n",
    "theta = random.randn(2, 1)\n",
    "\n",
    "for epoca in range(n_epocas):\n",
    "    for i in range(m):\n",
    "        indice_aleatorio = random.randint(m)\n",
    "        xi = X_b[indice_aleatorio:indice_aleatorio+1]\n",
    "        yi = y[indice_aleatorio:indice_aleatorio+1]\n",
    "        gradientes = 2 * xi.T.dot(xi.dot(theta) - yi)\n",
    "        eta = learning_schedule(epoca * m + i)\n",
    "        theta = theta - eta * gradientes\n",
    "        \n",
    "        plot(X, theta[0]*X + theta[1], 'r-')"
   ]
  },
  {
   "cell_type": "code",
   "execution_count": 18,
   "id": "homeless-rental",
   "metadata": {},
   "outputs": [
    {
     "data": {
      "text/plain": [
       "array([[3.72713896],\n",
       "       [3.38412544]])"
      ]
     },
     "execution_count": 18,
     "metadata": {},
     "output_type": "execute_result"
    }
   ],
   "source": [
    "theta"
   ]
  },
  {
   "cell_type": "markdown",
   "id": "sharing-playback",
   "metadata": {},
   "source": [
    "Para aplicar *stochastic gradient descent* las instancias de entrenamiento tienen que ser **independientes** y **distribuidas identicamente**.\n",
    "\n",
    "Por esta razón a veces es importante barajar los datos. Por ejemplo, con datos ordenados por etiqueta tendríamos problemas en llegar al mínimo global."
   ]
  },
  {
   "cell_type": "markdown",
   "id": "colonial-reminder",
   "metadata": {},
   "source": [
    "Ahora aplicamos regresión lineal con *stoachstic gradient descent* usando `SGDRegressor`.\n",
    "\n",
    "En este caso estamos optimizando la función de costo de error cuadrado.\n",
    "\n",
    "Dos condiciones para terminar el entrenamiento:\n",
    "\n",
    "1. Después de 1000 épocas. `(max_iter=1000)`\n",
    "2. La función de costo reduce por menos que $1 \\times 10^{-3}$ en una época. `(tol=1e-3)`\n",
    "\n",
    "Comenzamos con una taza de aprendizaje de $0.1$ `(eta=0.1)` y el *learning schedule* que viene por defecto (distinto a lo que usamos antes).\n",
    "\n",
    "No usamos regularización: `(penalty=None)`"
   ]
  },
  {
   "cell_type": "code",
   "execution_count": 19,
   "id": "decimal-philippines",
   "metadata": {},
   "outputs": [
    {
     "data": {
      "text/plain": [
       "SGDRegressor(eta0=0.1, penalty=None)"
      ]
     },
     "execution_count": 19,
     "metadata": {},
     "output_type": "execute_result"
    }
   ],
   "source": [
    "from sklearn.linear_model import SGDRegressor\n",
    "sgd_reg = SGDRegressor(max_iter=1000, tol=1e-3, penalty=None, eta0=0.1)\n",
    "sgd_reg.fit(X, y.ravel())"
   ]
  },
  {
   "cell_type": "code",
   "execution_count": 20,
   "id": "blessed-flesh",
   "metadata": {},
   "outputs": [
    {
     "data": {
      "text/plain": [
       "(array([3.79205127]), array([3.34496133]))"
      ]
     },
     "execution_count": 20,
     "metadata": {},
     "output_type": "execute_result"
    }
   ],
   "source": [
    "sgd_reg.intercept_, sgd_reg.coef_"
   ]
  },
  {
   "cell_type": "markdown",
   "id": "extreme-stanley",
   "metadata": {},
   "source": [
    "#### Mini-batch gradient descent\n",
    "\n",
    "* *Batch gradient descent*: usamos todos los datos de entrenamiento\n",
    "* *Stochastic gradient descent*: usamos los datos uno por uno\n",
    "\n",
    "Ahora veremos *mini-batch*: usamos conjuntos pequeños aleatorios de los datos.\n",
    "\n",
    "Cada conjunto se llama un *mini-batch*.\n",
    "\n",
    "Una ventaja importante es que las operaciones aritméticas ahora involcran matrices, y los GPUs calculan operaciones matriciales muy rapidamente."
   ]
  },
  {
   "cell_type": "markdown",
   "id": "interesting-mason",
   "metadata": {},
   "source": [
    "*Mini-batch* es menos errático que *stochastic*: debería llegar más cerca al mínimo global.\n",
    "\n",
    "Pero, hay más probabilidad de estar atascado en un mínimo local."
   ]
  },
  {
   "cell_type": "markdown",
   "id": "middle-revolution",
   "metadata": {},
   "source": [
    "![](figures_entrenamiento/fig4-11.png)"
   ]
  },
  {
   "cell_type": "markdown",
   "id": "outdoor-circular",
   "metadata": {},
   "source": [
    "![](figures_entrenamiento/fig4-12.png)"
   ]
  },
  {
   "cell_type": "markdown",
   "id": "alert-circuit",
   "metadata": {},
   "source": [
    "### Regresión polinomial\n",
    "\n",
    "¿Qué hacemos con datos no-lineales? Muchas veces es posible usar un modelo lineal para datos no-lineales.\n",
    "\n",
    "Una opción es usar potencias de los *features* como *features* nuevos y entrenar un modelo lineal en estos nuevos *features*\n",
    "\n",
    "Este proceso se llama **regresión polinomial**."
   ]
  },
  {
   "cell_type": "code",
   "execution_count": 21,
   "id": "catholic-press",
   "metadata": {},
   "outputs": [],
   "source": [
    "m = 100\n",
    "X = 6 * random.rand(m, 1) - 3\n",
    "y = 0.5 * X**2 + X + 2 + random.rand(m, 1)"
   ]
  },
  {
   "cell_type": "code",
   "execution_count": 22,
   "id": "ignored-bruce",
   "metadata": {},
   "outputs": [
    {
     "data": {
      "text/plain": [
       "Text(0, 0.5, '$y$')"
      ]
     },
     "execution_count": 22,
     "metadata": {},
     "output_type": "execute_result"
    },
    {
     "data": {
      "image/png": "[encoded data removed]",
      "text/plain": [
       "<Figure size 432x288 with 1 Axes>"
      ]
     },
     "metadata": {
      "needs_background": "light"
     },
     "output_type": "display_data"
    }
   ],
   "source": [
    "plot(X, y, 'bo')\n",
    "xlabel(\"$x_1$\")\n",
    "ylabel(\"$y$\")"
   ]
  },
  {
   "cell_type": "markdown",
   "id": "packed-heater",
   "metadata": {},
   "source": [
    "Vamos a agregar el cuadrado de cada *feature* en el conjunto de entrenamiento como un *feature* nuevo.\n",
    "\n",
    "En este caso tenemos solamente $x_1$, así que después de este procesamiento tendremos 2 *features* en vez de $1$."
   ]
  },
  {
   "cell_type": "code",
   "execution_count": 23,
   "id": "handed-honolulu",
   "metadata": {},
   "outputs": [
    {
     "data": {
      "text/plain": [
       "array([1.16054962])"
      ]
     },
     "execution_count": 23,
     "metadata": {},
     "output_type": "execute_result"
    }
   ],
   "source": [
    "from sklearn.preprocessing import PolynomialFeatures\n",
    "poly_features = PolynomialFeatures(degree=2, include_bias=False)\n",
    "X_poly = poly_features.fit_transform(X)\n",
    "X[0]"
   ]
  },
  {
   "cell_type": "code",
   "execution_count": 24,
   "id": "waiting-remedy",
   "metadata": {},
   "outputs": [
    {
     "data": {
      "text/plain": [
       "array([1.16054962, 1.34687541])"
      ]
     },
     "execution_count": 24,
     "metadata": {},
     "output_type": "execute_result"
    }
   ],
   "source": [
    "X_poly[0]"
   ]
  },
  {
   "cell_type": "markdown",
   "id": "mighty-thriller",
   "metadata": {},
   "source": [
    "`X_poly` contiene el *feature* original, más el cuadrado de este *feature*.\n",
    "\n",
    "Ahora podemos ajustar un modelo de regresión lineal a estos datos."
   ]
  },
  {
   "cell_type": "code",
   "execution_count": 25,
   "id": "vocal-fountain",
   "metadata": {},
   "outputs": [
    {
     "data": {
      "text/plain": [
       "(array([2.51126777]), array([[0.99439236, 0.5025827 ]]))"
      ]
     },
     "execution_count": 25,
     "metadata": {},
     "output_type": "execute_result"
    }
   ],
   "source": [
    "lin_reg = LinearRegression()\n",
    "lin_reg.fit(X_poly, y)\n",
    "lin_reg.intercept_, lin_reg.coef_"
   ]
  },
  {
   "cell_type": "code",
   "execution_count": 26,
   "id": "vulnerable-atlas",
   "metadata": {},
   "outputs": [
    {
     "data": {
      "text/plain": [
       "[<matplotlib.lines.Line2D at 0x7fdb21f8a520>]"
      ]
     },
     "execution_count": 26,
     "metadata": {},
     "output_type": "execute_result"
    },
    {
     "data": {
      "image/png": "[encoded data removed]",
      "text/plain": [
       "<Figure size 432x288 with 1 Axes>"
      ]
     },
     "metadata": {
      "needs_background": "light"
     },
     "output_type": "display_data"
    }
   ],
   "source": [
    "plot(X, y, 'bo')\n",
    "xlabel(\"$x_1$\")\n",
    "ylabel(\"$y$\")\n",
    "x_nuevo = linspace(-3,3,100).reshape(100, 1)\n",
    "x_nuevo_poly = poly_features.transform(x_nuevo)\n",
    "plot(x_nuevo, lin_reg.predict(x_nuevo_poly), 'r-')"
   ]
  },
  {
   "cell_type": "markdown",
   "id": "encouraging-baking",
   "metadata": {},
   "source": [
    "Según el algoritmo la función es $\\hat{y} = 0.485x_1^2 + 1.035x_1 + 2.512$.\n",
    "\n",
    "La función exacta era $\\hat{y} = \\frac{1}{2}x_1^2 + x_1 + 2 + \\text{ruido}$."
   ]
  },
  {
   "cell_type": "markdown",
   "id": "frozen-barrel",
   "metadata": {},
   "source": [
    "Cuando hay varios *features* se puede encontrar relaciones entre los *features* con regresión polinomial.\n",
    "\n",
    "Este es porque `PolynomialFeatures` suma todas las combinaciones de *features* hasta el grado elegido.\n",
    "\n",
    "Por ejemplo, con dos *features* $a$ y $b$, usando `PolynomialFeatures` con `degree=3` tendríamos $a$, $b$, $a^2$, $b^2$, $a^3$, $b^3$, $ab$, $a^2b$, $ab^2$."
   ]
  },
  {
   "cell_type": "markdown",
   "id": "constant-spirit",
   "metadata": {},
   "source": [
    "`PolynomialFeatures(degree=d)` transforma un array con $n$ *features* a un array con $$\\frac{(n+d)!}{d!n!}$$ *features*.\n",
    "\n",
    "Hay que tener cuidado con la explosión combinatoria..."
   ]
  },
  {
   "cell_type": "markdown",
   "id": "portuguese-marathon",
   "metadata": {},
   "source": [
    "### Curvas de aprendizaje\n",
    "\n",
    "Con una función polinomial de grado alto podemos ajustar muy bien a los datos, pero estaríamos cometiendo el error de *overfitting*.\n",
    "\n",
    "**Ejercicio**: graficar las predicciones de los modelos de regresión polinomial de grado $1$, $2$ y $300$."
   ]
  },
  {
   "cell_type": "markdown",
   "id": "unlike-salon",
   "metadata": {},
   "source": [
    "---> Book solution in text file"
   ]
  },
  {
   "cell_type": "markdown",
   "id": "victorian-western",
   "metadata": {},
   "source": [
    "* Si el modelo funciona bien en los datos de entrenamiento, pero no en los datos de validación/prueba $\\Rightarrow$ *overfitting*\n",
    "* Si el modelo no funciona bein en ningun conjunto de datos $\\Rightarrow$ *underfitting*\n",
    "\n",
    "Otra forma de ver el rendimiento de un modelo es con el *learning curve* (curva de aprendizaje).\n",
    "\n",
    "Esta curva muestra el rendimiento del modelo para varios tamaños de *training sets* (o la iteración de entrenamiento en el caso de aprendizaje *online*)."
   ]
  },
  {
   "cell_type": "code",
   "execution_count": 27,
   "id": "sudden-caution",
   "metadata": {},
   "outputs": [],
   "source": [
    "from sklearn.metrics import mean_squared_error\n",
    "from sklearn.model_selection import train_test_split\n",
    "\n",
    "def plot_learning_curves(model, X, y):\n",
    "    X_train, X_val, y_train, y_val = train_test_split(X, y, test_size=0.2)\n",
    "    train_errors, val_errors = [], []\n",
    "    for m in range(1, len(X_train)):\n",
    "        model.fit(X_train[:m], y_train[:m])\n",
    "        y_train_predict = model.predict(X_train[:m])\n",
    "        y_val_predict = model.predict(X_val)\n",
    "        train_errors.append(mean_squared_error(y_train[:m], y_train_predict))\n",
    "        val_errors.append(mean_squared_error(y_val, y_val_predict))\n",
    "    axis([0,80,0.0,3.0])\n",
    "    plot(sqrt(train_errors), \"r-+\", linewidth=2, label=\"train\")\n",
    "    plot(sqrt(val_errors), \"b-\", linewidth=3, label=\"val\")\n",
    "    xlabel(\"Training set size\")\n",
    "    ylabel(\"RMSE\")\n",
    "    legend()"
   ]
  },
  {
   "cell_type": "code",
   "execution_count": 28,
   "id": "focused-emission",
   "metadata": {},
   "outputs": [
    {
     "data": {
      "image/png": "[encoded data removed]",
      "text/plain": [
       "<Figure size 432x288 with 1 Axes>"
      ]
     },
     "metadata": {
      "needs_background": "light"
     },
     "output_type": "display_data"
    }
   ],
   "source": [
    "lin_reg = LinearRegression()\n",
    "plot_learning_curves(lin_reg, X, y)"
   ]
  },
  {
   "cell_type": "markdown",
   "id": "surface-treasurer",
   "metadata": {},
   "source": [
    "##### Rendimiento en los datos de entrenamiento\n",
    "\n",
    "* Con uno o dos instancias la curva puede ajustarse perfectamente: la curva comienza en cero.\n",
    "* Con más instancias el modelo no puede ser perfecto, así que el error aumenta hasta un valor casi constante.\n",
    "\n",
    "##### Rendiemiento en los datos de validación\n",
    "\n",
    "* Un modelo entrenado en pocas instancias no generaliza bien: error grande en validación al principio.\n",
    "* Con más instancias el modelo generaliza mejor, pero solamente hasta un límite.\n",
    "\n",
    "-> Este es un buen ejemplo de un modelo con *underfitting*: ambas curvas están planas, cercanas y altas.\n",
    "\n",
    "Ahora vamos a usar un polinomio de grado 10..."
   ]
  },
  {
   "cell_type": "code",
   "execution_count": 29,
   "id": "encouraging-house",
   "metadata": {},
   "outputs": [
    {
     "data": {
      "image/png": "[encoded data removed]",
      "text/plain": [
       "<Figure size 432x288 with 1 Axes>"
      ]
     },
     "metadata": {
      "needs_background": "light"
     },
     "output_type": "display_data"
    }
   ],
   "source": [
    "from sklearn.pipeline import Pipeline\n",
    "\n",
    "polynomial_regression = Pipeline([\n",
    "    (\"poly_features\", PolynomialFeatures(degree=10, include_bias=False)),\n",
    "    (\"lin_reg\", LinearRegression()),\n",
    "])\n",
    "\n",
    "plot_learning_curves(polynomial_regression, X, y)"
   ]
  },
  {
   "cell_type": "markdown",
   "id": "another-cheat",
   "metadata": {},
   "source": [
    "* El error es mucho menor comparado con el modelo de regresión lineal.\n",
    "* Hay un espacio entre las curvas: el modelo tiene mejor ajuste en los datos de entrenamiento que en los datos de validación.\n",
    "\n",
    "-> El espacio indica un modelo con *overfitting*."
   ]
  },
  {
   "cell_type": "markdown",
   "id": "boolean-daily",
   "metadata": {},
   "source": [
    "### Bias/variance tradeoff\n",
    "\n",
    "El error de generalización es la suma de 3 errores muy diferentes:\n",
    "\n",
    "#### Bias (prejuicio)\n",
    "\n",
    "* Suposiciones incorrectas, por ejemplo, suponiendo datos lineales cuando son cuadraticos.\n",
    "* Un modelo con *bias* alto -> *underfitting*\n",
    "\n",
    "#### Varianza\n",
    "\n",
    "* Sensibilidad excesiva a variaciones pequeñas en los datos de entrenamiento.\n",
    "* Un modelo con muchos grados de libertad probablemente tendrá varianza alta -> *overfitting*\n",
    "\n",
    "#### Error irreducible\n",
    "\n",
    "* Ruido intrinsico de los datos.\n",
    "* La única manera de mejorar este error es con mejores datos.\n",
    "\n",
    "Aumentando la complejidad de un modelo típicamente aumentará la varianza y reducirá el *bias*.\n",
    "\n",
    "Reduciendo la complejidad de un modelo aumentará el *bias* y reducirá la varianza."
   ]
  },
  {
   "cell_type": "markdown",
   "id": "accepting-madness",
   "metadata": {},
   "source": [
    "## Modelos lineales regularizados\n",
    "\n",
    "Regularización es una manera de reducir el problema de *overfitting*.\n",
    "\n",
    "En un modelo lineal podemos regularizar usando restricciones en los **pesos** (*weights*)."
   ]
  },
  {
   "cell_type": "markdown",
   "id": "paperback-oriental",
   "metadata": {},
   "source": [
    "##### Regresión ridge (regresión contraída, regularización de Tikhonov)\n",
    "\n",
    "Un término de regularización $\\alpha \\sum_{i=1}^n \\theta_i^2$ está sumado a la función de costo:\n",
    "\n",
    "$$J(\\boldsymbol{\\theta}) = \\text{MSE}(\\boldsymbol{\\theta}) + \\alpha \\frac{1}{2}\\sum_{i=1}^n \\theta_i^2$$\n",
    "\n",
    "El término de *bias* no está regularizado (la suma comienza en $i=1$).\n",
    "\n",
    "Así forzamos que los pesos (los valores de $\\theta_i$) sean lo más pequeño posible.\n",
    "\n",
    "Se usa el término de regularización solamente en el entrenamiento del modelo. Validamos el modelo con la función de costo sin regularización."
   ]
  },
  {
   "cell_type": "markdown",
   "id": "noticed-authentication",
   "metadata": {},
   "source": [
    "El hiperparámetro $\\alpha$ determina el nivel de regularización:\n",
    "\n",
    "* $\\alpha = 0$: regresión lineal normal\n",
    "* $\\alpha \\to \\infty$: línea plana que pasa por el promedio de los datos."
   ]
  },
  {
   "cell_type": "markdown",
   "id": "together-posting",
   "metadata": {},
   "source": [
    "Definimos el vector de *feature weights*:\n",
    "\n",
    "$$\\boldsymbol{w} \\equiv (\\theta_1,\\ldots,\\theta_n)$$\n",
    "\n",
    "El término de regularización es igual a $\\frac{1}{2}(|| \\boldsymbol{w} ||_2)^2$, donde $|| \\boldsymbol{w} ||_2$ significa la norma $\\mathscr{l}_2$.\n",
    "\n",
    "Para descenso por gradiente, podemos incluir la regularización usando $\\nabla_{\\boldsymbol{\\theta}} \\text{MSE}(\\boldsymbol{\\theta}) + \\alpha \\boldsymbol{w}$ "
   ]
  },
  {
   "cell_type": "markdown",
   "id": "281f7ae9",
   "metadata": {},
   "source": [
    "La norma $\\mathscr{l}_k$ de un vector $\\boldsymbol{v}$ se define como:\n",
    "\n",
    "$$|| \\boldsymbol{v} ||_k = (|v_0|^k + |v_1|^k + \\cdots + |v_n|^k)^{1/k}$$\n",
    "\n",
    "La contribución de valores mayores a la norma aumenta con $k$ mayor."
   ]
  },
  {
   "cell_type": "markdown",
   "id": "93f53995",
   "metadata": {},
   "source": [
    "**Importante**: regresión ridge está sensible a la escala de los *features*, así que es importante escalar los datos (e.g. `StandardScaler`)"
   ]
  },
  {
   "cell_type": "markdown",
   "id": "553056c5",
   "metadata": {},
   "source": [
    "Se puede implementar regresión ridge analíticamente:\n",
    "\n",
    "$$\\hat{\\boldsymbol{\\theta}} = \\left( \\boldsymbol{X}^T \\boldsymbol{X} + \\alpha \\boldsymbol{A} \\right)^{-1} \\boldsymbol{X}^T \\boldsymbol{y}$$\n",
    "\n",
    "o con descenso por gradiente, como lo que vimos con regresión lineal normal."
   ]
  },
  {
   "cell_type": "markdown",
   "id": "37d682b4",
   "metadata": {},
   "source": [
    "Ahora aplicamos regresión ridge usando la ecuación analítica (la matriz está invertida por el [método de Cholesky](https://es.wikipedia.org/wiki/Factorizaci%C3%B3n_de_Cholesky))."
   ]
  },
  {
   "cell_type": "code",
   "execution_count": 37,
   "id": "57ca8360",
   "metadata": {},
   "outputs": [],
   "source": [
    "np.random.seed(42)\n",
    "m = 20\n",
    "X = 3 * np.random.rand(m, 1)\n",
    "y = 1 + 0.5 * X + np.random.randn(m, 1) / 1.5\n",
    "X_new = np.linspace(0, 3, 100).reshape(100, 1)"
   ]
  },
  {
   "cell_type": "code",
   "execution_count": 38,
   "id": "c1086f5c",
   "metadata": {},
   "outputs": [
    {
     "data": {
      "text/plain": [
       "array([[1.55071465]])"
      ]
     },
     "execution_count": 38,
     "metadata": {},
     "output_type": "execute_result"
    }
   ],
   "source": [
    "from sklearn.linear_model import Ridge\n",
    "ridge_reg = Ridge(alpha=1, solver=\"cholesky\")\n",
    "ridge_reg.fit(X, y)\n",
    "ridge_reg.predict([[1.5]])"
   ]
  },
  {
   "cell_type": "markdown",
   "id": "fd54e6e6",
   "metadata": {},
   "source": [
    "Ahora con descenso por gradiente."
   ]
  },
  {
   "cell_type": "code",
   "execution_count": 39,
   "id": "404b39b3",
   "metadata": {},
   "outputs": [
    {
     "data": {
      "text/plain": [
       "array([1.46543286])"
      ]
     },
     "execution_count": 39,
     "metadata": {},
     "output_type": "execute_result"
    }
   ],
   "source": [
    "sgd_reg = SGDRegressor(penalty=\"l2\")\n",
    "sgd_reg.fit(X, y.ravel())\n",
    "sgd_reg.predict([[1.5]])"
   ]
  },
  {
   "cell_type": "markdown",
   "id": "a691722e",
   "metadata": {},
   "source": [
    "El hiperparámetro `penalty` indica el tipo de regularización que queremos usar. `\"l2\"` significa que queremos sumar un término a la función de costo igual a la norma $\\mathscr{l}_2$ (multiplicado por $1/2$).\n",
    "\n",
    "Este es precisamente regresión ridge."
   ]
  },
  {
   "cell_type": "code",
   "execution_count": 40,
   "id": "ce8b7657",
   "metadata": {},
   "outputs": [
    {
     "data": {
      "image/png": "[encoded data removed]",
      "text/plain": [
       "<Figure size 576x288 with 2 Axes>"
      ]
     },
     "metadata": {
      "needs_background": "light"
     },
     "output_type": "display_data"
    }
   ],
   "source": [
    "from sklearn.linear_model import Ridge\n",
    "from sklearn.preprocessing import StandardScaler\n",
    "\n",
    "def plot_model(model_class, polynomial, alphas, **model_kargs):\n",
    "    for alpha, style in zip(alphas, (\"b-\", \"g--\", \"r:\")):\n",
    "        model = model_class(alpha, **model_kargs) if alpha > 0 else LinearRegression()\n",
    "        if polynomial:\n",
    "            model = Pipeline([\n",
    "                    (\"poly_features\", PolynomialFeatures(degree=10, include_bias=False)),\n",
    "                    (\"std_scaler\", StandardScaler()),\n",
    "                    (\"regul_reg\", model),\n",
    "                ])\n",
    "        model.fit(X, y)\n",
    "        y_new_regul = model.predict(X_new)\n",
    "        lw = 2 if alpha > 0 else 1\n",
    "        plt.plot(X_new, y_new_regul, style, linewidth=lw, label=r\"$\\alpha = {}$\".format(alpha))\n",
    "    plt.plot(X, y, \"b.\", linewidth=3)\n",
    "    plt.legend(loc=\"upper left\", fontsize=15)\n",
    "    plt.xlabel(\"$x_1$\", fontsize=18)\n",
    "    plt.axis([0, 3, 0, 4])\n",
    "\n",
    "plt.figure(figsize=(8,4))\n",
    "plt.subplot(121)\n",
    "plot_model(Ridge, polynomial=False, alphas=(0, 10, 100), random_state=42)\n",
    "plt.ylabel(\"$y$\", rotation=0, fontsize=18)\n",
    "plt.subplot(122)\n",
    "plot_model(Ridge, polynomial=True, alphas=(0, 10**-5, 1), random_state=42)\n",
    "\n",
    "plt.show()"
   ]
  },
  {
   "cell_type": "markdown",
   "id": "b9b3ad67",
   "metadata": {},
   "source": [
    "##### Regresión lasso (least absolute shrinkage and selection operator)\n",
    "\n",
    "Muy similar a regresión ridge, pero sumamos la norma $\\mathscr{l}_1$ a la función de costo.\n",
    "\n",
    "$$J(\\boldsymbol{\\theta}) = \\text{MSE}(\\boldsymbol{\\theta}) + \\alpha \\sum_{i=1}^n |\\theta_i|$$"
   ]
  },
  {
   "cell_type": "markdown",
   "id": "54924839",
   "metadata": {},
   "source": [
    "Regresión lasso tiende a eliminar los pesos de los *features* menos importantes $\\rightarrow$ selección de *features*."
   ]
  },
  {
   "cell_type": "code",
   "execution_count": 41,
   "id": "a64b5a84",
   "metadata": {},
   "outputs": [
    {
     "name": "stderr",
     "output_type": "stream",
     "text": [
      "/home/graeme/anaconda3/lib/python3.9/site-packages/sklearn/linear_model/_coordinate_descent.py:530: ConvergenceWarning: Objective did not converge. You might want to increase the number of iterations. Duality gap: 2.802867703827432, tolerance: 0.0009294783355207351\n",
      "  model = cd_fast.enet_coordinate_descent(\n"
     ]
    },
    {
     "data": {
      "image/png": "[encoded data removed]",
      "text/plain": [
       "<Figure size 576x288 with 2 Axes>"
      ]
     },
     "metadata": {
      "needs_background": "light"
     },
     "output_type": "display_data"
    }
   ],
   "source": [
    "from sklearn.linear_model import Lasso\n",
    "\n",
    "plt.figure(figsize=(8,4))\n",
    "plt.subplot(121)\n",
    "plot_model(Lasso, polynomial=False, alphas=(0, 0.1, 1), random_state=42)\n",
    "plt.ylabel(\"$y$\", rotation=0, fontsize=18)\n",
    "plt.subplot(122)\n",
    "plot_model(Lasso, polynomial=True, alphas=(0, 10**-7, 1), random_state=42)"
   ]
  },
  {
   "cell_type": "markdown",
   "id": "73ebfc2f",
   "metadata": {},
   "source": [
    "![](figures_entrenamiento/fig4-19.png)"
   ]
  },
  {
   "cell_type": "markdown",
   "id": "244070b2",
   "metadata": {},
   "source": [
    "**Izquierda, arriba:** los contornos elipticas representan una función de costo tipo MSE sin regularización. Los diamantes la \"multa\" $\\mathscr{l}_1$.\n",
    "\n",
    "Circulos blancos: camino de *batch gradient descent* con la función de costo normal.\n",
    "\n",
    "Triangulos amarillos: camino de *batch gradient descent* con la multa solamente. Este camino primero llega a $\\theta_1 = 0$ y después llega a $\\theta_2 = 0$."
   ]
  },
  {
   "cell_type": "markdown",
   "id": "facfbe8b",
   "metadata": {},
   "source": [
    "**Derecha, arriba:** los contornos elipticas representan la función de costo tipo MSE más regularización de $\\mathscr{l}_1$, con $\\alpha = 0.5$.\n",
    "\n",
    "Circulos blancos: camino de *batch gradient descent* con la función de costo normal.\n",
    "\n",
    "Pregunta: ¿por qué los circulos blancos oscilan alrededor de $\\theta_2 = 0$ cuando se acercan al mínimo?"
   ]
  },
  {
   "cell_type": "markdown",
   "id": "54eeb6b7",
   "metadata": {},
   "source": [
    "**Graficos abajo**: lo mismo, con $\\mathscr{l}_2$. El mínimo sin regularización es más cerca al mínimo con regularización, y ningún *feature* está eliminado."
   ]
  },
  {
   "cell_type": "markdown",
   "id": "ec825e27",
   "metadata": {},
   "source": [
    "La función de costo de regresión lasso no es diferenciable en $\\theta_i = 0$.\n",
    "\n",
    "Para aplicar descenso por gradiente en este caso, podemos usar:\n",
    "\n",
    "$$g(\\boldsymbol{\\theta},J) = \\nabla_{\\boldsymbol{\\theta}} \\text{MSE}(\\boldsymbol{\\theta}) + \\alpha \\begin{pmatrix} \\text{sgn}(\\theta_1) \\\\ \\text{sgn}(\\theta_2) \\\\ \\vdots \\\\ \\text{sgn}(\\theta_n) \\end{pmatrix}$$\n",
    "\n",
    "donde $$\\text{sgn}(\\theta_i) = \\begin{cases} -1 & \\theta_i < 0 \\\\ 0 & \\theta_i = 0 \\\\ +1 & \\theta_i > 0 \\end{cases}$$"
   ]
  },
  {
   "cell_type": "code",
   "execution_count": 42,
   "id": "e0360b4f",
   "metadata": {},
   "outputs": [
    {
     "data": {
      "text/plain": [
       "array([1.53788174])"
      ]
     },
     "execution_count": 42,
     "metadata": {},
     "output_type": "execute_result"
    }
   ],
   "source": [
    "from sklearn.linear_model import Lasso\n",
    "lasso_reg = Lasso(alpha=0.1)\n",
    "lasso_reg.fit(X, y)\n",
    "lasso_reg.predict([[1.5]])"
   ]
  },
  {
   "cell_type": "markdown",
   "id": "f411c5df",
   "metadata": {},
   "source": [
    "##### Elastic Net\n",
    "\n",
    "Una mezcla entre ridge y lasso:\n",
    "\n",
    "$$J(\\boldsymbol{\\theta}) = \\text{MSE}(\\boldsymbol{\\theta}) + r\\alpha \\sum_{i=1}^n |\\theta_i| + \\frac{1-r}{2}\\alpha\\sum_{i=1}^n \\theta_i^2$$\n",
    "\n",
    "Con $r=0$ tenemos regresión ridge, y con $r=1$ tenemos regresión lasso."
   ]
  },
  {
   "cell_type": "code",
   "execution_count": 43,
   "id": "331b8933",
   "metadata": {},
   "outputs": [
    {
     "data": {
      "text/plain": [
       "array([1.54333232])"
      ]
     },
     "execution_count": 43,
     "metadata": {},
     "output_type": "execute_result"
    }
   ],
   "source": [
    "from sklearn.linear_model import ElasticNet\n",
    "elastic_net = ElasticNet(alpha=0.1, l1_ratio=0.5) # l1_ratio = r\n",
    "elastic_net.fit(X, y)\n",
    "elastic_net.predict([[1.5]])"
   ]
  },
  {
   "cell_type": "markdown",
   "id": "18f3dc4d",
   "metadata": {},
   "source": [
    "##### Parada temprana (early stopping)\n",
    "\n",
    "Otra forma muy diferent de regularizar un método iterativo es con *early stopping*: paramos el algoritmo cuando el error de validación llegue a un mínimo.\n",
    "\n",
    "| ![](figures_entrenamiento/fig4-20.png) |\n",
    "|----------------------------------------|\n",
    "| Regresión polinomial de grado alto, *batch gradient descent* |\n"
   ]
  },
  {
   "cell_type": "code",
   "execution_count": 45,
   "id": "5c9fcf8d",
   "metadata": {},
   "outputs": [],
   "source": [
    "np.random.seed(42)\n",
    "m = 100\n",
    "X = 6 * np.random.rand(m, 1) - 3\n",
    "y = 2 + X + 0.5 * X**2 + np.random.randn(m, 1)\n",
    "\n",
    "X_train, X_val, y_train, y_val = train_test_split(X[:50], y[:50].ravel(), test_size=0.5, random_state=10)"
   ]
  },
  {
   "cell_type": "code",
   "execution_count": 46,
   "id": "9b002f8f",
   "metadata": {},
   "outputs": [],
   "source": [
    "from sklearn.base import clone\n",
    "\n",
    "#preparar los datos\n",
    "poly_scaler = Pipeline([\n",
    "    (\"poly_features\", PolynomialFeatures(degree=90, include_bias=False)),\n",
    "    (\"std_scaler\", StandardScaler())\n",
    "])\n",
    "X_train_poly_scaled = poly_scaler.fit_transform(X_train)\n",
    "X_val_poly_scaled = poly_scaler.transform(X_val)\n",
    "\n",
    "sgd_reg = SGDRegressor(max_iter=1, tol=-np.infty, warm_start=True,\n",
    "                       penalty=None, learning_rate=\"constant\", \n",
    "                       eta0=0.0005)\n",
    "\n",
    "minimum_val_error = float(\"inf\")\n",
    "best_epoch = None\n",
    "best_model = None\n",
    "for epoch in range(1000):\n",
    "    sgd_reg.fit(X_train_poly_scaled, y_train) #comienza donde terminó\n",
    "    y_val_predict = sgd_reg.predict(X_val_poly_scaled)\n",
    "    val_error = mean_squared_error(y_val, y_val_predict)\n",
    "    if val_error < minimum_val_error:\n",
    "        minimum_val_error = val_error\n",
    "        best_epoch = epoch\n",
    "        best_model = clone(sgd_reg)"
   ]
  },
  {
   "cell_type": "code",
   "execution_count": 47,
   "id": "a26c0ada",
   "metadata": {},
   "outputs": [
    {
     "data": {
      "text/plain": [
       "Text(0, 0.5, 'RMSE')"
      ]
     },
     "execution_count": 47,
     "metadata": {},
     "output_type": "execute_result"
    },
    {
     "data": {
      "image/png": "[encoded data removed]",
      "text/plain": [
       "<Figure size 432x288 with 1 Axes>"
      ]
     },
     "metadata": {
      "needs_background": "light"
     },
     "output_type": "display_data"
    }
   ],
   "source": [
    "sgd_reg = SGDRegressor(max_iter=1, tol=-np.infty, warm_start=True,\n",
    "                       penalty=None, learning_rate=\"constant\", eta0=0.0005, random_state=42)\n",
    "\n",
    "n_epochs = 500\n",
    "train_errors, val_errors = [], []\n",
    "for epoch in range(n_epochs):\n",
    "    sgd_reg.fit(X_train_poly_scaled, y_train)\n",
    "    y_train_predict = sgd_reg.predict(X_train_poly_scaled)\n",
    "    y_val_predict = sgd_reg.predict(X_val_poly_scaled)\n",
    "    train_errors.append(mean_squared_error(y_train, y_train_predict))\n",
    "    val_errors.append(mean_squared_error(y_val, y_val_predict))\n",
    "\n",
    "best_epoch = np.argmin(val_errors)\n",
    "best_val_rmse = np.sqrt(val_errors[best_epoch])\n",
    "\n",
    "plt.annotate('Best model',\n",
    "             xy=(best_epoch, best_val_rmse),\n",
    "             xytext=(best_epoch, best_val_rmse + 1),\n",
    "             ha=\"center\",\n",
    "             arrowprops=dict(facecolor='black', shrink=0.05),\n",
    "             fontsize=16,\n",
    "            )\n",
    "\n",
    "best_val_rmse -= 0.03  # just to make the graph look better\n",
    "plt.plot([0, n_epochs], [best_val_rmse, best_val_rmse], \"k:\", linewidth=2)\n",
    "plt.plot(np.sqrt(val_errors), \"b-\", linewidth=3, label=\"Validation set\")\n",
    "plt.plot(np.sqrt(train_errors), \"r--\", linewidth=2, label=\"Training set\")\n",
    "plt.legend(loc=\"upper right\", fontsize=14)\n",
    "plt.xlabel(\"Epoch\", fontsize=14)\n",
    "plt.ylabel(\"RMSE\", fontsize=14)"
   ]
  },
  {
   "cell_type": "markdown",
   "id": "60cd9397",
   "metadata": {},
   "source": [
    "### Regresión logística\n",
    "\n",
    "Se puede usar regresión logística para clasificación.\n",
    "\n",
    "El método puede estimar la probabilidad que una instancia pertenece a una clase particular.\n",
    "\n",
    "Si la probabilidad es mayor que 50% decimos que pertenece a la clase. Por lo tanto, es un **clasificador binario**."
   ]
  },
  {
   "cell_type": "markdown",
   "id": "06a4f243",
   "metadata": {},
   "source": [
    "La probabilidad estimada es:\n",
    "\n",
    "$$\\hat{p} = h_{\\boldsymbol{\\theta}}(\\boldsymbol{x}) = \\sigma \\left( \\boldsymbol{x}^T \\boldsymbol{\\theta} \\right)$$\n",
    "\n",
    "La función **logística** (o sigmoide) está dada por:\n",
    "\n",
    "$$\\sigma(t) = \\frac{1}{1+e^{-t}}$$"
   ]
  },
  {
   "cell_type": "markdown",
   "id": "476b7c0b",
   "metadata": {},
   "source": [
    "**Ejercicio**: graficar la función logística."
   ]
  },
  {
   "cell_type": "markdown",
   "id": "1918c011",
   "metadata": {},
   "source": [
    "Predicción del modelo:\n",
    "\n",
    "$$\\hat{y} = \\begin{cases} 0 & \\hat{p} < 0.5 \\\\ 1 & \\hat{p} \\geq 0.5 \\end{cases}$$\n",
    "\n",
    "Notar que $\\sigma(t) < 0.5$ cuando $t < 0$ y $\\sigma(t) \\geq 0.5$ cuando $t \\geq 0$, así que predice $1$ si $\\boldsymbol{x}^T \\boldsymbol{\\theta}$ es positivo, y $0$ si es negativo."
   ]
  },
  {
   "cell_type": "markdown",
   "id": "678992d2",
   "metadata": {},
   "source": [
    "##### Función de costo por instancia\n",
    "\n",
    "Queremos tener $\\boldsymbol{\\theta}$ tal que el modelo estima probabilidades altas para instancias positivas, y probabilidades bajas para instancias negativas.\n",
    "\n",
    "$$c(\\boldsymbol{\\theta}) = \\begin{cases} -\\log(\\hat{p}) & y = 1 \\\\ -\\log(1-\\hat{p}) & y = 0 \\end{cases}$$\n",
    "\n",
    "El costo será muy grande si $\\hat{p} \\to 0$ para una instancia positiva, y también si $\\hat{p} \\to 1$ para una instancia negativa.\n",
    "\n",
    "El costo será muy cerca a cero si $\\hat{p} \\to 1$ para una instancia positiva, y también si $\\hat{p} \\to 0$ para una instancia negativa."
   ]
  },
  {
   "cell_type": "markdown",
   "id": "6ea427a7",
   "metadata": {},
   "source": [
    "##### Función de costo total\n",
    "\n",
    "La función de costo para todo el conjunto de entrenamiento es simplemente el promedio de la función de costo por instancia sobre todas las instancias:\n",
    "\n",
    "$$J(\\boldsymbol{\\theta}) = -\\frac{1}{m}\\sum_{i=1}^m \\left[ y^{(i)} \\log(\\hat{p}^{(i)}) + (1-y^{(i)})\\log(1-\\hat{p}^{(i)}) \\right]$$\n",
    "\n",
    "No hay ninguna ecuación analítica (conocida) que da el valor de $\\boldsymbol{\\theta}$ que minimiza esta función de costo!"
   ]
  },
  {
   "cell_type": "markdown",
   "id": "687c58ca",
   "metadata": {},
   "source": [
    "La función es convexa $\\rightarrow$ podemos aplicar descenso por gradiente (u otro algoritmo de optimización).\n",
    "\n",
    "$$\\frac{\\partial}{\\partial \\theta_j} J(\\boldsymbol{\\theta}) = \\frac{1}{m}\\sum_{i=1}^m \\left( \\sigma(\\boldsymbol{\\theta}^T\\boldsymbol{x}^{(i)}) - y^{(i)} \\right) x_j^{(i)}$$\n",
    "\n",
    "Aqui tenemos el error de predicción multiplicado por el valor del *feature* $j$, promediado sobre todas las instancias. Es muy similar al gradiente de la función de costo en regresión lineal."
   ]
  },
  {
   "cell_type": "markdown",
   "id": "9de9f8f3",
   "metadata": {},
   "source": [
    "#### Límites de decision (*decision boundaries*)\n",
    "\n",
    "Vamos a ilustrar el uso de regresión logística con un *dataset* muy usado en *machine learning*: observaciones de las flores **iris**."
   ]
  },
  {
   "cell_type": "markdown",
   "id": "71b71063",
   "metadata": {},
   "source": [
    "![](figures_entrenamiento/fig4-22.png)"
   ]
  },
  {
   "cell_type": "markdown",
   "id": "15e3724a",
   "metadata": {},
   "source": [
    "Intentaremos construir un clasificador basado solamente en el *feature* de *petal width* (ancho de pétalo)."
   ]
  },
  {
   "cell_type": "code",
   "execution_count": 48,
   "id": "5f10bda7",
   "metadata": {},
   "outputs": [
    {
     "data": {
      "text/plain": [
       "['data',\n",
       " 'target',\n",
       " 'frame',\n",
       " 'target_names',\n",
       " 'DESCR',\n",
       " 'feature_names',\n",
       " 'filename']"
      ]
     },
     "execution_count": 48,
     "metadata": {},
     "output_type": "execute_result"
    }
   ],
   "source": [
    "from sklearn import datasets\n",
    "iris = datasets.load_iris()\n",
    "list(iris.keys())"
   ]
  },
  {
   "cell_type": "code",
   "execution_count": 49,
   "id": "35ecf3d9",
   "metadata": {},
   "outputs": [],
   "source": [
    "X = iris[\"data\"][:, 3:]\n",
    "y = (iris[\"target\"] == 2).astype(np.int32)"
   ]
  },
  {
   "cell_type": "code",
   "execution_count": 50,
   "id": "d84c6afd",
   "metadata": {},
   "outputs": [
    {
     "data": {
      "text/plain": [
       "LogisticRegression()"
      ]
     },
     "execution_count": 50,
     "metadata": {},
     "output_type": "execute_result"
    }
   ],
   "source": [
    "from sklearn.linear_model import LogisticRegression\n",
    "\n",
    "log_reg = LogisticRegression()\n",
    "log_reg.fit(X, y)"
   ]
  },
  {
   "cell_type": "code",
   "execution_count": 51,
   "id": "4b460013",
   "metadata": {},
   "outputs": [
    {
     "data": {
      "text/plain": [
       "<matplotlib.legend.Legend at 0x7fdb220e6f40>"
      ]
     },
     "execution_count": 51,
     "metadata": {},
     "output_type": "execute_result"
    },
    {
     "data": {
      "image/png": "[encoded data removed]",
      "text/plain": [
       "<Figure size 432x288 with 1 Axes>"
      ]
     },
     "metadata": {
      "needs_background": "light"
     },
     "output_type": "display_data"
    }
   ],
   "source": [
    "X_new = linspace(0, 3, 1000).reshape(-1, 1)\n",
    "y_proba = log_reg.predict_proba(X_new)\n",
    "plot(X_new, y_proba[:, 1], \"g-\", label=\"Iris-Virginica\")\n",
    "plot(X_new, y_proba[:, 0], \"b--\", label=\"No Iris-Virginica\")\n",
    "plot(X[y == 1], ones_like(X[y == 1]), \"g^\")\n",
    "plot(X[y == 0], zeros_like(X[y == 0]), \"bs\")\n",
    "axvline(x=X_new[np.abs(y_proba[:,1] - 0.5).argmin()], color='k', ls='--')\n",
    "legend()"
   ]
  },
  {
   "cell_type": "code",
   "execution_count": 52,
   "id": "58d44038",
   "metadata": {},
   "outputs": [
    {
     "data": {
      "text/plain": [
       "array([1.66066066])"
      ]
     },
     "execution_count": 52,
     "metadata": {},
     "output_type": "execute_result"
    }
   ],
   "source": [
    "X_new[np.abs(y_proba[:,1] - 0.5).argmin()]"
   ]
  },
  {
   "cell_type": "markdown",
   "id": "d89f150b",
   "metadata": {},
   "source": [
    "En el punto donde las probabilidades son igual a 50% (~ 1.66cm) tenemos un **límite de decisión** (*decision boundary*).\n",
    "\n",
    "Para un valor de ancho de pétalo mayor que ese valor es más probable que sea un Iris-Virginica."
   ]
  },
  {
   "cell_type": "code",
   "execution_count": 53,
   "id": "c02cee16",
   "metadata": {},
   "outputs": [
    {
     "data": {
      "text/plain": [
       "array([1, 0], dtype=int32)"
      ]
     },
     "execution_count": 53,
     "metadata": {},
     "output_type": "execute_result"
    }
   ],
   "source": [
    "# Ahora usando el método \"predict\" para clasificar\n",
    "# Arriba usamos \"predict_proba\" para obtener la probabilidad\n",
    "log_reg.predict([[1.7], [1.5]])"
   ]
  },
  {
   "cell_type": "markdown",
   "id": "b225d8f8",
   "metadata": {},
   "source": [
    "En el caso de usar dos *features* el modelo llega a una clasificación según un límite de decisión unidimensional (es decir, una línea, en vez de un punto como lo que tenemos arriba)."
   ]
  },
  {
   "cell_type": "markdown",
   "id": "e728d0ce",
   "metadata": {},
   "source": [
    "![](figures_entrenamiento/fig4-24.png)"
   ]
  },
  {
   "cell_type": "markdown",
   "id": "73ea0f67",
   "metadata": {},
   "source": [
    "El límite de decisión matematicamente corresponde al conjunto de puntos $\\boldsymbol{x}$ en el espacio de *features* que satisface:\n",
    "\n",
    "$$\\boldsymbol{\\theta}^T \\boldsymbol{x} = \\theta_0 + \\theta_1x_1 + \\theta_2x_2 = 0$$\n",
    "\n",
    "Esta ecuación define una línea recta."
   ]
  },
  {
   "cell_type": "markdown",
   "id": "367f13d2",
   "metadata": {},
   "source": [
    "Se puede regularizar un modelo de regresión logística con multas de $\\mathscr{l}_1$ o $\\mathscr{l}_2$. \n",
    "\n",
    "`Scikit-Learn` agrega la norma $\\mathscr{l}_2$ a la función de costo por defecto.\n",
    "\n",
    "El hiperparámetro que determina la regularización en `LogisticRegression` se llama `C`, y es la **inversa** de `alpha`. Así que, con mayor `C`, menos regularización."
   ]
  },
  {
   "cell_type": "markdown",
   "id": "dd8a9814",
   "metadata": {},
   "source": [
    "### Regresión Softmax\n",
    "\n",
    "Se puede generalizar el modelo de regresión logística al caso de tener multiples clases. Este modelo se llama **regresión softmax**.\n",
    "\n",
    "Para una instancia, el modelo calcula un puntaje $s_k(\\boldsymbol{x})$ para cada clase $k$.\n",
    "\n",
    "Después, estima la probabilidad de cada clase aplicando la función softmax (exponencial normalizada) a los puntajes."
   ]
  },
  {
   "cell_type": "markdown",
   "id": "161db9ea",
   "metadata": {},
   "source": [
    "$$s_k(\\boldsymbol{x}) = \\boldsymbol{x}^T \\boldsymbol{\\theta}^{(k)}$$\n",
    "\n",
    "En este modelo, cada clase tiene su propio vector de parámetros $\\boldsymbol{\\theta}^{(k)}$.\n",
    "\n",
    "Se puede combinar todos los $\\boldsymbol{\\theta}^{(k)}$ como las filas de una matriz de parámetros $\\boldsymbol{\\Theta}$."
   ]
  },
  {
   "cell_type": "markdown",
   "id": "0664ac4d",
   "metadata": {},
   "source": [
    "Las probabilidades para cada clase están dadas por:\n",
    "\n",
    "$$\\hat{p}_k = \\sigma(\\boldsymbol{s}(\\boldsymbol{x}))_k = \\frac{\\exp(s_k(\\boldsymbol{x}))}{\\sum_{i=1}^K \\exp(s_j(\\boldsymbol{x}))}$$\n",
    "\n",
    "* $K$ es el número de clases.\n",
    "* $\\boldsymbol{s}(\\boldsymbol{x})$ es un vector de puntajes de todas las clases para la instancia $\\boldsymbol{x}$.\n",
    "* $\\sigma(\\boldsymbol{s}(\\boldsymbol{x}))_k$ es la probabilidad estimada que la instancia $\\boldsymbol{x}$ pertenece a la clase $k$."
   ]
  },
  {
   "cell_type": "markdown",
   "id": "2ef7402b",
   "metadata": {},
   "source": [
    "La clase predicha es simplemente la clase con la probabilidad estimada mayor:\n",
    "\n",
    "$$\\hat{y} = \\underset{k}{\\text{argmax}}\\; \\sigma(\\boldsymbol{s}(\\boldsymbol{x}))_k = \\underset{k}{\\text{argmax}}\\; s_k(\\boldsymbol{x}) = \\underset{k}{\\text{argmax}} \\left( (\\boldsymbol{\\theta}^{(k)})^T \\boldsymbol{x} \\right)$$\n",
    "\n",
    "La función argmax nos da el valor de una variable que maximiza una función. En esta ecuación, nos da el valor de $k$ que maximiza la probabilidad $\\sigma(\\boldsymbol{s}(\\boldsymbol{x}))_k$"
   ]
  },
  {
   "cell_type": "markdown",
   "id": "396410f6",
   "metadata": {},
   "source": [
    "Notar: regresión logística predice **una** clase (no es *multioutput*) así que se puede usar cuando las clases son mutuamente exclusivas."
   ]
  },
  {
   "cell_type": "markdown",
   "id": "7bbd5350",
   "metadata": {},
   "source": [
    "##### Función de costo: entropía cruzada (cross entropy)\n",
    "\n",
    "La entropía cruzada es un concepto que viene de la **teoría de la información**.\n",
    "\n",
    "Es una medida de la diferencia entre dos distribuciones de probabilidad para una variable aleatoria dada."
   ]
  },
  {
   "cell_type": "markdown",
   "id": "b17cfb47",
   "metadata": {},
   "source": [
    "**Información**: el número de bits necesario para comunicar un evento.\n",
    "\n",
    "* Un evento con menos probabilidad tiene más información.\n",
    "* Un evento con más probabilidad tiene menos información.\n",
    "\n",
    "Un evento menos probable es un evento más sorprendente, y contiene más información.\n",
    "\n",
    "La información de un evento se puede cuantificar como $$h(x) = -\\log(p(x))$$ donde $p(x)$ es la probabilidad del evento.\n",
    "\n",
    "**Entropía de información**: el nivel promedio de información inherente a los posibles resultados de una variable aleatoria $X$.\n",
    "\n",
    "$$H(X) = \\langle h(x) \\rangle = -\\sum_{i=1}^n p(x_i) \\log p(x_i)$$\n",
    "\n",
    "**Entropía cruzada**: el número promedio de bits necesario para comunicar eventos que vienen de una distribución $p$ cuando usamos la distribución $q$.\n",
    "\n",
    "$$H(p,q) = -\\sum_{i=1}^n p(x_i) \\log q(x_i)$$\n",
    "\n",
    "Esta función expresa el número de bits extra que hay que usar para representar un evento usando la distribución $q$ en vez de la distribución correcta $p$.\n",
    "\n",
    "Está relacionado con la diferencia entre dos distribuciones $p$ y $q$, que se puede cuantificar con la **divergencia de Kullback-Leibler**."
   ]
  },
  {
   "cell_type": "markdown",
   "id": "c93b68e7",
   "metadata": {},
   "source": [
    "Para el método de regresión softmax, usamos:\n",
    "\n",
    "$$J(\\boldsymbol{\\Theta}) = H(y,p) = -\\frac{1}{m}\\sum_{i=1}^m \\sum_{k=1}^K y_k^{(i)} \\log \\left( \\hat{p}_k^{(i)} \\right)$$\n",
    "\n",
    "$y_k^{(i)}$ es la probabilidad verdadera que la instancia $i$ pertenece a la clase $k$ (típicamente igual a 0 o 1).\n",
    "\n",
    "En el caso de dos clases (clasificación binaria) esta función de costo es equivalente a lo que usamos para regresión logística."
   ]
  },
  {
   "cell_type": "markdown",
   "id": "4cac2c33",
   "metadata": {},
   "source": [
    "El gradiente de la función de costo para cada clase $k$ está dado por\n",
    "\n",
    "$$\\nabla_{\\boldsymbol{\\theta}^{(k)}}J(\\boldsymbol{\\Theta}) = \\frac{1}{m} \\sum_{i=1}^m \\left( \\hat{p}_k^{(i)} - y_k^{(i)} \\right)\\boldsymbol{x}^{(i)}$$"
   ]
  },
  {
   "cell_type": "markdown",
   "id": "e13c6903",
   "metadata": {},
   "source": [
    "##### Regresión softmax en Scikit-Learn\n",
    "\n",
    "Ahora vamos a usar `LogisticRegression` para clasificar las flores en las $3$ clases posibles.\n",
    "\n",
    "Por defecto, con más que $2$ clases, `LogisticRegression` ocupa *one-versus-all* (varios clasificadores binarios).\n",
    "\n",
    "Elegimos `multi_class=\"multinomial\"` para cambiar a regresión softmax.\n",
    "\n",
    "Hay que especificar un *solver* que funciona con regresión softmax, como `lbfgs` ([wikipedia](https://es.wikipedia.org/wiki/L-BFGS)). Este aplica regularización $\\mathscr{l}_2$ por defecto, controlado por el hiperparámetro `C`."
   ]
  },
  {
   "cell_type": "code",
   "execution_count": 54,
   "id": "99cfda42",
   "metadata": {},
   "outputs": [
    {
     "data": {
      "text/plain": [
       "LogisticRegression(C=10, multi_class='multinomial')"
      ]
     },
     "execution_count": 54,
     "metadata": {},
     "output_type": "execute_result"
    }
   ],
   "source": [
    "X = iris[\"data\"][:, (2, 3)] #longitud y ancho de los pétalos\n",
    "y = iris[\"target\"]\n",
    "\n",
    "softmax_reg = LogisticRegression(multi_class=\"multinomial\", \n",
    "                                 solver=\"lbfgs\", C=10)\n",
    "softmax_reg.fit(X, y)"
   ]
  },
  {
   "cell_type": "code",
   "execution_count": 55,
   "id": "f59a48b5",
   "metadata": {},
   "outputs": [
    {
     "data": {
      "text/plain": [
       "array([2])"
      ]
     },
     "execution_count": 55,
     "metadata": {},
     "output_type": "execute_result"
    }
   ],
   "source": [
    "# ¿Cuál clase predecimos para un iris con pétalos \n",
    "# de longitud 5cm, ancho 2cm?\n",
    "softmax_reg.predict([[5, 2]])"
   ]
  },
  {
   "cell_type": "code",
   "execution_count": 56,
   "id": "24baabc5",
   "metadata": {},
   "outputs": [
    {
     "data": {
      "text/plain": [
       "array([[6.38014896e-07, 5.74929995e-02, 9.42506362e-01]])"
      ]
     },
     "execution_count": 56,
     "metadata": {},
     "output_type": "execute_result"
    }
   ],
   "source": [
    "softmax_reg.predict_proba([[5, 2]])"
   ]
  },
  {
   "cell_type": "code",
   "execution_count": 58,
   "id": "46efe6c4",
   "metadata": {},
   "outputs": [
    {
     "data": {
      "text/plain": [
       "(0.0, 7.0, 0.0, 3.5)"
      ]
     },
     "execution_count": 58,
     "metadata": {},
     "output_type": "execute_result"
    },
    {
     "data": {
      "image/png": "[encoded data removed]",
      "text/plain": [
       "<Figure size 720x288 with 1 Axes>"
      ]
     },
     "metadata": {
      "needs_background": "light"
     },
     "output_type": "display_data"
    }
   ],
   "source": [
    "x0, x1 = np.meshgrid(\n",
    "        np.linspace(0, 8, 500).reshape(-1, 1),\n",
    "        np.linspace(0, 3.5, 200).reshape(-1, 1),\n",
    "    )\n",
    "X_new = np.c_[x0.ravel(), x1.ravel()]\n",
    "\n",
    "\n",
    "y_proba = softmax_reg.predict_proba(X_new)\n",
    "y_predict = softmax_reg.predict(X_new)\n",
    "\n",
    "zz1 = y_proba[:, 1].reshape(x0.shape)\n",
    "zz = y_predict.reshape(x0.shape)\n",
    "\n",
    "plt.figure(figsize=(10, 4))\n",
    "plt.plot(X[y==2, 0], X[y==2, 1], \"g^\", label=\"Iris virginica\")\n",
    "plt.plot(X[y==1, 0], X[y==1, 1], \"bs\", label=\"Iris versicolor\")\n",
    "plt.plot(X[y==0, 0], X[y==0, 1], \"yo\", label=\"Iris setosa\")\n",
    "\n",
    "from matplotlib.colors import ListedColormap\n",
    "custom_cmap = ListedColormap(['#fafab0','#9898ff','#a0faa0'])\n",
    "\n",
    "plt.contourf(x0, x1, zz, cmap=custom_cmap)\n",
    "contour = plt.contour(x0, x1, zz1, cmap=plt.cm.brg)\n",
    "plt.clabel(contour, inline=1, fontsize=12)\n",
    "plt.xlabel(\"Petal length\", fontsize=14)\n",
    "plt.ylabel(\"Petal width\", fontsize=14)\n",
    "plt.legend(loc=\"center left\", fontsize=14)\n",
    "plt.axis([0, 7, 0, 3.5])"
   ]
  },
  {
   "cell_type": "markdown",
   "id": "7dc60e46",
   "metadata": {},
   "source": [
    "En el punto donde los $3$ límites de decisión coinciden, la probabilidad de cada clase es igual a 33%..."
   ]
  },
  {
   "cell_type": "code",
   "execution_count": null,
   "id": "478ed773",
   "metadata": {},
   "outputs": [],
   "source": []
  }
 ],
 "metadata": {
  "kernelspec": {
   "display_name": "Python 3 (ipykernel)",
   "language": "python",
   "name": "python3"
  },
  "language_info": {
   "codemirror_mode": {
    "name": "ipython",
    "version": 3
   },
   "file_extension": ".py",
   "mimetype": "text/x-python",
   "name": "python",
   "nbconvert_exporter": "python",
   "pygments_lexer": "ipython3",
   "version": "3.9.7"
  }
 },
 "nbformat": 4,
 "nbformat_minor": 5
}
