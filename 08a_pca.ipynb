{
 "cells": [
  {
   "cell_type": "markdown",
   "id": "simplified-gentleman",
   "metadata": {},
   "source": [
    "Covariance matrix:\n",
    "\n",
    "$$C = \\frac{1}{m-1} \\sum_{i=1}^m (X_i - \\bar{X})(X_i - \\bar{X})^T$$\n",
    "\n",
    "where $X$ is an $m \\times n$ data matrix ($m$ instances, $n$ features) and $X_i$ is the feature vector for instance $i$."
   ]
  },
  {
   "cell_type": "markdown",
   "id": "grateful-christmas",
   "metadata": {},
   "source": [
    "Largest eigenvalue of $C$ indicates first principal component, second largest is second, etc."
   ]
  },
  {
   "cell_type": "markdown",
   "id": "dental-supervision",
   "metadata": {},
   "source": [
    "Relation to SVD:\n",
    "\n",
    "$$M = U \\Sigma V^T$$\n",
    "\n",
    "Calculate the covariance matrix of M:\n",
    "\n",
    "$$C = M^T M = V \\Sigma U^T U \\Sigma V^T = V \\Sigma^2 V^T$$\n",
    "\n",
    "$\\Sigma^2$ is diagonal, so $V$ is the rotation matrix that diagonalizes the covariance matrix."
   ]
  },
  {
   "cell_type": "code",
   "execution_count": 2,
   "id": "sapphire-catering",
   "metadata": {},
   "outputs": [
    {
     "name": "stdout",
     "output_type": "stream",
     "text": [
      "Populating the interactive namespace from numpy and matplotlib\n"
     ]
    }
   ],
   "source": [
    "%pylab inline"
   ]
  },
  {
   "cell_type": "code",
   "execution_count": 3,
   "id": "united-methodology",
   "metadata": {},
   "outputs": [],
   "source": [
    "X = random.multivariate_normal([0.0, 0.0],[[1.0,0.9],[0.9,1.0]], size=100)"
   ]
  },
  {
   "cell_type": "code",
   "execution_count": 4,
   "id": "innovative-collect",
   "metadata": {},
   "outputs": [
    {
     "data": {
      "text/plain": [
       "[<matplotlib.lines.Line2D at 0x7fb8fa3394e0>]"
      ]
     },
     "execution_count": 4,
     "metadata": {},
     "output_type": "execute_result"
    },
    {
     "data": {
      "image/png": "[encoded data removed]",
      "text/plain": [
       "<Figure size 432x288 with 1 Axes>"
      ]
     },
     "metadata": {
      "needs_background": "light"
     },
     "output_type": "display_data"
    }
   ],
   "source": [
    "axis([-5,5,-5,5])\n",
    "plot(X[:,0], X[:,1], 'bo')"
   ]
  },
  {
   "cell_type": "code",
   "execution_count": 5,
   "id": "affiliated-programming",
   "metadata": {},
   "outputs": [
    {
     "data": {
      "text/plain": [
       "array([[1.18137595, 1.01358417],\n",
       "       [1.01358417, 1.057253  ]])"
      ]
     },
     "execution_count": 5,
     "metadata": {},
     "output_type": "execute_result"
    }
   ],
   "source": [
    "dot(X.T-mean(X.T),X-mean(X))*(1.0/(100.0-1.0))"
   ]
  },
  {
   "cell_type": "code",
   "execution_count": 6,
   "id": "spread-juvenile",
   "metadata": {},
   "outputs": [],
   "source": [
    "C = cov(X,rowvar=False)"
   ]
  },
  {
   "cell_type": "code",
   "execution_count": 11,
   "id": "multiple-celtic",
   "metadata": {},
   "outputs": [],
   "source": [
    "w, v = linalg.eig(C)"
   ]
  },
  {
   "cell_type": "code",
   "execution_count": 12,
   "id": "motivated-possible",
   "metadata": {},
   "outputs": [
    {
     "data": {
      "text/plain": [
       "array([2.13479522, 0.10206195])"
      ]
     },
     "execution_count": 12,
     "metadata": {},
     "output_type": "execute_result"
    }
   ],
   "source": [
    "w"
   ]
  },
  {
   "cell_type": "code",
   "execution_count": 13,
   "id": "solved-working",
   "metadata": {},
   "outputs": [
    {
     "data": {
      "text/plain": [
       "array([[ 0.72837562, -0.68517804],\n",
       "       [ 0.68517804,  0.72837562]])"
      ]
     },
     "execution_count": 13,
     "metadata": {},
     "output_type": "execute_result"
    }
   ],
   "source": [
    "v"
   ]
  },
  {
   "cell_type": "code",
   "execution_count": 14,
   "id": "distributed-mixer",
   "metadata": {},
   "outputs": [
    {
     "data": {
      "text/plain": [
       "array([0.72837562, 0.68517804])"
      ]
     },
     "execution_count": 14,
     "metadata": {},
     "output_type": "execute_result"
    }
   ],
   "source": [
    "v[:,0]"
   ]
  },
  {
   "cell_type": "code",
   "execution_count": 15,
   "id": "stainless-chassis",
   "metadata": {},
   "outputs": [
    {
     "data": {
      "text/plain": [
       "array([-0.68517804,  0.72837562])"
      ]
     },
     "execution_count": 15,
     "metadata": {},
     "output_type": "execute_result"
    }
   ],
   "source": [
    "v[:,1]"
   ]
  },
  {
   "cell_type": "code",
   "execution_count": 17,
   "id": "governing-better",
   "metadata": {},
   "outputs": [
    {
     "data": {
      "text/plain": [
       "[<matplotlib.lines.Line2D at 0x7fb8cd011518>]"
      ]
     },
     "execution_count": 17,
     "metadata": {},
     "output_type": "execute_result"
    },
    {
     "data": {
      "image/png": "[encoded data removed]",
      "text/plain": [
       "<Figure size 432x288 with 1 Axes>"
      ]
     },
     "metadata": {
      "needs_background": "light"
     },
     "output_type": "display_data"
    }
   ],
   "source": [
    "axis([-5,5,-5,5])\n",
    "plot(X[:,0], X[:,1], 'bo')\n",
    "plot([0.0,v[:,0][0]],[0.0,v[:,0][1]],'k-')\n",
    "plot([0.0,v[:,1][0]],[0.0,v[:,1][1]],'k-')"
   ]
  },
  {
   "cell_type": "code",
   "execution_count": 18,
   "id": "specialized-forth",
   "metadata": {},
   "outputs": [],
   "source": [
    "from sklearn.decomposition import PCA\n",
    "\n",
    "pca = PCA(n_components = 2)\n",
    "X2D = pca.fit_transform(X)"
   ]
  },
  {
   "cell_type": "code",
   "execution_count": 22,
   "id": "adapted-thriller",
   "metadata": {},
   "outputs": [],
   "source": [
    "c1 = pca.components_.T[:,0]"
   ]
  },
  {
   "cell_type": "code",
   "execution_count": 21,
   "id": "radio-accreditation",
   "metadata": {},
   "outputs": [],
   "source": [
    "c2 = pca.components_.T[:,1]"
   ]
  },
  {
   "cell_type": "code",
   "execution_count": 25,
   "id": "funded-carroll",
   "metadata": {},
   "outputs": [
    {
     "data": {
      "text/plain": [
       "[<matplotlib.lines.Line2D at 0x7fb8c3ece7b8>]"
      ]
     },
     "execution_count": 25,
     "metadata": {},
     "output_type": "execute_result"
    },
    {
     "data": {
      "image/png": "[encoded data removed]",
      "text/plain": [
       "<Figure size 432x288 with 1 Axes>"
      ]
     },
     "metadata": {
      "needs_background": "light"
     },
     "output_type": "display_data"
    }
   ],
   "source": [
    "axis([-5,5,-5,5])\n",
    "plot(X[:,0], X[:,1], 'bo')\n",
    "plot([0.0,c1[0]],[0.0,c1[1]],'k-')\n",
    "plot([0.0,c2[0]],[0.0,c2[1]],'k-')"
   ]
  },
  {
   "cell_type": "code",
   "execution_count": 26,
   "id": "sound-december",
   "metadata": {},
   "outputs": [
    {
     "data": {
      "text/plain": [
       "0.0"
      ]
     },
     "execution_count": 26,
     "metadata": {},
     "output_type": "execute_result"
    }
   ],
   "source": [
    "dot(c1,c2)"
   ]
  },
  {
   "cell_type": "code",
   "execution_count": 31,
   "id": "headed-whole",
   "metadata": {},
   "outputs": [],
   "source": [
    "Xproj = dot(X, v[:,0])"
   ]
  },
  {
   "cell_type": "code",
   "execution_count": 47,
   "id": "varying-silence",
   "metadata": {},
   "outputs": [
    {
     "data": {
      "text/plain": [
       "[<matplotlib.lines.Line2D at 0x7fb8c3bf4fd0>]"
      ]
     },
     "execution_count": 47,
     "metadata": {},
     "output_type": "execute_result"
    },
    {
     "data": {
      "image/png": "[encoded data removed]",
      "text/plain": [
       "<Figure size 432x288 with 1 Axes>"
      ]
     },
     "metadata": {
      "needs_background": "light"
     },
     "output_type": "display_data"
    }
   ],
   "source": [
    "axis([-5,5,-5,5])\n",
    "plot(X[:,0], X[:,1], 'bo')\n",
    "plot(Xproj, zeros((len(Xproj))),'ro')"
   ]
  },
  {
   "cell_type": "code",
   "execution_count": 36,
   "id": "handled-teacher",
   "metadata": {},
   "outputs": [],
   "source": [
    "V = array([v[:,0],v[:,1]])"
   ]
  },
  {
   "cell_type": "code",
   "execution_count": 45,
   "id": "secondary-theology",
   "metadata": {},
   "outputs": [],
   "source": [
    "Xrot = zeros((100,2))\n",
    "for m in range(100):\n",
    "    xnew = dot(V,X[m,:])\n",
    "    Xrot[m,:] = xnew"
   ]
  },
  {
   "cell_type": "code",
   "execution_count": 49,
   "id": "violent-fusion",
   "metadata": {},
   "outputs": [
    {
     "data": {
      "text/plain": [
       "[<matplotlib.lines.Line2D at 0x7fb8c3b2ada0>]"
      ]
     },
     "execution_count": 49,
     "metadata": {},
     "output_type": "execute_result"
    },
    {
     "data": {
      "image/png": "[encoded data removed]",
      "text/plain": [
       "<Figure size 432x288 with 1 Axes>"
      ]
     },
     "metadata": {
      "needs_background": "light"
     },
     "output_type": "display_data"
    }
   ],
   "source": [
    "axis([-5,5,-5,5])\n",
    "plot(Xrot[:,0],Xrot[:,1],'bo')\n",
    "plot(Xproj, zeros((len(Xproj))),'ro')"
   ]
  },
  {
   "cell_type": "code",
   "execution_count": null,
   "id": "noticed-seafood",
   "metadata": {},
   "outputs": [],
   "source": []
  }
 ],
 "metadata": {
  "kernelspec": {
   "display_name": "Python 3",
   "language": "python",
   "name": "python3"
  },
  "language_info": {
   "codemirror_mode": {
    "name": "ipython",
    "version": 3
   },
   "file_extension": ".py",
   "mimetype": "text/x-python",
   "name": "python",
   "nbconvert_exporter": "python",
   "pygments_lexer": "ipython3",
   "version": "3.7.3"
  }
 },
 "nbformat": 4,
 "nbformat_minor": 5
}
